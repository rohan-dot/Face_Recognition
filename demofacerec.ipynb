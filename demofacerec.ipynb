{
 "cells": [
  {
   "cell_type": "code",
   "execution_count": 216,
   "metadata": {},
   "outputs": [
    {
     "name": "stdout",
     "output_type": "stream",
     "text": [
      "The autoreload extension is already loaded. To reload it, use:\n",
      "  %reload_ext autoreload\n"
     ]
    }
   ],
   "source": [
    "from keras.models import Sequential\n",
    "from keras.layers import Conv2D, ZeroPadding2D, Activation, Input, concatenate\n",
    "from keras.models import Model\n",
    "from keras.layers.normalization import BatchNormalization\n",
    "from keras.layers.pooling import MaxPooling2D, AveragePooling2D\n",
    "from keras.layers.merge import Concatenate\n",
    "from keras.layers.core import Lambda, Flatten, Dense\n",
    "from keras.initializers import glorot_uniform\n",
    "from keras.engine.topology import Layer\n",
    "from keras import backend as K\n",
    "K.set_image_data_format('channels_first')\n",
    "import cv2\n",
    "import os\n",
    "import numpy as np\n",
    "from numpy import genfromtxt\n",
    "import pandas as pd\n",
    "import tensorflow as tf\n",
    "from fr_utils import *\n",
    "from inception_blocks_v2 import *\n",
    "\n",
    "%matplotlib inline\n",
    "%load_ext autoreload\n",
    "%autoreload 2\n",
    "\n",
    "np.set_printoptions(threshold=np.nan)"
   ]
  },
  {
   "cell_type": "code",
   "execution_count": 217,
   "metadata": {},
   "outputs": [],
   "source": [
    "FRmodel = faceRecoModel(input_shape=(3, 96, 96))"
   ]
  },
  {
   "cell_type": "code",
   "execution_count": 218,
   "metadata": {},
   "outputs": [
    {
     "name": "stdout",
     "output_type": "stream",
     "text": [
      "Total Params: 3743280\n"
     ]
    }
   ],
   "source": [
    "print(\"Total Params:\", FRmodel.count_params())"
   ]
  },
  {
   "cell_type": "code",
   "execution_count": 219,
   "metadata": {},
   "outputs": [],
   "source": [
    "def triplet_loss(y_true, y_pred, alpha = 0.2):\n",
    "    \n",
    "    anchor, positive, negative = y_pred[0], y_pred[1], y_pred[2]\n",
    "    \n",
    "    \n",
    "    pos_dist = tf.reduce_sum(tf.square(tf.subtract(anchor, positive)), keep_dims=True)\n",
    "    \n",
    "    neg_dist = tf.reduce_sum(tf.square(tf.subtract(anchor, negative)),keep_dims=True)\n",
    "    \n",
    "    basic_loss = tf.add(tf.subtract(pos_dist, neg_dist), alpha)\n",
    "    \n",
    "    loss = tf.reduce_sum(tf.maximum(basic_loss, 0.0))\n",
    "    \n",
    "    \n",
    "    return loss"
   ]
  },
  {
   "cell_type": "code",
   "execution_count": 220,
   "metadata": {},
   "outputs": [
    {
     "name": "stdout",
     "output_type": "stream",
     "text": [
      "loss = 137.733\n"
     ]
    }
   ],
   "source": [
    "with tf.Session() as test:\n",
    "    tf.set_random_seed(1)\n",
    "    y_true = (None, None, None)\n",
    "    y_pred = (tf.random_normal([3, 128], mean=6, stddev=0.01, seed = 1),\n",
    "              tf.random_normal([3, 128], mean=1, stddev=1, seed = 1),\n",
    "              tf.random_normal([3, 128], mean=3, stddev=4, seed = 1))\n",
    "    loss = triplet_loss(y_true, y_pred)\n",
    "    \n",
    "    print(\"loss = \" + str(loss.eval()))\n"
   ]
  },
  {
   "cell_type": "code",
   "execution_count": 221,
   "metadata": {},
   "outputs": [],
   "source": [
    "FRmodel.compile(optimizer = 'adam', loss = triplet_loss, metrics = ['accuracy'])\n",
    "load_weights_from_FaceNet(FRmodel)"
   ]
  },
  {
   "cell_type": "code",
   "execution_count": 285,
   "metadata": {},
   "outputs": [],
   "source": [
    "database = {}\n",
    "database[\"Rohan\"] = img_to_encoding(\"images/Rohan.png\", FRmodel)\n",
    "#database[\"Rohan\"] = img_to_encoding(\"images/TES.png\",FRmodel)\n",
    "database[\"Rohan\"] =  img_to_encoding(\"images/rohandb.png\",FRmodel)\n",
    "database[\"Rohan\"] = img_to_encoding(\"images/rohandb2.png\",FRmodel)\n",
    "database[\"Rohan\"] = img_to_encoding(\"images/rtest3.png\",FRmodel)\n",
    "database[\"Rohan\"] = img_to_encoding(\"images/rohandb3.png\",FRmodel)\n",
    "database[\"Rohan\"] = img_to_encoding(\"images/rohandb4.png\",FRmodel)\n",
    "database[\"Rohan\"] = img_to_encoding(\"images/rohandb5.png\",FRmodel)\n",
    "database[\"Rohan\"] = img_to_encoding(\"images/rohandb6.png\",FRmodel)\n",
    "database[\"Rohan\"] = img_to_encoding(\"images/rohandb7.png\",FRmodel)\n",
    "database[\"Rohan\"] = img_to_encoding(\"images/te1.png\",FRmodel)\n",
    "database[\"Rohan\"] = img_to_encoding(\"images/rohantest.png\",FRmodel)\n",
    "database[\"Neena\"] = img_to_encoding(\"images/Neena.png\",FRmodel)\n",
    "database[\"Neena\"] = img_to_encoding(\"images/neenadb.png\",FRmodel)\n",
    "database[\"Neena\"] = img_to_encoding(\"images/ntest.png\",FRmodel)\n",
    "database[\"Neena\"] = img_to_encoding(\"images/neenadb2.png\",FRmodel)\n",
    "database[\"Neena\"] = img_to_encoding(\"images/neenadb3.png\",FRmodel)\n",
    "database[\"Neena\"] = img_to_encoding(\"images/neenadb4.png\",FRmodel)\n",
    "database[\"Neena\"] = img_to_encoding(\"images/neenadb11.png\",FRmodel)\n",
    "database[\"Neena\"] = img_to_encoding(\"images/neenadb12.png\",FRmodel)\n",
    "database[\"Neena\"] = img_to_encoding(\"images/test2.png\",FRmodel)\n",
    "database[\"Neena\"] = img_to_encoding(\"images/neenadb10.png\",FRmodel)\n",
    "database[\"Bahaar\"] = img_to_encoding(\"images/Bahaar.png\",FRmodel)\n",
    "database[\"Bahaar\"] = img_to_encoding(\"images/bahaardb.png\",FRmodel)\n",
    "database[\"Bahaar\"] = img_to_encoding(\"images/bahaardb1.png\",FRmodel)\n",
    "database[\"Bahaar\"] = img_to_encoding(\"images/bahaardb2.png\",FRmodel)\n",
    "database[\"Bahaar\"] = img_to_encoding(\"images/bahaardb3.png\",FRmodel)\n",
    "database[\"Bahaar\"] = img_to_encoding(\"images/bahaardb4.png\",FRmodel)\n",
    "database[\"Bahaar\"] = img_to_encoding(\"images/testdb.png\",FRmodel)\n",
    "database[\"Bahaar\"] = img_to_encoding(\"images/btest2.png\",FRmodel)\n",
    "#database[\"Bahaar\"]\n",
    "\n",
    "\n"
   ]
  },
  {
   "cell_type": "code",
   "execution_count": 286,
   "metadata": {},
   "outputs": [
    {
     "data": {
      "text/plain": [
       "{'Rohan': array([[  1.41259432e-01,   5.50870262e-02,   4.77159396e-02,\n",
       "           6.85620727e-03,   5.65141328e-02,   1.61163598e-01,\n",
       "           1.30260810e-01,  -7.53150955e-02,  -3.08801215e-02,\n",
       "          -1.43794253e-01,  -1.41841657e-02,   4.76827398e-02,\n",
       "           1.32140607e-01,   1.47174997e-02,   8.30279547e-04,\n",
       "          -4.40417901e-02,   3.03265196e-03,   1.20907234e-05,\n",
       "          -1.92416534e-01,   1.04323991e-01,   1.11037411e-01,\n",
       "           4.09412570e-02,  -4.46907617e-02,   1.42291412e-01,\n",
       "          -8.20010304e-02,  -1.02422267e-01,  -1.90330982e-01,\n",
       "          -8.55620205e-02,  -9.44991410e-03,   1.60918385e-01,\n",
       "          -4.05330360e-02,   1.36539653e-01,  -9.23220366e-02,\n",
       "           1.42616481e-01,   2.90209111e-02,  -1.29260588e-04,\n",
       "           5.98476864e-02,   1.01857983e-01,  -9.47255269e-03,\n",
       "          -3.24795693e-02,   3.84563804e-02,  -2.45162230e-02,\n",
       "           3.23590748e-02,  -1.29972056e-01,  -2.59295478e-02,\n",
       "           1.44280186e-02,   5.27789816e-02,   2.03573797e-02,\n",
       "          -1.27412453e-01,   6.24479391e-02,   1.37787238e-02,\n",
       "          -8.17568377e-02,   6.34081215e-02,   9.41607356e-02,\n",
       "           1.16930820e-01,   6.93408260e-03,  -5.63578606e-02,\n",
       "           1.34170130e-01,  -5.66167906e-02,  -7.65643194e-02,\n",
       "          -4.55459952e-02,   1.37041882e-01,   5.35296053e-02,\n",
       "          -2.00955406e-01,   1.44636147e-02,   5.95086925e-02,\n",
       "           5.80357499e-02,  -5.86852478e-03,  -2.12494642e-01,\n",
       "          -8.08000341e-02,   2.24361420e-02,  -3.50842886e-02,\n",
       "          -2.86478959e-02,   1.44866714e-02,   2.95485370e-02,\n",
       "           9.31887180e-02,   5.35783358e-02,  -1.27862558e-01,\n",
       "           9.89716500e-02,   7.31342807e-02,   7.75317177e-02,\n",
       "           1.16912723e-02,  -3.07782050e-02,  -5.86450808e-02,\n",
       "          -1.51927592e-02,   3.05352937e-02,   2.63508670e-02,\n",
       "          -6.13054559e-02,  -7.65385255e-02,   1.55329898e-01,\n",
       "           1.10792071e-01,  -2.16883942e-01,   5.57250120e-02,\n",
       "           9.21506658e-02,  -1.54503778e-01,   3.42533365e-02,\n",
       "          -5.62626915e-03,  -4.01133532e-03,   7.10847750e-02,\n",
       "           6.42470792e-02,   1.18723229e-01,   7.19268769e-02,\n",
       "          -1.00595556e-01,   1.79125234e-01,  -1.22161157e-01,\n",
       "           4.74365763e-02,  -9.13589373e-02,   4.28425632e-02,\n",
       "          -1.02506720e-01,  -1.28459437e-02,   4.49950583e-02,\n",
       "           5.41272052e-02,  -1.00760870e-01,   1.21977087e-02,\n",
       "          -3.40475589e-02,   1.01170458e-01,  -1.54145733e-01,\n",
       "           5.66673875e-02,  -1.12003505e-01,   9.06895697e-02,\n",
       "          -8.94042011e-03,  -2.47234292e-02,   2.10239179e-02,\n",
       "           2.72825472e-02,   2.59493515e-02,   9.68979001e-02,\n",
       "          -3.72562930e-02,  -1.64390773e-01]], dtype=float32),\n",
       " 'Neena': array([[ 0.16681843,  0.01562599, -0.13219741, -0.0482269 ,  0.04701419,\n",
       "          0.20106982,  0.11418436,  0.03339594, -0.08717519, -0.11309546,\n",
       "          0.0065463 ,  0.05616388,  0.1164125 , -0.08819175, -0.05779669,\n",
       "         -0.08489278,  0.0194931 , -0.04354209, -0.15827046,  0.14135551,\n",
       "          0.04357681,  0.04062796, -0.0115739 ,  0.13396718, -0.11203956,\n",
       "         -0.06708608, -0.02854656, -0.11967967, -0.02905248,  0.06689269,\n",
       "         -0.05896925,  0.0237874 , -0.11739807,  0.13296179, -0.03272381,\n",
       "         -0.00777665, -0.00302107,  0.07232901, -0.13999306, -0.01895014,\n",
       "          0.03764848, -0.04777732, -0.04366362,  0.09224862, -0.09556832,\n",
       "          0.03741448,  0.08330755,  0.08399876, -0.1646062 ,  0.15243706,\n",
       "          0.02173573, -0.08768013, -0.01860964,  0.02201996,  0.09512868,\n",
       "         -0.03444903, -0.11372618,  0.16951343,  0.03166487, -0.11938427,\n",
       "         -0.05731648,  0.0974677 ,  0.17470586, -0.1515865 , -0.0144355 ,\n",
       "         -0.08496121,  0.06021662,  0.0218907 , -0.12135459, -0.04543596,\n",
       "         -0.01271224, -0.02695038,  0.00863767,  0.02570567, -0.02051044,\n",
       "          0.03515211,  0.02075353, -0.01460551,  0.05966546,  0.08810336,\n",
       "          0.04192497, -0.02835116, -0.06521481, -0.1300285 , -0.05213474,\n",
       "          0.00685854,  0.04633818, -0.05336123, -0.01283305,  0.11565594,\n",
       "          0.12048544, -0.18752216, -0.0613355 , -0.00142592, -0.06840033,\n",
       "          0.03000963,  0.07095774, -0.05344518,  0.01232556, -0.03181962,\n",
       "          0.0624569 ,  0.10425183, -0.0498537 ,  0.12536465, -0.22440588,\n",
       "          0.00442543, -0.16832   ,  0.0956847 , -0.13979369, -0.00398233,\n",
       "          0.18072268,  0.13486077, -0.05496576,  0.01079671, -0.05293451,\n",
       "          0.06756297, -0.13117474, -0.04271391, -0.03048505,  0.08783123,\n",
       "         -0.05649824, -0.03285783,  0.06367267,  0.09003973,  0.00763654,\n",
       "         -0.01018413, -0.07011607, -0.18046376]], dtype=float32),\n",
       " 'Bahaar': array([[  1.46851212e-01,   9.67763588e-02,  -4.15478693e-03,\n",
       "           2.19930597e-02,   5.80802970e-02,   2.32955322e-01,\n",
       "           9.56671387e-02,  -9.10379589e-02,  -7.14548677e-02,\n",
       "          -7.36183301e-02,  -1.07347063e-04,   3.63732725e-02,\n",
       "           5.94779514e-02,   1.18528809e-02,   1.01125322e-01,\n",
       "          -1.09521575e-01,   6.83179870e-02,   2.03215349e-02,\n",
       "          -3.58291976e-02,   1.29305273e-02,  -2.43863612e-02,\n",
       "           1.34691313e-01,  -3.44299041e-02,   1.88996911e-01,\n",
       "          -1.15835760e-03,  -1.49069265e-01,  -4.01941538e-02,\n",
       "          -2.07374170e-02,  -4.98533063e-02,   1.48573086e-01,\n",
       "          -3.61053832e-03,   2.77446695e-02,  -8.25096592e-02,\n",
       "           1.31913841e-01,   6.22216240e-02,   1.42474882e-02,\n",
       "           9.51567069e-02,  -7.71078914e-02,  -4.55557555e-02,\n",
       "          -1.66701768e-02,   6.28562719e-02,  -5.49702160e-02,\n",
       "           6.55117705e-02,  -4.12358008e-02,  -1.18292674e-01,\n",
       "           2.72232294e-02,   6.58925027e-02,   7.36311078e-02,\n",
       "          -1.08352803e-01,   1.07389800e-01,   1.27341703e-01,\n",
       "          -7.04125687e-02,   7.00038224e-02,   1.39995143e-02,\n",
       "           9.89111960e-02,   5.26645780e-02,  -1.26097575e-01,\n",
       "           1.60248160e-01,   6.94367429e-03,  -3.89594734e-02,\n",
       "          -9.58456025e-02,   1.13707185e-01,   7.06394538e-02,\n",
       "          -2.79428363e-01,   4.26118560e-02,   4.36940379e-02,\n",
       "           5.94706275e-02,  -6.21842742e-02,  -2.62569368e-01,\n",
       "           4.23090011e-02,  -1.33576558e-03,   1.65093038e-02,\n",
       "          -4.22501378e-02,  -1.53881833e-02,   9.94796213e-03,\n",
       "           8.14030394e-02,   6.53092712e-02,  -8.76071677e-02,\n",
       "           7.44606331e-02,   4.39747609e-02,   7.36842975e-02,\n",
       "           7.89727364e-03,   4.71258443e-03,  -7.63146728e-02,\n",
       "           1.76262353e-02,  -4.05435227e-02,  -1.90879423e-02,\n",
       "          -1.21358201e-01,  -7.94253200e-02,   2.13973835e-01,\n",
       "           8.04610103e-02,  -1.76048711e-01,   2.87995730e-02,\n",
       "           3.81626673e-02,  -8.84893388e-02,   2.93644015e-02,\n",
       "           3.47225592e-02,  -3.32863517e-02,   5.81503101e-02,\n",
       "           4.09559347e-03,   7.76519328e-02,   1.48123175e-01,\n",
       "          -2.59771645e-02,   6.72736317e-02,  -1.83277637e-01,\n",
       "           4.36020158e-02,  -8.14751834e-02,  -4.29746993e-02,\n",
       "          -1.61856443e-01,   5.12994453e-02,   1.47793800e-01,\n",
       "           2.42977738e-02,   2.80327015e-02,  -2.10861606e-03,\n",
       "          -6.18540980e-02,   1.66333783e-02,  -5.89570366e-02,\n",
       "           4.28227410e-02,  -6.34878278e-02,   1.14197746e-01,\n",
       "           7.63907582e-02,  -1.10377558e-01,   1.69389676e-02,\n",
       "           2.67590117e-02,   6.19994812e-02,   7.07979873e-02,\n",
       "           2.04986874e-02,  -1.46641105e-01]], dtype=float32)}"
      ]
     },
     "execution_count": 286,
     "metadata": {},
     "output_type": "execute_result"
    }
   ],
   "source": [
    "database"
   ]
  },
  {
   "cell_type": "code",
   "execution_count": 287,
   "metadata": {},
   "outputs": [],
   "source": [
    "def verify(image_path, identity, database, model):\n",
    "    \n",
    "    \n",
    "    encoding = img_to_encoding(image_path, model)\n",
    "    \n",
    "\n",
    "    dist = np.linalg.norm(encoding - database[identity])\n",
    "    \n",
    "\n",
    "    if dist < 0.7:\n",
    "        print(\"It's \" + str(identity) + \", welcome home!\")\n",
    "        door_open = True\n",
    "    else:\n",
    "        print(\"It's not \" + str(identity) + \", please go away\")\n",
    "        door_open = False\n",
    "        \n",
    "\n",
    "        \n",
    "    return dist, door_open"
   ]
  },
  {
   "cell_type": "code",
   "execution_count": null,
   "metadata": {},
   "outputs": [],
   "source": []
  },
  {
   "cell_type": "code",
   "execution_count": 288,
   "metadata": {},
   "outputs": [],
   "source": [
    "def who_is_it(image_path, database, model):\n",
    "    encoding = img_to_encoding(image_path, model)\n",
    "    \n",
    "    \n",
    "    min_dist = 100\n",
    "    \n",
    "    \n",
    "    for (name, db_enc) in database.items():\n",
    "        \n",
    "        \n",
    "        dist = np.linalg.norm(encoding - db_enc)\n",
    "\n",
    "        #\n",
    "        if dist < min_dist:\n",
    "            min_dist = dist\n",
    "            identity = name\n",
    "\n",
    "    #\n",
    "    \n",
    "    if min_dist > 0.65:\n",
    "        print(\"Not in the database./No face found\")\n",
    "    else:\n",
    "        print (str(identity))\n",
    "        return identity\n",
    "       # print (\"it's \" + str(identity) + \", the distance is \" + str(min_dist))\n",
    "       # return min_dist, identity"
   ]
  },
  {
   "cell_type": "code",
   "execution_count": 331,
   "metadata": {},
   "outputs": [
    {
     "name": "stdout",
     "output_type": "stream",
     "text": [
      "Neena\n"
     ]
    },
    {
     "data": {
      "text/plain": [
       "'Neena'"
      ]
     },
     "execution_count": 331,
     "metadata": {},
     "output_type": "execute_result"
    }
   ],
   "source": [
    "who_is_it(\"images/neenadb11.png\", database, FRmodel)"
   ]
  },
  {
   "cell_type": "code",
   "execution_count": 290,
   "metadata": {},
   "outputs": [
    {
     "name": "stdout",
     "output_type": "stream",
     "text": [
      "Rohan\n"
     ]
    },
    {
     "data": {
      "text/plain": [
       "'Rohan'"
      ]
     },
     "execution_count": 290,
     "metadata": {},
     "output_type": "execute_result"
    }
   ],
   "source": [
    "who_is_it(\"images/rohandb2.png\", database, FRmodel)"
   ]
  },
  {
   "cell_type": "code",
   "execution_count": 291,
   "metadata": {},
   "outputs": [
    {
     "name": "stdout",
     "output_type": "stream",
     "text": [
      "Rohan\n"
     ]
    },
    {
     "data": {
      "text/plain": [
       "'Rohan'"
      ]
     },
     "execution_count": 291,
     "metadata": {},
     "output_type": "execute_result"
    }
   ],
   "source": [
    "who_is_it(\"images/tester.png\", database, FRmodel)"
   ]
  },
  {
   "cell_type": "code",
   "execution_count": 292,
   "metadata": {},
   "outputs": [
    {
     "name": "stdout",
     "output_type": "stream",
     "text": [
      "Rohan\n"
     ]
    },
    {
     "data": {
      "text/plain": [
       "'Rohan'"
      ]
     },
     "execution_count": 292,
     "metadata": {},
     "output_type": "execute_result"
    }
   ],
   "source": [
    "who_is_it(\"images/rohantest.png\", database, FRmodel)"
   ]
  },
  {
   "cell_type": "code",
   "execution_count": 293,
   "metadata": {},
   "outputs": [
    {
     "name": "stdout",
     "output_type": "stream",
     "text": [
      "Not in the database./No face found\n"
     ]
    }
   ],
   "source": [
    "who_is_it(\"images/bottle.png\", database, FRmodel)"
   ]
  },
  {
   "cell_type": "code",
   "execution_count": 294,
   "metadata": {},
   "outputs": [
    {
     "name": "stdout",
     "output_type": "stream",
     "text": [
      "Rohan\n"
     ]
    },
    {
     "data": {
      "text/plain": [
       "'Rohan'"
      ]
     },
     "execution_count": 294,
     "metadata": {},
     "output_type": "execute_result"
    }
   ],
   "source": [
    "who_is_it(\"images/test2.png\", database, FRmodel)"
   ]
  },
  {
   "cell_type": "code",
   "execution_count": 295,
   "metadata": {},
   "outputs": [
    {
     "name": "stdout",
     "output_type": "stream",
     "text": [
      "Not in the database./No face found\n"
     ]
    }
   ],
   "source": [
    "who_is_it(\"images/testdb.png\", database, FRmodel)"
   ]
  },
  {
   "cell_type": "code",
   "execution_count": 296,
   "metadata": {},
   "outputs": [
    {
     "name": "stdout",
     "output_type": "stream",
     "text": [
      "Rohan\n"
     ]
    },
    {
     "data": {
      "text/plain": [
       "'Rohan'"
      ]
     },
     "execution_count": 296,
     "metadata": {},
     "output_type": "execute_result"
    }
   ],
   "source": [
    "who_is_it(\"images/kbh.png\", database, FRmodel)"
   ]
  },
  {
   "cell_type": "code",
   "execution_count": 297,
   "metadata": {},
   "outputs": [
    {
     "name": "stdout",
     "output_type": "stream",
     "text": [
      "Not in the database./No face found\n"
     ]
    }
   ],
   "source": [
    "who_is_it(\"images/Bobby.png\", database, FRmodel)"
   ]
  },
  {
   "cell_type": "code",
   "execution_count": null,
   "metadata": {},
   "outputs": [],
   "source": []
  },
  {
   "cell_type": "code",
   "execution_count": 299,
   "metadata": {},
   "outputs": [
    {
     "name": "stdout",
     "output_type": "stream",
     "text": [
      "Bahaar\n"
     ]
    },
    {
     "data": {
      "text/plain": [
       "'Bahaar'"
      ]
     },
     "execution_count": 299,
     "metadata": {},
     "output_type": "execute_result"
    }
   ],
   "source": [
    "who_is_it(\"images/btest2.png\", database, FRmodel)"
   ]
  },
  {
   "cell_type": "code",
   "execution_count": 300,
   "metadata": {},
   "outputs": [
    {
     "name": "stdout",
     "output_type": "stream",
     "text": [
      "Rohan\n"
     ]
    },
    {
     "data": {
      "text/plain": [
       "'Rohan'"
      ]
     },
     "execution_count": 300,
     "metadata": {},
     "output_type": "execute_result"
    }
   ],
   "source": [
    "who_is_it(\"images/rtest2.png\", database, FRmodel)"
   ]
  },
  {
   "cell_type": "code",
   "execution_count": 301,
   "metadata": {},
   "outputs": [
    {
     "name": "stdout",
     "output_type": "stream",
     "text": [
      "Rohan\n"
     ]
    },
    {
     "data": {
      "text/plain": [
       "'Rohan'"
      ]
     },
     "execution_count": 301,
     "metadata": {},
     "output_type": "execute_result"
    }
   ],
   "source": [
    "who_is_it(\"images/tester.png\", database, FRmodel)"
   ]
  },
  {
   "cell_type": "code",
   "execution_count": null,
   "metadata": {},
   "outputs": [],
   "source": []
  },
  {
   "cell_type": "code",
   "execution_count": 77,
   "metadata": {},
   "outputs": [],
   "source": [
    "from random import randint"
   ]
  },
  {
   "cell_type": "code",
   "execution_count": 215,
   "metadata": {},
   "outputs": [],
   "source": [
    "from PIL import Image\n",
    "\n",
    "img = Image.open(r'C:\\Users\\dell15\\Desktop\\FaceRec\\Extracted\\4268.jpg') # image extension *.png,*.jpg\n",
    "new_width  = 96\n",
    "new_height = 96\n",
    "img = img.resize((new_width, new_height), Image.ANTIALIAS)\n",
    "img.save(r'C:\\Users\\dell15\\Desktop\\FaceRec\\Extracted\\neenadb12.png')"
   ]
  },
  {
   "cell_type": "code",
   "execution_count": 98,
   "metadata": {},
   "outputs": [],
   "source": [
    "CASCADE=\"haarcascade_frontalface_default.xml\"\n",
    "FACE_CASCADE=cv2.CascadeClassifier(CASCADE)"
   ]
  },
  {
   "cell_type": "code",
   "execution_count": 349,
   "metadata": {},
   "outputs": [],
   "source": [
    "def trainer(filename):\n",
    "    \n",
    "    \n",
    "    \n",
    "    extracted = who_is_it(filename, database, FRmodel)\n",
    "    \n",
    "    if(extracted=='Neena'):\n",
    "        \n",
    "        \n",
    "        image=cv2.imread(filename)\n",
    "        image_grey=cv2.cvtColor(image,cv2.COLOR_BGR2GRAY)\n",
    "        #faces = FACE_CASCADE.detectMultiScale(image_grey,scaleFactor=1.16,minNeighbors=5,minSize=(25,25),flags=0)\n",
    "        #for x,y,w,h in faces:\n",
    "        sub_img=image\n",
    "        \n",
    "        os.chdir(r\"C:\\Users\\dell15\\FolderNeena\")\n",
    "        cv2.imwrite(str(randint(0,10000))+\".png\",sub_img)\n",
    "    \n",
    "    if(extracted=='Rohan'):\n",
    "        \n",
    "        image=cv2.imread(filename)\n",
    "        #image_grey=cv2.cvtColor(image,cv2.COLOR_BGR2GRAY)\n",
    "        #faces = FACE_CASCADE.detectMultiScale(image_grey,scaleFactor=1.16,minNeighbors=5,minSize=(25,25),flags=0)\n",
    "        #for x,y,w,h in faces:\n",
    "        sub_img=image\n",
    "        \n",
    "        os.chdir(r\"C:\\Users\\dell15\\FolderRohan\")\n",
    "        cv2.imwrite(str(randint(0,10000))+\".png\",sub_img)\n",
    "        #cv2.rectangle(image,(x,y),(x+w,y+h),(255, 255,0),2)\n",
    "          #  img.save(r'C:\\Users\\dell15\\adversarial\\neena.png')\n",
    "    \n",
    "     \n",
    "    if(extracted=='Bahaar'):\n",
    "        \n",
    "        image=cv2.imread(filename)\n",
    "        #image_grey=cv2.cvtColor(image,cv2.COLOR_BGR2GRAY)\n",
    "        #faces = FACE_CASCADE.detectMultiScale(image_grey,scaleFactor=1.16,minNeighbors=5,minSize=(25,25),flags=0)\n",
    "        #for x,y,w,h in faces:\n",
    "        sub_img=image\n",
    "        \n",
    "        os.chdir(r\"C:\\Users\\dell15\\FolderBahaar\")\n",
    "        cv2.imwrite(str(randint(0,10000))+\".png\",sub_img)\n",
    "        #cv2.rectangle(image,(x,y),(x+w,y+h),(255, 255,0),2)\n",
    "          #  img.save(r'C:\\Users\\dell15\\adversarial\\neena.png')\n",
    "        \n",
    "           \n",
    "        \n",
    "\n"
   ]
  },
  {
   "cell_type": "code",
   "execution_count": 350,
   "metadata": {},
   "outputs": [],
   "source": [
    "import glob"
   ]
  },
  {
   "cell_type": "code",
   "execution_count": 351,
   "metadata": {},
   "outputs": [],
   "source": [
    "files = glob.glob(r'C:\\Users\\dell15\\Desktop\\FaceRec\\Extracted\\*.png')"
   ]
  },
  {
   "cell_type": "code",
   "execution_count": 352,
   "metadata": {},
   "outputs": [
    {
     "name": "stdout",
     "output_type": "stream",
     "text": [
      "Neena\n",
      "Not in the database./No face found\n",
      "Neena\n",
      "Rohan\n",
      "Neena\n",
      "Rohan\n",
      "Bahaar\n",
      "Rohan\n",
      "Rohan\n",
      "Rohan\n",
      "Bahaar\n",
      "Not in the database./No face found\n"
     ]
    }
   ],
   "source": [
    "for ele in files:\n",
    "    trainer(ele)"
   ]
  },
  {
   "cell_type": "code",
   "execution_count": 197,
   "metadata": {},
   "outputs": [
    {
     "data": {
      "text/plain": [
       "'C:\\\\Users\\\\dell15\\\\FolderBahaar'"
      ]
     },
     "execution_count": 197,
     "metadata": {},
     "output_type": "execute_result"
    }
   ],
   "source": [
    "pwd"
   ]
  },
  {
   "cell_type": "code",
   "execution_count": 198,
   "metadata": {},
   "outputs": [],
   "source": [
    "os.chdir(r'C:\\\\Users\\\\dell15')"
   ]
  },
  {
   "cell_type": "code",
   "execution_count": 199,
   "metadata": {},
   "outputs": [
    {
     "data": {
      "text/plain": [
       "'C:\\\\Users\\\\dell15'"
      ]
     },
     "execution_count": 199,
     "metadata": {},
     "output_type": "execute_result"
    }
   ],
   "source": [
    "pwd"
   ]
  },
  {
   "cell_type": "code",
   "execution_count": 212,
   "metadata": {},
   "outputs": [
    {
     "data": {
      "text/plain": [
       "'C:\\\\Users\\\\dell15'"
      ]
     },
     "execution_count": 212,
     "metadata": {},
     "output_type": "execute_result"
    }
   ],
   "source": [
    "pwd"
   ]
  },
  {
   "cell_type": "code",
   "execution_count": 330,
   "metadata": {},
   "outputs": [],
   "source": [
    "os.chdir(r'C:\\\\Users\\\\dell15')"
   ]
  },
  {
   "cell_type": "code",
   "execution_count": 317,
   "metadata": {},
   "outputs": [
    {
     "data": {
      "text/plain": [
       "'C:\\\\Users\\\\dell15'"
      ]
     },
     "execution_count": 317,
     "metadata": {},
     "output_type": "execute_result"
    }
   ],
   "source": [
    "pwd"
   ]
  },
  {
   "cell_type": "code",
   "execution_count": null,
   "metadata": {},
   "outputs": [],
   "source": []
  }
 ],
 "metadata": {
  "kernelspec": {
   "display_name": "Python 3",
   "language": "python",
   "name": "python3"
  },
  "language_info": {
   "codemirror_mode": {
    "name": "ipython",
    "version": 3
   },
   "file_extension": ".py",
   "mimetype": "text/x-python",
   "name": "python",
   "nbconvert_exporter": "python",
   "pygments_lexer": "ipython3",
   "version": "3.6.5"
  }
 },
 "nbformat": 4,
 "nbformat_minor": 2
}
