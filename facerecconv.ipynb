{
 "cells": [
  {
   "cell_type": "code",
   "execution_count": 1,
   "metadata": {},
   "outputs": [
    {
     "name": "stderr",
     "output_type": "stream",
     "text": [
      "Using TensorFlow backend.\n"
     ]
    }
   ],
   "source": [
    "from sklearn.datasets import load_files       \n",
    "from keras.utils import np_utils\n",
    "import numpy as np\n",
    "from glob import glob\n",
    "#from keras_vggface.vggface import VGGFace\n",
    "#from keras_vggface.vggface import VGGFace"
   ]
  },
  {
   "cell_type": "code",
   "execution_count": 2,
   "metadata": {},
   "outputs": [],
   "source": [
    "def load_dataset(img_path):\n",
    "    data = load_files(img_path)\n",
    "    human_files = np.array(data['filenames'])\n",
    "    human_target = np_utils.to_categorical(np.array(data['target']),5)\n",
    "    return human_files,human_target\n"
   ]
  },
  {
   "cell_type": "code",
   "execution_count": null,
   "metadata": {},
   "outputs": [],
   "source": []
  },
  {
   "cell_type": "code",
   "execution_count": 3,
   "metadata": {},
   "outputs": [],
   "source": [
    "train_files ,train_targets = load_dataset(r'C:\\Users\\dell15\\face_recognition\\train')"
   ]
  },
  {
   "cell_type": "code",
   "execution_count": 4,
   "metadata": {},
   "outputs": [],
   "source": [
    "human_names = [item[39:-1] for item in sorted(glob(\"C:/Users/dell15/face_recognition/train/*/\"))]"
   ]
  },
  {
   "cell_type": "code",
   "execution_count": 5,
   "metadata": {},
   "outputs": [
    {
     "data": {
      "text/plain": [
       "['Bahaar', 'Bobby', 'Neena', 'Rohan', 'Tanish']"
      ]
     },
     "execution_count": 5,
     "metadata": {},
     "output_type": "execute_result"
    }
   ],
   "source": [
    "human_names"
   ]
  },
  {
   "cell_type": "code",
   "execution_count": 6,
   "metadata": {},
   "outputs": [
    {
     "name": "stdout",
     "output_type": "stream",
     "text": [
      "There are 5 total human categories.\n",
      "There are 72 training human images.\n"
     ]
    }
   ],
   "source": [
    "print('There are %d total human categories.' % len(human_names))\n",
    "print('There are %d training human images.' % len(train_files))"
   ]
  },
  {
   "cell_type": "code",
   "execution_count": 7,
   "metadata": {},
   "outputs": [],
   "source": [
    "from keras.preprocessing import image                  \n",
    "from tqdm import tqdm\n",
    "\n",
    "def path_to_tensor(img_path):\n",
    "    img = image.load_img(img_path, target_size=(96,96))\n",
    "    x = image.img_to_array(img)\n",
    "    \n",
    "    return np.expand_dims(x,axis=0)\n",
    "\n",
    "def paths_to_tensor(img_paths):\n",
    "    list_of_tensors = [path_to_tensor(img_path) for img_path in tqdm(img_paths)]\n",
    "    return np.vstack(list_of_tensors)\n",
    "    "
   ]
  },
  {
   "cell_type": "code",
   "execution_count": 77,
   "metadata": {},
   "outputs": [],
   "source": [
    "a = path_to_tensor(r'C:\\Users\\dell15\\images\\Rohan.jpeg')"
   ]
  },
  {
   "cell_type": "code",
   "execution_count": 146,
   "metadata": {},
   "outputs": [],
   "source": [
    "from PIL import Image\n",
    "\n",
    "img = Image.open(r'C:\\Users\\dell15\\images\\testdb.jpeg') # image extension *.png,*.jpg\n",
    "new_width  = 96\n",
    "new_height = 96\n",
    "img = img.resize((new_width, new_height), Image.ANTIALIAS)\n",
    "img.save(r'C:\\Users\\dell15\\images\\testdb.png')"
   ]
  },
  {
   "cell_type": "code",
   "execution_count": 78,
   "metadata": {},
   "outputs": [
    {
     "data": {
      "text/plain": [
       "(1, 96, 96, 3)"
      ]
     },
     "execution_count": 78,
     "metadata": {},
     "output_type": "execute_result"
    }
   ],
   "source": [
    "a.shape"
   ]
  },
  {
   "cell_type": "code",
   "execution_count": 8,
   "metadata": {},
   "outputs": [
    {
     "name": "stderr",
     "output_type": "stream",
     "text": [
      "100%|████████████████████████████████████████| 72/72 [00:01<00:00, 42.01it/s]\n"
     ]
    }
   ],
   "source": [
    "from PIL import ImageFile                            \n",
    "ImageFile.LOAD_TRUNCATED_IMAGES = True                 \n",
    "\n",
    "\n",
    "train_tensors = paths_to_tensor(train_files).astype('float32')/255"
   ]
  },
  {
   "cell_type": "code",
   "execution_count": 9,
   "metadata": {},
   "outputs": [],
   "source": [
    "import cv2                \n",
    "import matplotlib.pyplot as plt                        \n",
    "%matplotlib inline                               \n",
    "\n",
    "# extract pre-trained face detector\n",
    "face_cascade = cv2.CascadeClassifier('C:/Users/dell15/opencv/opencv-master/data/haarcascades/haarcascade_frontalface_alt.xml')"
   ]
  },
  {
   "cell_type": "code",
   "execution_count": 10,
   "metadata": {},
   "outputs": [],
   "source": [
    "def face_detector(img_path):\n",
    "    img = cv2.imread(img_path)\n",
    "    gray = cv2.cvtColor(img, cv2.COLOR_BGR2GRAY)\n",
    "    faces = face_cascade.detectMultiScale(gray)\n",
    "    return len(faces) > 0"
   ]
  },
  {
   "cell_type": "code",
   "execution_count": 11,
   "metadata": {},
   "outputs": [],
   "source": [
    "def extract_InceptionV3(tensor):\n",
    "    from keras.applications.inception_v3 import InceptionV3, preprocess_input\n",
    "    return InceptionV3(weights='lfw', include_top=False).predict(preprocess_input(tensor))"
   ]
  },
  {
   "cell_type": "code",
   "execution_count": 26,
   "metadata": {},
   "outputs": [],
   "source": [
    "def extract_VGG16(tensor):\n",
    "    from keras.applications.vgg16 import VGG16, preprocess_input\n",
    "    return VGG16(weights='imagenet', include_top=False).predict(preprocess_input(tensor))"
   ]
  },
  {
   "cell_type": "code",
   "execution_count": 72,
   "metadata": {},
   "outputs": [
    {
     "name": "stdout",
     "output_type": "stream",
     "text": [
      "Downloading data from https://github.com/rcmalli/keras-vggface/releases/download/v2.0/rcmalli_vggface_tf_vgg16.h5\n"
     ]
    },
    {
     "name": "stdout",
     "output_type": "stream",
     "text": [
      " 11665408/580070376 [..............................] - ETA: 5:16:3 - ETA: 3:29:3 - ETA: 2:54:3 - ETA: 2:20:1 - ETA: 2:15:4 - ETA: 2:05:2 - ETA: 1:56:2 - ETA: 1:47:3 - ETA: 1:41:0 - ETA: 1:32:4 - ETA: 1:29:3 - ETA: 1:26:1 - ETA: 1:23:2 - ETA: 1:20:5 - ETA: 1:19:1 - ETA: 1:17:3 - ETA: 1:16:5 - ETA: 1:12:5 - ETA: 1:11:5 - ETA: 1:11:0 - ETA: 1:10:0 - ETA: 1:09:2 - ETA: 1:08:4 - ETA: 1:08:4 - ETA: 1:07:4 - ETA: 1:05:4 - ETA: 1:05:3 - ETA: 1:04:5 - ETA: 1:04:1 - ETA: 1:04:3 - ETA: 1:04:1 - ETA: 1:04:0 - ETA: 1:03:5 - ETA: 1:02:3 - ETA: 1:02:1 - ETA: 1:01:5 - ETA: 1:01:4 - ETA: 1:01:5 - ETA: 1:01:2 - ETA: 1:01:3 - ETA: 1:01:3 - ETA: 1:00:1 - ETA: 1:00:1 - ETA: 1:00:2 - ETA: 59:52  - ETA: 59:3 - ETA: 59:4 - ETA: 59:3 - ETA: 59:2 - ETA: 58:4 - ETA: 58:3 - ETA: 58:2 - ETA: 58:2 - ETA: 58:1 - ETA: 58:0 - ETA: 58:0 - ETA: 58:1 - ETA: 57:5 - ETA: 58:0 - ETA: 57:4 - ETA: 57:4 - ETA: 57:4 - ETA: 57:3 - ETA: 57:3 - ETA: 57:3 - ETA: 57:0 - ETA: 57:1 - ETA: 57:0 - ETA: 56:5 - ETA: 56:4 - ETA: 56:4 - ETA: 57:0 - ETA: 56:5 - ETA: 56:2 - ETA: 56:2 - ETA: 56:1 - ETA: 56:1 - ETA: 56:0 - ETA: 56:0 - ETA: 56:0 - ETA: 56:1 - ETA: 55:4 - ETA: 55:3 - ETA: 55:5 - ETA: 55:4 - ETA: 55:3 - ETA: 55:3 - ETA: 55:3 - ETA: 55:2 - ETA: 55:0 - ETA: 55:1 - ETA: 55:0 - ETA: 55:0 - ETA: 55:0 - ETA: 55:0 - ETA: 54:5 - ETA: 54:5 - ETA: 54:3 - ETA: 54:3 - ETA: 54:3 - ETA: 54:3 - ETA: 54:3 - ETA: 54:3 - ETA: 54:3 - ETA: 54:3 - ETA: 54:1 - ETA: 54:1 - ETA: 54:1 - ETA: 54:1 - ETA: 54:1 - ETA: 54:1 - ETA: 54:1 - ETA: 54:0 - ETA: 54:0 - ETA: 53:5 - ETA: 53:5 - ETA: 53:5 - ETA: 53:5 - ETA: 53:5 - ETA: 53:5 - ETA: 53:5 - ETA: 53:3 - ETA: 53:3 - ETA: 53:4 - ETA: 53:3 - ETA: 53:3 - ETA: 53:3 - ETA: 53:3 - ETA: 53:3 - ETA: 53:2 - ETA: 53:2 - ETA: 53:1 - ETA: 53:2 - ETA: 53:1 - ETA: 53:2 - ETA: 53:2 - ETA: 53:1 - ETA: 53:0 - ETA: 53:0 - ETA: 53:0 - ETA: 53:1 - ETA: 53:0 - ETA: 53:0 - ETA: 53:0 - ETA: 53:1 - ETA: 52:5 - ETA: 52:5 - ETA: 52:5 - ETA: 52:5 - ETA: 52:5 - ETA: 53:0 - ETA: 52:5 - ETA: 52:5 - ETA: 52:4 - ETA: 52:4 - ETA: 52:4 - ETA: 52:4 - ETA: 52:4 - ETA: 52:4 - ETA: 52:4 - ETA: 52:4 - ETA: 52:3 - ETA: 52:3 - ETA: 52:3 - ETA: 52:3 - ETA: 52:3 - ETA: 52:3 - ETA: 52:3 - ETA: 52:3 - ETA: 52:2 - ETA: 52:2 - ETA: 52:2 - ETA: 52:3 - ETA: 52:2 - ETA: 52:2 - ETA: 52:2 - ETA: 52:2 - ETA: 52:1 - ETA: 52:1 - ETA: 52:1 - ETA: 52:1 - ETA: 52:1 - ETA: 52:1 - ETA: 52:1 - ETA: 52:1 - ETA: 52:1 - ETA: 52:0 - ETA: 52:1 - ETA: 52:0 - ETA: 52:0 - ETA: 52:0 - ETA: 52:0 - ETA: 52:1 - ETA: 52:0 - ETA: 52:0 - ETA: 52:0 - ETA: 52:0 - ETA: 52:0 - ETA: 52:0 - ETA: 52:0 - ETA: 52:0 - ETA: 51:5 - ETA: 51:5 - ETA: 51:5 - ETA: 51:5 - ETA: 51:5 - ETA: 51:5 - ETA: 51:5 - ETA: 51:5 - ETA: 51:5 - ETA: 51:4 - ETA: 51:4 - ETA: 51:5 - ETA: 51:4 - ETA: 51:4 - ETA: 51:5 - ETA: 51:4 - ETA: 51:4 - ETA: 51:4 - ETA: 51:4 - ETA: 51:4 - ETA: 51:4 - ETA: 51:4 - ETA: 51:4 - ETA: 51:4 - ETA: 51:4 - ETA: 51:3 - ETA: 51:3 - ETA: 51:4 - ETA: 51:4 - ETA: 51:4 - ETA: 51:3 - ETA: 51:4 - ETA: 51:3 - ETA: 51:3 - ETA: 51:3 - ETA: 51:3 - ETA: 51:3 - ETA: 51:3 - ETA: 51:4 - ETA: 51:3 - ETA: 51:2 - ETA: 51:2 - ETA: 51:3 - ETA: 51:2 - ETA: 51:2 - ETA: 51:2 - ETA: 51:3 - ETA: 51:3 - ETA: 51:2 - ETA: 51:2 - ETA: 51:2 - ETA: 51:2 - ETA: 51:2 - ETA: 51:2 - ETA: 51:2 - ETA: 51:2 - ETA: 51:1 - ETA: 51:1 - ETA: 51:1 - ETA: 51:1 - ETA: 51:2 - ETA: 51:2 - ETA: 51:2 - ETA: 51:1 - ETA: 51:1 - ETA: 51:1 - ETA: 51:1 - ETA: 51:1 - ETA: 51:1 - ETA: 51:1 - ETA: 51:1 - ETA: 51:1 - ETA: 51:1 - ETA: 51:1 - ETA: 51:1 - ETA: 51:1 - ETA: 51:1 - ETA: 51:1 - ETA: 51:1 - ETA: 51:1 - ETA: 51:0 - ETA: 51:0 - ETA: 51:0 - ETA: 51:0 - ETA: 51:0 - ETA: 51:0 - ETA: 51:0 - ETA: 51:0 - ETA: 51:0 - ETA: 51:0 - ETA: 51:0 - ETA: 51:0 - ETA: 51:0 - ETA: 51:0 - ETA: 51:0 - ETA: 51:0 - ETA: 50:5 - ETA: 51:0 - ETA: 51:0 - ETA: 51:0 - ETA: 51:0 - ETA: 51:0 - ETA: 51:0 - ETA: 51:0 - ETA: 50:5 - ETA: 50:5 - ETA: 50:5 - ETA: 50:5 - ETA: 50:5 - ETA: 51:0 - ETA: 50:5 - ETA: 50:5 - ETA: 50:5 - ETA: 50:5 - ETA: 50:5 - ETA: 50:5 - ETA: 50:5 - ETA: 50:5 - ETA: 50:5 - ETA: 50:5 - ETA: 50:5 - ETA: 50:5 - ETA: 50:5 - ETA: 50:5 - ETA: 50:5 - ETA: 50:5 - ETA: 50:5 - ETA: 50:5 - ETA: 50:4 - ETA: 50:4 - ETA: 50:4 - ETA: 50:5 - ETA: 50:4 - ETA: 50:5 - ETA: 50:5 - ETA: 50:5 - ETA: 50:4 - ETA: 50:4 - ETA: 50:4 - ETA: 50:4 - ETA: 50:4 - ETA: 50:4 - ETA: 50:4 - ETA: 50:4 - ETA: 50:4 - ETA: 50:4 - ETA: 50:4 - ETA: 50:4 - ETA: 50:4 - ETA: 50:4 - ETA: 50:4 - ETA: 50:4 - ETA: 50:4 - ETA: 50:4 - ETA: 50:4 - ETA: 50:4 - ETA: 50:4 - ETA: 50:4 - ETA: 50:4 - ETA: 50:4 - ETA: 50:3 - ETA: 50:3 - ETA: 50:3 - ETA: 50:3 - ETA: 50:4 - ETA: 50:3 - ETA: 50:3 - ETA: 50:3 - ETA: 50:3 - ETA: 50:3 - ETA: 50:3 - ETA: 50:3 - ETA: 50:3 - ETA: 50:3 - ETA: 50:3 - ETA: 50:3 - ETA: 50:3 - ETA: 50:3 - ETA: 50:3 - ETA: 50:3 - ETA: 50:3 - ETA: 50:3 - ETA: 50:3 - ETA: 50:3 - ETA: 50:3 - ETA: 50:3 - ETA: 50:3 - ETA: 50:3 - ETA: 50:3 - ETA: 50:3 - ETA: 50:3 - ETA: 50:3 - ETA: 50:2 - ETA: 50:2 - ETA: 50:2 - ETA: 50:2 - ETA: 50:2 - ETA: 50:2 - ETA: 50:3 - ETA: 50:2 - ETA: 50:2 - ETA: 50:2 - ETA: 50:2 - ETA: 50:2 - ETA: 50:2 - ETA: 50:2 - ETA: 50:2 - ETA: 50:2 - ETA: 50:2 - ETA: 50:2 - ETA: 50:2 - ETA: 50:2 - ETA: 50:2 - ETA: 50:2 - ETA: 50:2 - ETA: 50:2 - ETA: 50:2 - ETA: 50:2 - ETA: 50:2 - ETA: 50:2 - ETA: 50:2 - ETA: 50:2 - ETA: 50:2 - ETA: 50:2 - ETA: 50:2 - ETA: 50:2 - ETA: 50:2 - ETA: 50:2 - ETA: 50:2 - ETA: 50:2 - ETA: 50:2 - ETA: 50:2 - ETA: 50:1 - ETA: 50:2 - ETA: 50:2 - ETA: 50:2 - ETA: 50:2 - ETA: 50:2 - ETA: 50:2 - ETA: 50:2 - ETA: 50:1 - ETA: 50:1 - ETA: 50:1 - ETA: 50:1 - ETA: 50:1 - ETA: 50:1 - ETA: 50:1 - ETA: 50:1 - ETA: 50:1 - ETA: 50:1 - ETA: 50:1 - ETA: 50:1 - ETA: 50:1 - ETA: 50:1 - ETA: 50:1 - ETA: 50:1 - ETA: 50:1 - ETA: 50:1 - ETA: 50:1 - ETA: 50:1 - ETA: 50:1 - ETA: 50:1 - ETA: 50:1 - ETA: 50:1 - ETA: 50:1 - ETA: 50:1 - ETA: 50:1 - ETA: 50:1 - ETA: 50:1 - ETA: 50:1 - ETA: 50:1 - ETA: 50:1 - ETA: 50:1 - ETA: 50:1 - ETA: 50:0 - ETA: 50:1 - ETA: 50:1 - ETA: 50:1 - ETA: 50:1 - ETA: 50:1 - ETA: 50:0 - ETA: 50:0 - ETA: 50:0 - ETA: 50:0 - ETA: 50:0 - ETA: 50:0 - ETA: 50:1 - ETA: 50:1 - ETA: 50:0 - ETA: 50:0 - ETA: 50:0 - ETA: 50:0 - ETA: 50:0 - ETA: 50:0 - ETA: 50:1 - ETA: 50:1 - ETA: 50:0 - ETA: 50:0 - ETA: 50:0 - ETA: 50:0 - ETA: 50:0 - ETA: 50:0 - ETA: 50:0 - ETA: 50:0 - ETA: 50:0 - ETA: 50:0 - ETA: 50:0 - ETA: 50:0 - ETA: 50:0 - ETA: 50:0 - ETA: 50:0 - ETA: 50:0 - ETA: 50:0 - ETA: 50:0 - ETA: 50:0 - ETA: 50:0 - ETA: 50:0 - ETA: 50:0 - ETA: 50:0 - ETA: 50:0 - ETA: 50:0 - ETA: 50:0 - ETA: 50:0 - ETA: 50:0 - ETA: 50:0 - ETA: 50:0 - ETA: 50:0 - ETA: 50:0 - ETA: 50:0 - ETA: 50:0 - ETA: 50:0 - ETA: 50:0 - ETA: 50:0 - ETA: 50:0 - ETA: 50:0 - ETA: 50:0 - ETA: 50:0 - ETA: 50:0 - ETA: 50:0 - ETA: 50:0 - ETA: 50:0 - ETA: 50:0 - ETA: 50:0 - ETA: 50:0 - ETA: 50:0 - ETA: 50:0 - ETA: 50:0 - ETA: 50:0 - ETA: 50:0 - ETA: 50:0 - ETA: 50:0 - ETA: 50:0 - ETA: 50:0 - ETA: 50:0 - ETA: 50:0 - ETA: 50:0 - ETA: 50:0 - ETA: 50:0 - ETA: 50:0 - ETA: 50:0 - ETA: 49:5 - ETA: 50:0 - ETA: 50:0 - ETA: 50:0 - ETA: 50:0 - ETA: 50:0 - ETA: 50:0 - ETA: 50:0 - ETA: 49:5 - ETA: 50:0 - ETA: 50:0 - ETA: 50:0 - ETA: 50:0 - ETA: 50:0 - ETA: 50:0 - ETA: 50:0 - ETA: 49:5 - ETA: 49:5 - ETA: 49:5 - ETA: 49:5 - ETA: 49:5 - ETA: 50:0 - ETA: 49:5 - ETA: 49:5 - ETA: 49:5 - ETA: 49:5 - ETA: 49:5 - ETA: 49:5 - ETA: 49:5 - ETA: 49:5 - ETA: 49:5 - ETA: 49:5 - ETA: 49:5 - ETA: 49:5 - ETA: 49:5 - ETA: 49:5 - ETA: 49:5 - ETA: 49:5 - ETA: 49:5 - ETA: 49:5 - ETA: 49:5 - ETA: 49:5 - ETA: 49:5 - ETA: 49:5 - ETA: 49:5 - ETA: 49:5 - ETA: 49:5 - ETA: 49:5 - ETA: 49:5 - ETA: 49:5 - ETA: 49:5 - ETA: 49:5 - ETA: 49:5 - ETA: 49:5 - ETA: 49:5 - ETA: 49:5 - ETA: 49:5 - ETA: 49:5 - ETA: 49:5 - ETA: 49:5 - ETA: 49:5 - ETA: 49:5 - ETA: 49:5 - ETA: 49:5 - ETA: 49:4 - ETA: 49:4 - ETA: 49:5 - ETA: 49:4 - ETA: 49:5 - ETA: 49:5 - ETA: 49:5 - ETA: 49:5 - ETA: 49:4 - ETA: 49:4 - ETA: 49:4 - ETA: 49:4 - ETA: 49:4 - ETA: 49:4 - ETA: 49:4 - ETA: 49:4 - ETA: 49:4 - ETA: 49:4 - ETA: 49:4 - ETA: 49:4 - ETA: 49:4 - ETA: 49:4 - ETA: 49:4 - ETA: 49:4 - ETA: 49:4 - ETA: 49:4 - ETA: 49:4 - ETA: 49:4 - ETA: 49:4 - ETA: 49:4 - ETA: 49:4 - ETA: 49:4 - ETA: 49:4 - ETA: 49:4 - ETA: 49:4 - ETA: 49:4 - ETA: 49:4 - ETA: 49:4 - ETA: 49:4 - ETA: 49:4 - ETA: 49:4 - ETA: 49:4 - ETA: 49:4 - ETA: 49:4 - ETA: 49:4 - ETA: 49:44 23560192/580070376 [>.............................] - ETA: 49:4 - ETA: 49:4 - ETA: 49:4 - ETA: 49:4 - ETA: 49:4 - ETA: 49:4 - ETA: 49:4 - ETA: 49:4 - ETA: 49:4 - ETA: 49:4 - ETA: 49:4 - ETA: 49:4 - ETA: 49:3 - ETA: 49:4 - ETA: 49:4 - ETA: 49:4 - ETA: 49:4 - ETA: 49:4 - ETA: 49:3 - ETA: 49:3 - ETA: 49:3 - ETA: 49:3 - ETA: 49:3 - ETA: 49:3 - ETA: 49:3 - ETA: 49:3 - ETA: 49:3 - ETA: 49:3 - ETA: 49:3 - ETA: 49:3 - ETA: 49:3 - ETA: 49:3 - ETA: 49:3 - ETA: 49:3 - ETA: 49:3 - ETA: 49:3 - ETA: 49:3 - ETA: 49:3 - ETA: 49:3 - ETA: 49:3 - ETA: 49:3 - ETA: 49:3 - ETA: 49:3 - ETA: 49:3 - ETA: 49:3 - ETA: 49:3 - ETA: 49:3 - ETA: 49:3 - ETA: 49:3 - ETA: 49:3 - ETA: 49:3 - ETA: 49:3 - ETA: 49:3 - ETA: 49:3 - ETA: 49:3 - ETA: 49:3 - ETA: 49:3 - ETA: 49:3 - ETA: 49:3 - ETA: 49:3 - ETA: 49:3 - ETA: 49:3 - ETA: 49:3 - ETA: 49:3 - ETA: 49:3 - ETA: 49:3 - ETA: 49:3 - ETA: 49:3 - ETA: 49:3 - ETA: 49:3 - ETA: 49:3 - ETA: 49:3 - ETA: 49:3 - ETA: 49:3 - ETA: 49:2 - ETA: 49:3 - ETA: 49:3 - ETA: 49:3 - ETA: 49:3 - ETA: 49:3 - ETA: 49:3 - ETA: 49:3 - ETA: 49:2 - ETA: 49:2 - ETA: 49:2 - ETA: 49:2 - ETA: 49:2 - ETA: 49:2 - ETA: 49:2 - ETA: 49:2 - ETA: 49:2 - ETA: 49:2 - ETA: 49:2 - ETA: 49:2 - ETA: 49:2 - ETA: 49:2 - ETA: 49:2 - ETA: 49:2 - ETA: 49:2 - ETA: 49:2 - ETA: 49:2 - ETA: 49:2 - ETA: 49:2 - ETA: 49:2 - ETA: 49:2 - ETA: 49:2 - ETA: 49:2 - ETA: 49:2 - ETA: 49:2 - ETA: 49:2 - ETA: 49:2 - ETA: 49:2 - ETA: 49:2 - ETA: 49:2 - ETA: 49:2 - ETA: 49:2 - ETA: 49:2 - ETA: 49:2 - ETA: 49:2 - ETA: 49:2 - ETA: 49:2 - ETA: 49:2 - ETA: 49:2 - ETA: 49:2 - ETA: 49:2 - ETA: 49:2 - ETA: 49:2 - ETA: 49:2 - ETA: 49:2 - ETA: 49:2 - ETA: 49:2 - ETA: 49:2 - ETA: 49:2 - ETA: 49:2 - ETA: 49:2 - ETA: 49:2 - ETA: 49:2 - ETA: 49:2 - ETA: 49:2 - ETA: 49:2 - ETA: 49:2 - ETA: 49:2 - ETA: 49:2 - ETA: 49:2 - ETA: 49:2 - ETA: 49:2 - ETA: 49:2 - ETA: 49:2 - ETA: 49:2 - ETA: 49:2 - ETA: 49:2 - ETA: 49:2 - ETA: 49:2 - ETA: 49:2 - ETA: 49:2 - ETA: 49:2 - ETA: 49:2 - ETA: 49:2 - ETA: 49:2 - ETA: 49:2 - ETA: 49:2 - ETA: 49:2 - ETA: 49:1 - ETA: 49:1 - ETA: 49:1 - ETA: 49:1 - ETA: 49:1 - ETA: 49:1 - ETA: 49:2 - ETA: 49:2 - ETA: 49:1 - ETA: 49:1 - ETA: 49:1 - ETA: 49:1 - ETA: 49:1 - ETA: 49:1 - ETA: 49:1 - ETA: 49:1 - ETA: 49:1 - ETA: 49:1 - ETA: 49:1 - ETA: 49:1 - ETA: 49:1 - ETA: 49:1 - ETA: 49:1 - ETA: 49:1 - ETA: 49:1 - ETA: 49:1 - ETA: 49:1 - ETA: 49:1 - ETA: 49:1 - ETA: 49:1 - ETA: 49:1 - ETA: 49:1 - ETA: 49:1 - ETA: 49:1 - ETA: 49:1 - ETA: 49:1 - ETA: 49:1 - ETA: 49:1 - ETA: 49:1 - ETA: 49:1 - ETA: 49:1 - ETA: 49:1 - ETA: 49:1 - ETA: 49:1 - ETA: 49:1 - ETA: 49:1 - ETA: 49:1 - ETA: 49:1 - ETA: 49:1 - ETA: 49:1 - ETA: 49:1 - ETA: 49:1 - ETA: 49:1 - ETA: 49:1 - ETA: 49:1 - ETA: 49:1 - ETA: 49:1 - ETA: 49:1 - ETA: 49:1 - ETA: 49:1 - ETA: 49:1 - ETA: 49:1 - ETA: 49:1 - ETA: 49:1 - ETA: 49:1 - ETA: 49:1 - ETA: 49:1 - ETA: 49:1 - ETA: 49:1 - ETA: 49:1 - ETA: 49:1 - ETA: 49:1 - ETA: 49:0 - ETA: 49:0 - ETA: 49:0 - ETA: 49:0 - ETA: 49:0 - ETA: 49:0 - ETA: 49:1 - ETA: 49:1 - ETA: 49:0 - ETA: 49:0 - ETA: 49:0 - ETA: 49:0 - ETA: 49:0 - ETA: 49:0 - ETA: 49:0 - ETA: 49:0 - ETA: 49:0 - ETA: 49:0 - ETA: 49:0 - ETA: 49:0 - ETA: 49:0 - ETA: 49:0 - ETA: 49:0 - ETA: 49:0 - ETA: 49:0 - ETA: 49:0 - ETA: 49:0 - ETA: 49:0 - ETA: 49:0 - ETA: 49:0 - ETA: 49:0 - ETA: 49:0 - ETA: 49:0 - ETA: 49:0 - ETA: 49:0 - ETA: 49:0 - ETA: 49:0 - ETA: 49:0 - ETA: 49:0 - ETA: 49:0 - ETA: 49:0 - ETA: 49:0 - ETA: 49:0 - ETA: 49:0 - ETA: 49:0 - ETA: 49:0 - ETA: 49:0 - ETA: 49:0 - ETA: 49:0 - ETA: 49:0 - ETA: 49:0 - ETA: 49:0 - ETA: 49:0 - ETA: 49:0 - ETA: 49:0 - ETA: 49:0 - ETA: 49:0 - ETA: 49:0 - ETA: 49:0 - ETA: 49:0 - ETA: 49:0 - ETA: 49:0 - ETA: 49:0 - ETA: 49:0 - ETA: 49:0 - ETA: 49:0 - ETA: 49:0 - ETA: 49:0 - ETA: 49:0 - ETA: 49:0 - ETA: 49:0 - ETA: 49:0 - ETA: 49:0 - ETA: 49:0 - ETA: 49:0 - ETA: 49:0 - ETA: 49:0 - ETA: 49:0 - ETA: 49:0 - ETA: 49:0 - ETA: 48:5 - ETA: 48:5 - ETA: 48:5 - ETA: 48:5 - ETA: 48:5 - ETA: 48:5 - ETA: 48:5 - ETA: 48:5 - ETA: 48:5 - ETA: 48:5 - ETA: 48:5 - ETA: 48:5 - ETA: 48:5 - ETA: 48:5 - ETA: 48:5 - ETA: 48:5 - ETA: 48:5 - ETA: 48:5 - ETA: 48:5 - ETA: 48:5 - ETA: 48:5 - ETA: 48:5 - ETA: 48:5 - ETA: 48:5 - ETA: 48:5 - ETA: 48:5 - ETA: 48:5 - ETA: 48:5 - ETA: 48:5 - ETA: 48:5 - ETA: 48:5 - ETA: 48:5 - ETA: 48:5 - ETA: 48:5 - ETA: 48:5 - ETA: 48:5 - ETA: 48:5 - ETA: 48:5 - ETA: 48:5 - ETA: 48:5 - ETA: 48:5 - ETA: 48:5 - ETA: 48:5 - ETA: 48:5 - ETA: 48:5 - ETA: 48:5 - ETA: 48:5 - ETA: 48:5 - ETA: 48:5 - ETA: 48:5 - ETA: 48:5 - ETA: 48:5 - ETA: 48:5 - ETA: 48:5 - ETA: 48:5 - ETA: 48:5 - ETA: 48:5 - ETA: 48:5 - ETA: 48:5 - ETA: 48:5 - ETA: 48:5 - ETA: 48:5 - ETA: 48:5 - ETA: 48:5 - ETA: 48:5 - ETA: 48:5 - ETA: 48:5 - ETA: 48:5 - ETA: 48:5 - ETA: 48:5 - ETA: 48:5 - ETA: 48:5 - ETA: 48:5 - ETA: 48:5 - ETA: 48:5 - ETA: 48:5 - ETA: 48:5 - ETA: 48:5 - ETA: 48:5 - ETA: 48:5 - ETA: 48:4 - ETA: 48:4 - ETA: 48:5 - ETA: 48:4 - ETA: 48:4 - ETA: 48:4 - ETA: 48:4 - ETA: 48:4 - ETA: 48:4 - ETA: 48:4 - ETA: 48:4 - ETA: 48:4 - ETA: 48:4 - ETA: 48:4 - ETA: 48:4 - ETA: 48:4 - ETA: 48:4 - ETA: 48:4 - ETA: 48:4 - ETA: 48:4 - ETA: 48:4 - ETA: 48:4 - ETA: 48:4 - ETA: 48:4 - ETA: 48:4 - ETA: 48:4 - ETA: 48:4 - ETA: 48:4 - ETA: 48:4 - ETA: 48:4 - ETA: 48:4 - ETA: 48:4 - ETA: 48:4 - ETA: 48:4 - ETA: 48:4 - ETA: 48:4 - ETA: 48:4 - ETA: 48:4 - ETA: 48:4 - ETA: 48:4 - ETA: 48:4 - ETA: 48:4 - ETA: 48:4 - ETA: 48:4 - ETA: 48:4 - ETA: 48:4 - ETA: 48:4 - ETA: 48:4 - ETA: 48:4 - ETA: 48:4 - ETA: 48:4 - ETA: 48:4 - ETA: 48:4 - ETA: 48:4 - ETA: 48:4 - ETA: 48:4 - ETA: 48:4 - ETA: 48:4 - ETA: 48:4 - ETA: 48:4 - ETA: 48:4 - ETA: 48:4 - ETA: 48:4 - ETA: 48:4 - ETA: 48:4 - ETA: 48:4 - ETA: 48:4 - ETA: 48:4 - ETA: 48:4 - ETA: 48:4 - ETA: 48:4 - ETA: 48:4 - ETA: 48:4 - ETA: 48:4 - ETA: 48:4 - ETA: 48:4 - ETA: 48:4 - ETA: 48:4 - ETA: 48:4 - ETA: 48:4 - ETA: 48:4 - ETA: 48:4 - ETA: 48:4 - ETA: 48:4 - ETA: 48:4 - ETA: 48:4 - ETA: 48:4 - ETA: 48:4 - ETA: 48:4 - ETA: 48:4 - ETA: 48:4 - ETA: 48:4 - ETA: 48:4 - ETA: 48:4 - ETA: 48:4 - ETA: 48:4 - ETA: 48:4 - ETA: 48:4 - ETA: 48:4 - ETA: 48:4 - ETA: 48:4 - ETA: 48:3 - ETA: 48:3 - ETA: 48:3 - ETA: 48:3 - ETA: 48:3 - ETA: 48:3 - ETA: 48:3 - ETA: 48:4 - ETA: 48:3 - ETA: 48:3 - ETA: 48:3 - ETA: 48:3 - ETA: 48:3 - ETA: 48:3 - ETA: 48:3 - ETA: 48:3 - ETA: 48:3 - ETA: 48:3 - ETA: 48:3 - ETA: 48:3 - ETA: 48:3 - ETA: 48:3 - ETA: 48:3 - ETA: 48:3 - ETA: 48:3 - ETA: 48:3 - ETA: 48:3 - ETA: 48:3 - ETA: 48:3 - ETA: 48:3 - ETA: 48:3 - ETA: 48:3 - ETA: 48:3 - ETA: 48:3 - ETA: 48:3 - ETA: 48:3 - ETA: 48:3 - ETA: 48:3 - ETA: 48:3 - ETA: 48:3 - ETA: 48:3 - ETA: 48:3 - ETA: 48:3 - ETA: 48:3 - ETA: 48:3 - ETA: 48:3 - ETA: 48:3 - ETA: 48:3 - ETA: 48:3 - ETA: 48:3 - ETA: 48:3 - ETA: 48:3 - ETA: 48:3 - ETA: 48:3 - ETA: 48:3 - ETA: 48:3 - ETA: 48:3 - ETA: 48:3 - ETA: 48:3 - ETA: 48:3 - ETA: 48:3 - ETA: 48:3 - ETA: 48:3 - ETA: 48:3 - ETA: 48:3 - ETA: 48:3 - ETA: 48:3 - ETA: 48:3 - ETA: 48:3 - ETA: 48:3 - ETA: 48:3 - ETA: 48:3 - ETA: 48:3 - ETA: 48:3 - ETA: 48:3 - ETA: 48:3 - ETA: 48:3 - ETA: 48:3 - ETA: 48:3 - ETA: 48:3 - ETA: 48:3 - ETA: 48:3 - ETA: 48:3 - ETA: 48:3 - ETA: 48:3 - ETA: 48:3 - ETA: 48:3 - ETA: 48:3 - ETA: 48:3 - ETA: 48:3 - ETA: 48:3 - ETA: 48:3 - ETA: 48:3 - ETA: 48:3 - ETA: 48:3 - ETA: 48:3 - ETA: 48:2 - ETA: 48:2 - ETA: 48:3 - ETA: 48:2 - ETA: 48:2 - ETA: 48:2 - ETA: 48:2 - ETA: 48:2 - ETA: 48:2 - ETA: 48:2 - ETA: 48:2 - ETA: 48:2 - ETA: 48:2 - ETA: 48:2 - ETA: 48:2 - ETA: 48:2 - ETA: 48:2 - ETA: 48:2 - ETA: 48:2 - ETA: 48:2 - ETA: 48:2 - ETA: 48:2 - ETA: 48:2 - ETA: 48:2 - ETA: 48:2 - ETA: 48:2 - ETA: 48:2 - ETA: 48:2 - ETA: 48:2 - ETA: 48:2 - ETA: 48:2 - ETA: 48:2 - ETA: 48:2 - ETA: 48:2 - ETA: 48:2 - ETA: 48:2 - ETA: 48:2 - ETA: 48:2 - ETA: 48:2 - ETA: 48:2 - ETA: 48:2 - ETA: 48:2 - ETA: 48:2 - ETA: 48:2 - ETA: 48:2 - ETA: 48:2 - ETA: 48:2 - ETA: 48:2 - ETA: 48:2 - ETA: 48:2 - ETA: 48:2 - ETA: 48:2 - ETA: 48:2 - ETA: 48:2 - ETA: 48:2 - ETA: 48:2 - ETA: 48:2 - ETA: 48:2 - ETA: 48:2 - ETA: 48:2 - ETA: 48:2 - ETA: 48:2 - ETA: 48:2 - ETA: 48:2 - ETA: 48:2 - ETA: 48:2 - ETA: 48:2 - ETA: 48:2 - ETA: 48:2 - ETA: 48:2 - ETA: 48:2 - ETA: 48:2 - ETA: 48:2 - ETA: 48:2 - ETA: 48:2 - ETA: 48:2 - ETA: 48:2 - ETA: 48:2 - ETA: 48:2 - ETA: 48:2 - ETA: 48:2 - ETA: 48:2 - ETA: 48:2 - ETA: 48:2 - ETA: 48:2 - ETA: 48:2 - ETA: 48:2 - ETA: 48:19 35430400/580070376 [>.............................] - ETA: 48:1 - ETA: 48:1 - ETA: 48:1 - ETA: 48:1 - ETA: 48:1 - ETA: 48:1 - ETA: 48:2 - ETA: 48:1 - ETA: 48:1 - ETA: 48:1 - ETA: 48:1 - ETA: 48:1 - ETA: 48:1 - ETA: 48:1 - ETA: 48:1 - ETA: 48:1 - ETA: 48:1 - ETA: 48:1 - ETA: 48:1 - ETA: 48:1 - ETA: 48:1 - ETA: 48:1 - ETA: 48:1 - ETA: 48:1 - ETA: 48:1 - ETA: 48:1 - ETA: 48:1 - ETA: 48:1 - ETA: 48:1 - ETA: 48:1 - ETA: 48:1 - ETA: 48:1 - ETA: 48:1 - ETA: 48:1 - ETA: 48:1 - ETA: 48:1 - ETA: 48:1 - ETA: 48:1 - ETA: 48:1 - ETA: 48:1 - ETA: 48:1 - ETA: 48:1 - ETA: 48:1 - ETA: 48:1 - ETA: 48:1 - ETA: 48:1 - ETA: 48:1 - ETA: 48:1 - ETA: 48:1 - ETA: 48:1 - ETA: 48:1 - ETA: 48:1 - ETA: 48:1 - ETA: 48:1 - ETA: 48:1 - ETA: 48:1 - ETA: 48:1 - ETA: 48:1 - ETA: 48:1 - ETA: 48:1 - ETA: 48:1 - ETA: 48:1 - ETA: 48:1 - ETA: 48:1 - ETA: 48:1 - ETA: 48:1 - ETA: 48:1 - ETA: 48:1 - ETA: 48:1 - ETA: 48:1 - ETA: 48:1 - ETA: 48:1 - ETA: 48:1 - ETA: 48:1 - ETA: 48:1 - ETA: 48:1 - ETA: 48:1 - ETA: 48:1 - ETA: 48:1 - ETA: 48:1 - ETA: 48:1 - ETA: 48:1 - ETA: 48:1 - ETA: 48:1 - ETA: 48:1 - ETA: 48:1 - ETA: 48:1 - ETA: 48:0 - ETA: 48:0 - ETA: 48:0 - ETA: 48:0 - ETA: 48:0 - ETA: 48:0 - ETA: 48:0 - ETA: 48:0 - ETA: 48:0 - ETA: 48:0 - ETA: 48:0 - ETA: 48:0 - ETA: 48:0 - ETA: 48:0 - ETA: 48:0 - ETA: 48:0 - ETA: 48:0 - ETA: 48:0 - ETA: 48:0 - ETA: 48:0 - ETA: 48:0 - ETA: 48:0 - ETA: 48:0 - ETA: 48:0 - ETA: 48:0 - ETA: 48:0 - ETA: 48:0 - ETA: 48:0 - ETA: 48:0 - ETA: 48:0 - ETA: 48:0 - ETA: 48:0 - ETA: 48:0 - ETA: 48:0 - ETA: 48:0 - ETA: 48:0 - ETA: 48:0 - ETA: 48:0 - ETA: 48:0 - ETA: 48:0 - ETA: 48:0 - ETA: 48:0 - ETA: 48:0 - ETA: 48:0 - ETA: 48:0 - ETA: 48:0 - ETA: 48:0 - ETA: 48:0 - ETA: 48:0 - ETA: 48:0 - ETA: 48:0 - ETA: 48:0 - ETA: 48:0 - ETA: 48:0 - ETA: 48:0 - ETA: 48:0 - ETA: 48:0 - ETA: 48:0 - ETA: 48:0 - ETA: 48:0 - ETA: 48:0 - ETA: 48:0 - ETA: 48:0 - ETA: 48:0 - ETA: 48:0 - ETA: 48:0 - ETA: 48:0 - ETA: 48:0 - ETA: 48:0 - ETA: 48:0 - ETA: 48:0 - ETA: 48:0 - ETA: 48:0 - ETA: 48:0 - ETA: 48:0 - ETA: 48:0 - ETA: 48:0 - ETA: 48:0 - ETA: 48:0 - ETA: 48:0 - ETA: 48:0 - ETA: 48:0 - ETA: 48:0 - ETA: 48:0 - ETA: 48:0 - ETA: 48:0 - ETA: 48:0 - ETA: 48:0 - ETA: 48:0 - ETA: 48:0 - ETA: 48:0 - ETA: 48:0 - ETA: 48:0 - ETA: 48:0 - ETA: 48:0 - ETA: 48:0 - ETA: 48:0 - ETA: 48:0 - ETA: 48:0 - ETA: 48:0 - ETA: 48:0 - ETA: 48:0 - ETA: 47:5 - ETA: 47:5 - ETA: 48:0 - ETA: 47:5 - ETA: 47:5 - ETA: 48:0 - ETA: 47:5 - ETA: 48:0 - ETA: 47:5 - ETA: 47:5 - ETA: 47:5 - ETA: 47:5 - ETA: 47:5 - ETA: 47:5 - ETA: 47:5 - ETA: 47:5 - ETA: 47:5 - ETA: 47:5 - ETA: 47:5 - ETA: 47:5 - ETA: 47:5 - ETA: 47:5 - ETA: 47:5 - ETA: 47:5 - ETA: 47:5 - ETA: 47:5 - ETA: 47:5 - ETA: 47:5 - ETA: 47:5 - ETA: 47:5 - ETA: 47:5 - ETA: 47:5 - ETA: 47:5 - ETA: 47:5 - ETA: 47:5 - ETA: 47:5 - ETA: 47:5 - ETA: 47:5 - ETA: 47:5 - ETA: 47:5 - ETA: 47:5 - ETA: 47:5 - ETA: 47:5 - ETA: 47:5 - ETA: 47:5 - ETA: 47:5 - ETA: 47:5 - ETA: 47:5 - ETA: 47:5 - ETA: 47:5 - ETA: 47:5 - ETA: 47:5 - ETA: 47:5 - ETA: 47:5 - ETA: 47:5 - ETA: 47:5 - ETA: 47:5 - ETA: 47:5 - ETA: 47:5 - ETA: 47:5 - ETA: 47:5 - ETA: 47:5 - ETA: 47:5 - ETA: 47:5 - ETA: 47:5 - ETA: 47:5 - ETA: 47:5 - ETA: 47:5 - ETA: 47:5 - ETA: 47:5 - ETA: 47:5 - ETA: 47:5 - ETA: 47:5 - ETA: 47:5 - ETA: 47:5 - ETA: 47:5 - ETA: 47:5 - ETA: 47:5 - ETA: 47:5 - ETA: 47:5 - ETA: 47:5 - ETA: 47:5 - ETA: 47:5 - ETA: 47:5 - ETA: 47:5 - ETA: 47:5 - ETA: 47:5 - ETA: 47:5 - ETA: 47:5 - ETA: 47:5 - ETA: 47:5 - ETA: 47:5 - ETA: 47:5 - ETA: 47:5 - ETA: 47:5 - ETA: 47:5 - ETA: 47:5 - ETA: 47:4 - ETA: 47:4 - ETA: 47:4 - ETA: 47:4 - ETA: 47:5 - ETA: 47:4 - ETA: 47:4 - ETA: 47:4 - ETA: 47:4 - ETA: 47:4 - ETA: 47:4 - ETA: 47:4 - ETA: 47:4 - ETA: 47:4 - ETA: 47:4 - ETA: 47:4 - ETA: 47:4 - ETA: 47:4 - ETA: 47:4 - ETA: 47:4 - ETA: 47:4 - ETA: 47:4 - ETA: 47:4 - ETA: 47:4 - ETA: 47:4 - ETA: 47:4 - ETA: 47:4 - ETA: 47:4 - ETA: 47:4 - ETA: 47:4 - ETA: 47:4 - ETA: 47:4 - ETA: 47:4 - ETA: 47:4 - ETA: 47:4 - ETA: 47:4 - ETA: 47:4 - ETA: 47:4 - ETA: 47:4 - ETA: 47:4 - ETA: 47:4 - ETA: 47:4 - ETA: 47:4 - ETA: 47:4 - ETA: 47:4 - ETA: 47:4 - ETA: 47:4 - ETA: 47:4 - ETA: 47:4 - ETA: 47:4 - ETA: 47:4 - ETA: 47:4 - ETA: 47:4 - ETA: 47:4 - ETA: 47:4 - ETA: 47:4 - ETA: 47:4 - ETA: 47:4 - ETA: 47:4 - ETA: 47:4 - ETA: 47:4 - ETA: 47:4 - ETA: 47:4 - ETA: 47:4 - ETA: 47:4 - ETA: 47:4 - ETA: 47:4 - ETA: 47:4 - ETA: 47:4 - ETA: 47:4 - ETA: 47:4 - ETA: 47:4 - ETA: 47:4 - ETA: 47:4 - ETA: 47:4 - ETA: 47:4 - ETA: 47:4 - ETA: 47:4 - ETA: 47:4 - ETA: 47:4 - ETA: 47:4 - ETA: 47:4 - ETA: 47:4 - ETA: 47:4 - ETA: 47:4 - ETA: 47:4 - ETA: 47:4 - ETA: 47:4 - ETA: 47:4 - ETA: 47:4 - ETA: 47:4 - ETA: 47:4 - ETA: 47:4 - ETA: 47:4 - ETA: 47:3 - ETA: 47:3 - ETA: 47:3 - ETA: 47:3 - ETA: 47:3 - ETA: 47:3 - ETA: 47:3 - ETA: 47:3 - ETA: 47:3 - ETA: 47:3 - ETA: 47:3 - ETA: 47:3 - ETA: 47:3 - ETA: 47:3 - ETA: 47:3 - ETA: 47:3 - ETA: 47:3 - ETA: 47:3 - ETA: 47:3 - ETA: 47:3 - ETA: 47:3 - ETA: 47:3 - ETA: 47:3 - ETA: 47:3 - ETA: 47:3 - ETA: 47:3 - ETA: 47:3 - ETA: 47:3 - ETA: 47:3 - ETA: 47:3 - ETA: 47:3 - ETA: 47:3 - ETA: 47:3 - ETA: 47:3 - ETA: 47:3 - ETA: 47:3 - ETA: 47:3 - ETA: 47:3 - ETA: 47:3 - ETA: 47:3 - ETA: 47:3 - ETA: 47:3 - ETA: 47:3 - ETA: 47:3 - ETA: 47:3 - ETA: 47:3 - ETA: 47:3 - ETA: 47:3 - ETA: 47:3 - ETA: 47:3 - ETA: 47:3 - ETA: 47:3 - ETA: 47:3 - ETA: 47:3 - ETA: 47:3 - ETA: 47:3 - ETA: 47:3 - ETA: 47:3 - ETA: 47:3 - ETA: 47:3 - ETA: 47:3 - ETA: 47:3 - ETA: 47:3 - ETA: 47:3 - ETA: 47:3 - ETA: 47:3 - ETA: 47:3 - ETA: 47:3 - ETA: 47:3 - ETA: 47:3 - ETA: 47:3 - ETA: 47:3 - ETA: 47:3 - ETA: 47:3 - ETA: 47:3 - ETA: 47:3 - ETA: 47:3 - ETA: 47:3 - ETA: 47:3 - ETA: 47:3 - ETA: 47:3 - ETA: 47:3 - ETA: 47:3 - ETA: 47:3 - ETA: 47:3 - ETA: 47:3 - ETA: 47:3 - ETA: 47:3 - ETA: 47:3 - ETA: 47:3 - ETA: 47:3 - ETA: 47:3 - ETA: 47:3 - ETA: 47:3 - ETA: 47:3 - ETA: 47:3 - ETA: 47:2 - ETA: 47:2 - ETA: 47:3 - ETA: 47:2 - ETA: 47:3 - ETA: 47:3 - ETA: 47:3 - ETA: 47:3 - ETA: 47:2 - ETA: 47:2 - ETA: 47:2 - ETA: 47:2 - ETA: 47:2 - ETA: 47:2 - ETA: 47:2 - ETA: 47:2 - ETA: 47:2 - ETA: 47:2 - ETA: 47:2 - ETA: 47:2 - ETA: 47:2 - ETA: 47:2 - ETA: 47:2 - ETA: 47:2 - ETA: 47:2 - ETA: 47:2 - ETA: 47:2 - ETA: 47:2 - ETA: 47:2 - ETA: 47:2 - ETA: 47:2 - ETA: 47:2 - ETA: 47:2 - ETA: 47:2 - ETA: 47:2 - ETA: 47:2 - ETA: 47:2 - ETA: 47:2 - ETA: 47:2 - ETA: 47:2 - ETA: 47:2 - ETA: 47:2 - ETA: 47:2 - ETA: 47:2 - ETA: 47:2 - ETA: 47:2 - ETA: 47:2 - ETA: 47:2 - ETA: 47:2 - ETA: 47:2 - ETA: 47:2 - ETA: 47:2 - ETA: 47:2 - ETA: 47:2 - ETA: 47:2 - ETA: 47:2 - ETA: 47:2 - ETA: 47:2 - ETA: 47:2 - ETA: 47:2 - ETA: 47:2 - ETA: 47:2 - ETA: 47:2 - ETA: 47:2 - ETA: 47:2 - ETA: 47:2 - ETA: 47:2 - ETA: 47:2 - ETA: 47:2 - ETA: 47:2 - ETA: 47:2 - ETA: 47:2 - ETA: 47:2 - ETA: 47:2 - ETA: 47:2 - ETA: 47:2 - ETA: 47:2 - ETA: 47:2 - ETA: 47:2 - ETA: 47:2 - ETA: 47:2 - ETA: 47:2 - ETA: 47:2 - ETA: 47:2 - ETA: 47:2 - ETA: 47:2 - ETA: 47:2 - ETA: 47:2 - ETA: 47:2 - ETA: 47:2 - ETA: 47:2 - ETA: 47:2 - ETA: 47:2 - ETA: 47:2 - ETA: 47:2 - ETA: 47:2 - ETA: 47:2 - ETA: 47:2 - ETA: 47:2 - ETA: 47:2 - ETA: 47:2 - ETA: 47:2 - ETA: 47:2 - ETA: 47:2 - ETA: 47:2 - ETA: 47:2 - ETA: 47:2 - ETA: 47:2 - ETA: 47:2 - ETA: 47:2 - ETA: 47:2 - ETA: 47:2 - ETA: 47:1 - ETA: 47:1 - ETA: 47:1 - ETA: 47:1 - ETA: 47:1 - ETA: 47:1 - ETA: 47:1 - ETA: 47:1 - ETA: 47:1 - ETA: 47:1 - ETA: 47:1 - ETA: 47:1 - ETA: 47:1 - ETA: 47:1 - ETA: 47:1 - ETA: 47:1 - ETA: 47:1 - ETA: 47:1 - ETA: 47:1 - ETA: 47:1 - ETA: 47:1 - ETA: 47:1 - ETA: 47:1 - ETA: 47:1 - ETA: 47:1 - ETA: 47:1 - ETA: 47:1 - ETA: 47:1 - ETA: 47:1 - ETA: 47:1 - ETA: 47:1 - ETA: 47:1 - ETA: 47:1 - ETA: 47:1 - ETA: 47:1 - ETA: 47:1 - ETA: 47:1 - ETA: 47:1 - ETA: 47:1 - ETA: 47:1 - ETA: 47:1 - ETA: 47:1 - ETA: 47:1 - ETA: 47:1 - ETA: 47:1 - ETA: 47:1 - ETA: 47:1 - ETA: 47:1 - ETA: 47:1 - ETA: 47:1 - ETA: 47:1 - ETA: 47:1 - ETA: 47:1 - ETA: 47:1 - ETA: 47:1 - ETA: 47:1 - ETA: 47:1 - ETA: 47:1 - ETA: 47:1 - ETA: 47:1 - ETA: 47:1 - ETA: 47:1 - ETA: 47:1 - ETA: 47:1 - ETA: 47:1 - ETA: 47:1 - ETA: 47:1 - ETA: 47:1 - ETA: 47:1 - ETA: 47:1 - ETA: 47:1 - ETA: 47:1 - ETA: 47:1 - ETA: 47:1 - ETA: 47:1 - ETA: 47:1 - ETA: 47:1 - ETA: 47:1 - ETA: 47:1 - ETA: 47:1 - ETA: 47:1 - ETA: 47:1 - ETA: 47:1 - ETA: 47:1 - ETA: 47:1 - ETA: 47:1 - ETA: 47:1 - ETA: 47:1 - ETA: 47:1 - ETA: 47:1 - ETA: 47:11 47407104/580070376 [=>............................] - ETA: 47:1 - ETA: 47:1 - ETA: 47:1 - ETA: 47:1 - ETA: 47:1 - ETA: 47:1 - ETA: 47:1 - ETA: 47:1 - ETA: 47:1 - ETA: 47:1 - ETA: 47:1 - ETA: 47:1 - ETA: 47:1 - ETA: 47:0 - ETA: 47:0 - ETA: 47:0 - ETA: 47:0 - ETA: 47:1 - ETA: 47:1 - ETA: 47:1 - ETA: 47:1 - ETA: 47:1 - ETA: 47:1 - ETA: 47:1 - ETA: 47:1 - ETA: 47:2 - ETA: 47:1 - ETA: 47:2 - ETA: 47:2 - ETA: 47:2 - ETA: 47:2 - ETA: 47:2 - ETA: 47:2 - ETA: 47:2 - ETA: 47:2 - ETA: 47:2 - ETA: 47:2 - ETA: 47:2 - ETA: 47:2 - ETA: 47:2 - ETA: 47:2 - ETA: 47:2 - ETA: 47:2 - ETA: 47:1 - ETA: 47:1 - ETA: 47:1 - ETA: 47:1 - ETA: 47:1 - ETA: 47:1 - ETA: 47:1 - ETA: 47:1 - ETA: 47:1 - ETA: 47:1 - ETA: 47:1 - ETA: 47:1 - ETA: 47:1 - ETA: 47:1 - ETA: 47:1 - ETA: 47:1 - ETA: 47:1 - ETA: 47:1 - ETA: 47:1 - ETA: 47:1 - ETA: 47:1 - ETA: 47:1 - ETA: 47:1 - ETA: 47:1 - ETA: 47:1 - ETA: 47:1 - ETA: 47:1 - ETA: 47:1 - ETA: 47:1 - ETA: 47:1 - ETA: 47:1 - ETA: 47:1 - ETA: 47:1 - ETA: 47:1 - ETA: 47:1 - ETA: 47:1 - ETA: 47:1 - ETA: 47:1 - ETA: 47:1 - ETA: 47:1 - ETA: 47:1 - ETA: 47:1 - ETA: 47:1 - ETA: 47:1 - ETA: 47:1 - ETA: 47:1 - ETA: 47:1 - ETA: 47:1 - ETA: 47:1 - ETA: 47:1 - ETA: 47:1 - ETA: 47:1 - ETA: 47:1 - ETA: 47:1 - ETA: 47:1 - ETA: 47:1 - ETA: 47:1 - ETA: 47:1 - ETA: 47:1 - ETA: 47:1 - ETA: 47:1 - ETA: 47:1 - ETA: 47:1 - ETA: 47:1 - ETA: 47:1 - ETA: 47:1 - ETA: 47:1 - ETA: 47:1 - ETA: 47:1 - ETA: 47:1 - ETA: 47:1 - ETA: 47:1 - ETA: 47:1 - ETA: 47:1 - ETA: 47:1 - ETA: 47:1 - ETA: 47:1 - ETA: 47:1 - ETA: 47:1 - ETA: 47:1 - ETA: 47:1 - ETA: 47:1 - ETA: 47:1 - ETA: 47:1 - ETA: 47:1 - ETA: 47:1 - ETA: 47:1 - ETA: 47:1 - ETA: 47:1 - ETA: 47:0 - ETA: 47:0 - ETA: 47:0 - ETA: 47:0 - ETA: 47:0 - ETA: 47:1 - ETA: 47:0 - ETA: 47:0 - ETA: 47:0 - ETA: 47:0 - ETA: 47:0 - ETA: 47:0 - ETA: 47:0 - ETA: 47:0 - ETA: 47:0 - ETA: 47:0 - ETA: 47:0 - ETA: 47:0 - ETA: 47:0 - ETA: 47:0 - ETA: 47:0 - ETA: 47:0 - ETA: 47:0 - ETA: 47:0 - ETA: 47:0 - ETA: 47:0 - ETA: 47:0 - ETA: 47:0 - ETA: 47:0 - ETA: 47:0 - ETA: 47:0 - ETA: 47:0 - ETA: 47:0 - ETA: 47:0 - ETA: 47:0 - ETA: 47:1 - ETA: 47:0 - ETA: 47:0 - ETA: 47:0 - ETA: 47:0 - ETA: 47:0 - ETA: 47:0 - ETA: 47:0 - ETA: 47:0 - ETA: 47:0 - ETA: 47:0 - ETA: 47:0 - ETA: 47:0 - ETA: 47:0 - ETA: 47:0 - ETA: 47:0 - ETA: 47:0 - ETA: 47:0 - ETA: 47:0 - ETA: 47:0 - ETA: 47:0 - ETA: 47:0 - ETA: 47:0 - ETA: 47:0 - ETA: 47:0 - ETA: 47:0 - ETA: 47:0 - ETA: 47:0 - ETA: 47:0 - ETA: 47:0 - ETA: 47:0 - ETA: 47:0 - ETA: 47:0 - ETA: 47:0 - ETA: 47:0 - ETA: 47:0 - ETA: 47:0 - ETA: 47:0 - ETA: 47:0 - ETA: 47:0 - ETA: 47:0 - ETA: 47:0 - ETA: 47:0 - ETA: 47:0 - ETA: 47:0 - ETA: 47:0 - ETA: 47:0 - ETA: 47:0 - ETA: 47:0 - ETA: 47:0 - ETA: 47:0 - ETA: 47:0 - ETA: 47:0 - ETA: 47:0 - ETA: 47:0 - ETA: 47:0 - ETA: 47:0 - ETA: 47:0 - ETA: 47:0 - ETA: 47:0 - ETA: 47:0 - ETA: 47:0 - ETA: 47:0 - ETA: 46:5 - ETA: 46:5 - ETA: 46:5 - ETA: 46:5 - ETA: 46:5 - ETA: 46:5 - ETA: 46:5 - ETA: 46:5 - ETA: 46:5 - ETA: 46:5 - ETA: 46:5 - ETA: 46:5 - ETA: 46:5 - ETA: 46:5 - ETA: 46:5 - ETA: 46:5 - ETA: 46:5 - ETA: 46:5 - ETA: 46:5 - ETA: 46:5 - ETA: 46:5 - ETA: 46:5 - ETA: 46:5 - ETA: 46:5 - ETA: 46:5 - ETA: 46:5 - ETA: 46:5 - ETA: 46:5 - ETA: 46:5 - ETA: 46:5 - ETA: 46:5 - ETA: 46:5 - ETA: 46:5 - ETA: 46:5 - ETA: 46:5 - ETA: 46:5 - ETA: 46:5 - ETA: 46:5 - ETA: 46:5 - ETA: 46:5 - ETA: 46:5 - ETA: 46:5 - ETA: 46:5 - ETA: 46:5 - ETA: 46:5 - ETA: 46:5 - ETA: 46:5 - ETA: 46:5 - ETA: 46:5 - ETA: 46:5 - ETA: 46:5 - ETA: 46:5 - ETA: 46:5 - ETA: 46:5 - ETA: 46:5 - ETA: 46:5 - ETA: 46:5 - ETA: 46:5 - ETA: 46:5 - ETA: 46:5 - ETA: 46:5 - ETA: 46:5 - ETA: 46:5 - ETA: 46:5 - ETA: 46:5 - ETA: 46:5 - ETA: 46:5 - ETA: 46:5 - ETA: 46:5 - ETA: 46:5 - ETA: 46:5 - ETA: 46:5 - ETA: 46:5 - ETA: 46:5 - ETA: 46:5 - ETA: 46:5 - ETA: 46:5 - ETA: 46:5 - ETA: 46:5 - ETA: 46:5 - ETA: 46:5 - ETA: 46:5 - ETA: 46:5 - ETA: 46:5 - ETA: 46:5 - ETA: 46:5 - ETA: 46:5 - ETA: 46:5 - ETA: 46:5 - ETA: 46:5 - ETA: 46:5 - ETA: 46:5 - ETA: 46:5 - ETA: 46:5 - ETA: 46:5 - ETA: 46:5 - ETA: 46:4 - ETA: 46:4 - ETA: 46:4 - ETA: 46:5 - ETA: 46:5 - ETA: 46:4 - ETA: 46:4 - ETA: 46:4 - ETA: 46:4 - ETA: 46:4 - ETA: 46:4 - ETA: 46:4 - ETA: 46:4 - ETA: 46:4 - ETA: 46:4 - ETA: 46:4 - ETA: 46:4 - ETA: 46:4 - ETA: 46:4 - ETA: 46:4 - ETA: 46:4 - ETA: 46:4 - ETA: 46:4 - ETA: 46:4 - ETA: 46:4 - ETA: 46:4 - ETA: 46:4 - ETA: 46:4 - ETA: 46:4 - ETA: 46:4 - ETA: 46:4 - ETA: 46:4 - ETA: 46:4 - ETA: 46:4 - ETA: 46:4 - ETA: 46:4 - ETA: 46:4 - ETA: 46:4 - ETA: 46:4 - ETA: 46:4 - ETA: 46:4 - ETA: 46:4 - ETA: 46:4 - ETA: 46:4 - ETA: 46:4 - ETA: 46:4 - ETA: 46:4 - ETA: 46:4 - ETA: 46:4 - ETA: 46:4 - ETA: 46:4 - ETA: 46:4 - ETA: 46:4 - ETA: 46:4 - ETA: 46:4 - ETA: 46:4 - ETA: 46:4 - ETA: 46:4 - ETA: 46:4 - ETA: 46:4 - ETA: 46:4 - ETA: 46:4 - ETA: 46:4 - ETA: 46:4 - ETA: 46:4 - ETA: 46:4 - ETA: 46:4 - ETA: 46:4 - ETA: 46:4 - ETA: 46:4 - ETA: 46:4 - ETA: 46:4 - ETA: 46:4 - ETA: 46:4 - ETA: 46:4 - ETA: 46:4 - ETA: 46:4 - ETA: 46:4 - ETA: 46:4 - ETA: 46:4 - ETA: 46:4 - ETA: 46:4 - ETA: 46:4 - ETA: 46:4 - ETA: 46:4 - ETA: 46:4 - ETA: 46:4 - ETA: 46:4 - ETA: 46:4 - ETA: 46:4 - ETA: 46:4 - ETA: 46:4 - ETA: 46:4 - ETA: 46:4 - ETA: 46:4 - ETA: 46:4 - ETA: 46:4 - ETA: 46:4 - ETA: 46:4 - ETA: 46:3 - ETA: 46:3 - ETA: 46:3 - ETA: 46:3 - ETA: 46:3 - ETA: 46:3 - ETA: 46:3 - ETA: 46:3 - ETA: 46:3 - ETA: 46:3 - ETA: 46:3 - ETA: 46:3 - ETA: 46:3 - ETA: 46:3 - ETA: 46:3 - ETA: 46:3 - ETA: 46:3 - ETA: 46:3 - ETA: 46:3 - ETA: 46:3 - ETA: 46:3 - ETA: 46:3 - ETA: 46:3 - ETA: 46:3 - ETA: 46:3 - ETA: 46:3 - ETA: 46:3 - ETA: 46:3 - ETA: 46:3 - ETA: 46:3 - ETA: 46:3 - ETA: 46:3 - ETA: 46:3 - ETA: 46:3 - ETA: 46:3 - ETA: 46:3 - ETA: 46:3 - ETA: 46:3 - ETA: 46:3 - ETA: 46:3 - ETA: 46:3 - ETA: 46:3 - ETA: 46:3 - ETA: 46:3 - ETA: 46:3 - ETA: 46:3 - ETA: 46:3 - ETA: 46:3 - ETA: 46:3 - ETA: 46:3 - ETA: 46:3 - ETA: 46:3 - ETA: 46:3 - ETA: 46:3 - ETA: 46:3 - ETA: 46:3 - ETA: 46:3 - ETA: 46:3 - ETA: 46:3 - ETA: 46:3 - ETA: 46:3 - ETA: 46:3 - ETA: 46:3 - ETA: 46:3 - ETA: 46:3 - ETA: 46:3 - ETA: 46:3 - ETA: 46:3 - ETA: 46:3 - ETA: 46:3 - ETA: 46:3 - ETA: 46:3 - ETA: 46:3 - ETA: 46:3 - ETA: 46:3 - ETA: 46:3 - ETA: 46:3 - ETA: 46:3 - ETA: 46:3 - ETA: 46:3 - ETA: 46:3 - ETA: 46:3 - ETA: 46:3 - ETA: 46:3 - ETA: 46:3 - ETA: 46:3 - ETA: 46:3 - ETA: 46:3 - ETA: 46:3 - ETA: 46:3 - ETA: 46:3 - ETA: 46:3 - ETA: 46:3 - ETA: 46:3 - ETA: 46:3 - ETA: 46:3 - ETA: 46:3 - ETA: 46:3 - ETA: 46:3 - ETA: 46:3 - ETA: 46:3 - ETA: 46:3 - ETA: 46:3 - ETA: 46:2 - ETA: 46:3 - ETA: 46:2 - ETA: 46:2 - ETA: 46:3 - ETA: 46:2 - ETA: 46:2 - ETA: 46:2 - ETA: 46:2 - ETA: 46:2 - ETA: 46:2 - ETA: 46:2 - ETA: 46:2 - ETA: 46:2 - ETA: 46:2 - ETA: 46:2 - ETA: 46:2 - ETA: 46:2 - ETA: 46:2 - ETA: 46:2 - ETA: 46:2 - ETA: 46:2 - ETA: 46:2 - ETA: 46:2 - ETA: 46:2 - ETA: 46:2 - ETA: 46:2 - ETA: 46:2 - ETA: 46:2 - ETA: 46:2 - ETA: 46:2 - ETA: 46:2 - ETA: 46:2 - ETA: 46:2 - ETA: 46:2 - ETA: 46:2 - ETA: 46:2 - ETA: 46:2 - ETA: 46:2 - ETA: 46:2 - ETA: 46:2 - ETA: 46:2 - ETA: 46:2 - ETA: 46:2 - ETA: 46:2 - ETA: 46:2 - ETA: 46:2 - ETA: 46:2 - ETA: 46:2 - ETA: 46:2 - ETA: 46:2 - ETA: 46:2 - ETA: 46:2 - ETA: 46:2 - ETA: 46:2 - ETA: 46:2 - ETA: 46:2 - ETA: 46:2 - ETA: 46:2 - ETA: 46:2 - ETA: 46:2 - ETA: 46:2 - ETA: 46:2 - ETA: 46:2 - ETA: 46:2 - ETA: 46:2 - ETA: 46:2 - ETA: 46:2 - ETA: 46:2 - ETA: 46:2 - ETA: 46:2 - ETA: 46:2 - ETA: 46:2 - ETA: 46:2 - ETA: 46:2 - ETA: 46:2 - ETA: 46:2 - ETA: 46:2 - ETA: 46:2 - ETA: 46:2 - ETA: 46:2 - ETA: 46:2 - ETA: 46:2 - ETA: 46:2 - ETA: 46:2 - ETA: 46:2 - ETA: 46:2 - ETA: 46:2 - ETA: 46:2 - ETA: 46:2 - ETA: 46:2 - ETA: 46:2 - ETA: 46:2 - ETA: 46:2 - ETA: 46:2 - ETA: 46:2 - ETA: 46:2 - ETA: 46:2 - ETA: 46:2 - ETA: 46:2 - ETA: 46:2 - ETA: 46:2 - ETA: 46:2 - ETA: 46:2 - ETA: 46:2 - ETA: 46:2 - ETA: 46:2 - ETA: 46:2 - ETA: 46:2 - ETA: 46:1 - ETA: 46:1 - ETA: 46:1 - ETA: 46:1 - ETA: 46:1 - ETA: 46:1 - ETA: 46:1 - ETA: 46:1 - ETA: 46:1 - ETA: 46:1 - ETA: 46:1 - ETA: 46:1 - ETA: 46:1 - ETA: 46:1 - ETA: 46:1 - ETA: 46:1 - ETA: 46:1 - ETA: 46:1 - ETA: 46:1 - ETA: 46:1 - ETA: 46:1 - ETA: 46:1 - ETA: 46:1 - ETA: 46:1 - ETA: 46:1 - ETA: 46:1 - ETA: 46:1 - ETA: 46:1 - ETA: 46:1 - ETA: 46:1 - ETA: 46:1 - ETA: 46:1 - ETA: 46:1 - ETA: 46:1 - ETA: 46:1 - ETA: 46:1 - ETA: 46:1 - ETA: 46:1 - ETA: 46:1 - ETA: 46:1 - ETA: 46:1 - ETA: 46:15 59400192/580070376 [==>...........................] - ETA: 46:1 - ETA: 46:1 - ETA: 46:1 - ETA: 46:1 - ETA: 46:1 - ETA: 46:1 - ETA: 46:1 - ETA: 46:1 - ETA: 46:1 - ETA: 46:1 - ETA: 46:1 - ETA: 46:1 - ETA: 46:1 - ETA: 46:1 - ETA: 46:1 - ETA: 46:1 - ETA: 46:1 - ETA: 46:1 - ETA: 46:1 - ETA: 46:1 - ETA: 46:1 - ETA: 46:1 - ETA: 46:1 - ETA: 46:1 - ETA: 46:1 - ETA: 46:1 - ETA: 46:1 - ETA: 46:1 - ETA: 46:1 - ETA: 46:1 - ETA: 46:1 - ETA: 46:1 - ETA: 46:1 - ETA: 46:1 - ETA: 46:1 - ETA: 46:1 - ETA: 46:1 - ETA: 46:1 - ETA: 46:1 - ETA: 46:1 - ETA: 46:1 - ETA: 46:1 - ETA: 46:1 - ETA: 46:1 - ETA: 46:1 - ETA: 46:1 - ETA: 46:1 - ETA: 46:1 - ETA: 46:1 - ETA: 46:1 - ETA: 46:1 - ETA: 46:1 - ETA: 46:1 - ETA: 46:1 - ETA: 46:1 - ETA: 46:1 - ETA: 46:1 - ETA: 46:1 - ETA: 46:0 - ETA: 46:1 - ETA: 46:1 - ETA: 46:1 - ETA: 46:0 - ETA: 46:0 - ETA: 46:1 - ETA: 46:0 - ETA: 46:0 - ETA: 46:0 - ETA: 46:0 - ETA: 46:0 - ETA: 46:0 - ETA: 46:0 - ETA: 46:0 - ETA: 46:0 - ETA: 46:0 - ETA: 46:0 - ETA: 46:0 - ETA: 46:0 - ETA: 46:0 - ETA: 46:0 - ETA: 46:0 - ETA: 46:0 - ETA: 46:0 - ETA: 46:0 - ETA: 46:0 - ETA: 46:0 - ETA: 46:0 - ETA: 46:0 - ETA: 46:0 - ETA: 46:0 - ETA: 46:0 - ETA: 46:0 - ETA: 46:0 - ETA: 46:0 - ETA: 46:0 - ETA: 46:0 - ETA: 46:0 - ETA: 46:0 - ETA: 46:0 - ETA: 46:0 - ETA: 46:0 - ETA: 46:0 - ETA: 46:0 - ETA: 46:0 - ETA: 46:0 - ETA: 46:0 - ETA: 46:0 - ETA: 46:0 - ETA: 46:0 - ETA: 46:0 - ETA: 46:0 - ETA: 46:0 - ETA: 46:0 - ETA: 46:0 - ETA: 46:0 - ETA: 46:0 - ETA: 46:0 - ETA: 46:0 - ETA: 46:0 - ETA: 46:0 - ETA: 46:0 - ETA: 46:0 - ETA: 46:0 - ETA: 46:0 - ETA: 46:0 - ETA: 46:0 - ETA: 46:0 - ETA: 46:0 - ETA: 46:0 - ETA: 46:0 - ETA: 46:0 - ETA: 46:0 - ETA: 46:0 - ETA: 46:0 - ETA: 46:0 - ETA: 46:0 - ETA: 46:0 - ETA: 46:0 - ETA: 46:0 - ETA: 46:0 - ETA: 46:0 - ETA: 46:0 - ETA: 46:0 - ETA: 46:0 - ETA: 46:0 - ETA: 46:0 - ETA: 46:0 - ETA: 46:0 - ETA: 46:0 - ETA: 46:0 - ETA: 46:0 - ETA: 46:0 - ETA: 46:0 - ETA: 46:0 - ETA: 46:0 - ETA: 46:0 - ETA: 46:0 - ETA: 46:0 - ETA: 46:0 - ETA: 45:5 - ETA: 45:5 - ETA: 45:5 - ETA: 45:5 - ETA: 45:5 - ETA: 45:5 - ETA: 45:5 - ETA: 45:5 - ETA: 45:5 - ETA: 45:5 - ETA: 45:5 - ETA: 45:5 - ETA: 45:5 - ETA: 45:5 - ETA: 45:5 - ETA: 45:5 - ETA: 45:5 - ETA: 45:5 - ETA: 45:5 - ETA: 45:5 - ETA: 45:5 - ETA: 45:5 - ETA: 45:5 - ETA: 45:5 - ETA: 45:5 - ETA: 45:5 - ETA: 45:5 - ETA: 45:5 - ETA: 45:5 - ETA: 45:5 - ETA: 45:5 - ETA: 45:5 - ETA: 45:5 - ETA: 45:5 - ETA: 45:5 - ETA: 45:5 - ETA: 45:5 - ETA: 45:5 - ETA: 45:5 - ETA: 45:5 - ETA: 45:5 - ETA: 45:5 - ETA: 45:5 - ETA: 45:5 - ETA: 45:5 - ETA: 45:5 - ETA: 45:5 - ETA: 45:5 - ETA: 45:5 - ETA: 45:5 - ETA: 45:5 - ETA: 45:5 - ETA: 45:5 - ETA: 45:5 - ETA: 45:5 - ETA: 45:5 - ETA: 45:5 - ETA: 45:5 - ETA: 45:5 - ETA: 45:5 - ETA: 45:5 - ETA: 45:5 - ETA: 45:5 - ETA: 45:5 - ETA: 45:5 - ETA: 45:5 - ETA: 45:5 - ETA: 45:5 - ETA: 45:5 - ETA: 45:5 - ETA: 45:5 - ETA: 45:5 - ETA: 45:5 - ETA: 45:5 - ETA: 45:5 - ETA: 45:5 - ETA: 45:5 - ETA: 45:5 - ETA: 45:5 - ETA: 45:5 - ETA: 45:5 - ETA: 45:5 - ETA: 45:5 - ETA: 45:5 - ETA: 45:5 - ETA: 45:5 - ETA: 45:5 - ETA: 45:5 - ETA: 45:5 - ETA: 45:5 - ETA: 45:5 - ETA: 45:5 - ETA: 45:5 - ETA: 45:5 - ETA: 45:5 - ETA: 45:5 - ETA: 45:4 - ETA: 45:4 - ETA: 45:4 - ETA: 45:4 - ETA: 45:4 - ETA: 45:4 - ETA: 45:4 - ETA: 45:4 - ETA: 45:4 - ETA: 45:4 - ETA: 45:4 - ETA: 45:4 - ETA: 45:4 - ETA: 45:4 - ETA: 45:4 - ETA: 45:4 - ETA: 45:4 - ETA: 45:4 - ETA: 45:4 - ETA: 45:4 - ETA: 45:4 - ETA: 45:4 - ETA: 45:4 - ETA: 45:4 - ETA: 45:4 - ETA: 45:4 - ETA: 45:4 - ETA: 45:4 - ETA: 45:4 - ETA: 45:4 - ETA: 45:4 - ETA: 45:4 - ETA: 45:4 - ETA: 45:4 - ETA: 45:4 - ETA: 45:4 - ETA: 45:4 - ETA: 45:4 - ETA: 45:4 - ETA: 45:4 - ETA: 45:4 - ETA: 45:4 - ETA: 45:4 - ETA: 45:4 - ETA: 45:4 - ETA: 45:4 - ETA: 45:4 - ETA: 45:4 - ETA: 45:4 - ETA: 45:4 - ETA: 45:4 - ETA: 45:4 - ETA: 45:4 - ETA: 45:4 - ETA: 45:4 - ETA: 45:4 - ETA: 45:4 - ETA: 45:4 - ETA: 45:4 - ETA: 45:4 - ETA: 45:4 - ETA: 45:4 - ETA: 45:4 - ETA: 45:4 - ETA: 45:4 - ETA: 45:4 - ETA: 45:4 - ETA: 45:4 - ETA: 45:4 - ETA: 45:4 - ETA: 45:4 - ETA: 45:4 - ETA: 45:4 - ETA: 45:4 - ETA: 45:4 - ETA: 45:4 - ETA: 45:4 - ETA: 45:4 - ETA: 45:4 - ETA: 45:4 - ETA: 45:4 - ETA: 45:4 - ETA: 45:4 - ETA: 45:4 - ETA: 45:4 - ETA: 45:4 - ETA: 45:4 - ETA: 45:4 - ETA: 45:4 - ETA: 45:4 - ETA: 45:4 - ETA: 45:4 - ETA: 45:4 - ETA: 45:4 - ETA: 45:4 - ETA: 45:4 - ETA: 45:4 - ETA: 45:4 - ETA: 45:4 - ETA: 45:4 - ETA: 45:4 - ETA: 45:4 - ETA: 45:4 - ETA: 45:4 - ETA: 45:4 - ETA: 45:4 - ETA: 45:4 - ETA: 45:4 - ETA: 45:4 - ETA: 45:3 - ETA: 45:3 - ETA: 45:3 - ETA: 45:3 - ETA: 45:3 - ETA: 45:3 - ETA: 45:3 - ETA: 45:3 - ETA: 45:3 - ETA: 45:3 - ETA: 45:3 - ETA: 45:3 - ETA: 45:3 - ETA: 45:3 - ETA: 45:3 - ETA: 45:3 - ETA: 45:3 - ETA: 45:3 - ETA: 45:3 - ETA: 45:3 - ETA: 45:3 - ETA: 45:3 - ETA: 45:3 - ETA: 45:3 - ETA: 45:3 - ETA: 45:3 - ETA: 45:3 - ETA: 45:3 - ETA: 45:3 - ETA: 45:3 - ETA: 45:3 - ETA: 45:3 - ETA: 45:3 - ETA: 45:3 - ETA: 45:3 - ETA: 45:3 - ETA: 45:3 - ETA: 45:3 - ETA: 45:3 - ETA: 45:3 - ETA: 45:3 - ETA: 45:3 - ETA: 45:3 - ETA: 45:3 - ETA: 45:3 - ETA: 45:3 - ETA: 45:3 - ETA: 45:3 - ETA: 45:3 - ETA: 45:3 - ETA: 45:3 - ETA: 45:3 - ETA: 45:3 - ETA: 45:3 - ETA: 45:3 - ETA: 45:3 - ETA: 45:3 - ETA: 45:3 - ETA: 45:3 - ETA: 45:3 - ETA: 45:3 - ETA: 45:3 - ETA: 45:3 - ETA: 45:3 - ETA: 45:3 - ETA: 45:3 - ETA: 45:3 - ETA: 45:3 - ETA: 45:3 - ETA: 45:3 - ETA: 45:3 - ETA: 45:3 - ETA: 45:3 - ETA: 45:3 - ETA: 45:3 - ETA: 45:3 - ETA: 45:3 - ETA: 45:3 - ETA: 45:3 - ETA: 45:3 - ETA: 45:3 - ETA: 45:3 - ETA: 45:3 - ETA: 45:3 - ETA: 45:3 - ETA: 45:3 - ETA: 45:3 - ETA: 45:3 - ETA: 45:3 - ETA: 45:3 - ETA: 45:3 - ETA: 45:3 - ETA: 45:3 - ETA: 45:3 - ETA: 45:3 - ETA: 45:3 - ETA: 45:3 - ETA: 45:3 - ETA: 45:3 - ETA: 45:3 - ETA: 45:3 - ETA: 45:2 - ETA: 45:2 - ETA: 45:2 - ETA: 45:2 - ETA: 45:2 - ETA: 45:2 - ETA: 45:2 - ETA: 45:2 - ETA: 45:2 - ETA: 45:2 - ETA: 45:2 - ETA: 45:2 - ETA: 45:2 - ETA: 45:2 - ETA: 45:2 - ETA: 45:2 - ETA: 45:2 - ETA: 45:2 - ETA: 45:2 - ETA: 45:2 - ETA: 45:2 - ETA: 45:2 - ETA: 45:2 - ETA: 45:2 - ETA: 45:2 - ETA: 45:2 - ETA: 45:2 - ETA: 45:2 - ETA: 45:2 - ETA: 45:2 - ETA: 45:2 - ETA: 45:2 - ETA: 45:2 - ETA: 45:2 - ETA: 45:2 - ETA: 45:2 - ETA: 45:2 - ETA: 45:2 - ETA: 45:2 - ETA: 45:2 - ETA: 45:2 - ETA: 45:2 - ETA: 45:2 - ETA: 45:2 - ETA: 45:2 - ETA: 45:2 - ETA: 45:2 - ETA: 45:2 - ETA: 45:2 - ETA: 45:2 - ETA: 45:2 - ETA: 45:2 - ETA: 45:2 - ETA: 45:2 - ETA: 45:2 - ETA: 45:2 - ETA: 45:2 - ETA: 45:2 - ETA: 45:2 - ETA: 45:2 - ETA: 45:2 - ETA: 45:2 - ETA: 45:2 - ETA: 45:2 - ETA: 45:2 - ETA: 45:2 - ETA: 45:2 - ETA: 45:2 - ETA: 45:2 - ETA: 45:2 - ETA: 45:2 - ETA: 45:2 - ETA: 45:2 - ETA: 45:2 - ETA: 45:2 - ETA: 45:2 - ETA: 45:2 - ETA: 45:2 - ETA: 45:2 - ETA: 45:2 - ETA: 45:2 - ETA: 45:2 - ETA: 45:2 - ETA: 45:2 - ETA: 45:2 - ETA: 45:2 - ETA: 45:2 - ETA: 45:2 - ETA: 45:2 - ETA: 45:2 - ETA: 45:2 - ETA: 45:2 - ETA: 45:2 - ETA: 45:2 - ETA: 45:2 - ETA: 45:2 - ETA: 45:2 - ETA: 45:2 - ETA: 45:2 - ETA: 45:2 - ETA: 45:2 - ETA: 45:2 - ETA: 45:2 - ETA: 45:2 - ETA: 45:2 - ETA: 45:2 - ETA: 45:1 - ETA: 45:1 - ETA: 45:1 - ETA: 45:1 - ETA: 45:1 - ETA: 45:1 - ETA: 45:1 - ETA: 45:1 - ETA: 45:1 - ETA: 45:1 - ETA: 45:1 - ETA: 45:1 - ETA: 45:1 - ETA: 45:1 - ETA: 45:1 - ETA: 45:1 - ETA: 45:1 - ETA: 45:1 - ETA: 45:1 - ETA: 45:1 - ETA: 45:1 - ETA: 45:1 - ETA: 45:1 - ETA: 45:1 - ETA: 45:1 - ETA: 45:1 - ETA: 45:1 - ETA: 45:1 - ETA: 45:1 - ETA: 45:1 - ETA: 45:1 - ETA: 45:1 - ETA: 45:1 - ETA: 45:1 - ETA: 45:1 - ETA: 45:1 - ETA: 45:1 - ETA: 45:1 - ETA: 45:1 - ETA: 45:1 - ETA: 45:1 - ETA: 45:1 - ETA: 45:1 - ETA: 45:1 - ETA: 45:1 - ETA: 45:1 - ETA: 45:1 - ETA: 45:1 - ETA: 45:1 - ETA: 45:1 - ETA: 45:1 - ETA: 45:1 - ETA: 45:1 - ETA: 45:1 - ETA: 45:1 - ETA: 45:1 - ETA: 45:1 - ETA: 45:1 - ETA: 45:1 - ETA: 45:1 - ETA: 45:1 - ETA: 45:1 - ETA: 45:1 - ETA: 45:1 - ETA: 45:1 - ETA: 45:1 - ETA: 45:1 - ETA: 45:1 - ETA: 45:1 - ETA: 45:1 - ETA: 45:1 - ETA: 45:1 - ETA: 45:1 - ETA: 45:1 - ETA: 45:1 - ETA: 45:1 - ETA: 45:1 - ETA: 45:1 - ETA: 45:1 - ETA: 45:1 - ETA: 45:1 - ETA: 45:1 - ETA: 45:1 - ETA: 45:1 - ETA: 45:1 - ETA: 45:1 - ETA: 45:1 - ETA: 45:1 - ETA: 45:1 - ETA: 45:1 - ETA: 45:1 - ETA: 45:1 - ETA: 45:1 - ETA: 45:1 - ETA: 45:1 - ETA: 45:1 - ETA: 45:1 - ETA: 45:1 - ETA: 45:1 - ETA: 45:1 - ETA: 45:1 - ETA: 45:0 - ETA: 45:0 - ETA: 45:0 - ETA: 45:0 - ETA: 45:0 - ETA: 45:0 - ETA: 45:09 71254016/580070376 [==>...........................] - ETA: 45:0 - ETA: 45:0 - ETA: 45:0 - ETA: 45:0 - ETA: 45:0 - ETA: 45:0 - ETA: 45:0 - ETA: 45:0 - ETA: 45:0 - ETA: 45:0 - ETA: 45:0 - ETA: 45:0 - ETA: 45:0 - ETA: 45:0 - ETA: 45:0 - ETA: 45:0 - ETA: 45:0 - ETA: 45:0 - ETA: 45:0 - ETA: 45:0 - ETA: 45:0 - ETA: 45:0 - ETA: 45:1 - ETA: 45:1 - ETA: 45:1 - ETA: 45:1 - ETA: 45:1 - ETA: 45:1 - ETA: 45:1 - ETA: 45:1 - ETA: 45:1 - ETA: 45:1 - ETA: 45:0 - ETA: 45:0 - ETA: 45:0 - ETA: 45:0 - ETA: 45:0 - ETA: 45:0 - ETA: 45:0 - ETA: 45:0 - ETA: 45:0 - ETA: 45:0 - ETA: 45:0 - ETA: 45:0 - ETA: 45:0 - ETA: 45:0 - ETA: 45:0 - ETA: 45:0 - ETA: 45:0 - ETA: 45:0 - ETA: 45:0 - ETA: 45:0 - ETA: 45:0 - ETA: 45:0 - ETA: 45:0 - ETA: 45:0 - ETA: 45:0 - ETA: 45:0 - ETA: 45:0 - ETA: 45:0 - ETA: 45:0 - ETA: 45:0 - ETA: 45:0 - ETA: 45:0 - ETA: 45:0 - ETA: 45:0 - ETA: 45:0 - ETA: 45:0 - ETA: 45:0 - ETA: 45:0 - ETA: 45:0 - ETA: 45:0 - ETA: 45:0 - ETA: 45:0 - ETA: 45:0 - ETA: 45:0 - ETA: 45:0 - ETA: 45:0 - ETA: 45:0 - ETA: 45:0 - ETA: 45:0 - ETA: 45:0 - ETA: 45:0 - ETA: 45:0 - ETA: 45:0 - ETA: 45:0 - ETA: 45:0 - ETA: 45:0 - ETA: 45:0 - ETA: 45:1 - ETA: 45:1 - ETA: 45:1 - ETA: 45:1 - ETA: 45:1 - ETA: 45:1 - ETA: 45:1 - ETA: 45:1 - ETA: 45:1 - ETA: 45:1 - ETA: 45:1 - ETA: 45:1 - ETA: 45:1 - ETA: 45:1 - ETA: 45:1 - ETA: 45:1 - ETA: 45:1 - ETA: 45:1 - ETA: 45:1 - ETA: 45:1 - ETA: 45:1 - ETA: 45:1 - ETA: 45:0 - ETA: 45:0 - ETA: 45:0 - ETA: 45:0 - ETA: 45:0 - ETA: 45:0 - ETA: 45:0 - ETA: 45:0 - ETA: 45:0 - ETA: 45:0 - ETA: 45:0 - ETA: 45:0 - ETA: 45:0 - ETA: 45:0 - ETA: 45:0 - ETA: 45:0 - ETA: 45:0 - ETA: 45:0 - ETA: 45:0 - ETA: 45:0 - ETA: 45:0 - ETA: 45:0 - ETA: 45:0 - ETA: 45:0 - ETA: 45:0 - ETA: 45:0 - ETA: 45:0 - ETA: 45:0 - ETA: 45:0 - ETA: 45:0 - ETA: 45:0 - ETA: 45:0 - ETA: 45:0 - ETA: 45:0 - ETA: 45:0 - ETA: 45:0 - ETA: 45:0 - ETA: 45:0 - ETA: 45:0 - ETA: 45:1 - ETA: 45:1 - ETA: 45:1 - ETA: 45:1 - ETA: 45:1 - ETA: 45:1 - ETA: 45:1 - ETA: 45:1 - ETA: 45:2 - ETA: 45:2 - ETA: 45:2 - ETA: 45:2 - ETA: 45:2 - ETA: 45:2 - ETA: 45:2 - ETA: 45:2 - ETA: 45:2 - ETA: 45:2 - ETA: 45:3 - ETA: 45:3 - ETA: 45:3 - ETA: 45:3 - ETA: 45:3 - ETA: 45:3 - ETA: 45:3 - ETA: 45:3 - ETA: 45:3 - ETA: 45:3 - ETA: 45:3 - ETA: 45:3 - ETA: 45:3 - ETA: 45:3 - ETA: 45:3 - ETA: 45:3 - ETA: 45:3 - ETA: 45:3 - ETA: 45:3 - ETA: 45:3 - ETA: 45:3 - ETA: 45:3 - ETA: 45:3 - ETA: 45:3 - ETA: 45:3 - ETA: 45:3 - ETA: 45:3 - ETA: 45:3 - ETA: 45:3 - ETA: 45:3 - ETA: 45:3 - ETA: 45:3 - ETA: 45:3 - ETA: 45:3 - ETA: 45:3 - ETA: 45:3 - ETA: 45:3 - ETA: 45:3 - ETA: 45:3 - ETA: 45:3 - ETA: 45:3 - ETA: 45:3 - ETA: 45:3 - ETA: 45:3 - ETA: 45:3 - ETA: 45:3 - ETA: 45:3 - ETA: 45:3 - ETA: 45:2 - ETA: 45:2 - ETA: 45:2 - ETA: 45:2 - ETA: 45:2 - ETA: 45:2 - ETA: 45:2 - ETA: 45:2 - ETA: 45:2 - ETA: 45:2 - ETA: 45:2 - ETA: 45:2 - ETA: 45:2 - ETA: 45:2 - ETA: 45:2 - ETA: 45:2 - ETA: 45:2 - ETA: 45:2 - ETA: 45:2 - ETA: 45:2 - ETA: 45:2 - ETA: 45:2 - ETA: 45:2 - ETA: 45:2 - ETA: 45:2 - ETA: 45:2 - ETA: 45:2 - ETA: 45:2 - ETA: 45:2 - ETA: 45:2 - ETA: 45:2 - ETA: 45:2 - ETA: 45:2 - ETA: 45:2 - ETA: 45:2 - ETA: 45:2 - ETA: 45:2 - ETA: 45:2 - ETA: 45:2 - ETA: 45:2 - ETA: 45:2 - ETA: 45:2 - ETA: 45:2 - ETA: 45:2 - ETA: 45:2 - ETA: 45:2 - ETA: 45:2 - ETA: 45:2 - ETA: 45:2 - ETA: 45:2 - ETA: 45:2 - ETA: 45:2 - ETA: 45:2 - ETA: 45:2 - ETA: 45:2 - ETA: 45:2 - ETA: 45:2 - ETA: 45:2 - ETA: 45:2 - ETA: 45:2 - ETA: 45:2 - ETA: 45:2 - ETA: 45:2 - ETA: 45:2 - ETA: 45:2 - ETA: 45:2 - ETA: 45:2 - ETA: 45:2 - ETA: 45:2 - ETA: 45:2 - ETA: 45:2 - ETA: 45:2 - ETA: 45:2 - ETA: 45:2 - ETA: 45:2 - ETA: 45:2 - ETA: 45:2 - ETA: 45:2 - ETA: 45:2 - ETA: 45:2 - ETA: 45:2 - ETA: 45:2 - ETA: 45:2 - ETA: 45:2 - ETA: 45:2 - ETA: 45:2 - ETA: 45:2 - ETA: 45:2 - ETA: 45:2 - ETA: 45:2 - ETA: 45:2 - ETA: 45:2 - ETA: 45:2 - ETA: 45:2 - ETA: 45:2 - ETA: 45:2 - ETA: 45:2 - ETA: 45:2 - ETA: 45:2 - ETA: 45:2 - ETA: 45:2 - ETA: 45:3 - ETA: 45:3 - ETA: 45:3 - ETA: 45:3 - ETA: 45:3 - ETA: 45:3 - ETA: 45:3 - ETA: 45:3 - ETA: 45:3 - ETA: 45:3 - ETA: 45:3 - ETA: 45:3 - ETA: 45:3 - ETA: 45:3 - ETA: 45:3 - ETA: 45:3 - ETA: 45:3 - ETA: 45:4 - ETA: 45:4 - ETA: 45:4 - ETA: 45:4 - ETA: 45:4 - ETA: 45:4 - ETA: 45:4 - ETA: 45:4 - ETA: 45:4 - ETA: 45:4 - ETA: 45:4 - ETA: 45:4 - ETA: 45:4 - ETA: 45:4 - ETA: 45:4 - ETA: 45:4 - ETA: 45:4 - ETA: 45:5 - ETA: 45:5 - ETA: 45:5 - ETA: 45:5 - ETA: 45:5 - ETA: 45:5 - ETA: 45:5 - ETA: 45:5 - ETA: 45:5 - ETA: 45:5 - ETA: 45:5 - ETA: 45:5 - ETA: 45:5 - ETA: 45:5 - ETA: 45:5 - ETA: 45:5 - ETA: 45:5 - ETA: 45:5 - ETA: 45:5 - ETA: 46:0 - ETA: 46:0 - ETA: 46:0 - ETA: 46:0 - ETA: 46:0 - ETA: 46:0 - ETA: 46:0 - ETA: 46:0 - ETA: 46:0 - ETA: 46:0 - ETA: 46:0 - ETA: 46:0 - ETA: 46:0 - ETA: 46:0 - ETA: 46:0 - ETA: 46:0 - ETA: 46:0 - ETA: 46:0 - ETA: 45:5 - ETA: 45:5 - ETA: 45:5 - ETA: 45:5 - ETA: 45:5 - ETA: 45:5 - ETA: 45:5 - ETA: 45:5 - ETA: 45:5 - ETA: 45:5 - ETA: 45:5 - ETA: 45:5 - ETA: 45:5 - ETA: 45:5 - ETA: 45:5 - ETA: 45:5 - ETA: 45:5 - ETA: 45:5 - ETA: 45:5 - ETA: 45:5 - ETA: 45:5 - ETA: 45:5 - ETA: 45:5 - ETA: 45:5 - ETA: 45:5 - ETA: 45:5 - ETA: 45:5 - ETA: 45:5 - ETA: 45:5 - ETA: 45:5 - ETA: 45:5 - ETA: 45:5 - ETA: 45:5 - ETA: 45:5 - ETA: 45:5 - ETA: 45:5 - ETA: 45:5 - ETA: 45:5 - ETA: 45:5 - ETA: 45:5 - ETA: 45:5 - ETA: 45:5 - ETA: 45:5 - ETA: 45:5 - ETA: 45:5 - ETA: 45:5 - ETA: 45:5 - ETA: 45:5 - ETA: 45:5 - ETA: 45:5 - ETA: 45:5 - ETA: 45:5 - ETA: 45:5 - ETA: 45:5 - ETA: 45:5 - ETA: 45:5 - ETA: 45:5 - ETA: 45:5 - ETA: 45:5 - ETA: 45:5 - ETA: 45:5 - ETA: 45:5 - ETA: 45:5 - ETA: 45:5 - ETA: 45:5 - ETA: 45:5 - ETA: 45:5 - ETA: 45:5 - ETA: 45:5 - ETA: 45:5 - ETA: 45:5 - ETA: 45:5 - ETA: 45:5 - ETA: 45:5 - ETA: 45:5 - ETA: 45:5 - ETA: 45:5 - ETA: 45:5 - ETA: 45:5 - ETA: 45:5 - ETA: 45:5 - ETA: 45:5 - ETA: 45:5 - ETA: 45:4 - ETA: 45:5 - ETA: 45:4 - ETA: 45:4 - ETA: 45:4 - ETA: 45:4 - ETA: 45:4 - ETA: 45:4 - ETA: 45:4 - ETA: 45:4 - ETA: 45:4 - ETA: 45:4 - ETA: 45:4 - ETA: 45:4 - ETA: 45:4 - ETA: 45:4 - ETA: 45:4 - ETA: 45:4 - ETA: 45:4 - ETA: 45:4 - ETA: 45:4 - ETA: 45:4 - ETA: 45:4 - ETA: 45:4 - ETA: 45:4 - ETA: 45:4 - ETA: 45:4 - ETA: 45:4 - ETA: 45:4 - ETA: 45:4 - ETA: 45:4 - ETA: 45:4 - ETA: 45:4 - ETA: 45:4 - ETA: 45:4 - ETA: 45:4 - ETA: 45:4 - ETA: 45:4 - ETA: 45:4 - ETA: 45:4 - ETA: 45:4 - ETA: 45:4 - ETA: 45:4 - ETA: 45:4 - ETA: 45:4 - ETA: 45:4 - ETA: 45:4 - ETA: 45:4 - ETA: 45:4 - ETA: 45:4 - ETA: 45:4 - ETA: 45:4 - ETA: 45:4 - ETA: 45:4 - ETA: 45:4 - ETA: 45:4 - ETA: 45:4 - ETA: 45:4 - ETA: 45:4 - ETA: 45:4 - ETA: 45:4 - ETA: 45:4 - ETA: 45:4 - ETA: 45:4 - ETA: 45:4 - ETA: 45:4 - ETA: 45:4 - ETA: 45:4 - ETA: 45:4 - ETA: 45:4 - ETA: 45:4 - ETA: 45:4 - ETA: 45:4 - ETA: 45:4 - ETA: 45:4 - ETA: 45:4 - ETA: 45:4 - ETA: 45:4 - ETA: 45:4 - ETA: 45:4 - ETA: 45:4 - ETA: 45:4 - ETA: 45:4 - ETA: 45:4 - ETA: 45:4 - ETA: 45:3 - ETA: 45:3 - ETA: 45:3 - ETA: 45:3 - ETA: 45:3 - ETA: 45:3 - ETA: 45:3 - ETA: 45:3 - ETA: 45:3 - ETA: 45:3 - ETA: 45:3 - ETA: 45:3 - ETA: 45:3 - ETA: 45:3 - ETA: 45:3 - ETA: 45:3 - ETA: 45:3 - ETA: 45:3 - ETA: 45:3 - ETA: 45:3 - ETA: 45:3 - ETA: 45:3 - ETA: 45:3 - ETA: 45:3 - ETA: 45:3 - ETA: 45:3 - ETA: 45:3 - ETA: 45:3 - ETA: 45:3 - ETA: 45:3 - ETA: 45:3 - ETA: 45:3 - ETA: 45:3 - ETA: 45:3 - ETA: 45:3 - ETA: 45:3 - ETA: 45:3 - ETA: 45:3 - ETA: 45:3 - ETA: 45:3 - ETA: 45:3 - ETA: 45:3 - ETA: 45:3 - ETA: 45:3 - ETA: 45:3 - ETA: 45:3 - ETA: 45:3 - ETA: 45:3 - ETA: 45:3 - ETA: 45:3 - ETA: 45:3 - ETA: 45:3 - ETA: 45:3 - ETA: 45:3 - ETA: 45:3 - ETA: 45:3 - ETA: 45:3 - ETA: 45:3 - ETA: 45:3 - ETA: 45:3 - ETA: 45:3 - ETA: 45:3 - ETA: 45:3 - ETA: 45:3 - ETA: 45:3 - ETA: 45:3 - ETA: 45:3 - ETA: 45:3 - ETA: 45:3 - ETA: 45:3 - ETA: 45:3 - ETA: 45:3 - ETA: 45:3 - ETA: 45:3 - ETA: 45:3 - ETA: 45:3 - ETA: 45:3 - ETA: 45:3 - ETA: 45:3 - ETA: 45:3 - ETA: 45:3 - ETA: 45:2 - ETA: 45:2 - ETA: 45:2 - ETA: 45:2 - ETA: 45:2 - ETA: 45:2 - ETA: 45:2 - ETA: 45:2 - ETA: 45:2 - ETA: 45:2 - ETA: 45:2 - ETA: 45:2 - ETA: 45:2 - ETA: 45:2 - ETA: 45:2 - ETA: 45:2 - ETA: 45:2 - ETA: 45:2 - ETA: 45:2 - ETA: 45:2 - ETA: 45:2 - ETA: 45:2 - ETA: 45:2 - ETA: 45:2 - ETA: 45:2 - ETA: 45:2 - ETA: 45:2 - ETA: 45:2 - ETA: 45:2 - ETA: 45:2 - ETA: 45:2 - ETA: 45:2 - ETA: 45:2 - ETA: 45:2 - ETA: 45:2 - ETA: 45:2 - ETA: 45:2 - ETA: 45:2 - ETA: 45:2 - ETA: 45:2 - ETA: 45:2 - ETA: 45:25 83165184/580070376 [===>..........................] - ETA: 45:2 - ETA: 45:2 - ETA: 45:2 - ETA: 45:2 - ETA: 45:2 - ETA: 45:2 - ETA: 45:2 - ETA: 45:2 - ETA: 45:2 - ETA: 45:2 - ETA: 45:2 - ETA: 45:2 - ETA: 45:2 - ETA: 45:2 - ETA: 45:2 - ETA: 45:2 - ETA: 45:2 - ETA: 45:2 - ETA: 45:2 - ETA: 45:2 - ETA: 45:2 - ETA: 45:2 - ETA: 45:2 - ETA: 45:2 - ETA: 45:2 - ETA: 45:2 - ETA: 45:2 - ETA: 45:2 - ETA: 45:2 - ETA: 45:2 - ETA: 45:2 - ETA: 45:2 - ETA: 45:2 - ETA: 45:2 - ETA: 45:2 - ETA: 45:2 - ETA: 45:2 - ETA: 45:2 - ETA: 45:2 - ETA: 45:2 - ETA: 45:2 - ETA: 45:2 - ETA: 45:1 - ETA: 45:1 - ETA: 45:1 - ETA: 45:1 - ETA: 45:1 - ETA: 45:1 - ETA: 45:1 - ETA: 45:1 - ETA: 45:1 - ETA: 45:1 - ETA: 45:1 - ETA: 45:1 - ETA: 45:1 - ETA: 45:1 - ETA: 45:1 - ETA: 45:1 - ETA: 45:1 - ETA: 45:1 - ETA: 45:1 - ETA: 45:1 - ETA: 45:1 - ETA: 45:1 - ETA: 45:1 - ETA: 45:1 - ETA: 45:1 - ETA: 45:1 - ETA: 45:1 - ETA: 45:1 - ETA: 45:1 - ETA: 45:1 - ETA: 45:1 - ETA: 45:1 - ETA: 45:1 - ETA: 45:1 - ETA: 45:1 - ETA: 45:1 - ETA: 45:1 - ETA: 45:1 - ETA: 45:1 - ETA: 45:1 - ETA: 45:1 - ETA: 45:1 - ETA: 45:1 - ETA: 45:1 - ETA: 45:1 - ETA: 45:1 - ETA: 45:1 - ETA: 45:1 - ETA: 45:1 - ETA: 45:1 - ETA: 45:1 - ETA: 45:1 - ETA: 45:1 - ETA: 45:1 - ETA: 45:1 - ETA: 45:1 - ETA: 45:1 - ETA: 45:1 - ETA: 45:1 - ETA: 45:1 - ETA: 45:1 - ETA: 45:1 - ETA: 45:1 - ETA: 45:1 - ETA: 45:1 - ETA: 45:1 - ETA: 45:1 - ETA: 45:1 - ETA: 45:1 - ETA: 45:1 - ETA: 45:1 - ETA: 45:1 - ETA: 45:1 - ETA: 45:1 - ETA: 45:1 - ETA: 45:1 - ETA: 45:1 - ETA: 45:1 - ETA: 45:1 - ETA: 45:1 - ETA: 45:1 - ETA: 45:1 - ETA: 45:1 - ETA: 45:1 - ETA: 45:1 - ETA: 45:1 - ETA: 45:0 - ETA: 45:0 - ETA: 45:0 - ETA: 45:0 - ETA: 45:0 - ETA: 45:1 - ETA: 45:0 - ETA: 45:0 - ETA: 45:0 - ETA: 45:0 - ETA: 45:0 - ETA: 45:0 - ETA: 45:0 - ETA: 45:0 - ETA: 45:0 - ETA: 45:0 - ETA: 45:0 - ETA: 45:0 - ETA: 45:0 - ETA: 45:0 - ETA: 45:0 - ETA: 45:0 - ETA: 45:0 - ETA: 45:0 - ETA: 45:0 - ETA: 45:0 - ETA: 45:0 - ETA: 45:0 - ETA: 45:0 - ETA: 45:0 - ETA: 45:0 - ETA: 45:0 - ETA: 45:0 - ETA: 45:0 - ETA: 45:0 - ETA: 45:0 - ETA: 45:0 - ETA: 45:0 - ETA: 45:0 - ETA: 45:0 - ETA: 45:0 - ETA: 45:0 - ETA: 45:0 - ETA: 45:0 - ETA: 45:0 - ETA: 45:0 - ETA: 45:0 - ETA: 45:0 - ETA: 45:0 - ETA: 45:0 - ETA: 45:0 - ETA: 45:0 - ETA: 45:0 - ETA: 45:0 - ETA: 45:0 - ETA: 45:0 - ETA: 45:0 - ETA: 45:0 - ETA: 45:0 - ETA: 45:0 - ETA: 45:0 - ETA: 45:0 - ETA: 45:0 - ETA: 45:0 - ETA: 45:0 - ETA: 45:0 - ETA: 45:0 - ETA: 45:0 - ETA: 45:0 - ETA: 45:0 - ETA: 45:0 - ETA: 45:0 - ETA: 45:0 - ETA: 45:0 - ETA: 45:0 - ETA: 45:0 - ETA: 45:0 - ETA: 45:0 - ETA: 45:0 - ETA: 45:0 - ETA: 45:0 - ETA: 45:0 - ETA: 45:0 - ETA: 45:0 - ETA: 45:0 - ETA: 45:0 - ETA: 44:5 - ETA: 44:5 - ETA: 44:5 - ETA: 44:5 - ETA: 44:5 - ETA: 44:5 - ETA: 44:5 - ETA: 44:5 - ETA: 44:5 - ETA: 44:5 - ETA: 44:5 - ETA: 44:5 - ETA: 44:5 - ETA: 44:5 - ETA: 44:5 - ETA: 44:5 - ETA: 44:5 - ETA: 44:5 - ETA: 44:5 - ETA: 44:5 - ETA: 44:5 - ETA: 44:5 - ETA: 44:5 - ETA: 44:5 - ETA: 44:5 - ETA: 44:5 - ETA: 44:5 - ETA: 44:5 - ETA: 44:5 - ETA: 44:5 - ETA: 44:5 - ETA: 44:5 - ETA: 44:5 - ETA: 44:5 - ETA: 44:5 - ETA: 44:5 - ETA: 44:5 - ETA: 44:5 - ETA: 44:5 - ETA: 44:5 - ETA: 44:5 - ETA: 44:5 - ETA: 44:5 - ETA: 44:5 - ETA: 44:5 - ETA: 44:5 - ETA: 44:5 - ETA: 44:5 - ETA: 44:5 - ETA: 44:5 - ETA: 44:5 - ETA: 44:5 - ETA: 44:5 - ETA: 44:5 - ETA: 44:5 - ETA: 44:5 - ETA: 44:5 - ETA: 44:5 - ETA: 44:5 - ETA: 44:5 - ETA: 44:5 - ETA: 44:5 - ETA: 44:5 - ETA: 44:5 - ETA: 44:5 - ETA: 44:5 - ETA: 44:5 - ETA: 44:5 - ETA: 44:5 - ETA: 44:5 - ETA: 44:5 - ETA: 44:5 - ETA: 44:5 - ETA: 44:5 - ETA: 44:5 - ETA: 44:5 - ETA: 44:5 - ETA: 44:5 - ETA: 44:5 - ETA: 44:5 - ETA: 44:5 - ETA: 44:5 - ETA: 44:5 - ETA: 44:5 - ETA: 44:5 - ETA: 44:5 - ETA: 44:5 - ETA: 44:5 - ETA: 44:4 - ETA: 44:4 - ETA: 44:4 - ETA: 44:4 - ETA: 44:4 - ETA: 44:4 - ETA: 44:4 - ETA: 44:4 - ETA: 44:4 - ETA: 44:4 - ETA: 44:4 - ETA: 44:4 - ETA: 44:4 - ETA: 44:4 - ETA: 44:4 - ETA: 44:4 - ETA: 44:4 - ETA: 44:4 - ETA: 44:4 - ETA: 44:4 - ETA: 44:4 - ETA: 44:4 - ETA: 44:4 - ETA: 44:4 - ETA: 44:4 - ETA: 44:4 - ETA: 44:4 - ETA: 44:4 - ETA: 44:4 - ETA: 44:4 - ETA: 44:4 - ETA: 44:4 - ETA: 44:4 - ETA: 44:4 - ETA: 44:4 - ETA: 44:4 - ETA: 44:4 - ETA: 44:4 - ETA: 44:4 - ETA: 44:4 - ETA: 44:4 - ETA: 44:4 - ETA: 44:4 - ETA: 44:4 - ETA: 44:4 - ETA: 44:4 - ETA: 44:4 - ETA: 44:4 - ETA: 44:4 - ETA: 44:4 - ETA: 44:4 - ETA: 44:4 - ETA: 44:4 - ETA: 44:4 - ETA: 44:4 - ETA: 44:4 - ETA: 44:4 - ETA: 44:4 - ETA: 44:4 - ETA: 44:4 - ETA: 44:4 - ETA: 44:4 - ETA: 44:4 - ETA: 44:4 - ETA: 44:4 - ETA: 44:4 - ETA: 44:4 - ETA: 44:4 - ETA: 44:4 - ETA: 44:4 - ETA: 44:4 - ETA: 44:4 - ETA: 44:4 - ETA: 44:4 - ETA: 44:4 - ETA: 44:4 - ETA: 44:4 - ETA: 44:4 - ETA: 44:4 - ETA: 44:4 - ETA: 44:4 - ETA: 44:4 - ETA: 44:4 - ETA: 44:4 - ETA: 44:4 - ETA: 44:4 - ETA: 44:4 - ETA: 44:4 - ETA: 44:3 - ETA: 44:3 - ETA: 44:3 - ETA: 44:3 - ETA: 44:3 - ETA: 44:3 - ETA: 44:3 - ETA: 44:3 - ETA: 44:3 - ETA: 44:3 - ETA: 44:3 - ETA: 44:3 - ETA: 44:3 - ETA: 44:3 - ETA: 44:3 - ETA: 44:3 - ETA: 44:3 - ETA: 44:3 - ETA: 44:3 - ETA: 44:3 - ETA: 44:3 - ETA: 44:3 - ETA: 44:3 - ETA: 44:3 - ETA: 44:3 - ETA: 44:3 - ETA: 44:3 - ETA: 44:3 - ETA: 44:3 - ETA: 44:3 - ETA: 44:3 - ETA: 44:3 - ETA: 44:3 - ETA: 44:3 - ETA: 44:3 - ETA: 44:3 - ETA: 44:3 - ETA: 44:3 - ETA: 44:3 - ETA: 44:3 - ETA: 44:3 - ETA: 44:3 - ETA: 44:3 - ETA: 44:3 - ETA: 44:3 - ETA: 44:3 - ETA: 44:3 - ETA: 44:3 - ETA: 44:3 - ETA: 44:3 - ETA: 44:3 - ETA: 44:3 - ETA: 44:3 - ETA: 44:3 - ETA: 44:3 - ETA: 44:3 - ETA: 44:3 - ETA: 44:3 - ETA: 44:3 - ETA: 44:3 - ETA: 44:3 - ETA: 44:3 - ETA: 44:3 - ETA: 44:3 - ETA: 44:3 - ETA: 44:3 - ETA: 44:3 - ETA: 44:3 - ETA: 44:3 - ETA: 44:3 - ETA: 44:3 - ETA: 44:3 - ETA: 44:3 - ETA: 44:3 - ETA: 44:3 - ETA: 44:3 - ETA: 44:3 - ETA: 44:3 - ETA: 44:3 - ETA: 44:3 - ETA: 44:3 - ETA: 44:3 - ETA: 44:3 - ETA: 44:3 - ETA: 44:3 - ETA: 44:3 - ETA: 44:3 - ETA: 44:3 - ETA: 44:3 - ETA: 44:3 - ETA: 44:2 - ETA: 44:2 - ETA: 44:2 - ETA: 44:2 - ETA: 44:2 - ETA: 44:2 - ETA: 44:2 - ETA: 44:2 - ETA: 44:2 - ETA: 44:2 - ETA: 44:2 - ETA: 44:2 - ETA: 44:2 - ETA: 44:2 - ETA: 44:2 - ETA: 44:2 - ETA: 44:2 - ETA: 44:2 - ETA: 44:2 - ETA: 44:2 - ETA: 44:2 - ETA: 44:2 - ETA: 44:2 - ETA: 44:2 - ETA: 44:2 - ETA: 44:2 - ETA: 44:2 - ETA: 44:2 - ETA: 44:2 - ETA: 44:2 - ETA: 44:2 - ETA: 44:2 - ETA: 44:2 - ETA: 44:2 - ETA: 44:2 - ETA: 44:3 - ETA: 44:3 - ETA: 44:3 - ETA: 44:3 - ETA: 44:3 - ETA: 44:3 - ETA: 44:3 - ETA: 44:3 - ETA: 44:3 - ETA: 44:3 - ETA: 44:3 - ETA: 44:3 - ETA: 44:3 - ETA: 44:3 - ETA: 44:3 - ETA: 44:3 - ETA: 44:3 - ETA: 44:3 - ETA: 44:3 - ETA: 44:3 - ETA: 44:3 - ETA: 44:3 - ETA: 44:3 - ETA: 44:2 - ETA: 44:2 - ETA: 44:2 - ETA: 44:2 - ETA: 44:2 - ETA: 44:2 - ETA: 44:2 - ETA: 44:2 - ETA: 44:2 - ETA: 44:2 - ETA: 44:2 - ETA: 44:2 - ETA: 44:2 - ETA: 44:2 - ETA: 44:2 - ETA: 44:2 - ETA: 44:2 - ETA: 44:2 - ETA: 44:2 - ETA: 44:2 - ETA: 44:2 - ETA: 44:2 - ETA: 44:2 - ETA: 44:2 - ETA: 44:2 - ETA: 44:2 - ETA: 44:2 - ETA: 44:2 - ETA: 44:2 - ETA: 44:2 - ETA: 44:2 - ETA: 44:2 - ETA: 44:2 - ETA: 44:2 - ETA: 44:2 - ETA: 44:2 - ETA: 44:2 - ETA: 44:2 - ETA: 44:2 - ETA: 44:2 - ETA: 44:2 - ETA: 44:2 - ETA: 44:2 - ETA: 44:2 - ETA: 44:2 - ETA: 44:2 - ETA: 44:2 - ETA: 44:2 - ETA: 44:2 - ETA: 44:2 - ETA: 44:2 - ETA: 44:2 - ETA: 44:2 - ETA: 44:2 - ETA: 44:2 - ETA: 44:2 - ETA: 44:2 - ETA: 44:2 - ETA: 44:2 - ETA: 44:2 - ETA: 44:2 - ETA: 44:2 - ETA: 44:2 - ETA: 44:2 - ETA: 44:2 - ETA: 44:2 - ETA: 44:2 - ETA: 44:2 - ETA: 44:2 - ETA: 44:2 - ETA: 44:2 - ETA: 44:2 - ETA: 44:2 - ETA: 44:2 - ETA: 44:2 - ETA: 44:2 - ETA: 44:2 - ETA: 44:2 - ETA: 44:2 - ETA: 44:2 - ETA: 44:2 - ETA: 44:2 - ETA: 44:2 - ETA: 44:2 - ETA: 44:2 - ETA: 44:2 - ETA: 44:2 - ETA: 44:2 - ETA: 44:1 - ETA: 44:1 - ETA: 44:1 - ETA: 44:1 - ETA: 44:1 - ETA: 44:1 - ETA: 44:1 - ETA: 44:1 - ETA: 44:1 - ETA: 44:1 - ETA: 44:1 - ETA: 44:1 - ETA: 44:1 - ETA: 44:1 - ETA: 44:1 - ETA: 44:1 - ETA: 44:1 - ETA: 44:1 - ETA: 44:1 - ETA: 44:1 - ETA: 44:1 - ETA: 44:1 - ETA: 44:1 - ETA: 44:1 - ETA: 44:1 - ETA: 44:1 - ETA: 44:1 - ETA: 44:1 - ETA: 44:1 - ETA: 44:1 - ETA: 44:1 - ETA: 44:1 - ETA: 44:1 - ETA: 44:1 - ETA: 44:1 - ETA: 44:1 - ETA: 44:1 - ETA: 44:1 - ETA: 44:1 - ETA: 44:1 - ETA: 44:1 - ETA: 44:1 - ETA: 44:1 - ETA: 44:1 - ETA: 44:1 - ETA: 44:1 - ETA: 44:1 - ETA: 44:1 - ETA: 44:1 - ETA: 44:1 - ETA: 44:1 - ETA: 44:1 - ETA: 44:13"
     ]
    },
    {
     "name": "stdout",
     "output_type": "stream",
     "text": [
      " 95002624/580070376 [===>..........................] - ETA: 44:1 - ETA: 44:1 - ETA: 44:1 - ETA: 44:1 - ETA: 44:1 - ETA: 44:1 - ETA: 44:1 - ETA: 44:1 - ETA: 44:1 - ETA: 44:1 - ETA: 44:1 - ETA: 44:1 - ETA: 44:1 - ETA: 44:1 - ETA: 44:1 - ETA: 44:1 - ETA: 44:1 - ETA: 44:1 - ETA: 44:1 - ETA: 44:1 - ETA: 44:1 - ETA: 44:1 - ETA: 44:1 - ETA: 44:1 - ETA: 44:1 - ETA: 44:1 - ETA: 44:1 - ETA: 44:1 - ETA: 44:1 - ETA: 44:1 - ETA: 44:1 - ETA: 44:1 - ETA: 44:1 - ETA: 44:1 - ETA: 44:1 - ETA: 44:1 - ETA: 44:0 - ETA: 44:0 - ETA: 44:0 - ETA: 44:0 - ETA: 44:0 - ETA: 44:0 - ETA: 44:0 - ETA: 44:0 - ETA: 44:0 - ETA: 44:0 - ETA: 44:0 - ETA: 44:0 - ETA: 44:0 - ETA: 44:0 - ETA: 44:0 - ETA: 44:0 - ETA: 44:0 - ETA: 44:0 - ETA: 44:0 - ETA: 44:0 - ETA: 44:0 - ETA: 44:0 - ETA: 44:0 - ETA: 44:0 - ETA: 44:0 - ETA: 44:0 - ETA: 44:0 - ETA: 44:0 - ETA: 44:0 - ETA: 44:0 - ETA: 44:0 - ETA: 44:0 - ETA: 44:0 - ETA: 44:0 - ETA: 44:0 - ETA: 44:0 - ETA: 44:0 - ETA: 44:0 - ETA: 44:0 - ETA: 44:0 - ETA: 44:0 - ETA: 44:0 - ETA: 44:0 - ETA: 44:0 - ETA: 44:0 - ETA: 44:0 - ETA: 44:0 - ETA: 44:0 - ETA: 44:0 - ETA: 44:0 - ETA: 44:0 - ETA: 44:0 - ETA: 44:0 - ETA: 44:0 - ETA: 44:0 - ETA: 44:0 - ETA: 44:0 - ETA: 44:0 - ETA: 44:0 - ETA: 44:0 - ETA: 44:0 - ETA: 44:0 - ETA: 44:0 - ETA: 44:0 - ETA: 44:0 - ETA: 44:0 - ETA: 44:0 - ETA: 44:0 - ETA: 44:0 - ETA: 44:0 - ETA: 44:0 - ETA: 44:0 - ETA: 44:0 - ETA: 44:0 - ETA: 44:0 - ETA: 44:0 - ETA: 44:0 - ETA: 44:0 - ETA: 44:0 - ETA: 44:0 - ETA: 44:0 - ETA: 44:0 - ETA: 44:0 - ETA: 44:0 - ETA: 44:0 - ETA: 44:0 - ETA: 44:0 - ETA: 44:0 - ETA: 44:0 - ETA: 44:0 - ETA: 44:0 - ETA: 44:0 - ETA: 44:0 - ETA: 44:0 - ETA: 43:5 - ETA: 43:5 - ETA: 43:5 - ETA: 43:5 - ETA: 43:5 - ETA: 43:5 - ETA: 43:5 - ETA: 43:5 - ETA: 43:5 - ETA: 43:5 - ETA: 43:5 - ETA: 43:5 - ETA: 43:5 - ETA: 43:5 - ETA: 43:5 - ETA: 43:5 - ETA: 43:5 - ETA: 43:5 - ETA: 43:5 - ETA: 43:5 - ETA: 43:5 - ETA: 43:5 - ETA: 43:5 - ETA: 43:5 - ETA: 43:5 - ETA: 43:5 - ETA: 43:5 - ETA: 43:5 - ETA: 43:5 - ETA: 43:5 - ETA: 43:5 - ETA: 43:5 - ETA: 43:5 - ETA: 43:5 - ETA: 43:5 - ETA: 43:5 - ETA: 43:5 - ETA: 43:5 - ETA: 43:5 - ETA: 43:5 - ETA: 43:5 - ETA: 43:5 - ETA: 43:5 - ETA: 43:5 - ETA: 43:5 - ETA: 43:5 - ETA: 43:5 - ETA: 43:5 - ETA: 43:5 - ETA: 43:5 - ETA: 43:5 - ETA: 43:5 - ETA: 43:5 - ETA: 43:5 - ETA: 43:5 - ETA: 43:5 - ETA: 43:5 - ETA: 43:5 - ETA: 43:5 - ETA: 43:5 - ETA: 43:5 - ETA: 43:5 - ETA: 43:5 - ETA: 43:5 - ETA: 43:5 - ETA: 43:5 - ETA: 43:5 - ETA: 43:5 - ETA: 43:5 - ETA: 43:5 - ETA: 43:5 - ETA: 43:5 - ETA: 43:5 - ETA: 43:5 - ETA: 43:5 - ETA: 43:5 - ETA: 43:5 - ETA: 43:5 - ETA: 43:5 - ETA: 43:5 - ETA: 43:5 - ETA: 43:5 - ETA: 43:5 - ETA: 43:5 - ETA: 43:5 - ETA: 43:5 - ETA: 43:5 - ETA: 43:5 - ETA: 43:5 - ETA: 43:5 - ETA: 43:5 - ETA: 43:5 - ETA: 43:4 - ETA: 43:4 - ETA: 43:4 - ETA: 43:4 - ETA: 43:4 - ETA: 43:4 - ETA: 43:4 - ETA: 43:4 - ETA: 43:4 - ETA: 43:4 - ETA: 43:4 - ETA: 43:4 - ETA: 43:4 - ETA: 43:4 - ETA: 43:4 - ETA: 43:4 - ETA: 43:4 - ETA: 43:4 - ETA: 43:4 - ETA: 43:4 - ETA: 43:4 - ETA: 43:4 - ETA: 43:4 - ETA: 43:4 - ETA: 43:4 - ETA: 43:4 - ETA: 43:4 - ETA: 43:4 - ETA: 43:4 - ETA: 43:4 - ETA: 43:4 - ETA: 43:4 - ETA: 43:4 - ETA: 43:4 - ETA: 43:4 - ETA: 43:4 - ETA: 43:4 - ETA: 43:4 - ETA: 43:4 - ETA: 43:4 - ETA: 43:4 - ETA: 43:4 - ETA: 43:4 - ETA: 43:4 - ETA: 43:4 - ETA: 43:4 - ETA: 43:4 - ETA: 43:4 - ETA: 43:4 - ETA: 43:4 - ETA: 43:4 - ETA: 43:4 - ETA: 43:4 - ETA: 43:4 - ETA: 43:4 - ETA: 43:4 - ETA: 43:4 - ETA: 43:4 - ETA: 43:4 - ETA: 43:4 - ETA: 43:4 - ETA: 43:4 - ETA: 43:4 - ETA: 43:4 - ETA: 43:4 - ETA: 43:4 - ETA: 43:4 - ETA: 43:4 - ETA: 43:4 - ETA: 43:4 - ETA: 43:4 - ETA: 43:4 - ETA: 43:4 - ETA: 43:4 - ETA: 43:4 - ETA: 43:4 - ETA: 43:4 - ETA: 43:4 - ETA: 43:4 - ETA: 43:4 - ETA: 43:4 - ETA: 43:4 - ETA: 43:4 - ETA: 43:4 - ETA: 43:4 - ETA: 43:4 - ETA: 43:4 - ETA: 43:4 - ETA: 43:4 - ETA: 43:4 - ETA: 43:4 - ETA: 43:3 - ETA: 43:3 - ETA: 43:3 - ETA: 43:3 - ETA: 43:3 - ETA: 43:3 - ETA: 43:3 - ETA: 43:3 - ETA: 43:3 - ETA: 43:3 - ETA: 43:3 - ETA: 43:3 - ETA: 43:3 - ETA: 43:3 - ETA: 43:3 - ETA: 43:3 - ETA: 43:3 - ETA: 43:3 - ETA: 43:3 - ETA: 43:3 - ETA: 43:3 - ETA: 43:3 - ETA: 43:3 - ETA: 43:3 - ETA: 43:3 - ETA: 43:3 - ETA: 43:3 - ETA: 43:3 - ETA: 43:3 - ETA: 43:3 - ETA: 43:3 - ETA: 43:3 - ETA: 43:3 - ETA: 43:3 - ETA: 43:3 - ETA: 43:3 - ETA: 43:3 - ETA: 43:3 - ETA: 43:3 - ETA: 43:3 - ETA: 43:3 - ETA: 43:3 - ETA: 43:3 - ETA: 43:3 - ETA: 43:3 - ETA: 43:3 - ETA: 43:3 - ETA: 43:3 - ETA: 43:3 - ETA: 43:3 - ETA: 43:3 - ETA: 43:3 - ETA: 43:3 - ETA: 43:3 - ETA: 43:3 - ETA: 43:3 - ETA: 43:3 - ETA: 43:3 - ETA: 43:3 - ETA: 43:3 - ETA: 43:3 - ETA: 43:3 - ETA: 43:3 - ETA: 43:3 - ETA: 43:3 - ETA: 43:3 - ETA: 43:3 - ETA: 43:3 - ETA: 43:3 - ETA: 43:3 - ETA: 43:3 - ETA: 43:3 - ETA: 43:3 - ETA: 43:3 - ETA: 43:3 - ETA: 43:3 - ETA: 43:3 - ETA: 43:3 - ETA: 43:3 - ETA: 43:3 - ETA: 43:3 - ETA: 43:3 - ETA: 43:3 - ETA: 43:3 - ETA: 43:3 - ETA: 43:3 - ETA: 43:3 - ETA: 43:3 - ETA: 43:3 - ETA: 43:3 - ETA: 43:3 - ETA: 43:3 - ETA: 43:3 - ETA: 43:2 - ETA: 43:2 - ETA: 43:2 - ETA: 43:2 - ETA: 43:2 - ETA: 43:2 - ETA: 43:2 - ETA: 43:2 - ETA: 43:2 - ETA: 43:2 - ETA: 43:2 - ETA: 43:2 - ETA: 43:2 - ETA: 43:2 - ETA: 43:2 - ETA: 43:2 - ETA: 43:2 - ETA: 43:2 - ETA: 43:2 - ETA: 43:2 - ETA: 43:2 - ETA: 43:2 - ETA: 43:2 - ETA: 43:2 - ETA: 43:2 - ETA: 43:2 - ETA: 43:2 - ETA: 43:2 - ETA: 43:2 - ETA: 43:2 - ETA: 43:2 - ETA: 43:2 - ETA: 43:2 - ETA: 43:2 - ETA: 43:2 - ETA: 43:2 - ETA: 43:2 - ETA: 43:2 - ETA: 43:2 - ETA: 43:2 - ETA: 43:2 - ETA: 43:2 - ETA: 43:2 - ETA: 43:2 - ETA: 43:2 - ETA: 43:2 - ETA: 43:2 - ETA: 43:2 - ETA: 43:2 - ETA: 43:2 - ETA: 43:2 - ETA: 43:2 - ETA: 43:2 - ETA: 43:2 - ETA: 43:2 - ETA: 43:2 - ETA: 43:2 - ETA: 43:2 - ETA: 43:2 - ETA: 43:2 - ETA: 43:2 - ETA: 43:2 - ETA: 43:2 - ETA: 43:2 - ETA: 43:2 - ETA: 43:2 - ETA: 43:2 - ETA: 43:2 - ETA: 43:2 - ETA: 43:2 - ETA: 43:2 - ETA: 43:2 - ETA: 43:2 - ETA: 43:2 - ETA: 43:2 - ETA: 43:2 - ETA: 43:2 - ETA: 43:2 - ETA: 43:2 - ETA: 43:2 - ETA: 43:2 - ETA: 43:2 - ETA: 43:2 - ETA: 43:2 - ETA: 43:2 - ETA: 43:2 - ETA: 43:2 - ETA: 43:2 - ETA: 43:2 - ETA: 43:2 - ETA: 43:2 - ETA: 43:2 - ETA: 43:2 - ETA: 43:1 - ETA: 43:1 - ETA: 43:1 - ETA: 43:1 - ETA: 43:1 - ETA: 43:1 - ETA: 43:1 - ETA: 43:1 - ETA: 43:1 - ETA: 43:1 - ETA: 43:1 - ETA: 43:1 - ETA: 43:1 - ETA: 43:1 - ETA: 43:1 - ETA: 43:1 - ETA: 43:1 - ETA: 43:1 - ETA: 43:1 - ETA: 43:1 - ETA: 43:1 - ETA: 43:1 - ETA: 43:1 - ETA: 43:1 - ETA: 43:1 - ETA: 43:1 - ETA: 43:1 - ETA: 43:1 - ETA: 43:1 - ETA: 43:1 - ETA: 43:1 - ETA: 43:1 - ETA: 43:1 - ETA: 43:1 - ETA: 43:1 - ETA: 43:1 - ETA: 43:1 - ETA: 43:1 - ETA: 43:1 - ETA: 43:1 - ETA: 43:1 - ETA: 43:1 - ETA: 43:1 - ETA: 43:1 - ETA: 43:1 - ETA: 43:1 - ETA: 43:1 - ETA: 43:1 - ETA: 43:1 - ETA: 43:1 - ETA: 43:1 - ETA: 43:1 - ETA: 43:1 - ETA: 43:1 - ETA: 43:1 - ETA: 43:1 - ETA: 43:1 - ETA: 43:1 - ETA: 43:1 - ETA: 43:1 - ETA: 43:1 - ETA: 43:1 - ETA: 43:1 - ETA: 43:1 - ETA: 43:1 - ETA: 43:1 - ETA: 43:1 - ETA: 43:1 - ETA: 43:1 - ETA: 43:1 - ETA: 43:1 - ETA: 43:1 - ETA: 43:1 - ETA: 43:1 - ETA: 43:1 - ETA: 43:1 - ETA: 43:1 - ETA: 43:1 - ETA: 43:1 - ETA: 43:1 - ETA: 43:1 - ETA: 43:1 - ETA: 43:1 - ETA: 43:1 - ETA: 43:1 - ETA: 43:1 - ETA: 43:1 - ETA: 43:1 - ETA: 43:1 - ETA: 43:1 - ETA: 43:1 - ETA: 43:0 - ETA: 43:0 - ETA: 43:0 - ETA: 43:0 - ETA: 43:0 - ETA: 43:0 - ETA: 43:0 - ETA: 43:0 - ETA: 43:0 - ETA: 43:0 - ETA: 43:0 - ETA: 43:0 - ETA: 43:0 - ETA: 43:0 - ETA: 43:0 - ETA: 43:0 - ETA: 43:0 - ETA: 43:0 - ETA: 43:0 - ETA: 43:0 - ETA: 43:0 - ETA: 43:0 - ETA: 43:0 - ETA: 43:0 - ETA: 43:0 - ETA: 43:0 - ETA: 43:0 - ETA: 43:0 - ETA: 43:0 - ETA: 43:0 - ETA: 43:0 - ETA: 43:0 - ETA: 43:0 - ETA: 43:0 - ETA: 43:0 - ETA: 43:0 - ETA: 43:0 - ETA: 43:0 - ETA: 43:0 - ETA: 43:0 - ETA: 43:0 - ETA: 43:0 - ETA: 43:0 - ETA: 43:0 - ETA: 43:0 - ETA: 43:0 - ETA: 43:0 - ETA: 43:0 - ETA: 43:0 - ETA: 43:0 - ETA: 43:0 - ETA: 43:0 - ETA: 43:0 - ETA: 43:0 - ETA: 43:0 - ETA: 43:0 - ETA: 43:0 - ETA: 43:0 - ETA: 43:0 - ETA: 43:0 - ETA: 43:0 - ETA: 43:0 - ETA: 43:0 - ETA: 43:0 - ETA: 43:0 - ETA: 43:0 - ETA: 43:0 - ETA: 43:0 - ETA: 43:0 - ETA: 43:0 - ETA: 43:0 - ETA: 43:0 - ETA: 43:0 - ETA: 43:0 - ETA: 43:0 - ETA: 43:0 - ETA: 43:0 - ETA: 43:0 - ETA: 43:0 - ETA: 43:0 - ETA: 43:0 - ETA: 43:0 - ETA: 43:0 - ETA: 43:0 - ETA: 43:0 - ETA: 43:0 - ETA: 43:0 - ETA: 43:0 - ETA: 43:00"
     ]
    },
    {
     "name": "stdout",
     "output_type": "stream",
     "text": [
      "106840064/580070376 [====>.........................] - ETA: 43:0 - ETA: 43:0 - ETA: 43:0 - ETA: 43:0 - ETA: 43:0 - ETA: 43:0 - ETA: 43:0 - ETA: 42:5 - ETA: 42:5 - ETA: 42:5 - ETA: 42:5 - ETA: 42:5 - ETA: 42:5 - ETA: 42:5 - ETA: 42:5 - ETA: 42:5 - ETA: 42:5 - ETA: 42:5 - ETA: 42:5 - ETA: 42:5 - ETA: 42:5 - ETA: 42:5 - ETA: 42:5 - ETA: 42:5 - ETA: 42:5 - ETA: 42:5 - ETA: 42:5 - ETA: 42:5 - ETA: 42:5 - ETA: 42:5 - ETA: 42:5 - ETA: 42:5 - ETA: 42:5 - ETA: 42:5 - ETA: 42:5 - ETA: 42:5 - ETA: 42:5 - ETA: 42:5 - ETA: 42:5 - ETA: 42:5 - ETA: 42:5 - ETA: 42:5 - ETA: 42:5 - ETA: 42:5 - ETA: 42:5 - ETA: 42:5 - ETA: 42:5 - ETA: 42:5 - ETA: 42:5 - ETA: 42:5 - ETA: 42:5 - ETA: 42:5 - ETA: 42:5 - ETA: 42:5 - ETA: 42:5 - ETA: 42:5 - ETA: 42:5 - ETA: 42:5 - ETA: 42:5 - ETA: 42:5 - ETA: 42:5 - ETA: 42:5 - ETA: 42:5 - ETA: 42:5 - ETA: 42:5 - ETA: 42:5 - ETA: 42:5 - ETA: 42:5 - ETA: 42:5 - ETA: 42:5 - ETA: 42:5 - ETA: 42:5 - ETA: 42:5 - ETA: 42:5 - ETA: 42:5 - ETA: 42:5 - ETA: 42:5 - ETA: 42:5 - ETA: 42:5 - ETA: 42:5 - ETA: 42:5 - ETA: 42:5 - ETA: 42:5 - ETA: 42:5 - ETA: 42:5 - ETA: 42:5 - ETA: 42:5 - ETA: 42:5 - ETA: 42:5 - ETA: 42:5 - ETA: 42:5 - ETA: 42:5 - ETA: 42:5 - ETA: 42:5 - ETA: 42:5 - ETA: 42:5 - ETA: 42:5 - ETA: 42:5 - ETA: 42:5 - ETA: 42:5 - ETA: 42:5 - ETA: 42:4 - ETA: 42:4 - ETA: 42:4 - ETA: 42:4 - ETA: 42:4 - ETA: 42:4 - ETA: 42:4 - ETA: 42:4 - ETA: 42:4 - ETA: 42:4 - ETA: 42:4 - ETA: 42:4 - ETA: 42:4 - ETA: 42:4 - ETA: 42:4 - ETA: 42:4 - ETA: 42:4 - ETA: 42:4 - ETA: 42:4 - ETA: 42:4 - ETA: 42:4 - ETA: 42:4 - ETA: 42:4 - ETA: 42:4 - ETA: 42:4 - ETA: 42:4 - ETA: 42:4 - ETA: 42:4 - ETA: 42:4 - ETA: 42:4 - ETA: 42:4 - ETA: 42:4 - ETA: 42:4 - ETA: 42:4 - ETA: 42:4 - ETA: 42:4 - ETA: 42:4 - ETA: 42:4 - ETA: 42:4 - ETA: 42:4 - ETA: 42:4 - ETA: 42:4 - ETA: 42:4 - ETA: 42:4 - ETA: 42:4 - ETA: 42:4 - ETA: 42:4 - ETA: 42:4 - ETA: 42:4 - ETA: 42:4 - ETA: 42:4 - ETA: 42:4 - ETA: 42:4 - ETA: 42:4 - ETA: 42:4 - ETA: 42:4 - ETA: 42:4 - ETA: 42:4 - ETA: 42:4 - ETA: 42:4 - ETA: 42:4 - ETA: 42:4 - ETA: 42:4 - ETA: 42:4 - ETA: 42:4 - ETA: 42:4 - ETA: 42:4 - ETA: 42:4 - ETA: 42:4 - ETA: 42:4 - ETA: 42:4 - ETA: 42:4 - ETA: 42:4 - ETA: 42:4 - ETA: 42:4 - ETA: 42:4 - ETA: 42:4 - ETA: 42:4 - ETA: 42:4 - ETA: 42:4 - ETA: 42:4 - ETA: 42:4 - ETA: 42:4 - ETA: 42:4 - ETA: 42:4 - ETA: 42:4 - ETA: 42:4 - ETA: 42:4 - ETA: 42:4 - ETA: 42:4 - ETA: 42:4 - ETA: 42:4 - ETA: 42:4 - ETA: 42:4 - ETA: 42:4 - ETA: 42:4 - ETA: 42:4 - ETA: 42:3 - ETA: 42:3 - ETA: 42:3 - ETA: 42:3 - ETA: 42:3 - ETA: 42:3 - ETA: 42:3 - ETA: 42:3 - ETA: 42:3 - ETA: 42:3 - ETA: 42:3 - ETA: 42:3 - ETA: 42:3 - ETA: 42:3 - ETA: 42:3 - ETA: 42:3 - ETA: 42:3 - ETA: 42:3 - ETA: 42:3 - ETA: 42:3 - ETA: 42:3 - ETA: 42:3 - ETA: 42:3 - ETA: 42:3 - ETA: 42:3 - ETA: 42:3 - ETA: 42:3 - ETA: 42:3 - ETA: 42:3 - ETA: 42:3 - ETA: 42:3 - ETA: 42:3 - ETA: 42:3 - ETA: 42:3 - ETA: 42:3 - ETA: 42:3 - ETA: 42:3 - ETA: 42:3 - ETA: 42:3 - ETA: 42:3 - ETA: 42:3 - ETA: 42:3 - ETA: 42:3 - ETA: 42:3 - ETA: 42:3 - ETA: 42:3 - ETA: 42:3 - ETA: 42:3 - ETA: 42:3 - ETA: 42:3 - ETA: 42:3 - ETA: 42:3 - ETA: 42:3 - ETA: 42:3 - ETA: 42:3 - ETA: 42:3 - ETA: 42:3 - ETA: 42:3 - ETA: 42:3 - ETA: 42:3 - ETA: 42:3 - ETA: 42:3 - ETA: 42:3 - ETA: 42:3 - ETA: 42:3 - ETA: 42:3 - ETA: 42:3 - ETA: 42:3 - ETA: 42:3 - ETA: 42:3 - ETA: 42:3 - ETA: 42:3 - ETA: 42:3 - ETA: 42:3 - ETA: 42:3 - ETA: 42:3 - ETA: 42:3 - ETA: 42:3 - ETA: 42:3 - ETA: 42:2 - ETA: 42:2 - ETA: 42:2 - ETA: 42:2 - ETA: 42:2 - ETA: 42:2 - ETA: 42:2 - ETA: 42:2 - ETA: 42:2 - ETA: 42:2 - ETA: 42:2 - ETA: 42:2 - ETA: 42:2 - ETA: 42:2 - ETA: 42:2 - ETA: 42:2 - ETA: 42:2 - ETA: 42:2 - ETA: 42:2 - ETA: 42:2 - ETA: 42:2 - ETA: 42:2 - ETA: 42:2 - ETA: 42:2 - ETA: 42:2 - ETA: 42:2 - ETA: 42:2 - ETA: 42:2 - ETA: 42:2 - ETA: 42:2 - ETA: 42:2 - ETA: 42:2 - ETA: 42:2 - ETA: 42:2 - ETA: 42:2 - ETA: 42:2 - ETA: 42:2 - ETA: 42:2 - ETA: 42:2 - ETA: 42:2 - ETA: 42:2 - ETA: 42:2 - ETA: 42:2 - ETA: 42:2 - ETA: 42:2 - ETA: 42:2 - ETA: 42:2 - ETA: 42:2 - ETA: 42:2 - ETA: 42:2 - ETA: 42:1 - ETA: 42:1 - ETA: 42:1 - ETA: 42:1 - ETA: 42:1 - ETA: 42:1 - ETA: 42:1 - ETA: 42:1 - ETA: 42:1 - ETA: 42:1 - ETA: 42:1 - ETA: 42:1 - ETA: 42:1 - ETA: 42:1 - ETA: 42:1 - ETA: 42:1 - ETA: 42:1 - ETA: 42:1 - ETA: 42:1 - ETA: 42:1 - ETA: 42:1 - ETA: 42:1 - ETA: 42:1 - ETA: 42:1 - ETA: 42:1 - ETA: 42:1 - ETA: 42:1 - ETA: 42:1 - ETA: 42:1 - ETA: 42:1 - ETA: 42:1 - ETA: 42:1 - ETA: 42:1 - ETA: 42:1 - ETA: 42:1 - ETA: 42:1 - ETA: 42:1 - ETA: 42:1 - ETA: 42:1 - ETA: 42:1 - ETA: 42:1 - ETA: 42:1 - ETA: 42:1 - ETA: 42:1 - ETA: 42:1 - ETA: 42:1 - ETA: 42:1 - ETA: 42:1 - ETA: 42:1 - ETA: 42:1 - ETA: 42:1 - ETA: 42:0 - ETA: 42:0 - ETA: 42:0 - ETA: 42:0 - ETA: 42:0 - ETA: 42:0 - ETA: 42:0 - ETA: 42:0 - ETA: 42:0 - ETA: 42:0 - ETA: 42:0 - ETA: 42:0 - ETA: 42:0 - ETA: 42:0 - ETA: 42:0 - ETA: 42:0 - ETA: 42:0 - ETA: 42:0 - ETA: 42:0 - ETA: 42:0 - ETA: 42:0 - ETA: 42:0 - ETA: 42:0 - ETA: 42:0 - ETA: 42:0 - ETA: 42:0 - ETA: 42:0 - ETA: 42:0 - ETA: 42:0 - ETA: 42:0 - ETA: 42:0 - ETA: 42:0 - ETA: 42:0 - ETA: 42:0 - ETA: 42:0 - ETA: 42:0 - ETA: 42:0 - ETA: 42:0 - ETA: 42:0 - ETA: 42:0 - ETA: 42:0 - ETA: 42:0 - ETA: 42:0 - ETA: 42:0 - ETA: 42:0 - ETA: 42:0 - ETA: 42:0 - ETA: 42:0 - ETA: 42:0 - ETA: 42:0 - ETA: 42:0 - ETA: 42:0 - ETA: 41:5 - ETA: 41:5 - ETA: 41:5 - ETA: 41:5 - ETA: 41:5 - ETA: 41:5 - ETA: 41:5 - ETA: 41:5 - ETA: 41:5 - ETA: 41:5 - ETA: 41:5 - ETA: 41:5 - ETA: 41:5 - ETA: 41:5 - ETA: 41:5 - ETA: 41:5 - ETA: 41:5 - ETA: 41:5 - ETA: 41:5 - ETA: 41:5 - ETA: 41:5 - ETA: 41:5 - ETA: 41:5 - ETA: 41:5 - ETA: 41:5 - ETA: 41:5 - ETA: 41:5 - ETA: 41:5 - ETA: 41:5 - ETA: 41:5 - ETA: 41:5 - ETA: 41:5 - ETA: 41:5 - ETA: 41:5 - ETA: 41:5 - ETA: 41:5 - ETA: 41:5 - ETA: 41:5 - ETA: 41:5 - ETA: 41:5 - ETA: 41:5 - ETA: 41:5 - ETA: 41:5 - ETA: 41:5 - ETA: 41:5 - ETA: 41:5 - ETA: 41:5 - ETA: 41:5 - ETA: 41:5 - ETA: 41:5 - ETA: 41:5 - ETA: 41:5 - ETA: 41:5 - ETA: 41:5 - ETA: 41:4 - ETA: 41:4 - ETA: 41:4 - ETA: 41:4 - ETA: 41:4 - ETA: 41:4 - ETA: 41:4 - ETA: 41:4 - ETA: 41:4 - ETA: 41:4 - ETA: 41:4 - ETA: 41:4 - ETA: 41:4 - ETA: 41:4 - ETA: 41:4 - ETA: 41:4 - ETA: 41:4 - ETA: 41:4 - ETA: 41:4 - ETA: 41:4 - ETA: 41:4 - ETA: 41:4 - ETA: 41:4 - ETA: 41:4 - ETA: 41:4 - ETA: 41:4 - ETA: 41:4 - ETA: 41:4 - ETA: 41:4 - ETA: 41:4 - ETA: 41:4 - ETA: 41:4 - ETA: 41:4 - ETA: 41:4 - ETA: 41:4 - ETA: 41:4 - ETA: 41:4 - ETA: 41:4 - ETA: 41:4 - ETA: 41:4 - ETA: 41:4 - ETA: 41:4 - ETA: 41:4 - ETA: 41:4 - ETA: 41:4 - ETA: 41:4 - ETA: 41:4 - ETA: 41:4 - ETA: 41:4 - ETA: 41:4 - ETA: 41:4 - ETA: 41:4 - ETA: 41:4 - ETA: 41:3 - ETA: 41:3 - ETA: 41:3 - ETA: 41:3 - ETA: 41:3 - ETA: 41:3 - ETA: 41:3 - ETA: 41:3 - ETA: 41:3 - ETA: 41:3 - ETA: 41:3 - ETA: 41:3 - ETA: 41:3 - ETA: 41:3 - ETA: 41:3 - ETA: 41:3 - ETA: 41:3 - ETA: 41:3 - ETA: 41:3 - ETA: 41:3 - ETA: 41:3 - ETA: 41:3 - ETA: 41:3 - ETA: 41:3 - ETA: 41:3 - ETA: 41:3 - ETA: 41:3 - ETA: 41:3 - ETA: 41:3 - ETA: 41:3 - ETA: 41:3 - ETA: 41:3 - ETA: 41:3 - ETA: 41:3 - ETA: 41:3 - ETA: 41:3 - ETA: 41:3 - ETA: 41:3 - ETA: 41:3 - ETA: 41:3 - ETA: 41:3 - ETA: 41:3 - ETA: 41:3 - ETA: 41:3 - ETA: 41:3 - ETA: 41:3 - ETA: 41:3 - ETA: 41:3 - ETA: 41:3 - ETA: 41:3 - ETA: 41:3 - ETA: 41:3 - ETA: 41:3 - ETA: 41:2 - ETA: 41:2 - ETA: 41:2 - ETA: 41:2 - ETA: 41:2 - ETA: 41:2 - ETA: 41:2 - ETA: 41:2 - ETA: 41:2 - ETA: 41:2 - ETA: 41:2 - ETA: 41:2 - ETA: 41:2 - ETA: 41:2 - ETA: 41:2 - ETA: 41:2 - ETA: 41:2 - ETA: 41:2 - ETA: 41:2 - ETA: 41:2 - ETA: 41:2 - ETA: 41:2 - ETA: 41:2 - ETA: 41:2 - ETA: 41:2 - ETA: 41:2 - ETA: 41:2 - ETA: 41:2 - ETA: 41:2 - ETA: 41:2 - ETA: 41:2 - ETA: 41:2 - ETA: 41:2 - ETA: 41:2 - ETA: 41:2 - ETA: 41:2 - ETA: 41:2 - ETA: 41:2 - ETA: 41:2 - ETA: 41:2 - ETA: 41:2 - ETA: 41:2 - ETA: 41:2 - ETA: 41:2 - ETA: 41:2 - ETA: 41:2 - ETA: 41:2 - ETA: 41:2 - ETA: 41:2 - ETA: 41:2 - ETA: 41:2 - ETA: 41:2 - ETA: 41:2 - ETA: 41:2 - ETA: 41:2 - ETA: 41:1 - ETA: 41:1 - ETA: 41:1 - ETA: 41:1 - ETA: 41:1 - ETA: 41:1 - ETA: 41:1 - ETA: 41:1 - ETA: 41:1 - ETA: 41:1 - ETA: 41:1 - ETA: 41:1 - ETA: 41:1 - ETA: 41:1 - ETA: 41:1 - ETA: 41:1 - ETA: 41:1 - ETA: 41:1 - ETA: 41:1 - ETA: 41:1 - ETA: 41:1 - ETA: 41:1 - ETA: 41:1 - ETA: 41:1 - ETA: 41:1 - ETA: 41:1 - ETA: 41:1 - ETA: 41:1 - ETA: 41:1 - ETA: 41:1 - ETA: 41:2 - ETA: 41:2 - ETA: 41:2 - ETA: 41:20"
     ]
    },
    {
     "name": "stdout",
     "output_type": "stream",
     "text": [
      "118652928/580070376 [=====>........................] - ETA: 41:2 - ETA: 41:2 - ETA: 41:2 - ETA: 41:2 - ETA: 41:2 - ETA: 41:2 - ETA: 41:2 - ETA: 41:2 - ETA: 41:2 - ETA: 41:2 - ETA: 41:2 - ETA: 41:2 - ETA: 41:2 - ETA: 41:2 - ETA: 41:2 - ETA: 41:2 - ETA: 41:2 - ETA: 41:2 - ETA: 41:2 - ETA: 41:2 - ETA: 41:2 - ETA: 41:1 - ETA: 41:1 - ETA: 41:1 - ETA: 41:1 - ETA: 41:1 - ETA: 41:1 - ETA: 41:1 - ETA: 41:1 - ETA: 41:1 - ETA: 41:1 - ETA: 41:1 - ETA: 41:1 - ETA: 41:1 - ETA: 41:1 - ETA: 41:1 - ETA: 41:1 - ETA: 41:1 - ETA: 41:1 - ETA: 41:1 - ETA: 41:1 - ETA: 41:1 - ETA: 41:1 - ETA: 41:1 - ETA: 41:1 - ETA: 41:1 - ETA: 41:1 - ETA: 41:1 - ETA: 41:1 - ETA: 41:1 - ETA: 41:1 - ETA: 41:1 - ETA: 41:1 - ETA: 41:1 - ETA: 41:1 - ETA: 41:1 - ETA: 41:1 - ETA: 41:1 - ETA: 41:1 - ETA: 41:1 - ETA: 41:1 - ETA: 41:1 - ETA: 41:1 - ETA: 41:1 - ETA: 41:1 - ETA: 41:1 - ETA: 41:1 - ETA: 41:1 - ETA: 41:1 - ETA: 41:1 - ETA: 41:1 - ETA: 41:1 - ETA: 41:1 - ETA: 41:1 - ETA: 41:1 - ETA: 41:0 - ETA: 41:0 - ETA: 41:0 - ETA: 41:0 - ETA: 41:0 - ETA: 41:0 - ETA: 41:0 - ETA: 41:0 - ETA: 41:0 - ETA: 41:0 - ETA: 41:0 - ETA: 41:0 - ETA: 41:0 - ETA: 41:0 - ETA: 41:0 - ETA: 41:0 - ETA: 41:0 - ETA: 41:0 - ETA: 41:0 - ETA: 41:0 - ETA: 41:0 - ETA: 41:0 - ETA: 41:0 - ETA: 41:0 - ETA: 41:0 - ETA: 41:0 - ETA: 41:0 - ETA: 41:0 - ETA: 41:0 - ETA: 41:0 - ETA: 41:0 - ETA: 41:0 - ETA: 41:0 - ETA: 41:0 - ETA: 41:0 - ETA: 41:0 - ETA: 41:0 - ETA: 41:0 - ETA: 41:0 - ETA: 41:0 - ETA: 41:0 - ETA: 41:0 - ETA: 41:0 - ETA: 41:0 - ETA: 41:0 - ETA: 41:0 - ETA: 41:0 - ETA: 41:0 - ETA: 41:0 - ETA: 41:0 - ETA: 41:0 - ETA: 41:0 - ETA: 41:0 - ETA: 41:0 - ETA: 41:0 - ETA: 40:5 - ETA: 40:5 - ETA: 40:5 - ETA: 40:5 - ETA: 40:5 - ETA: 40:5 - ETA: 40:5 - ETA: 40:5 - ETA: 40:5 - ETA: 40:5 - ETA: 40:5 - ETA: 40:5 - ETA: 40:5 - ETA: 40:5 - ETA: 40:5 - ETA: 40:5 - ETA: 40:5 - ETA: 40:5 - ETA: 40:5 - ETA: 40:5 - ETA: 40:5 - ETA: 40:5 - ETA: 40:5 - ETA: 40:5 - ETA: 40:5 - ETA: 40:5 - ETA: 40:5 - ETA: 40:5 - ETA: 40:5 - ETA: 40:5 - ETA: 40:5 - ETA: 40:5 - ETA: 40:5 - ETA: 40:5 - ETA: 40:5 - ETA: 40:5 - ETA: 40:5 - ETA: 40:5 - ETA: 40:5 - ETA: 40:5 - ETA: 40:5 - ETA: 40:5 - ETA: 40:5 - ETA: 40:5 - ETA: 40:5 - ETA: 40:5 - ETA: 40:5 - ETA: 40:5 - ETA: 40:5 - ETA: 40:5 - ETA: 40:5 - ETA: 40:5 - ETA: 40:5 - ETA: 40:5 - ETA: 40:5 - ETA: 40:4 - ETA: 40:4 - ETA: 40:4 - ETA: 40:4 - ETA: 40:4 - ETA: 40:4 - ETA: 40:4 - ETA: 40:4 - ETA: 40:4 - ETA: 40:4 - ETA: 40:4 - ETA: 40:4 - ETA: 40:4 - ETA: 40:4 - ETA: 40:4 - ETA: 40:4 - ETA: 40:4 - ETA: 40:4 - ETA: 40:4 - ETA: 40:4 - ETA: 40:4 - ETA: 40:4 - ETA: 40:4 - ETA: 40:4 - ETA: 40:4 - ETA: 40:4 - ETA: 40:4 - ETA: 40:4 - ETA: 40:4 - ETA: 40:4 - ETA: 40:4 - ETA: 40:4 - ETA: 40:4 - ETA: 40:4 - ETA: 40:4 - ETA: 40:4 - ETA: 40:4 - ETA: 40:4 - ETA: 40:4 - ETA: 40:4 - ETA: 40:4 - ETA: 40:4 - ETA: 40:4 - ETA: 40:4 - ETA: 40:4 - ETA: 40:4 - ETA: 40:4 - ETA: 40:4 - ETA: 40:4 - ETA: 40:4 - ETA: 40:4 - ETA: 40:4 - ETA: 40:4 - ETA: 40:4 - ETA: 40:4 - ETA: 40:4 - ETA: 40:4 - ETA: 40:3 - ETA: 40:3 - ETA: 40:3 - ETA: 40:3 - ETA: 40:3 - ETA: 40:3 - ETA: 40:3 - ETA: 40:3 - ETA: 40:3 - ETA: 40:3 - ETA: 40:3 - ETA: 40:3 - ETA: 40:3 - ETA: 40:3 - ETA: 40:3 - ETA: 40:3 - ETA: 40:3 - ETA: 40:3 - ETA: 40:3 - ETA: 40:3 - ETA: 40:3 - ETA: 40:3 - ETA: 40:3 - ETA: 40:3 - ETA: 40:3 - ETA: 40:3 - ETA: 40:3 - ETA: 40:3 - ETA: 40:3 - ETA: 40:3 - ETA: 40:3 - ETA: 40:3 - ETA: 40:3 - ETA: 40:3 - ETA: 40:3 - ETA: 40:3 - ETA: 40:3 - ETA: 40:3 - ETA: 40:3 - ETA: 40:3 - ETA: 40:3 - ETA: 40:3 - ETA: 40:3 - ETA: 40:3 - ETA: 40:3 - ETA: 40:3 - ETA: 40:3 - ETA: 40:3 - ETA: 40:3 - ETA: 40:3 - ETA: 40:3 - ETA: 40:3 - ETA: 40:3 - ETA: 40:3 - ETA: 40:3 - ETA: 40:3 - ETA: 40:3 - ETA: 40:3 - ETA: 40:2 - ETA: 40:2 - ETA: 40:2 - ETA: 40:2 - ETA: 40:2 - ETA: 40:2 - ETA: 40:2 - ETA: 40:2 - ETA: 40:2 - ETA: 40:2 - ETA: 40:2 - ETA: 40:2 - ETA: 40:2 - ETA: 40:2 - ETA: 40:2 - ETA: 40:2 - ETA: 40:2 - ETA: 40:2 - ETA: 40:2 - ETA: 40:2 - ETA: 40:2 - ETA: 40:2 - ETA: 40:2 - ETA: 40:2 - ETA: 40:2 - ETA: 40:2 - ETA: 40:2 - ETA: 40:2 - ETA: 40:2 - ETA: 40:2 - ETA: 40:2 - ETA: 40:2 - ETA: 40:2 - ETA: 40:2 - ETA: 40:2 - ETA: 40:2 - ETA: 40:2 - ETA: 40:2 - ETA: 40:2 - ETA: 40:2 - ETA: 40:2 - ETA: 40:2 - ETA: 40:2 - ETA: 40:2 - ETA: 40:2 - ETA: 40:2 - ETA: 40:2 - ETA: 40:2 - ETA: 40:2 - ETA: 40:2 - ETA: 40:2 - ETA: 40:2 - ETA: 40:2 - ETA: 40:2 - ETA: 40:2 - ETA: 40:2 - ETA: 40:2 - ETA: 40:2 - ETA: 40:1 - ETA: 40:1 - ETA: 40:1 - ETA: 40:1 - ETA: 40:1 - ETA: 40:1 - ETA: 40:1 - ETA: 40:1 - ETA: 40:1 - ETA: 40:1 - ETA: 40:1 - ETA: 40:1 - ETA: 40:1 - ETA: 40:1 - ETA: 40:1 - ETA: 40:1 - ETA: 40:1 - ETA: 40:1 - ETA: 40:1 - ETA: 40:1 - ETA: 40:1 - ETA: 40:1 - ETA: 40:1 - ETA: 40:1 - ETA: 40:1 - ETA: 40:1 - ETA: 40:1 - ETA: 40:1 - ETA: 40:1 - ETA: 40:1 - ETA: 40:1 - ETA: 40:1 - ETA: 40:1 - ETA: 40:1 - ETA: 40:1 - ETA: 40:1 - ETA: 40:1 - ETA: 40:1 - ETA: 40:1 - ETA: 40:1 - ETA: 40:1 - ETA: 40:1 - ETA: 40:1 - ETA: 40:1 - ETA: 40:1 - ETA: 40:1 - ETA: 40:1 - ETA: 40:1 - ETA: 40:1 - ETA: 40:1 - ETA: 40:1 - ETA: 40:1 - ETA: 40:1 - ETA: 40:1 - ETA: 40:1 - ETA: 40:1 - ETA: 40:1 - ETA: 40:0 - ETA: 40:0 - ETA: 40:0 - ETA: 40:0 - ETA: 40:0 - ETA: 40:0 - ETA: 40:0 - ETA: 40:0 - ETA: 40:0 - ETA: 40:0 - ETA: 40:0 - ETA: 40:0 - ETA: 40:0 - ETA: 40:0 - ETA: 40:0 - ETA: 40:0 - ETA: 40:0 - ETA: 40:0 - ETA: 40:0 - ETA: 40:0 - ETA: 40:0 - ETA: 40:0 - ETA: 40:0 - ETA: 40:0 - ETA: 40:0 - ETA: 40:0 - ETA: 40:0 - ETA: 40:0 - ETA: 40:0 - ETA: 40:0 - ETA: 40:0 - ETA: 40:0 - ETA: 40:0 - ETA: 40:0 - ETA: 40:0 - ETA: 40:0 - ETA: 40:0 - ETA: 40:0 - ETA: 40:0 - ETA: 40:0 - ETA: 40:0 - ETA: 40:0 - ETA: 40:0 - ETA: 40:0 - ETA: 40:0 - ETA: 40:0 - ETA: 40:0 - ETA: 40:0 - ETA: 40:0 - ETA: 40:0 - ETA: 40:0 - ETA: 40:0 - ETA: 40:0 - ETA: 40:0 - ETA: 40:0 - ETA: 40:0 - ETA: 40:0 - ETA: 40:0 - ETA: 40:0 - ETA: 40:0 - ETA: 39:5 - ETA: 39:5 - ETA: 39:5 - ETA: 39:5 - ETA: 39:5 - ETA: 39:5 - ETA: 39:5 - ETA: 39:5 - ETA: 39:5 - ETA: 39:5 - ETA: 39:5 - ETA: 39:5 - ETA: 39:5 - ETA: 39:5 - ETA: 39:5 - ETA: 39:5 - ETA: 39:5 - ETA: 39:5 - ETA: 39:5 - ETA: 39:5 - ETA: 39:5 - ETA: 39:5 - ETA: 39:5 - ETA: 39:5 - ETA: 39:5 - ETA: 39:5 - ETA: 39:5 - ETA: 39:5 - ETA: 39:5 - ETA: 39:5 - ETA: 39:5 - ETA: 39:5 - ETA: 39:5 - ETA: 39:5 - ETA: 39:5 - ETA: 39:5 - ETA: 39:5 - ETA: 39:5 - ETA: 39:5 - ETA: 39:5 - ETA: 39:5 - ETA: 39:5 - ETA: 39:5 - ETA: 39:5 - ETA: 39:5 - ETA: 39:5 - ETA: 39:5 - ETA: 39:5 - ETA: 39:5 - ETA: 39:5 - ETA: 39:5 - ETA: 39:5 - ETA: 39:5 - ETA: 39:5 - ETA: 39:5 - ETA: 39:5 - ETA: 39:5 - ETA: 39:5 - ETA: 39:5 - ETA: 39:5 - ETA: 39:4 - ETA: 39:4 - ETA: 39:4 - ETA: 39:4 - ETA: 39:4 - ETA: 39:4 - ETA: 39:4 - ETA: 39:4 - ETA: 39:4 - ETA: 39:4 - ETA: 39:4 - ETA: 39:4 - ETA: 39:4 - ETA: 39:4 - ETA: 39:4 - ETA: 39:4 - ETA: 39:4 - ETA: 39:4 - ETA: 39:4 - ETA: 39:4 - ETA: 39:4 - ETA: 39:4 - ETA: 39:4 - ETA: 39:4 - ETA: 39:4 - ETA: 39:4 - ETA: 39:4 - ETA: 39:4 - ETA: 39:4 - ETA: 39:4 - ETA: 39:4 - ETA: 39:4 - ETA: 39:4 - ETA: 39:4 - ETA: 39:4 - ETA: 39:4 - ETA: 39:4 - ETA: 39:4 - ETA: 39:4 - ETA: 39:4 - ETA: 39:4 - ETA: 39:4 - ETA: 39:4 - ETA: 39:4 - ETA: 39:4 - ETA: 39:4 - ETA: 39:4 - ETA: 39:4 - ETA: 39:4 - ETA: 39:4 - ETA: 39:4 - ETA: 39:4 - ETA: 39:4 - ETA: 39:4 - ETA: 39:4 - ETA: 39:4 - ETA: 39:4 - ETA: 39:4 - ETA: 39:4 - ETA: 39:3 - ETA: 39:3 - ETA: 39:3 - ETA: 39:3 - ETA: 39:3 - ETA: 39:3 - ETA: 39:3 - ETA: 39:3 - ETA: 39:3 - ETA: 39:3 - ETA: 39:3 - ETA: 39:3 - ETA: 39:3 - ETA: 39:3 - ETA: 39:3 - ETA: 39:3 - ETA: 39:3 - ETA: 39:3 - ETA: 39:3 - ETA: 39:3 - ETA: 39:3 - ETA: 39:3 - ETA: 39:3 - ETA: 39:3 - ETA: 39:3 - ETA: 39:3 - ETA: 39:3 - ETA: 39:3 - ETA: 39:3 - ETA: 39:3 - ETA: 39:3 - ETA: 39:3 - ETA: 39:3 - ETA: 39:3 - ETA: 39:3 - ETA: 39:3 - ETA: 39:3 - ETA: 39:3 - ETA: 39:3 - ETA: 39:3 - ETA: 39:3 - ETA: 39:3 - ETA: 39:3 - ETA: 39:3 - ETA: 39:3 - ETA: 39:3 - ETA: 39:3 - ETA: 39:3 - ETA: 39:3 - ETA: 39:3 - ETA: 39:3 - ETA: 39:3 - ETA: 39:3 - ETA: 39:3 - ETA: 39:3 - ETA: 39:3 - ETA: 39:3 - ETA: 39:3 - ETA: 39:3 - ETA: 39:3 - ETA: 39:3 - ETA: 39:2 - ETA: 39:2 - ETA: 39:2 - ETA: 39:2 - ETA: 39:2 - ETA: 39:2 - ETA: 39:2 - ETA: 39:2 - ETA: 39:2 - ETA: 39:2 - ETA: 39:2 - ETA: 39:2 - ETA: 39:2 - ETA: 39:2 - ETA: 39:2 - ETA: 39:2 - ETA: 39:2 - ETA: 39:2 - ETA: 39:2 - ETA: 39:2 - ETA: 39:2 - ETA: 39:2 - ETA: 39:2 - ETA: 39:26"
     ]
    },
    {
     "name": "stdout",
     "output_type": "stream",
     "text": [
      "130629632/580070376 [=====>........................] - ETA: 39:2 - ETA: 39:2 - ETA: 39:2 - ETA: 39:2 - ETA: 39:2 - ETA: 39:2 - ETA: 39:2 - ETA: 39:2 - ETA: 39:2 - ETA: 39:2 - ETA: 39:2 - ETA: 39:2 - ETA: 39:2 - ETA: 39:2 - ETA: 39:2 - ETA: 39:2 - ETA: 39:2 - ETA: 39:2 - ETA: 39:2 - ETA: 39:2 - ETA: 39:2 - ETA: 39:2 - ETA: 39:2 - ETA: 39:2 - ETA: 39:2 - ETA: 39:2 - ETA: 39:2 - ETA: 39:2 - ETA: 39:2 - ETA: 39:2 - ETA: 39:2 - ETA: 39:2 - ETA: 39:2 - ETA: 39:2 - ETA: 39:2 - ETA: 39:2 - ETA: 39:2 - ETA: 39:2 - ETA: 39:2 - ETA: 39:2 - ETA: 39:2 - ETA: 39:2 - ETA: 39:2 - ETA: 39:2 - ETA: 39:2 - ETA: 39:2 - ETA: 39:2 - ETA: 39:2 - ETA: 39:2 - ETA: 39:2 - ETA: 39:2 - ETA: 39:2 - ETA: 39:2 - ETA: 39:2 - ETA: 39:2 - ETA: 39:2 - ETA: 39:2 - ETA: 39:2 - ETA: 39:2 - ETA: 39:2 - ETA: 39:2 - ETA: 39:2 - ETA: 39:2 - ETA: 39:2 - ETA: 39:2 - ETA: 39:2 - ETA: 39:2 - ETA: 39:2 - ETA: 39:2 - ETA: 39:2 - ETA: 39:2 - ETA: 39:2 - ETA: 39:2 - ETA: 39:2 - ETA: 39:2 - ETA: 39:2 - ETA: 39:2 - ETA: 39:2 - ETA: 39:2 - ETA: 39:2 - ETA: 39:2 - ETA: 39:2 - ETA: 39:2 - ETA: 39:2 - ETA: 39:2 - ETA: 39:2 - ETA: 39:2 - ETA: 39:2 - ETA: 39:2 - ETA: 39:2 - ETA: 39:2 - ETA: 39:2 - ETA: 39:2 - ETA: 39:2 - ETA: 39:2 - ETA: 39:2 - ETA: 39:2 - ETA: 39:2 - ETA: 39:2 - ETA: 39:2 - ETA: 39:2 - ETA: 39:2 - ETA: 39:2 - ETA: 39:2 - ETA: 39:2 - ETA: 39:2 - ETA: 39:2 - ETA: 39:2 - ETA: 39:2 - ETA: 39:2 - ETA: 39:2 - ETA: 39:2 - ETA: 39:2 - ETA: 39:2 - ETA: 39:2 - ETA: 39:2 - ETA: 39:2 - ETA: 39:2 - ETA: 39:2 - ETA: 39:2 - ETA: 39:2 - ETA: 39:2 - ETA: 39:2 - ETA: 39:2 - ETA: 39:2 - ETA: 39:1 - ETA: 39:1 - ETA: 39:1 - ETA: 39:1 - ETA: 39:1 - ETA: 39:1 - ETA: 39:1 - ETA: 39:1 - ETA: 39:1 - ETA: 39:1 - ETA: 39:1 - ETA: 39:1 - ETA: 39:1 - ETA: 39:1 - ETA: 39:1 - ETA: 39:1 - ETA: 39:1 - ETA: 39:1 - ETA: 39:1 - ETA: 39:1 - ETA: 39:1 - ETA: 39:1 - ETA: 39:1 - ETA: 39:1 - ETA: 39:1 - ETA: 39:1 - ETA: 39:1 - ETA: 39:1 - ETA: 39:1 - ETA: 39:1 - ETA: 39:1 - ETA: 39:1 - ETA: 39:1 - ETA: 39:1 - ETA: 39:1 - ETA: 39:1 - ETA: 39:1 - ETA: 39:1 - ETA: 39:1 - ETA: 39:1 - ETA: 39:1 - ETA: 39:1 - ETA: 39:1 - ETA: 39:1 - ETA: 39:1 - ETA: 39:1 - ETA: 39:1 - ETA: 39:1 - ETA: 39:1 - ETA: 39:1 - ETA: 39:1 - ETA: 39:1 - ETA: 39:1 - ETA: 39:1 - ETA: 39:1 - ETA: 39:1 - ETA: 39:1 - ETA: 39:1 - ETA: 39:1 - ETA: 39:0 - ETA: 39:0 - ETA: 39:0 - ETA: 39:0 - ETA: 39:0 - ETA: 39:0 - ETA: 39:0 - ETA: 39:0 - ETA: 39:0 - ETA: 39:0 - ETA: 39:0 - ETA: 39:0 - ETA: 39:0 - ETA: 39:0 - ETA: 39:0 - ETA: 39:0 - ETA: 39:0 - ETA: 39:0 - ETA: 39:0 - ETA: 39:0 - ETA: 39:0 - ETA: 39:0 - ETA: 39:0 - ETA: 39:0 - ETA: 39:0 - ETA: 39:0 - ETA: 39:0 - ETA: 39:0 - ETA: 39:0 - ETA: 39:0 - ETA: 39:0 - ETA: 39:0 - ETA: 39:0 - ETA: 39:0 - ETA: 39:0 - ETA: 39:0 - ETA: 39:0 - ETA: 39:0 - ETA: 39:0 - ETA: 39:0 - ETA: 39:0 - ETA: 39:0 - ETA: 39:0 - ETA: 39:0 - ETA: 39:0 - ETA: 39:0 - ETA: 39:0 - ETA: 39:0 - ETA: 39:0 - ETA: 39:0 - ETA: 39:0 - ETA: 39:0 - ETA: 39:0 - ETA: 39:0 - ETA: 39:0 - ETA: 39:0 - ETA: 39:0 - ETA: 39:0 - ETA: 39:0 - ETA: 39:0 - ETA: 39:0 - ETA: 39:0 - ETA: 39:0 - ETA: 38:5 - ETA: 38:5 - ETA: 38:5 - ETA: 38:5 - ETA: 38:5 - ETA: 38:5 - ETA: 38:5 - ETA: 38:5 - ETA: 38:5 - ETA: 38:5 - ETA: 38:5 - ETA: 38:5 - ETA: 38:5 - ETA: 38:5 - ETA: 38:5 - ETA: 38:5 - ETA: 38:5 - ETA: 38:5 - ETA: 38:5 - ETA: 38:5 - ETA: 38:5 - ETA: 38:5 - ETA: 38:5 - ETA: 38:5 - ETA: 38:5 - ETA: 38:5 - ETA: 38:5 - ETA: 38:5 - ETA: 38:5 - ETA: 38:5 - ETA: 38:5 - ETA: 38:5 - ETA: 38:5 - ETA: 38:5 - ETA: 38:5 - ETA: 38:5 - ETA: 38:5 - ETA: 38:5 - ETA: 38:5 - ETA: 38:5 - ETA: 38:5 - ETA: 38:5 - ETA: 38:5 - ETA: 38:5 - ETA: 38:5 - ETA: 38:5 - ETA: 38:5 - ETA: 38:5 - ETA: 38:5 - ETA: 38:5 - ETA: 38:5 - ETA: 38:5 - ETA: 38:5 - ETA: 38:5 - ETA: 38:5 - ETA: 38:5 - ETA: 38:5 - ETA: 38:5 - ETA: 38:5 - ETA: 38:5 - ETA: 38:5 - ETA: 38:5 - ETA: 38:5 - ETA: 38:4 - ETA: 38:4 - ETA: 38:4 - ETA: 38:4 - ETA: 38:4 - ETA: 38:4 - ETA: 38:4 - ETA: 38:4 - ETA: 38:4 - ETA: 38:4 - ETA: 38:4 - ETA: 38:4 - ETA: 38:4 - ETA: 38:4 - ETA: 38:4 - ETA: 38:4 - ETA: 38:4 - ETA: 38:4 - ETA: 38:4 - ETA: 38:4 - ETA: 38:4 - ETA: 38:4 - ETA: 38:4 - ETA: 38:4 - ETA: 38:4 - ETA: 38:4 - ETA: 38:4 - ETA: 38:4 - ETA: 38:4 - ETA: 38:4 - ETA: 38:4 - ETA: 38:4 - ETA: 38:4 - ETA: 38:4 - ETA: 38:4 - ETA: 38:4 - ETA: 38:4 - ETA: 38:4 - ETA: 38:4 - ETA: 38:4 - ETA: 38:4 - ETA: 38:4 - ETA: 38:4 - ETA: 38:4 - ETA: 38:4 - ETA: 38:4 - ETA: 38:4 - ETA: 38:4 - ETA: 38:4 - ETA: 38:4 - ETA: 38:4 - ETA: 38:4 - ETA: 38:4 - ETA: 38:4 - ETA: 38:4 - ETA: 38:4 - ETA: 38:4 - ETA: 38:4 - ETA: 38:4 - ETA: 38:4 - ETA: 38:4 - ETA: 38:4 - ETA: 38:4 - ETA: 38:4 - ETA: 38:4 - ETA: 38:4 - ETA: 38:4 - ETA: 38:4 - ETA: 38:4 - ETA: 38:4 - ETA: 38:4 - ETA: 38:4 - ETA: 38:4 - ETA: 38:4 - ETA: 38:4 - ETA: 38:4 - ETA: 38:4 - ETA: 38:4 - ETA: 38:4 - ETA: 38:4 - ETA: 38:4 - ETA: 38:3 - ETA: 38:3 - ETA: 38:3 - ETA: 38:3 - ETA: 38:3 - ETA: 38:3 - ETA: 38:3 - ETA: 38:3 - ETA: 38:3 - ETA: 38:3 - ETA: 38:3 - ETA: 38:3 - ETA: 38:3 - ETA: 38:3 - ETA: 38:3 - ETA: 38:3 - ETA: 38:3 - ETA: 38:3 - ETA: 38:3 - ETA: 38:3 - ETA: 38:3 - ETA: 38:3 - ETA: 38:3 - ETA: 38:3 - ETA: 38:3 - ETA: 38:3 - ETA: 38:3 - ETA: 38:3 - ETA: 38:3 - ETA: 38:3 - ETA: 38:3 - ETA: 38:3 - ETA: 38:3 - ETA: 38:3 - ETA: 38:3 - ETA: 38:3 - ETA: 38:3 - ETA: 38:3 - ETA: 38:3 - ETA: 38:3 - ETA: 38:3 - ETA: 38:3 - ETA: 38:3 - ETA: 38:3 - ETA: 38:3 - ETA: 38:3 - ETA: 38:3 - ETA: 38:3 - ETA: 38:3 - ETA: 38:3 - ETA: 38:3 - ETA: 38:3 - ETA: 38:3 - ETA: 38:3 - ETA: 38:3 - ETA: 38:3 - ETA: 38:3 - ETA: 38:3 - ETA: 38:3 - ETA: 38:3 - ETA: 38:3 - ETA: 38:3 - ETA: 38:3 - ETA: 38:3 - ETA: 38:3 - ETA: 38:2 - ETA: 38:2 - ETA: 38:2 - ETA: 38:2 - ETA: 38:2 - ETA: 38:2 - ETA: 38:2 - ETA: 38:2 - ETA: 38:2 - ETA: 38:2 - ETA: 38:2 - ETA: 38:2 - ETA: 38:2 - ETA: 38:2 - ETA: 38:2 - ETA: 38:2 - ETA: 38:2 - ETA: 38:2 - ETA: 38:2 - ETA: 38:2 - ETA: 38:2 - ETA: 38:2 - ETA: 38:2 - ETA: 38:2 - ETA: 38:2 - ETA: 38:2 - ETA: 38:2 - ETA: 38:2 - ETA: 38:2 - ETA: 38:2 - ETA: 38:2 - ETA: 38:2 - ETA: 38:2 - ETA: 38:2 - ETA: 38:2 - ETA: 38:2 - ETA: 38:2 - ETA: 38:2 - ETA: 38:2 - ETA: 38:2 - ETA: 38:2 - ETA: 38:2 - ETA: 38:2 - ETA: 38:2 - ETA: 38:2 - ETA: 38:2 - ETA: 38:2 - ETA: 38:2 - ETA: 38:2 - ETA: 38:2 - ETA: 38:2 - ETA: 38:2 - ETA: 38:2 - ETA: 38:2 - ETA: 38:2 - ETA: 38:2 - ETA: 38:2 - ETA: 38:2 - ETA: 38:2 - ETA: 38:2 - ETA: 38:2 - ETA: 38:2 - ETA: 38:2 - ETA: 38:1 - ETA: 38:1 - ETA: 38:1 - ETA: 38:1 - ETA: 38:1 - ETA: 38:1 - ETA: 38:1 - ETA: 38:1 - ETA: 38:1 - ETA: 38:1 - ETA: 38:1 - ETA: 38:1 - ETA: 38:1 - ETA: 38:1 - ETA: 38:1 - ETA: 38:1 - ETA: 38:1 - ETA: 38:1 - ETA: 38:1 - ETA: 38:1 - ETA: 38:1 - ETA: 38:1 - ETA: 38:1 - ETA: 38:1 - ETA: 38:1 - ETA: 38:1 - ETA: 38:1 - ETA: 38:1 - ETA: 38:1 - ETA: 38:1 - ETA: 38:1 - ETA: 38:1 - ETA: 38:1 - ETA: 38:1 - ETA: 38:1 - ETA: 38:1 - ETA: 38:1 - ETA: 38:1 - ETA: 38:1 - ETA: 38:1 - ETA: 38:1 - ETA: 38:1 - ETA: 38:1 - ETA: 38:1 - ETA: 38:1 - ETA: 38:1 - ETA: 38:1 - ETA: 38:1 - ETA: 38:1 - ETA: 38:1 - ETA: 38:1 - ETA: 38:1 - ETA: 38:1 - ETA: 38:1 - ETA: 38:1 - ETA: 38:1 - ETA: 38:1 - ETA: 38:1 - ETA: 38:1 - ETA: 38:1 - ETA: 38:1 - ETA: 38:1 - ETA: 38:1 - ETA: 38:1 - ETA: 38:1 - ETA: 38:1 - ETA: 38:0 - ETA: 38:0 - ETA: 38:0 - ETA: 38:0 - ETA: 38:0 - ETA: 38:0 - ETA: 38:0 - ETA: 38:0 - ETA: 38:0 - ETA: 38:0 - ETA: 38:0 - ETA: 38:0 - ETA: 38:0 - ETA: 38:0 - ETA: 38:0 - ETA: 38:0 - ETA: 38:0 - ETA: 38:0 - ETA: 38:0 - ETA: 38:0 - ETA: 38:0 - ETA: 38:0 - ETA: 38:0 - ETA: 38:0 - ETA: 38:0 - ETA: 38:0 - ETA: 38:0 - ETA: 38:0 - ETA: 38:0 - ETA: 38:0 - ETA: 38:0 - ETA: 38:0 - ETA: 38:0 - ETA: 38:0 - ETA: 38:0 - ETA: 38:0 - ETA: 38:0 - ETA: 38:0 - ETA: 38:0 - ETA: 38:0 - ETA: 38:0 - ETA: 38:0 - ETA: 38:0 - ETA: 38:0 - ETA: 38:0 - ETA: 38:0 - ETA: 38:0 - ETA: 38:0 - ETA: 38:0 - ETA: 38:0 - ETA: 38:0 - ETA: 38:0 - ETA: 38:0 - ETA: 38:0 - ETA: 38:0 - ETA: 38:0 - ETA: 38:0 - ETA: 38:0 - ETA: 38:0 - ETA: 38:0 - ETA: 38:0 - ETA: 38:0 - ETA: 38:0 - ETA: 38:0 - ETA: 38:0 - ETA: 38:0 - ETA: 37:5 - ETA: 37:5 - ETA: 37:5 - ETA: 37:5 - ETA: 37:5 - ETA: 37:5 - ETA: 37:5 - ETA: 37:5 - ETA: 37:5 - ETA: 37:5 - ETA: 37:5 - ETA: 37:5 - ETA: 37:5 - ETA: 37:5 - ETA: 37:5 - ETA: 37:5 - ETA: 37:5 - ETA: 37:5 - ETA: 37:5 - ETA: 37:5 - ETA: 37:5 - ETA: 37:5 - ETA: 37:5 - ETA: 37:5 - ETA: 37:5 - ETA: 37:5 - ETA: 37:5 - ETA: 37:55"
     ]
    },
    {
     "name": "stdout",
     "output_type": "stream",
     "text": [
      "142606336/580070376 [======>.......................] - ETA: 37:5 - ETA: 37:5 - ETA: 37:5 - ETA: 37:5 - ETA: 37:5 - ETA: 37:5 - ETA: 37:5 - ETA: 37:5 - ETA: 37:5 - ETA: 37:5 - ETA: 37:5 - ETA: 37:5 - ETA: 37:5 - ETA: 37:5 - ETA: 37:5 - ETA: 37:5 - ETA: 37:5 - ETA: 37:5 - ETA: 37:5 - ETA: 37:5 - ETA: 37:5 - ETA: 37:5 - ETA: 37:5 - ETA: 37:5 - ETA: 37:5 - ETA: 37:5 - ETA: 37:5 - ETA: 37:5 - ETA: 37:5 - ETA: 37:5 - ETA: 37:5 - ETA: 37:5 - ETA: 37:5 - ETA: 37:5 - ETA: 37:5 - ETA: 37:5 - ETA: 37:5 - ETA: 37:5 - ETA: 37:4 - ETA: 37:4 - ETA: 37:4 - ETA: 37:4 - ETA: 37:4 - ETA: 37:4 - ETA: 37:4 - ETA: 37:4 - ETA: 37:4 - ETA: 37:4 - ETA: 37:4 - ETA: 37:4 - ETA: 37:4 - ETA: 37:4 - ETA: 37:4 - ETA: 37:4 - ETA: 37:4 - ETA: 37:4 - ETA: 37:4 - ETA: 37:4 - ETA: 37:4 - ETA: 37:4 - ETA: 37:4 - ETA: 37:4 - ETA: 37:4 - ETA: 37:4 - ETA: 37:4 - ETA: 37:4 - ETA: 37:4 - ETA: 37:4 - ETA: 37:4 - ETA: 37:4 - ETA: 37:4 - ETA: 37:4 - ETA: 37:4 - ETA: 37:4 - ETA: 37:4 - ETA: 37:4 - ETA: 37:4 - ETA: 37:4 - ETA: 37:4 - ETA: 37:4 - ETA: 37:4 - ETA: 37:4 - ETA: 37:4 - ETA: 37:4 - ETA: 37:4 - ETA: 37:4 - ETA: 37:4 - ETA: 37:4 - ETA: 37:4 - ETA: 37:4 - ETA: 37:4 - ETA: 37:4 - ETA: 37:4 - ETA: 37:4 - ETA: 37:4 - ETA: 37:4 - ETA: 37:4 - ETA: 37:4 - ETA: 37:4 - ETA: 37:4 - ETA: 37:4 - ETA: 37:4 - ETA: 37:4 - ETA: 37:4 - ETA: 37:3 - ETA: 37:3 - ETA: 37:3 - ETA: 37:3 - ETA: 37:3 - ETA: 37:3 - ETA: 37:3 - ETA: 37:3 - ETA: 37:3 - ETA: 37:3 - ETA: 37:3 - ETA: 37:3 - ETA: 37:3 - ETA: 37:3 - ETA: 37:3 - ETA: 37:3 - ETA: 37:3 - ETA: 37:3 - ETA: 37:3 - ETA: 37:3 - ETA: 37:3 - ETA: 37:3 - ETA: 37:3 - ETA: 37:3 - ETA: 37:3 - ETA: 37:3 - ETA: 37:3 - ETA: 37:3 - ETA: 37:3 - ETA: 37:3 - ETA: 37:3 - ETA: 37:3 - ETA: 37:3 - ETA: 37:3 - ETA: 37:3 - ETA: 37:3 - ETA: 37:3 - ETA: 37:3 - ETA: 37:3 - ETA: 37:3 - ETA: 37:3 - ETA: 37:3 - ETA: 37:3 - ETA: 37:3 - ETA: 37:3 - ETA: 37:3 - ETA: 37:3 - ETA: 37:3 - ETA: 37:3 - ETA: 37:3 - ETA: 37:3 - ETA: 37:3 - ETA: 37:3 - ETA: 37:3 - ETA: 37:3 - ETA: 37:3 - ETA: 37:3 - ETA: 37:3 - ETA: 37:3 - ETA: 37:3 - ETA: 37:3 - ETA: 37:3 - ETA: 37:3 - ETA: 37:3 - ETA: 37:3 - ETA: 37:3 - ETA: 37:3 - ETA: 37:3 - ETA: 37:2 - ETA: 37:2 - ETA: 37:2 - ETA: 37:2 - ETA: 37:2 - ETA: 37:2 - ETA: 37:2 - ETA: 37:2 - ETA: 37:2 - ETA: 37:2 - ETA: 37:2 - ETA: 37:2 - ETA: 37:2 - ETA: 37:2 - ETA: 37:2 - ETA: 37:2 - ETA: 37:2 - ETA: 37:2 - ETA: 37:2 - ETA: 37:2 - ETA: 37:2 - ETA: 37:2 - ETA: 37:2 - ETA: 37:2 - ETA: 37:2 - ETA: 37:2 - ETA: 37:2 - ETA: 37:2 - ETA: 37:2 - ETA: 37:2 - ETA: 37:2 - ETA: 37:2 - ETA: 37:2 - ETA: 37:2 - ETA: 37:2 - ETA: 37:2 - ETA: 37:2 - ETA: 37:2 - ETA: 37:2 - ETA: 37:2 - ETA: 37:2 - ETA: 37:2 - ETA: 37:2 - ETA: 37:2 - ETA: 37:2 - ETA: 37:2 - ETA: 37:2 - ETA: 37:2 - ETA: 37:2 - ETA: 37:2 - ETA: 37:2 - ETA: 37:2 - ETA: 37:2 - ETA: 37:2 - ETA: 37:2 - ETA: 37:2 - ETA: 37:2 - ETA: 37:2 - ETA: 37:2 - ETA: 37:2 - ETA: 37:2 - ETA: 37:2 - ETA: 37:2 - ETA: 37:2 - ETA: 37:2 - ETA: 37:2 - ETA: 37:2 - ETA: 37:1 - ETA: 37:1 - ETA: 37:1 - ETA: 37:1 - ETA: 37:1 - ETA: 37:1 - ETA: 37:1 - ETA: 37:1 - ETA: 37:1 - ETA: 37:1 - ETA: 37:1 - ETA: 37:1 - ETA: 37:1 - ETA: 37:1 - ETA: 37:1 - ETA: 37:1 - ETA: 37:1 - ETA: 37:1 - ETA: 37:1 - ETA: 37:1 - ETA: 37:1 - ETA: 37:1 - ETA: 37:1 - ETA: 37:1 - ETA: 37:1 - ETA: 37:1 - ETA: 37:1 - ETA: 37:1 - ETA: 37:1 - ETA: 37:1 - ETA: 37:1 - ETA: 37:1 - ETA: 37:1 - ETA: 37:1 - ETA: 37:1 - ETA: 37:1 - ETA: 37:1 - ETA: 37:1 - ETA: 37:1 - ETA: 37:1 - ETA: 37:1 - ETA: 37:1 - ETA: 37:1 - ETA: 37:1 - ETA: 37:1 - ETA: 37:1 - ETA: 37:1 - ETA: 37:1 - ETA: 37:1 - ETA: 37:1 - ETA: 37:1 - ETA: 37:1 - ETA: 37:1 - ETA: 37:1 - ETA: 37:1 - ETA: 37:1 - ETA: 37:1 - ETA: 37:1 - ETA: 37:1 - ETA: 37:1 - ETA: 37:1 - ETA: 37:1 - ETA: 37:1 - ETA: 37:1 - ETA: 37:1 - ETA: 37:1 - ETA: 37:1 - ETA: 37:1 - ETA: 37:0 - ETA: 37:0 - ETA: 37:0 - ETA: 37:0 - ETA: 37:0 - ETA: 37:0 - ETA: 37:0 - ETA: 37:0 - ETA: 37:0 - ETA: 37:0 - ETA: 37:0 - ETA: 37:0 - ETA: 37:0 - ETA: 37:0 - ETA: 37:0 - ETA: 37:0 - ETA: 37:0 - ETA: 37:0 - ETA: 37:0 - ETA: 37:0 - ETA: 37:0 - ETA: 37:0 - ETA: 37:0 - ETA: 37:0 - ETA: 37:0 - ETA: 37:0 - ETA: 37:0 - ETA: 37:0 - ETA: 37:0 - ETA: 37:0 - ETA: 37:0 - ETA: 37:0 - ETA: 37:0 - ETA: 37:0 - ETA: 37:0 - ETA: 37:0 - ETA: 37:0 - ETA: 37:0 - ETA: 37:0 - ETA: 37:0 - ETA: 37:0 - ETA: 37:0 - ETA: 37:0 - ETA: 37:0 - ETA: 37:0 - ETA: 37:0 - ETA: 37:0 - ETA: 37:0 - ETA: 37:0 - ETA: 37:0 - ETA: 37:0 - ETA: 37:0 - ETA: 37:0 - ETA: 37:0 - ETA: 37:0 - ETA: 37:0 - ETA: 37:0 - ETA: 37:0 - ETA: 37:0 - ETA: 37:0 - ETA: 37:0 - ETA: 37:0 - ETA: 37:0 - ETA: 37:0 - ETA: 37:0 - ETA: 37:0 - ETA: 37:0 - ETA: 37:0 - ETA: 36:5 - ETA: 36:5 - ETA: 36:5 - ETA: 36:5 - ETA: 36:5 - ETA: 36:5 - ETA: 36:5 - ETA: 36:5 - ETA: 36:5 - ETA: 36:5 - ETA: 36:5 - ETA: 36:5 - ETA: 36:5 - ETA: 36:5 - ETA: 36:5 - ETA: 36:5 - ETA: 36:5 - ETA: 36:5 - ETA: 36:5 - ETA: 36:5 - ETA: 36:5 - ETA: 36:5 - ETA: 36:5 - ETA: 36:5 - ETA: 36:5 - ETA: 36:5 - ETA: 36:5 - ETA: 36:5 - ETA: 36:5 - ETA: 36:5 - ETA: 36:5 - ETA: 36:5 - ETA: 36:5 - ETA: 36:5 - ETA: 36:5 - ETA: 36:5 - ETA: 36:5 - ETA: 36:5 - ETA: 36:5 - ETA: 36:5 - ETA: 36:5 - ETA: 36:5 - ETA: 36:5 - ETA: 36:5 - ETA: 36:5 - ETA: 36:5 - ETA: 36:5 - ETA: 36:5 - ETA: 36:5 - ETA: 36:5 - ETA: 36:5 - ETA: 36:5 - ETA: 36:5 - ETA: 36:5 - ETA: 36:5 - ETA: 36:5 - ETA: 36:5 - ETA: 36:5 - ETA: 36:5 - ETA: 36:5 - ETA: 36:5 - ETA: 36:5 - ETA: 36:5 - ETA: 36:5 - ETA: 36:5 - ETA: 36:5 - ETA: 36:5 - ETA: 36:5 - ETA: 36:5 - ETA: 36:5 - ETA: 36:5 - ETA: 36:4 - ETA: 36:4 - ETA: 36:4 - ETA: 36:4 - ETA: 36:4 - ETA: 36:4 - ETA: 36:4 - ETA: 36:4 - ETA: 36:4 - ETA: 36:4 - ETA: 36:4 - ETA: 36:4 - ETA: 36:4 - ETA: 36:4 - ETA: 36:4 - ETA: 36:4 - ETA: 36:4 - ETA: 36:4 - ETA: 36:4 - ETA: 36:4 - ETA: 36:4 - ETA: 36:4 - ETA: 36:4 - ETA: 36:4 - ETA: 36:4 - ETA: 36:4 - ETA: 36:4 - ETA: 36:4 - ETA: 36:4 - ETA: 36:4 - ETA: 36:4 - ETA: 36:4 - ETA: 36:4 - ETA: 36:4 - ETA: 36:4 - ETA: 36:4 - ETA: 36:4 - ETA: 36:4 - ETA: 36:4 - ETA: 36:4 - ETA: 36:4 - ETA: 36:4 - ETA: 36:4 - ETA: 36:4 - ETA: 36:4 - ETA: 36:4 - ETA: 36:4 - ETA: 36:4 - ETA: 36:4 - ETA: 36:4 - ETA: 36:4 - ETA: 36:4 - ETA: 36:4 - ETA: 36:4 - ETA: 36:4 - ETA: 36:4 - ETA: 36:4 - ETA: 36:4 - ETA: 36:4 - ETA: 36:4 - ETA: 36:4 - ETA: 36:4 - ETA: 36:4 - ETA: 36:4 - ETA: 36:4 - ETA: 36:4 - ETA: 36:4 - ETA: 36:4 - ETA: 36:4 - ETA: 36:4 - ETA: 36:3 - ETA: 36:3 - ETA: 36:3 - ETA: 36:3 - ETA: 36:3 - ETA: 36:3 - ETA: 36:3 - ETA: 36:3 - ETA: 36:3 - ETA: 36:3 - ETA: 36:3 - ETA: 36:3 - ETA: 36:3 - ETA: 36:3 - ETA: 36:3 - ETA: 36:3 - ETA: 36:3 - ETA: 36:3 - ETA: 36:3 - ETA: 36:3 - ETA: 36:3 - ETA: 36:3 - ETA: 36:3 - ETA: 36:3 - ETA: 36:3 - ETA: 36:3 - ETA: 36:3 - ETA: 36:3 - ETA: 36:3 - ETA: 36:3 - ETA: 36:3 - ETA: 36:3 - ETA: 36:3 - ETA: 36:3 - ETA: 36:3 - ETA: 36:3 - ETA: 36:3 - ETA: 36:3 - ETA: 36:3 - ETA: 36:3 - ETA: 36:3 - ETA: 36:3 - ETA: 36:3 - ETA: 36:3 - ETA: 36:3 - ETA: 36:3 - ETA: 36:3 - ETA: 36:3 - ETA: 36:3 - ETA: 36:3 - ETA: 36:3 - ETA: 36:3 - ETA: 36:3 - ETA: 36:3 - ETA: 36:3 - ETA: 36:3 - ETA: 36:3 - ETA: 36:3 - ETA: 36:3 - ETA: 36:3 - ETA: 36:3 - ETA: 36:3 - ETA: 36:3 - ETA: 36:3 - ETA: 36:3 - ETA: 36:3 - ETA: 36:3 - ETA: 36:3 - ETA: 36:3 - ETA: 36:3 - ETA: 36:2 - ETA: 36:2 - ETA: 36:2 - ETA: 36:2 - ETA: 36:2 - ETA: 36:2 - ETA: 36:2 - ETA: 36:2 - ETA: 36:2 - ETA: 36:2 - ETA: 36:2 - ETA: 36:2 - ETA: 36:2 - ETA: 36:2 - ETA: 36:2 - ETA: 36:2 - ETA: 36:2 - ETA: 36:2 - ETA: 36:2 - ETA: 36:2 - ETA: 36:2 - ETA: 36:2 - ETA: 36:2 - ETA: 36:2 - ETA: 36:2 - ETA: 36:2 - ETA: 36:2 - ETA: 36:2 - ETA: 36:2 - ETA: 36:2 - ETA: 36:2 - ETA: 36:2 - ETA: 36:2 - ETA: 36:2 - ETA: 36:2 - ETA: 36:2 - ETA: 36:2 - ETA: 36:2 - ETA: 36:2 - ETA: 36:2 - ETA: 36:2 - ETA: 36:2 - ETA: 36:2 - ETA: 36:2 - ETA: 36:2 - ETA: 36:2 - ETA: 36:2 - ETA: 36:2 - ETA: 36:2 - ETA: 36:2 - ETA: 36:2 - ETA: 36:2 - ETA: 36:2 - ETA: 36:2 - ETA: 36:2 - ETA: 36:2 - ETA: 36:2 - ETA: 36:2 - ETA: 36:2 - ETA: 36:2 - ETA: 36:2 - ETA: 36:2 - ETA: 36:2 - ETA: 36:2 - ETA: 36:2 - ETA: 36:2 - ETA: 36:2 - ETA: 36:2 - ETA: 36:2 - ETA: 36:2 - ETA: 36:2 - ETA: 36:2 - ETA: 36:2 - ETA: 36:1 - ETA: 36:1 - ETA: 36:1 - ETA: 36:1 - ETA: 36:1 - ETA: 36:1 - ETA: 36:1 - ETA: 36:1 - ETA: 36:1 - ETA: 36:1 - ETA: 36:1 - ETA: 36:1 - ETA: 36:1 - ETA: 36:1 - ETA: 36:1 - ETA: 36:1 - ETA: 36:1 - ETA: 36:1 - ETA: 36:1 - ETA: 36:17"
     ]
    },
    {
     "name": "stdout",
     "output_type": "stream",
     "text": [
      "155443200/580070376 [=======>......................] - ETA: 36:1 - ETA: 36:1 - ETA: 36:1 - ETA: 36:1 - ETA: 36:1 - ETA: 36:1 - ETA: 36:1 - ETA: 36:1 - ETA: 36:1 - ETA: 36:1 - ETA: 36:1 - ETA: 36:1 - ETA: 36:1 - ETA: 36:1 - ETA: 36:1 - ETA: 36:1 - ETA: 36:1 - ETA: 36:1 - ETA: 36:1 - ETA: 36:1 - ETA: 36:1 - ETA: 36:1 - ETA: 36:1 - ETA: 36:1 - ETA: 36:1 - ETA: 36:1 - ETA: 36:1 - ETA: 36:1 - ETA: 36:1 - ETA: 36:1 - ETA: 36:1 - ETA: 36:1 - ETA: 36:1 - ETA: 36:1 - ETA: 36:1 - ETA: 36:1 - ETA: 36:1 - ETA: 36:1 - ETA: 36:1 - ETA: 36:1 - ETA: 36:1 - ETA: 36:1 - ETA: 36:1 - ETA: 36:1 - ETA: 36:1 - ETA: 36:1 - ETA: 36:1 - ETA: 36:1 - ETA: 36:1 - ETA: 36:1 - ETA: 36:1 - ETA: 36:1 - ETA: 36:1 - ETA: 36:1 - ETA: 36:1 - ETA: 36:1 - ETA: 36:0 - ETA: 36:0 - ETA: 36:0 - ETA: 36:0 - ETA: 36:0 - ETA: 36:0 - ETA: 36:0 - ETA: 36:0 - ETA: 36:0 - ETA: 36:0 - ETA: 36:0 - ETA: 36:0 - ETA: 36:0 - ETA: 36:0 - ETA: 36:0 - ETA: 36:0 - ETA: 36:0 - ETA: 36:0 - ETA: 36:0 - ETA: 36:0 - ETA: 36:0 - ETA: 36:0 - ETA: 36:0 - ETA: 36:0 - ETA: 36:0 - ETA: 36:0 - ETA: 36:0 - ETA: 36:0 - ETA: 36:0 - ETA: 36:0 - ETA: 36:0 - ETA: 36:0 - ETA: 36:0 - ETA: 36:0 - ETA: 36:0 - ETA: 36:0 - ETA: 36:0 - ETA: 36:0 - ETA: 36:0 - ETA: 36:0 - ETA: 36:0 - ETA: 36:0 - ETA: 36:0 - ETA: 36:0 - ETA: 36:0 - ETA: 36:0 - ETA: 36:0 - ETA: 36:0 - ETA: 36:0 - ETA: 36:0 - ETA: 36:0 - ETA: 36:0 - ETA: 36:0 - ETA: 36:0 - ETA: 36:0 - ETA: 36:0 - ETA: 36:0 - ETA: 36:0 - ETA: 36:0 - ETA: 36:0 - ETA: 36:0 - ETA: 36:0 - ETA: 36:0 - ETA: 36:0 - ETA: 36:0 - ETA: 36:0 - ETA: 36:0 - ETA: 36:0 - ETA: 36:0 - ETA: 36:0 - ETA: 36:0 - ETA: 36:0 - ETA: 36:0 - ETA: 35:5 - ETA: 35:5 - ETA: 35:5 - ETA: 35:5 - ETA: 35:5 - ETA: 35:5 - ETA: 35:5 - ETA: 35:5 - ETA: 35:5 - ETA: 35:5 - ETA: 35:5 - ETA: 35:5 - ETA: 35:5 - ETA: 35:5 - ETA: 35:5 - ETA: 35:5 - ETA: 35:5 - ETA: 35:5 - ETA: 35:5 - ETA: 35:5 - ETA: 35:5 - ETA: 35:5 - ETA: 35:5 - ETA: 35:5 - ETA: 35:5 - ETA: 35:5 - ETA: 35:5 - ETA: 35:5 - ETA: 35:5 - ETA: 35:5 - ETA: 35:5 - ETA: 35:5 - ETA: 35:5 - ETA: 35:5 - ETA: 35:5 - ETA: 35:5 - ETA: 35:5 - ETA: 35:5 - ETA: 35:5 - ETA: 35:5 - ETA: 35:5 - ETA: 35:5 - ETA: 35:5 - ETA: 35:5 - ETA: 35:5 - ETA: 35:5 - ETA: 35:5 - ETA: 35:5 - ETA: 35:5 - ETA: 35:5 - ETA: 35:5 - ETA: 35:5 - ETA: 35:5 - ETA: 35:5 - ETA: 35:5 - ETA: 35:5 - ETA: 35:5 - ETA: 35:5 - ETA: 35:5 - ETA: 35:5 - ETA: 35:5 - ETA: 35:5 - ETA: 35:5 - ETA: 35:5 - ETA: 35:5 - ETA: 35:5 - ETA: 35:5 - ETA: 35:5 - ETA: 35:5 - ETA: 35:5 - ETA: 35:5 - ETA: 35:5 - ETA: 35:5 - ETA: 35:5 - ETA: 35:4 - ETA: 35:4 - ETA: 35:4 - ETA: 35:4 - ETA: 35:4 - ETA: 35:4 - ETA: 35:4 - ETA: 35:4 - ETA: 35:4 - ETA: 35:4 - ETA: 35:4 - ETA: 35:4 - ETA: 35:4 - ETA: 35:4 - ETA: 35:4 - ETA: 35:4 - ETA: 35:4 - ETA: 35:4 - ETA: 35:4 - ETA: 35:4 - ETA: 35:4 - ETA: 35:4 - ETA: 35:4 - ETA: 35:4 - ETA: 35:4 - ETA: 35:4 - ETA: 35:4 - ETA: 35:4 - ETA: 35:4 - ETA: 35:4 - ETA: 35:4 - ETA: 35:4 - ETA: 35:4 - ETA: 35:4 - ETA: 35:4 - ETA: 35:4 - ETA: 35:4 - ETA: 35:4 - ETA: 35:4 - ETA: 35:4 - ETA: 35:4 - ETA: 35:4 - ETA: 35:4 - ETA: 35:4 - ETA: 35:4 - ETA: 35:4 - ETA: 35:4 - ETA: 35:4 - ETA: 35:4 - ETA: 35:4 - ETA: 35:4 - ETA: 35:4 - ETA: 35:4 - ETA: 35:4 - ETA: 35:4 - ETA: 35:4 - ETA: 35:4 - ETA: 35:4 - ETA: 35:4 - ETA: 35:4 - ETA: 35:4 - ETA: 35:4 - ETA: 35:4 - ETA: 35:4 - ETA: 35:4 - ETA: 35:4 - ETA: 35:4 - ETA: 35:4 - ETA: 35:4 - ETA: 35:4 - ETA: 35:4 - ETA: 35:4 - ETA: 35:4 - ETA: 35:4 - ETA: 35:4 - ETA: 35:3 - ETA: 35:3 - ETA: 35:3 - ETA: 35:3 - ETA: 35:3 - ETA: 35:3 - ETA: 35:3 - ETA: 35:3 - ETA: 35:3 - ETA: 35:3 - ETA: 35:3 - ETA: 35:3 - ETA: 35:3 - ETA: 35:3 - ETA: 35:3 - ETA: 35:3 - ETA: 35:3 - ETA: 35:3 - ETA: 35:3 - ETA: 35:3 - ETA: 35:3 - ETA: 35:3 - ETA: 35:3 - ETA: 35:3 - ETA: 35:3 - ETA: 35:3 - ETA: 35:3 - ETA: 35:3 - ETA: 35:3 - ETA: 35:3 - ETA: 35:3 - ETA: 35:3 - ETA: 35:3 - ETA: 35:3 - ETA: 35:3 - ETA: 35:3 - ETA: 35:3 - ETA: 35:3 - ETA: 35:3 - ETA: 35:3 - ETA: 35:3 - ETA: 35:3 - ETA: 35:3 - ETA: 35:3 - ETA: 35:3 - ETA: 35:3 - ETA: 35:3 - ETA: 35:3 - ETA: 35:3 - ETA: 35:3 - ETA: 35:3 - ETA: 35:3 - ETA: 35:3 - ETA: 35:3 - ETA: 35:3 - ETA: 35:3 - ETA: 35:3 - ETA: 35:3 - ETA: 35:3 - ETA: 35:3 - ETA: 35:3 - ETA: 35:3 - ETA: 35:3 - ETA: 35:3 - ETA: 35:3 - ETA: 35:3 - ETA: 35:3 - ETA: 35:3 - ETA: 35:3 - ETA: 35:3 - ETA: 35:3 - ETA: 35:3 - ETA: 35:3 - ETA: 35:3 - ETA: 35:2 - ETA: 35:2 - ETA: 35:2 - ETA: 35:2 - ETA: 35:2 - ETA: 35:2 - ETA: 35:2 - ETA: 35:2 - ETA: 35:2 - ETA: 35:2 - ETA: 35:2 - ETA: 35:2 - ETA: 35:2 - ETA: 35:2 - ETA: 35:2 - ETA: 35:2 - ETA: 35:2 - ETA: 35:2 - ETA: 35:2 - ETA: 35:2 - ETA: 35:2 - ETA: 35:2 - ETA: 35:2 - ETA: 35:2 - ETA: 35:2 - ETA: 35:2 - ETA: 35:2 - ETA: 35:2 - ETA: 35:2 - ETA: 35:2 - ETA: 35:2 - ETA: 35:2 - ETA: 35:2 - ETA: 35:2 - ETA: 35:2 - ETA: 35:2 - ETA: 35:2 - ETA: 35:2 - ETA: 35:2 - ETA: 35:2 - ETA: 35:2 - ETA: 35:2 - ETA: 35:2 - ETA: 35:2 - ETA: 35:2 - ETA: 35:2 - ETA: 35:2 - ETA: 35:2 - ETA: 35:2 - ETA: 35:2 - ETA: 35:2 - ETA: 35:2 - ETA: 35:2 - ETA: 35:2 - ETA: 35:2 - ETA: 35:2 - ETA: 35:2 - ETA: 35:2 - ETA: 35:2 - ETA: 35:2 - ETA: 35:2 - ETA: 35:2 - ETA: 35:2 - ETA: 35:2 - ETA: 35:2 - ETA: 35:2 - ETA: 35:2 - ETA: 35:2 - ETA: 35:2 - ETA: 35:2 - ETA: 35:2 - ETA: 35:2 - ETA: 35:2 - ETA: 35:2 - ETA: 35:2 - ETA: 35:2 - ETA: 35:2 - ETA: 35:2 - ETA: 35:2 - ETA: 35:2 - ETA: 35:2 - ETA: 35:2 - ETA: 35:2 - ETA: 35:2 - ETA: 35:2 - ETA: 35:2 - ETA: 35:2 - ETA: 35:2 - ETA: 35:2 - ETA: 35:2 - ETA: 35:2 - ETA: 35:2 - ETA: 35:2 - ETA: 35:2 - ETA: 35:2 - ETA: 35:2 - ETA: 35:2 - ETA: 35:2 - ETA: 35:2 - ETA: 35:1 - ETA: 35:1 - ETA: 35:1 - ETA: 35:1 - ETA: 35:1 - ETA: 35:1 - ETA: 35:1 - ETA: 35:1 - ETA: 35:1 - ETA: 35:1 - ETA: 35:1 - ETA: 35:1 - ETA: 35:1 - ETA: 35:1 - ETA: 35:1 - ETA: 35:1 - ETA: 35:1 - ETA: 35:1 - ETA: 35:1 - ETA: 35:1 - ETA: 35:1 - ETA: 35:1 - ETA: 35:1 - ETA: 35:1 - ETA: 35:1 - ETA: 35:1 - ETA: 35:1 - ETA: 35:1 - ETA: 35:1 - ETA: 35:1 - ETA: 35:1 - ETA: 35:1 - ETA: 35:1 - ETA: 35:1 - ETA: 35:1 - ETA: 35:1 - ETA: 35:1 - ETA: 35:1 - ETA: 35:1 - ETA: 35:1 - ETA: 35:1 - ETA: 35:1 - ETA: 35:1 - ETA: 35:1 - ETA: 35:1 - ETA: 35:1 - ETA: 35:1 - ETA: 35:1 - ETA: 35:1 - ETA: 35:1 - ETA: 35:1 - ETA: 35:1 - ETA: 35:1 - ETA: 35:1 - ETA: 35:1 - ETA: 35:1 - ETA: 35:1 - ETA: 35:1 - ETA: 35:1 - ETA: 35:1 - ETA: 35:1 - ETA: 35:1 - ETA: 35:1 - ETA: 35:1 - ETA: 35:1 - ETA: 35:1 - ETA: 35:1 - ETA: 35:1 - ETA: 35:1 - ETA: 35:1 - ETA: 35:1 - ETA: 35:0 - ETA: 35:0 - ETA: 35:0 - ETA: 35:0 - ETA: 35:0 - ETA: 35:0 - ETA: 35:0 - ETA: 35:0 - ETA: 35:0 - ETA: 35:0 - ETA: 35:0 - ETA: 35:0 - ETA: 35:0 - ETA: 35:0 - ETA: 35:0 - ETA: 35:0 - ETA: 35:0 - ETA: 35:0 - ETA: 35:0 - ETA: 35:0 - ETA: 35:0 - ETA: 35:0 - ETA: 35:0 - ETA: 35:0 - ETA: 35:0 - ETA: 35:0 - ETA: 35:0 - ETA: 35:0 - ETA: 35:0 - ETA: 35:0 - ETA: 35:0 - ETA: 35:0 - ETA: 35:0 - ETA: 35:0 - ETA: 35:0 - ETA: 35:0 - ETA: 35:0 - ETA: 35:0 - ETA: 35:0 - ETA: 35:0 - ETA: 35:0 - ETA: 35:0 - ETA: 35:0 - ETA: 35:0 - ETA: 35:0 - ETA: 35:0 - ETA: 35:0 - ETA: 35:0 - ETA: 35:0 - ETA: 35:0 - ETA: 35:0 - ETA: 35:0 - ETA: 35:0 - ETA: 35:0 - ETA: 35:0 - ETA: 35:0 - ETA: 35:0 - ETA: 35:0 - ETA: 35:0 - ETA: 35:0 - ETA: 35:0 - ETA: 35:0 - ETA: 35:0 - ETA: 35:0 - ETA: 34:5 - ETA: 34:5 - ETA: 34:5 - ETA: 34:5 - ETA: 34:5 - ETA: 34:5 - ETA: 34:5 - ETA: 34:5 - ETA: 34:5 - ETA: 34:5 - ETA: 34:5 - ETA: 34:5 - ETA: 34:5 - ETA: 34:5 - ETA: 34:5 - ETA: 34:5 - ETA: 34:5 - ETA: 34:5 - ETA: 34:5 - ETA: 34:5 - ETA: 34:5 - ETA: 34:5 - ETA: 34:5 - ETA: 34:5 - ETA: 34:5 - ETA: 34:5 - ETA: 34:5 - ETA: 34:5 - ETA: 34:5 - ETA: 34:5 - ETA: 34:5 - ETA: 34:5 - ETA: 34:5 - ETA: 34:5 - ETA: 34:5 - ETA: 34:5 - ETA: 34:5 - ETA: 34:5 - ETA: 34:5 - ETA: 34:5 - ETA: 34:5 - ETA: 34:5 - ETA: 34:5 - ETA: 34:5 - ETA: 34:5 - ETA: 34:5 - ETA: 34:5 - ETA: 34:5 - ETA: 34:5 - ETA: 34:5 - ETA: 34:5 - ETA: 34:5 - ETA: 34:5 - ETA: 34:5 - ETA: 34:5 - ETA: 34:5 - ETA: 34:5 - ETA: 34:5 - ETA: 34:5 - ETA: 34:5 - ETA: 34:5 - ETA: 34:5 - ETA: 34:5 - ETA: 34:5 - ETA: 34:5 - ETA: 34:5 - ETA: 34:5 - ETA: 34:5 - ETA: 34:4 - ETA: 34:4 - ETA: 34:4 - ETA: 34:4 - ETA: 34:4 - ETA: 34:4 - ETA: 34:4 - ETA: 34:4 - ETA: 34:4 - ETA: 34:4 - ETA: 34:4 - ETA: 34:4 - ETA: 34:4 - ETA: 34:4 - ETA: 34:4 - ETA: 34:4 - ETA: 34:4 - ETA: 34:4 - ETA: 34:4 - ETA: 34:4 - ETA: 34:4 - ETA: 34:4 - ETA: 34:4 - ETA: 34:4 - ETA: 34:45"
     ]
    },
    {
     "name": "stdout",
     "output_type": "stream",
     "text": [
      "168706048/580070376 [=======>......................] - ETA: 34:4 - ETA: 34:4 - ETA: 34:4 - ETA: 34:4 - ETA: 34:4 - ETA: 34:4 - ETA: 34:4 - ETA: 34:4 - ETA: 34:4 - ETA: 34:4 - ETA: 34:4 - ETA: 34:4 - ETA: 34:4 - ETA: 34:4 - ETA: 34:4 - ETA: 34:4 - ETA: 34:4 - ETA: 34:4 - ETA: 34:4 - ETA: 34:4 - ETA: 34:4 - ETA: 34:4 - ETA: 34:4 - ETA: 34:4 - ETA: 34:4 - ETA: 34:4 - ETA: 34:4 - ETA: 34:4 - ETA: 34:4 - ETA: 34:4 - ETA: 34:4 - ETA: 34:4 - ETA: 34:4 - ETA: 34:4 - ETA: 34:4 - ETA: 34:4 - ETA: 34:4 - ETA: 34:4 - ETA: 34:4 - ETA: 34:4 - ETA: 34:4 - ETA: 34:4 - ETA: 34:3 - ETA: 34:3 - ETA: 34:3 - ETA: 34:3 - ETA: 34:3 - ETA: 34:3 - ETA: 34:3 - ETA: 34:3 - ETA: 34:3 - ETA: 34:3 - ETA: 34:3 - ETA: 34:3 - ETA: 34:3 - ETA: 34:3 - ETA: 34:3 - ETA: 34:3 - ETA: 34:3 - ETA: 34:3 - ETA: 34:3 - ETA: 34:3 - ETA: 34:3 - ETA: 34:3 - ETA: 34:3 - ETA: 34:3 - ETA: 34:3 - ETA: 34:3 - ETA: 34:3 - ETA: 34:3 - ETA: 34:3 - ETA: 34:3 - ETA: 34:3 - ETA: 34:3 - ETA: 34:3 - ETA: 34:3 - ETA: 34:3 - ETA: 34:3 - ETA: 34:3 - ETA: 34:3 - ETA: 34:3 - ETA: 34:3 - ETA: 34:3 - ETA: 34:3 - ETA: 34:3 - ETA: 34:3 - ETA: 34:3 - ETA: 34:3 - ETA: 34:3 - ETA: 34:3 - ETA: 34:3 - ETA: 34:3 - ETA: 34:3 - ETA: 34:3 - ETA: 34:3 - ETA: 34:3 - ETA: 34:3 - ETA: 34:3 - ETA: 34:3 - ETA: 34:3 - ETA: 34:3 - ETA: 34:3 - ETA: 34:3 - ETA: 34:3 - ETA: 34:3 - ETA: 34:3 - ETA: 34:3 - ETA: 34:3 - ETA: 34:3 - ETA: 34:3 - ETA: 34:3 - ETA: 34:3 - ETA: 34:3 - ETA: 34:3 - ETA: 34:3 - ETA: 34:3 - ETA: 34:3 - ETA: 34:2 - ETA: 34:2 - ETA: 34:2 - ETA: 34:2 - ETA: 34:2 - ETA: 34:2 - ETA: 34:2 - ETA: 34:2 - ETA: 34:2 - ETA: 34:2 - ETA: 34:2 - ETA: 34:2 - ETA: 34:2 - ETA: 34:2 - ETA: 34:2 - ETA: 34:2 - ETA: 34:2 - ETA: 34:2 - ETA: 34:2 - ETA: 34:2 - ETA: 34:2 - ETA: 34:2 - ETA: 34:2 - ETA: 34:2 - ETA: 34:2 - ETA: 34:2 - ETA: 34:2 - ETA: 34:2 - ETA: 34:2 - ETA: 34:2 - ETA: 34:2 - ETA: 34:2 - ETA: 34:2 - ETA: 34:2 - ETA: 34:2 - ETA: 34:2 - ETA: 34:2 - ETA: 34:2 - ETA: 34:2 - ETA: 34:2 - ETA: 34:2 - ETA: 34:2 - ETA: 34:2 - ETA: 34:2 - ETA: 34:2 - ETA: 34:2 - ETA: 34:2 - ETA: 34:2 - ETA: 34:2 - ETA: 34:2 - ETA: 34:2 - ETA: 34:2 - ETA: 34:2 - ETA: 34:2 - ETA: 34:2 - ETA: 34:2 - ETA: 34:2 - ETA: 34:2 - ETA: 34:2 - ETA: 34:2 - ETA: 34:2 - ETA: 34:2 - ETA: 34:2 - ETA: 34:2 - ETA: 34:2 - ETA: 34:2 - ETA: 34:2 - ETA: 34:2 - ETA: 34:2 - ETA: 34:2 - ETA: 34:2 - ETA: 34:2 - ETA: 34:2 - ETA: 34:2 - ETA: 34:2 - ETA: 34:1 - ETA: 34:1 - ETA: 34:1 - ETA: 34:1 - ETA: 34:1 - ETA: 34:1 - ETA: 34:1 - ETA: 34:1 - ETA: 34:1 - ETA: 34:1 - ETA: 34:1 - ETA: 34:1 - ETA: 34:1 - ETA: 34:1 - ETA: 34:1 - ETA: 34:1 - ETA: 34:1 - ETA: 34:1 - ETA: 34:1 - ETA: 34:1 - ETA: 34:1 - ETA: 34:1 - ETA: 34:1 - ETA: 34:1 - ETA: 34:1 - ETA: 34:1 - ETA: 34:1 - ETA: 34:1 - ETA: 34:1 - ETA: 34:1 - ETA: 34:1 - ETA: 34:1 - ETA: 34:1 - ETA: 34:1 - ETA: 34:1 - ETA: 34:1 - ETA: 34:1 - ETA: 34:1 - ETA: 34:1 - ETA: 34:1 - ETA: 34:1 - ETA: 34:1 - ETA: 34:1 - ETA: 34:1 - ETA: 34:1 - ETA: 34:1 - ETA: 34:1 - ETA: 34:1 - ETA: 34:1 - ETA: 34:1 - ETA: 34:1 - ETA: 34:1 - ETA: 34:1 - ETA: 34:1 - ETA: 34:1 - ETA: 34:1 - ETA: 34:1 - ETA: 34:1 - ETA: 34:1 - ETA: 34:1 - ETA: 34:1 - ETA: 34:1 - ETA: 34:1 - ETA: 34:1 - ETA: 34:1 - ETA: 34:1 - ETA: 34:1 - ETA: 34:1 - ETA: 34:1 - ETA: 34:1 - ETA: 34:1 - ETA: 34:1 - ETA: 34:1 - ETA: 34:0 - ETA: 34:0 - ETA: 34:0 - ETA: 34:0 - ETA: 34:0 - ETA: 34:0 - ETA: 34:0 - ETA: 34:0 - ETA: 34:0 - ETA: 34:0 - ETA: 34:0 - ETA: 34:0 - ETA: 34:0 - ETA: 34:0 - ETA: 34:0 - ETA: 34:0 - ETA: 34:0 - ETA: 34:0 - ETA: 34:0 - ETA: 34:0 - ETA: 34:0 - ETA: 34:0 - ETA: 34:0 - ETA: 34:0 - ETA: 34:0 - ETA: 34:0 - ETA: 34:0 - ETA: 34:0 - ETA: 34:0 - ETA: 34:0 - ETA: 34:0 - ETA: 34:0 - ETA: 34:0 - ETA: 34:0 - ETA: 34:0 - ETA: 34:0 - ETA: 34:0 - ETA: 34:0 - ETA: 34:0 - ETA: 34:0 - ETA: 34:0 - ETA: 34:0 - ETA: 34:0 - ETA: 34:0 - ETA: 34:0 - ETA: 34:0 - ETA: 34:0 - ETA: 34:0 - ETA: 34:0 - ETA: 34:0 - ETA: 34:0 - ETA: 34:0 - ETA: 34:0 - ETA: 34:0 - ETA: 34:0 - ETA: 34:0 - ETA: 34:0 - ETA: 34:0 - ETA: 34:0 - ETA: 34:0 - ETA: 34:0 - ETA: 34:0 - ETA: 34:0 - ETA: 34:0 - ETA: 33:5 - ETA: 33:5 - ETA: 33:5 - ETA: 33:5 - ETA: 33:5 - ETA: 33:5 - ETA: 33:5 - ETA: 33:5 - ETA: 33:5 - ETA: 33:5 - ETA: 33:5 - ETA: 33:5 - ETA: 33:5 - ETA: 33:5 - ETA: 33:5 - ETA: 33:5 - ETA: 33:5 - ETA: 33:5 - ETA: 33:5 - ETA: 33:5 - ETA: 33:5 - ETA: 33:5 - ETA: 33:5 - ETA: 33:5 - ETA: 33:5 - ETA: 33:5 - ETA: 33:5 - ETA: 33:5 - ETA: 33:5 - ETA: 33:5 - ETA: 33:5 - ETA: 33:5 - ETA: 33:5 - ETA: 33:5 - ETA: 33:5 - ETA: 33:5 - ETA: 33:5 - ETA: 33:5 - ETA: 33:5 - ETA: 33:5 - ETA: 33:5 - ETA: 33:5 - ETA: 33:5 - ETA: 33:5 - ETA: 33:5 - ETA: 33:5 - ETA: 33:5 - ETA: 33:5 - ETA: 33:5 - ETA: 33:5 - ETA: 33:5 - ETA: 33:5 - ETA: 33:5 - ETA: 33:5 - ETA: 33:5 - ETA: 33:5 - ETA: 33:5 - ETA: 33:5 - ETA: 33:5 - ETA: 33:5 - ETA: 33:5 - ETA: 33:5 - ETA: 33:5 - ETA: 33:5 - ETA: 33:5 - ETA: 33:5 - ETA: 33:4 - ETA: 33:4 - ETA: 33:4 - ETA: 33:4 - ETA: 33:4 - ETA: 33:4 - ETA: 33:4 - ETA: 33:4 - ETA: 33:4 - ETA: 33:4 - ETA: 33:4 - ETA: 33:4 - ETA: 33:4 - ETA: 33:4 - ETA: 33:4 - ETA: 33:4 - ETA: 33:4 - ETA: 33:4 - ETA: 33:4 - ETA: 33:4 - ETA: 33:4 - ETA: 33:4 - ETA: 33:4 - ETA: 33:4 - ETA: 33:4 - ETA: 33:4 - ETA: 33:4 - ETA: 33:4 - ETA: 33:4 - ETA: 33:4 - ETA: 33:4 - ETA: 33:4 - ETA: 33:4 - ETA: 33:4 - ETA: 33:4 - ETA: 33:4 - ETA: 33:4 - ETA: 33:4 - ETA: 33:4 - ETA: 33:4 - ETA: 33:4 - ETA: 33:4 - ETA: 33:4 - ETA: 33:4 - ETA: 33:4 - ETA: 33:4 - ETA: 33:4 - ETA: 33:4 - ETA: 33:4 - ETA: 33:4 - ETA: 33:4 - ETA: 33:4 - ETA: 33:4 - ETA: 33:4 - ETA: 33:4 - ETA: 33:4 - ETA: 33:4 - ETA: 33:4 - ETA: 33:4 - ETA: 33:4 - ETA: 33:4 - ETA: 33:4 - ETA: 33:4 - ETA: 33:4 - ETA: 33:4 - ETA: 33:4 - ETA: 33:4 - ETA: 33:4 - ETA: 33:4 - ETA: 33:4 - ETA: 33:4 - ETA: 33:4 - ETA: 33:4 - ETA: 33:3 - ETA: 33:3 - ETA: 33:3 - ETA: 33:3 - ETA: 33:3 - ETA: 33:3 - ETA: 33:3 - ETA: 33:3 - ETA: 33:3 - ETA: 33:3 - ETA: 33:3 - ETA: 33:3 - ETA: 33:3 - ETA: 33:3 - ETA: 33:3 - ETA: 33:3 - ETA: 33:3 - ETA: 33:3 - ETA: 33:3 - ETA: 33:3 - ETA: 33:3 - ETA: 33:3 - ETA: 33:3 - ETA: 33:3 - ETA: 33:3 - ETA: 33:3 - ETA: 33:3 - ETA: 33:3 - ETA: 33:3 - ETA: 33:3 - ETA: 33:3 - ETA: 33:3 - ETA: 33:3 - ETA: 33:3 - ETA: 33:3 - ETA: 33:3 - ETA: 33:3 - ETA: 33:3 - ETA: 33:3 - ETA: 33:3 - ETA: 33:3 - ETA: 33:3 - ETA: 33:3 - ETA: 33:3 - ETA: 33:3 - ETA: 33:3 - ETA: 33:3 - ETA: 33:3 - ETA: 33:3 - ETA: 33:3 - ETA: 33:3 - ETA: 33:3 - ETA: 33:3 - ETA: 33:3 - ETA: 33:3 - ETA: 33:3 - ETA: 33:3 - ETA: 33:3 - ETA: 33:3 - ETA: 33:3 - ETA: 33:3 - ETA: 33:3 - ETA: 33:3 - ETA: 33:3 - ETA: 33:3 - ETA: 33:3 - ETA: 33:3 - ETA: 33:3 - ETA: 33:3 - ETA: 33:3 - ETA: 33:3 - ETA: 33:3 - ETA: 33:3 - ETA: 33:3 - ETA: 33:3 - ETA: 33:3 - ETA: 33:3 - ETA: 33:3 - ETA: 33:3 - ETA: 33:3 - ETA: 33:2 - ETA: 33:2 - ETA: 33:2 - ETA: 33:2 - ETA: 33:2 - ETA: 33:2 - ETA: 33:2 - ETA: 33:2 - ETA: 33:2 - ETA: 33:2 - ETA: 33:2 - ETA: 33:2 - ETA: 33:2 - ETA: 33:2 - ETA: 33:2 - ETA: 33:2 - ETA: 33:2 - ETA: 33:2 - ETA: 33:2 - ETA: 33:2 - ETA: 33:2 - ETA: 33:2 - ETA: 33:2 - ETA: 33:2 - ETA: 33:2 - ETA: 33:2 - ETA: 33:2 - ETA: 33:2 - ETA: 33:2 - ETA: 33:2 - ETA: 33:2 - ETA: 33:2 - ETA: 33:2 - ETA: 33:2 - ETA: 33:2 - ETA: 33:2 - ETA: 33:2 - ETA: 33:2 - ETA: 33:2 - ETA: 33:2 - ETA: 33:2 - ETA: 33:2 - ETA: 33:2 - ETA: 33:2 - ETA: 33:2 - ETA: 33:2 - ETA: 33:2 - ETA: 33:2 - ETA: 33:2 - ETA: 33:2 - ETA: 33:2 - ETA: 33:2 - ETA: 33:2 - ETA: 33:2 - ETA: 33:2 - ETA: 33:2 - ETA: 33:2 - ETA: 33:2 - ETA: 33:2 - ETA: 33:2 - ETA: 33:2 - ETA: 33:2 - ETA: 33:2 - ETA: 33:2 - ETA: 33:2 - ETA: 33:2 - ETA: 33:2 - ETA: 33:2 - ETA: 33:2 - ETA: 33:2 - ETA: 33:2 - ETA: 33:2 - ETA: 33:2 - ETA: 33:2 - ETA: 33:2 - ETA: 33:2 - ETA: 33:2 - ETA: 33:2 - ETA: 33:2 - ETA: 33:1 - ETA: 33:1 - ETA: 33:1 - ETA: 33:1 - ETA: 33:1 - ETA: 33:1 - ETA: 33:1 - ETA: 33:1 - ETA: 33:1 - ETA: 33:1 - ETA: 33:1 - ETA: 33:1 - ETA: 33:1 - ETA: 33:1 - ETA: 33:1 - ETA: 33:1 - ETA: 33:1 - ETA: 33:1 - ETA: 33:1 - ETA: 33:1 - ETA: 33:1 - ETA: 33:1 - ETA: 33:1 - ETA: 33:1 - ETA: 33:1 - ETA: 33:1 - ETA: 33:1 - ETA: 33:1 - ETA: 33:1 - ETA: 33:1 - ETA: 33:1 - ETA: 33:1 - ETA: 33:1 - ETA: 33:1 - ETA: 33:1 - ETA: 33:1 - ETA: 33:1 - ETA: 33:1 - ETA: 33:1 - ETA: 33:1 - ETA: 33:1 - ETA: 33:1 - ETA: 33:1 - ETA: 33:1 - ETA: 33:1 - ETA: 33:1 - ETA: 33:1 - ETA: 33:1 - ETA: 33:1 - ETA: 33:1 - ETA: 33:1 - ETA: 33:13"
     ]
    },
    {
     "name": "stdout",
     "output_type": "stream",
     "text": [
      "181919744/580070376 [========>.....................] - ETA: 33:1 - ETA: 33:1 - ETA: 33:1 - ETA: 33:1 - ETA: 33:1 - ETA: 33:1 - ETA: 33:1 - ETA: 33:1 - ETA: 33:1 - ETA: 33:1 - ETA: 33:1 - ETA: 33:1 - ETA: 33:1 - ETA: 33:1 - ETA: 33:1 - ETA: 33:1 - ETA: 33:1 - ETA: 33:1 - ETA: 33:1 - ETA: 33:1 - ETA: 33:1 - ETA: 33:1 - ETA: 33:1 - ETA: 33:1 - ETA: 33:1 - ETA: 33:1 - ETA: 33:1 - ETA: 33:1 - ETA: 33:1 - ETA: 33:1 - ETA: 33:1 - ETA: 33:1 - ETA: 33:1 - ETA: 33:1 - ETA: 33:1 - ETA: 33:1 - ETA: 33:1 - ETA: 33:1 - ETA: 33:1 - ETA: 33:1 - ETA: 33:1 - ETA: 33:1 - ETA: 33:1 - ETA: 33:1 - ETA: 33:1 - ETA: 33:1 - ETA: 33:1 - ETA: 33:1 - ETA: 33:1 - ETA: 33:1 - ETA: 33:0 - ETA: 33:0 - ETA: 33:0 - ETA: 33:0 - ETA: 33:0 - ETA: 33:0 - ETA: 33:0 - ETA: 33:0 - ETA: 33:0 - ETA: 33:0 - ETA: 33:0 - ETA: 33:0 - ETA: 33:0 - ETA: 33:0 - ETA: 33:0 - ETA: 33:0 - ETA: 33:0 - ETA: 33:0 - ETA: 33:0 - ETA: 33:0 - ETA: 33:0 - ETA: 33:0 - ETA: 33:0 - ETA: 33:0 - ETA: 33:0 - ETA: 33:0 - ETA: 33:0 - ETA: 33:0 - ETA: 33:0 - ETA: 33:0 - ETA: 33:0 - ETA: 33:0 - ETA: 33:0 - ETA: 33:0 - ETA: 33:0 - ETA: 33:0 - ETA: 33:0 - ETA: 33:0 - ETA: 33:0 - ETA: 33:0 - ETA: 33:0 - ETA: 33:0 - ETA: 33:0 - ETA: 33:0 - ETA: 33:0 - ETA: 33:0 - ETA: 33:0 - ETA: 33:0 - ETA: 33:0 - ETA: 33:0 - ETA: 33:0 - ETA: 33:0 - ETA: 33:0 - ETA: 33:0 - ETA: 33:0 - ETA: 33:0 - ETA: 33:0 - ETA: 33:0 - ETA: 33:0 - ETA: 33:0 - ETA: 33:0 - ETA: 33:0 - ETA: 33:0 - ETA: 33:0 - ETA: 33:0 - ETA: 33:0 - ETA: 33:0 - ETA: 33:0 - ETA: 33:0 - ETA: 33:0 - ETA: 33:0 - ETA: 33:0 - ETA: 33:0 - ETA: 33:0 - ETA: 33:0 - ETA: 33:0 - ETA: 33:0 - ETA: 32:5 - ETA: 32:5 - ETA: 32:5 - ETA: 32:5 - ETA: 32:5 - ETA: 32:5 - ETA: 32:5 - ETA: 32:5 - ETA: 32:5 - ETA: 32:5 - ETA: 32:5 - ETA: 32:5 - ETA: 32:5 - ETA: 32:5 - ETA: 32:5 - ETA: 32:5 - ETA: 32:5 - ETA: 32:5 - ETA: 32:5 - ETA: 32:5 - ETA: 32:5 - ETA: 32:5 - ETA: 32:5 - ETA: 32:5 - ETA: 32:5 - ETA: 32:5 - ETA: 32:5 - ETA: 32:5 - ETA: 32:5 - ETA: 32:5 - ETA: 32:5 - ETA: 32:5 - ETA: 32:5 - ETA: 32:5 - ETA: 32:5 - ETA: 32:5 - ETA: 32:5 - ETA: 32:5 - ETA: 32:5 - ETA: 32:5 - ETA: 32:5 - ETA: 32:5 - ETA: 32:5 - ETA: 32:5 - ETA: 32:5 - ETA: 32:5 - ETA: 32:5 - ETA: 32:5 - ETA: 32:5 - ETA: 32:5 - ETA: 32:5 - ETA: 32:5 - ETA: 32:5 - ETA: 32:5 - ETA: 32:5 - ETA: 32:5 - ETA: 32:5 - ETA: 32:5 - ETA: 32:5 - ETA: 32:5 - ETA: 32:5 - ETA: 32:5 - ETA: 32:5 - ETA: 32:5 - ETA: 32:5 - ETA: 32:5 - ETA: 32:5 - ETA: 32:5 - ETA: 32:5 - ETA: 32:5 - ETA: 32:5 - ETA: 32:5 - ETA: 32:5 - ETA: 32:5 - ETA: 32:5 - ETA: 32:5 - ETA: 32:5 - ETA: 32:5 - ETA: 32:5 - ETA: 32:4 - ETA: 32:4 - ETA: 32:4 - ETA: 32:4 - ETA: 32:4 - ETA: 32:4 - ETA: 32:4 - ETA: 32:4 - ETA: 32:4 - ETA: 32:4 - ETA: 32:4 - ETA: 32:4 - ETA: 32:4 - ETA: 32:4 - ETA: 32:4 - ETA: 32:4 - ETA: 32:4 - ETA: 32:4 - ETA: 32:4 - ETA: 32:4 - ETA: 32:4 - ETA: 32:4 - ETA: 32:4 - ETA: 32:4 - ETA: 32:4 - ETA: 32:4 - ETA: 32:4 - ETA: 32:4 - ETA: 32:4 - ETA: 32:4 - ETA: 32:4 - ETA: 32:4 - ETA: 32:4 - ETA: 32:4 - ETA: 32:4 - ETA: 32:4 - ETA: 32:4 - ETA: 32:4 - ETA: 32:4 - ETA: 32:4 - ETA: 32:4 - ETA: 32:4 - ETA: 32:4 - ETA: 32:4 - ETA: 32:4 - ETA: 32:4 - ETA: 32:4 - ETA: 32:4 - ETA: 32:4 - ETA: 32:4 - ETA: 32:4 - ETA: 32:4 - ETA: 32:4 - ETA: 32:4 - ETA: 32:4 - ETA: 32:4 - ETA: 32:4 - ETA: 32:4 - ETA: 32:4 - ETA: 32:4 - ETA: 32:4 - ETA: 32:4 - ETA: 32:4 - ETA: 32:4 - ETA: 32:4 - ETA: 32:4 - ETA: 32:4 - ETA: 32:4 - ETA: 32:4 - ETA: 32:4 - ETA: 32:4 - ETA: 32:4 - ETA: 32:4 - ETA: 32:3 - ETA: 32:3 - ETA: 32:3 - ETA: 32:3 - ETA: 32:3 - ETA: 32:3 - ETA: 32:3 - ETA: 32:3 - ETA: 32:3 - ETA: 32:3 - ETA: 32:3 - ETA: 32:3 - ETA: 32:3 - ETA: 32:3 - ETA: 32:3 - ETA: 32:3 - ETA: 32:3 - ETA: 32:3 - ETA: 32:3 - ETA: 32:3 - ETA: 32:3 - ETA: 32:3 - ETA: 32:3 - ETA: 32:3 - ETA: 32:3 - ETA: 32:3 - ETA: 32:3 - ETA: 32:3 - ETA: 32:3 - ETA: 32:3 - ETA: 32:3 - ETA: 32:3 - ETA: 32:3 - ETA: 32:3 - ETA: 32:3 - ETA: 32:3 - ETA: 32:3 - ETA: 32:3 - ETA: 32:3 - ETA: 32:3 - ETA: 32:3 - ETA: 32:3 - ETA: 32:3 - ETA: 32:3 - ETA: 32:3 - ETA: 32:3 - ETA: 32:3 - ETA: 32:3 - ETA: 32:3 - ETA: 32:3 - ETA: 32:3 - ETA: 32:3 - ETA: 32:3 - ETA: 32:3 - ETA: 32:3 - ETA: 32:3 - ETA: 32:3 - ETA: 32:3 - ETA: 32:3 - ETA: 32:3 - ETA: 32:3 - ETA: 32:3 - ETA: 32:3 - ETA: 32:3 - ETA: 32:3 - ETA: 32:3 - ETA: 32:3 - ETA: 32:3 - ETA: 32:3 - ETA: 32:3 - ETA: 32:3 - ETA: 32:3 - ETA: 32:3 - ETA: 32:3 - ETA: 32:3 - ETA: 32:3 - ETA: 32:2 - ETA: 32:2 - ETA: 32:2 - ETA: 32:2 - ETA: 32:2 - ETA: 32:2 - ETA: 32:2 - ETA: 32:2 - ETA: 32:2 - ETA: 32:2 - ETA: 32:2 - ETA: 32:2 - ETA: 32:2 - ETA: 32:2 - ETA: 32:2 - ETA: 32:2 - ETA: 32:2 - ETA: 32:2 - ETA: 32:2 - ETA: 32:2 - ETA: 32:2 - ETA: 32:2 - ETA: 32:2 - ETA: 32:2 - ETA: 32:2 - ETA: 32:2 - ETA: 32:2 - ETA: 32:2 - ETA: 32:2 - ETA: 32:2 - ETA: 32:2 - ETA: 32:2 - ETA: 32:2 - ETA: 32:2 - ETA: 32:2 - ETA: 32:2 - ETA: 32:2 - ETA: 32:2 - ETA: 32:2 - ETA: 32:2 - ETA: 32:2 - ETA: 32:2 - ETA: 32:2 - ETA: 32:2 - ETA: 32:2 - ETA: 32:2 - ETA: 32:2 - ETA: 32:2 - ETA: 32:2 - ETA: 32:2 - ETA: 32:2 - ETA: 32:2 - ETA: 32:2 - ETA: 32:2 - ETA: 32:2 - ETA: 32:2 - ETA: 32:2 - ETA: 32:2 - ETA: 32:2 - ETA: 32:2 - ETA: 32:2 - ETA: 32:2 - ETA: 32:2 - ETA: 32:2 - ETA: 32:2 - ETA: 32:2 - ETA: 32:2 - ETA: 32:2 - ETA: 32:2 - ETA: 32:2 - ETA: 32:2 - ETA: 32:2 - ETA: 32:2 - ETA: 32:2 - ETA: 32:2 - ETA: 32:2 - ETA: 32:2 - ETA: 32:2 - ETA: 32:2 - ETA: 32:2 - ETA: 32:2 - ETA: 32:2 - ETA: 32:2 - ETA: 32:2 - ETA: 32:2 - ETA: 32:2 - ETA: 32:2 - ETA: 32:2 - ETA: 32:2 - ETA: 32:2 - ETA: 32:2 - ETA: 32:2 - ETA: 32:2 - ETA: 32:2 - ETA: 32:2 - ETA: 32:2 - ETA: 32:2 - ETA: 32:2 - ETA: 32:2 - ETA: 32:2 - ETA: 32:2 - ETA: 32:2 - ETA: 32:1 - ETA: 32:1 - ETA: 32:1 - ETA: 32:1 - ETA: 32:1 - ETA: 32:1 - ETA: 32:1 - ETA: 32:1 - ETA: 32:1 - ETA: 32:1 - ETA: 32:1 - ETA: 32:1 - ETA: 32:1 - ETA: 32:1 - ETA: 32:1 - ETA: 32:1 - ETA: 32:1 - ETA: 32:1 - ETA: 32:1 - ETA: 32:1 - ETA: 32:1 - ETA: 32:1 - ETA: 32:1 - ETA: 32:1 - ETA: 32:1 - ETA: 32:1 - ETA: 32:1 - ETA: 32:1 - ETA: 32:1 - ETA: 32:1 - ETA: 32:1 - ETA: 32:1 - ETA: 32:1 - ETA: 32:1 - ETA: 32:1 - ETA: 32:1 - ETA: 32:1 - ETA: 32:1 - ETA: 32:1 - ETA: 32:1 - ETA: 32:1 - ETA: 32:1 - ETA: 32:1 - ETA: 32:1 - ETA: 32:1 - ETA: 32:1 - ETA: 32:1 - ETA: 32:1 - ETA: 32:1 - ETA: 32:1 - ETA: 32:1 - ETA: 32:1 - ETA: 32:1 - ETA: 32:1 - ETA: 32:1 - ETA: 32:1 - ETA: 32:1 - ETA: 32:1 - ETA: 32:1 - ETA: 32:1 - ETA: 32:1 - ETA: 32:1 - ETA: 32:1 - ETA: 32:1 - ETA: 32:1 - ETA: 32:1 - ETA: 32:1 - ETA: 32:1 - ETA: 32:1 - ETA: 32:1 - ETA: 32:1 - ETA: 32:1 - ETA: 32:1 - ETA: 32:1 - ETA: 32:0 - ETA: 32:0 - ETA: 32:0 - ETA: 32:0 - ETA: 32:0 - ETA: 32:0 - ETA: 32:0 - ETA: 32:0 - ETA: 32:0 - ETA: 32:0 - ETA: 32:0 - ETA: 32:0 - ETA: 32:0 - ETA: 32:0 - ETA: 32:0 - ETA: 32:0 - ETA: 32:0 - ETA: 32:0 - ETA: 32:0 - ETA: 32:0 - ETA: 32:0 - ETA: 32:0 - ETA: 32:0 - ETA: 32:0 - ETA: 32:0 - ETA: 32:0 - ETA: 32:0 - ETA: 32:0 - ETA: 32:0 - ETA: 32:0 - ETA: 32:0 - ETA: 32:0 - ETA: 32:0 - ETA: 32:0 - ETA: 32:0 - ETA: 32:0 - ETA: 32:0 - ETA: 32:0 - ETA: 32:0 - ETA: 32:0 - ETA: 32:0 - ETA: 32:0 - ETA: 32:0 - ETA: 32:0 - ETA: 32:0 - ETA: 32:0 - ETA: 32:0 - ETA: 32:0 - ETA: 32:0 - ETA: 32:0 - ETA: 32:0 - ETA: 32:0 - ETA: 32:0 - ETA: 32:0 - ETA: 32:0 - ETA: 32:0 - ETA: 32:0 - ETA: 32:0 - ETA: 32:0 - ETA: 32:0 - ETA: 32:0 - ETA: 32:0 - ETA: 32:0 - ETA: 32:0 - ETA: 32:0 - ETA: 32:0 - ETA: 32:0 - ETA: 32:0 - ETA: 32:0 - ETA: 32:0 - ETA: 32:0 - ETA: 32:0 - ETA: 32:0 - ETA: 32:0 - ETA: 32:0 - ETA: 32:0 - ETA: 32:0 - ETA: 32:0 - ETA: 31:5 - ETA: 31:5 - ETA: 31:5 - ETA: 31:5 - ETA: 31:5 - ETA: 31:5 - ETA: 31:5 - ETA: 31:5 - ETA: 31:5 - ETA: 31:5 - ETA: 31:5 - ETA: 31:5 - ETA: 31:5 - ETA: 31:5 - ETA: 31:5 - ETA: 31:5 - ETA: 31:5 - ETA: 31:5 - ETA: 31:5 - ETA: 31:5 - ETA: 31:5 - ETA: 31:5 - ETA: 31:5 - ETA: 31:5 - ETA: 31:5 - ETA: 31:5 - ETA: 31:5 - ETA: 31:5 - ETA: 31:5 - ETA: 31:5 - ETA: 31:5 - ETA: 31:5 - ETA: 31:5 - ETA: 31:5 - ETA: 31:5 - ETA: 31:5 - ETA: 31:5 - ETA: 31:5 - ETA: 31:5 - ETA: 31:5 - ETA: 31:5 - ETA: 31:5 - ETA: 31:5 - ETA: 31:5 - ETA: 31:5 - ETA: 31:5 - ETA: 31:5 - ETA: 31:5 - ETA: 31:5 - ETA: 31:5 - ETA: 31:5 - ETA: 31:5 - ETA: 31:5 - ETA: 31:5 - ETA: 31:5 - ETA: 31:5 - ETA: 31:5 - ETA: 31:5 - ETA: 31:5 - ETA: 31:5 - ETA: 31:5 - ETA: 31:5 - ETA: 31:5 - ETA: 31:5 - ETA: 31:5 - ETA: 31:5 - ETA: 31:5 - ETA: 31:5 - ETA: 31:5 - ETA: 31:51"
     ]
    },
    {
     "name": "stdout",
     "output_type": "stream",
     "text": [
      "196108288/580070376 [=========>....................] - ETA: 31:5 - ETA: 31:5 - ETA: 31:5 - ETA: 31:5 - ETA: 31:5 - ETA: 31:5 - ETA: 31:5 - ETA: 31:5 - ETA: 31:5 - ETA: 31:5 - ETA: 31:5 - ETA: 31:4 - ETA: 31:4 - ETA: 31:4 - ETA: 31:4 - ETA: 31:4 - ETA: 31:4 - ETA: 31:4 - ETA: 31:4 - ETA: 31:4 - ETA: 31:4 - ETA: 31:4 - ETA: 31:4 - ETA: 31:4 - ETA: 31:4 - ETA: 31:4 - ETA: 31:4 - ETA: 31:4 - ETA: 31:4 - ETA: 31:4 - ETA: 31:4 - ETA: 31:4 - ETA: 31:4 - ETA: 31:4 - ETA: 31:4 - ETA: 31:4 - ETA: 31:4 - ETA: 31:4 - ETA: 31:4 - ETA: 31:4 - ETA: 31:4 - ETA: 31:4 - ETA: 31:4 - ETA: 31:4 - ETA: 31:4 - ETA: 31:4 - ETA: 31:4 - ETA: 31:4 - ETA: 31:4 - ETA: 31:4 - ETA: 31:4 - ETA: 31:4 - ETA: 31:4 - ETA: 31:4 - ETA: 31:4 - ETA: 31:4 - ETA: 31:4 - ETA: 31:4 - ETA: 31:4 - ETA: 31:4 - ETA: 31:4 - ETA: 31:4 - ETA: 31:4 - ETA: 31:4 - ETA: 31:4 - ETA: 31:4 - ETA: 31:4 - ETA: 31:4 - ETA: 31:4 - ETA: 31:4 - ETA: 31:4 - ETA: 31:4 - ETA: 31:4 - ETA: 31:4 - ETA: 31:4 - ETA: 31:4 - ETA: 31:4 - ETA: 31:4 - ETA: 31:4 - ETA: 31:4 - ETA: 31:4 - ETA: 31:4 - ETA: 31:4 - ETA: 31:4 - ETA: 31:4 - ETA: 31:3 - ETA: 31:3 - ETA: 31:3 - ETA: 31:3 - ETA: 31:3 - ETA: 31:3 - ETA: 31:3 - ETA: 31:3 - ETA: 31:3 - ETA: 31:3 - ETA: 31:3 - ETA: 31:3 - ETA: 31:3 - ETA: 31:3 - ETA: 31:3 - ETA: 31:3 - ETA: 31:3 - ETA: 31:3 - ETA: 31:3 - ETA: 31:3 - ETA: 31:3 - ETA: 31:3 - ETA: 31:3 - ETA: 31:3 - ETA: 31:3 - ETA: 31:3 - ETA: 31:3 - ETA: 31:3 - ETA: 31:3 - ETA: 31:3 - ETA: 31:3 - ETA: 31:3 - ETA: 31:3 - ETA: 31:3 - ETA: 31:3 - ETA: 31:3 - ETA: 31:3 - ETA: 31:3 - ETA: 31:3 - ETA: 31:3 - ETA: 31:3 - ETA: 31:3 - ETA: 31:3 - ETA: 31:3 - ETA: 31:3 - ETA: 31:3 - ETA: 31:3 - ETA: 31:3 - ETA: 31:3 - ETA: 31:3 - ETA: 31:3 - ETA: 31:3 - ETA: 31:3 - ETA: 31:3 - ETA: 31:3 - ETA: 31:3 - ETA: 31:3 - ETA: 31:3 - ETA: 31:3 - ETA: 31:3 - ETA: 31:3 - ETA: 31:3 - ETA: 31:3 - ETA: 31:3 - ETA: 31:3 - ETA: 31:3 - ETA: 31:3 - ETA: 31:3 - ETA: 31:3 - ETA: 31:3 - ETA: 31:2 - ETA: 31:2 - ETA: 31:2 - ETA: 31:2 - ETA: 31:2 - ETA: 31:2 - ETA: 31:2 - ETA: 31:2 - ETA: 31:2 - ETA: 31:2 - ETA: 31:2 - ETA: 31:2 - ETA: 31:2 - ETA: 31:2 - ETA: 31:2 - ETA: 31:2 - ETA: 31:2 - ETA: 31:2 - ETA: 31:2 - ETA: 31:2 - ETA: 31:2 - ETA: 31:2 - ETA: 31:2 - ETA: 31:2 - ETA: 31:2 - ETA: 31:2 - ETA: 31:2 - ETA: 31:2 - ETA: 31:2 - ETA: 31:2 - ETA: 31:2 - ETA: 31:2 - ETA: 31:2 - ETA: 31:2 - ETA: 31:2 - ETA: 31:2 - ETA: 31:2 - ETA: 31:2 - ETA: 31:2 - ETA: 31:2 - ETA: 31:2 - ETA: 31:2 - ETA: 31:2 - ETA: 31:2 - ETA: 31:2 - ETA: 31:2 - ETA: 31:2 - ETA: 31:2 - ETA: 31:2 - ETA: 31:2 - ETA: 31:2 - ETA: 31:2 - ETA: 31:2 - ETA: 31:2 - ETA: 31:2 - ETA: 31:2 - ETA: 31:2 - ETA: 31:2 - ETA: 31:2 - ETA: 31:2 - ETA: 31:2 - ETA: 31:2 - ETA: 31:2 - ETA: 31:2 - ETA: 31:2 - ETA: 31:2 - ETA: 31:2 - ETA: 31:2 - ETA: 31:2 - ETA: 31:2 - ETA: 31:2 - ETA: 31:2 - ETA: 31:2 - ETA: 31:2 - ETA: 31:2 - ETA: 31:2 - ETA: 31:1 - ETA: 31:1 - ETA: 31:1 - ETA: 31:1 - ETA: 31:1 - ETA: 31:1 - ETA: 31:1 - ETA: 31:1 - ETA: 31:1 - ETA: 31:1 - ETA: 31:1 - ETA: 31:1 - ETA: 31:1 - ETA: 31:1 - ETA: 31:1 - ETA: 31:1 - ETA: 31:1 - ETA: 31:1 - ETA: 31:1 - ETA: 31:1 - ETA: 31:1 - ETA: 31:1 - ETA: 31:1 - ETA: 31:1 - ETA: 31:1 - ETA: 31:1 - ETA: 31:1 - ETA: 31:1 - ETA: 31:1 - ETA: 31:1 - ETA: 31:1 - ETA: 31:1 - ETA: 31:1 - ETA: 31:1 - ETA: 31:1 - ETA: 31:1 - ETA: 31:1 - ETA: 31:1 - ETA: 31:1 - ETA: 31:1 - ETA: 31:1 - ETA: 31:1 - ETA: 31:1 - ETA: 31:1 - ETA: 31:1 - ETA: 31:1 - ETA: 31:1 - ETA: 31:1 - ETA: 31:1 - ETA: 31:1 - ETA: 31:1 - ETA: 31:1 - ETA: 31:1 - ETA: 31:1 - ETA: 31:1 - ETA: 31:1 - ETA: 31:1 - ETA: 31:1 - ETA: 31:1 - ETA: 31:1 - ETA: 31:1 - ETA: 31:1 - ETA: 31:1 - ETA: 31:1 - ETA: 31:1 - ETA: 31:1 - ETA: 31:1 - ETA: 31:1 - ETA: 31:1 - ETA: 31:1 - ETA: 31:1 - ETA: 31:1 - ETA: 31:1 - ETA: 31:1 - ETA: 31:1 - ETA: 31:1 - ETA: 31:1 - ETA: 31:0 - ETA: 31:0 - ETA: 31:0 - ETA: 31:0 - ETA: 31:0 - ETA: 31:0 - ETA: 31:0 - ETA: 31:0 - ETA: 31:0 - ETA: 31:0 - ETA: 31:0 - ETA: 31:0 - ETA: 31:0 - ETA: 31:0 - ETA: 31:0 - ETA: 31:0 - ETA: 31:0 - ETA: 31:0 - ETA: 31:0 - ETA: 31:0 - ETA: 31:0 - ETA: 31:0 - ETA: 31:0 - ETA: 31:0 - ETA: 31:0 - ETA: 31:0 - ETA: 31:0 - ETA: 31:0 - ETA: 31:0 - ETA: 31:0 - ETA: 31:0 - ETA: 31:0 - ETA: 31:0 - ETA: 31:0 - ETA: 31:0 - ETA: 31:0 - ETA: 31:0 - ETA: 31:0 - ETA: 31:0 - ETA: 31:0 - ETA: 31:0 - ETA: 31:0 - ETA: 31:0 - ETA: 31:0 - ETA: 31:0 - ETA: 31:0 - ETA: 31:0 - ETA: 31:0 - ETA: 31:0 - ETA: 31:0 - ETA: 31:0 - ETA: 31:0 - ETA: 31:0 - ETA: 31:0 - ETA: 31:0 - ETA: 31:0 - ETA: 31:0 - ETA: 31:0 - ETA: 31:0 - ETA: 31:0 - ETA: 31:0 - ETA: 31:0 - ETA: 31:0 - ETA: 31:0 - ETA: 31:0 - ETA: 31:0 - ETA: 31:0 - ETA: 31:0 - ETA: 31:0 - ETA: 31:0 - ETA: 31:0 - ETA: 31:0 - ETA: 31:0 - ETA: 31:0 - ETA: 31:0 - ETA: 31:0 - ETA: 31:0 - ETA: 31:0 - ETA: 30:5 - ETA: 30:5 - ETA: 30:5 - ETA: 30:5 - ETA: 30:5 - ETA: 30:5 - ETA: 30:5 - ETA: 30:5 - ETA: 30:5 - ETA: 30:5 - ETA: 30:5 - ETA: 30:5 - ETA: 30:5 - ETA: 30:5 - ETA: 30:5 - ETA: 30:5 - ETA: 30:5 - ETA: 30:5 - ETA: 30:5 - ETA: 30:5 - ETA: 30:5 - ETA: 30:5 - ETA: 30:5 - ETA: 30:5 - ETA: 30:5 - ETA: 30:5 - ETA: 30:5 - ETA: 30:5 - ETA: 30:5 - ETA: 30:5 - ETA: 30:5 - ETA: 30:5 - ETA: 30:5 - ETA: 30:5 - ETA: 30:5 - ETA: 30:5 - ETA: 30:5 - ETA: 30:5 - ETA: 30:5 - ETA: 30:5 - ETA: 30:5 - ETA: 30:5 - ETA: 30:5 - ETA: 30:5 - ETA: 30:5 - ETA: 30:5 - ETA: 30:5 - ETA: 30:5 - ETA: 30:5 - ETA: 30:5 - ETA: 30:5 - ETA: 30:5 - ETA: 30:5 - ETA: 30:5 - ETA: 30:5 - ETA: 30:5 - ETA: 30:5 - ETA: 30:5 - ETA: 30:5 - ETA: 30:5 - ETA: 30:5 - ETA: 30:5 - ETA: 30:5 - ETA: 30:5 - ETA: 30:5 - ETA: 30:5 - ETA: 30:5 - ETA: 30:5 - ETA: 30:5 - ETA: 30:4 - ETA: 30:4 - ETA: 30:4 - ETA: 30:4 - ETA: 30:4 - ETA: 30:4 - ETA: 30:4 - ETA: 30:4 - ETA: 30:4 - ETA: 30:4 - ETA: 30:4 - ETA: 30:4 - ETA: 30:4 - ETA: 30:4 - ETA: 30:4 - ETA: 30:4 - ETA: 30:4 - ETA: 30:4 - ETA: 30:4 - ETA: 30:4 - ETA: 30:4 - ETA: 30:4 - ETA: 30:4 - ETA: 30:4 - ETA: 30:4 - ETA: 30:4 - ETA: 30:4 - ETA: 30:4 - ETA: 30:4 - ETA: 30:4 - ETA: 30:4 - ETA: 30:4 - ETA: 30:4 - ETA: 30:4 - ETA: 30:4 - ETA: 30:4 - ETA: 30:4 - ETA: 30:4 - ETA: 30:4 - ETA: 30:4 - ETA: 30:4 - ETA: 30:4 - ETA: 30:4 - ETA: 30:4 - ETA: 30:4 - ETA: 30:4 - ETA: 30:4 - ETA: 30:4 - ETA: 30:4 - ETA: 30:4 - ETA: 30:4 - ETA: 30:4 - ETA: 30:4 - ETA: 30:4 - ETA: 30:4 - ETA: 30:4 - ETA: 30:4 - ETA: 30:4 - ETA: 30:4 - ETA: 30:4 - ETA: 30:4 - ETA: 30:4 - ETA: 30:4 - ETA: 30:4 - ETA: 30:4 - ETA: 30:4 - ETA: 30:4 - ETA: 30:4 - ETA: 30:4 - ETA: 30:4 - ETA: 30:4 - ETA: 30:4 - ETA: 30:4 - ETA: 30:4 - ETA: 30:4 - ETA: 30:4 - ETA: 30:4 - ETA: 30:4 - ETA: 30:3 - ETA: 30:3 - ETA: 30:3 - ETA: 30:3 - ETA: 30:3 - ETA: 30:3 - ETA: 30:3 - ETA: 30:3 - ETA: 30:3 - ETA: 30:3 - ETA: 30:3 - ETA: 30:3 - ETA: 30:3 - ETA: 30:3 - ETA: 30:3 - ETA: 30:3 - ETA: 30:3 - ETA: 30:3 - ETA: 30:3 - ETA: 30:3 - ETA: 30:3 - ETA: 30:3 - ETA: 30:3 - ETA: 30:3 - ETA: 30:3 - ETA: 30:3 - ETA: 30:3 - ETA: 30:3 - ETA: 30:3 - ETA: 30:3 - ETA: 30:3 - ETA: 30:3 - ETA: 30:3 - ETA: 30:3 - ETA: 30:3 - ETA: 30:3 - ETA: 30:3 - ETA: 30:3 - ETA: 30:3 - ETA: 30:3 - ETA: 30:3 - ETA: 30:3 - ETA: 30:3 - ETA: 30:3 - ETA: 30:3 - ETA: 30:3 - ETA: 30:3 - ETA: 30:3 - ETA: 30:3 - ETA: 30:3 - ETA: 30:3 - ETA: 30:3 - ETA: 30:3 - ETA: 30:3 - ETA: 30:3 - ETA: 30:3 - ETA: 30:3 - ETA: 30:3 - ETA: 30:3 - ETA: 30:3 - ETA: 30:3 - ETA: 30:3 - ETA: 30:3 - ETA: 30:3 - ETA: 30:3 - ETA: 30:3 - ETA: 30:3 - ETA: 30:3 - ETA: 30:3 - ETA: 30:3 - ETA: 30:3 - ETA: 30:3 - ETA: 30:3 - ETA: 30:3 - ETA: 30:3 - ETA: 30:3 - ETA: 30:3 - ETA: 30:3 - ETA: 30:3 - ETA: 30:3 - ETA: 30:2 - ETA: 30:2 - ETA: 30:2 - ETA: 30:2 - ETA: 30:2 - ETA: 30:2 - ETA: 30:2 - ETA: 30:2 - ETA: 30:2 - ETA: 30:2 - ETA: 30:2 - ETA: 30:2 - ETA: 30:2 - ETA: 30:2 - ETA: 30:2 - ETA: 30:2 - ETA: 30:2 - ETA: 30:2 - ETA: 30:2 - ETA: 30:2 - ETA: 30:2 - ETA: 30:2 - ETA: 30:2 - ETA: 30:2 - ETA: 30:2 - ETA: 30:2 - ETA: 30:2 - ETA: 30:2 - ETA: 30:2 - ETA: 30:2 - ETA: 30:2 - ETA: 30:2 - ETA: 30:2 - ETA: 30:2 - ETA: 30:2 - ETA: 30:2 - ETA: 30:2 - ETA: 30:2 - ETA: 30:2 - ETA: 30:2 - ETA: 30:2 - ETA: 30:2 - ETA: 30:2 - ETA: 30:2 - ETA: 30:2 - ETA: 30:2 - ETA: 30:2 - ETA: 30:2 - ETA: 30:2 - ETA: 30:2 - ETA: 30:2 - ETA: 30:2 - ETA: 30:2 - ETA: 30:2 - ETA: 30:2 - ETA: 30:2 - ETA: 30:2 - ETA: 30:2 - ETA: 30:2 - ETA: 30:2 - ETA: 30:2 - ETA: 30:2 - ETA: 30:2 - ETA: 30:2 - ETA: 30:2 - ETA: 30:22"
     ]
    },
    {
     "name": "stdout",
     "output_type": "stream",
     "text": [
      "209092608/580070376 [=========>....................] - ETA: 30:2 - ETA: 30:2 - ETA: 30:2 - ETA: 30:2 - ETA: 30:2 - ETA: 30:2 - ETA: 30:2 - ETA: 30:2 - ETA: 30:2 - ETA: 30:2 - ETA: 30:2 - ETA: 30:2 - ETA: 30:2 - ETA: 30:2 - ETA: 30:2 - ETA: 30:2 - ETA: 30:2 - ETA: 30:2 - ETA: 30:2 - ETA: 30:1 - ETA: 30:1 - ETA: 30:1 - ETA: 30:1 - ETA: 30:1 - ETA: 30:1 - ETA: 30:1 - ETA: 30:1 - ETA: 30:1 - ETA: 30:1 - ETA: 30:1 - ETA: 30:1 - ETA: 30:1 - ETA: 30:1 - ETA: 30:1 - ETA: 30:1 - ETA: 30:1 - ETA: 30:1 - ETA: 30:1 - ETA: 30:1 - ETA: 30:1 - ETA: 30:1 - ETA: 30:1 - ETA: 30:1 - ETA: 30:1 - ETA: 30:1 - ETA: 30:1 - ETA: 30:1 - ETA: 30:1 - ETA: 30:1 - ETA: 30:1 - ETA: 30:1 - ETA: 30:1 - ETA: 30:1 - ETA: 30:1 - ETA: 30:1 - ETA: 30:1 - ETA: 30:1 - ETA: 30:1 - ETA: 30:1 - ETA: 30:1 - ETA: 30:1 - ETA: 30:1 - ETA: 30:1 - ETA: 30:1 - ETA: 30:1 - ETA: 30:1 - ETA: 30:1 - ETA: 30:1 - ETA: 30:1 - ETA: 30:1 - ETA: 30:1 - ETA: 30:1 - ETA: 30:1 - ETA: 30:1 - ETA: 30:1 - ETA: 30:1 - ETA: 30:1 - ETA: 30:1 - ETA: 30:1 - ETA: 30:1 - ETA: 30:1 - ETA: 30:1 - ETA: 30:1 - ETA: 30:1 - ETA: 30:1 - ETA: 30:1 - ETA: 30:1 - ETA: 30:1 - ETA: 30:1 - ETA: 30:1 - ETA: 30:1 - ETA: 30:1 - ETA: 30:1 - ETA: 30:1 - ETA: 30:1 - ETA: 30:1 - ETA: 30:1 - ETA: 30:1 - ETA: 30:1 - ETA: 30:1 - ETA: 30:0 - ETA: 30:0 - ETA: 30:0 - ETA: 30:0 - ETA: 30:0 - ETA: 30:0 - ETA: 30:0 - ETA: 30:0 - ETA: 30:0 - ETA: 30:0 - ETA: 30:0 - ETA: 30:0 - ETA: 30:0 - ETA: 30:0 - ETA: 30:0 - ETA: 30:0 - ETA: 30:0 - ETA: 30:0 - ETA: 30:0 - ETA: 30:0 - ETA: 30:0 - ETA: 30:0 - ETA: 30:0 - ETA: 30:0 - ETA: 30:0 - ETA: 30:0 - ETA: 30:0 - ETA: 30:0 - ETA: 30:0 - ETA: 30:0 - ETA: 30:0 - ETA: 30:0 - ETA: 30:0 - ETA: 30:0 - ETA: 30:0 - ETA: 30:0 - ETA: 30:0 - ETA: 30:0 - ETA: 30:0 - ETA: 30:0 - ETA: 30:0 - ETA: 30:0 - ETA: 30:0 - ETA: 30:0 - ETA: 30:0 - ETA: 30:0 - ETA: 30:0 - ETA: 30:0 - ETA: 30:0 - ETA: 30:0 - ETA: 30:0 - ETA: 30:0 - ETA: 30:0 - ETA: 30:0 - ETA: 30:0 - ETA: 30:0 - ETA: 30:0 - ETA: 30:0 - ETA: 30:0 - ETA: 30:0 - ETA: 30:0 - ETA: 30:0 - ETA: 30:0 - ETA: 30:0 - ETA: 30:0 - ETA: 30:0 - ETA: 30:0 - ETA: 30:0 - ETA: 30:0 - ETA: 30:0 - ETA: 30:0 - ETA: 30:0 - ETA: 30:0 - ETA: 30:0 - ETA: 30:0 - ETA: 30:0 - ETA: 30:0 - ETA: 30:0 - ETA: 30:0 - ETA: 30:0 - ETA: 30:0 - ETA: 30:0 - ETA: 30:0 - ETA: 30:0 - ETA: 30:0 - ETA: 30:0 - ETA: 30:0 - ETA: 30:0 - ETA: 30:0 - ETA: 30:0 - ETA: 29:5 - ETA: 29:5 - ETA: 29:5 - ETA: 29:5 - ETA: 29:5 - ETA: 29:5 - ETA: 29:5 - ETA: 29:5 - ETA: 29:5 - ETA: 29:5 - ETA: 29:5 - ETA: 29:5 - ETA: 29:5 - ETA: 29:5 - ETA: 29:5 - ETA: 29:5 - ETA: 29:5 - ETA: 29:5 - ETA: 29:5 - ETA: 29:5 - ETA: 29:5 - ETA: 29:5 - ETA: 29:5 - ETA: 29:5 - ETA: 29:5 - ETA: 29:5 - ETA: 29:5 - ETA: 29:5 - ETA: 29:5 - ETA: 29:5 - ETA: 29:5 - ETA: 29:5 - ETA: 29:5 - ETA: 29:5 - ETA: 29:5 - ETA: 29:5 - ETA: 29:5 - ETA: 29:5 - ETA: 29:5 - ETA: 29:5 - ETA: 29:5 - ETA: 29:5 - ETA: 29:5 - ETA: 29:5 - ETA: 29:5 - ETA: 29:5 - ETA: 29:5 - ETA: 29:5 - ETA: 29:5 - ETA: 29:5 - ETA: 29:5 - ETA: 29:5 - ETA: 29:5 - ETA: 29:5 - ETA: 29:5 - ETA: 29:5 - ETA: 29:5 - ETA: 29:5 - ETA: 29:5 - ETA: 29:5 - ETA: 29:5 - ETA: 29:5 - ETA: 29:5 - ETA: 29:5 - ETA: 29:5 - ETA: 29:5 - ETA: 29:5 - ETA: 29:5 - ETA: 29:5 - ETA: 29:5 - ETA: 29:5 - ETA: 29:5 - ETA: 29:5 - ETA: 29:5 - ETA: 29:5 - ETA: 29:5 - ETA: 29:5 - ETA: 29:5 - ETA: 29:5 - ETA: 29:5 - ETA: 29:5 - ETA: 29:5 - ETA: 29:5 - ETA: 29:5 - ETA: 29:5 - ETA: 29:5 - ETA: 29:5 - ETA: 29:5 - ETA: 29:5 - ETA: 29:4 - ETA: 29:4 - ETA: 29:4 - ETA: 29:4 - ETA: 29:4 - ETA: 29:4 - ETA: 29:4 - ETA: 29:4 - ETA: 29:4 - ETA: 29:4 - ETA: 29:4 - ETA: 29:4 - ETA: 29:4 - ETA: 29:4 - ETA: 29:4 - ETA: 29:4 - ETA: 29:4 - ETA: 29:4 - ETA: 29:4 - ETA: 29:4 - ETA: 29:4 - ETA: 29:4 - ETA: 29:4 - ETA: 29:4 - ETA: 29:4 - ETA: 29:4 - ETA: 29:4 - ETA: 29:4 - ETA: 29:4 - ETA: 29:4 - ETA: 29:4 - ETA: 29:4 - ETA: 29:4 - ETA: 29:4 - ETA: 29:4 - ETA: 29:4 - ETA: 29:4 - ETA: 29:4 - ETA: 29:4 - ETA: 29:4 - ETA: 29:4 - ETA: 29:4 - ETA: 29:4 - ETA: 29:4 - ETA: 29:4 - ETA: 29:4 - ETA: 29:4 - ETA: 29:4 - ETA: 29:4 - ETA: 29:4 - ETA: 29:4 - ETA: 29:4 - ETA: 29:4 - ETA: 29:4 - ETA: 29:4 - ETA: 29:4 - ETA: 29:4 - ETA: 29:4 - ETA: 29:4 - ETA: 29:4 - ETA: 29:4 - ETA: 29:4 - ETA: 29:4 - ETA: 29:4 - ETA: 29:4 - ETA: 29:4 - ETA: 29:4 - ETA: 29:4 - ETA: 29:4 - ETA: 29:4 - ETA: 29:4 - ETA: 29:4 - ETA: 29:4 - ETA: 29:4 - ETA: 29:4 - ETA: 29:4 - ETA: 29:4 - ETA: 29:4 - ETA: 29:4 - ETA: 29:4 - ETA: 29:4 - ETA: 29:4 - ETA: 29:4 - ETA: 29:4 - ETA: 29:4 - ETA: 29:4 - ETA: 29:4 - ETA: 29:4 - ETA: 29:4 - ETA: 29:3 - ETA: 29:3 - ETA: 29:3 - ETA: 29:3 - ETA: 29:3 - ETA: 29:3 - ETA: 29:3 - ETA: 29:3 - ETA: 29:3 - ETA: 29:3 - ETA: 29:3 - ETA: 29:3 - ETA: 29:3 - ETA: 29:3 - ETA: 29:3 - ETA: 29:3 - ETA: 29:3 - ETA: 29:3 - ETA: 29:3 - ETA: 29:3 - ETA: 29:3 - ETA: 29:3 - ETA: 29:3 - ETA: 29:3 - ETA: 29:3 - ETA: 29:3 - ETA: 29:3 - ETA: 29:3 - ETA: 29:3 - ETA: 29:3 - ETA: 29:3 - ETA: 29:3 - ETA: 29:3 - ETA: 29:3 - ETA: 29:3 - ETA: 29:3 - ETA: 29:3 - ETA: 29:3 - ETA: 29:3 - ETA: 29:3 - ETA: 29:3 - ETA: 29:3 - ETA: 29:3 - ETA: 29:3 - ETA: 29:3 - ETA: 29:3 - ETA: 29:3 - ETA: 29:3 - ETA: 29:3 - ETA: 29:3 - ETA: 29:3 - ETA: 29:3 - ETA: 29:3 - ETA: 29:3 - ETA: 29:3 - ETA: 29:3 - ETA: 29:3 - ETA: 29:3 - ETA: 29:3 - ETA: 29:3 - ETA: 29:3 - ETA: 29:3 - ETA: 29:3 - ETA: 29:3 - ETA: 29:3 - ETA: 29:3 - ETA: 29:3 - ETA: 29:3 - ETA: 29:3 - ETA: 29:3 - ETA: 29:3 - ETA: 29:3 - ETA: 29:3 - ETA: 29:3 - ETA: 29:3 - ETA: 29:3 - ETA: 29:3 - ETA: 29:3 - ETA: 29:3 - ETA: 29:3 - ETA: 29:3 - ETA: 29:3 - ETA: 29:3 - ETA: 29:3 - ETA: 29:3 - ETA: 29:3 - ETA: 29:2 - ETA: 29:2 - ETA: 29:2 - ETA: 29:2 - ETA: 29:2 - ETA: 29:2 - ETA: 29:2 - ETA: 29:2 - ETA: 29:2 - ETA: 29:2 - ETA: 29:2 - ETA: 29:2 - ETA: 29:2 - ETA: 29:2 - ETA: 29:2 - ETA: 29:2 - ETA: 29:2 - ETA: 29:2 - ETA: 29:2 - ETA: 29:2 - ETA: 29:2 - ETA: 29:2 - ETA: 29:2 - ETA: 29:2 - ETA: 29:2 - ETA: 29:2 - ETA: 29:2 - ETA: 29:2 - ETA: 29:2 - ETA: 29:2 - ETA: 29:2 - ETA: 29:2 - ETA: 29:2 - ETA: 29:2 - ETA: 29:2 - ETA: 29:2 - ETA: 29:2 - ETA: 29:2 - ETA: 29:2 - ETA: 29:2 - ETA: 29:2 - ETA: 29:2 - ETA: 29:2 - ETA: 29:2 - ETA: 29:2 - ETA: 29:2 - ETA: 29:2 - ETA: 29:2 - ETA: 29:2 - ETA: 29:2 - ETA: 29:2 - ETA: 29:2 - ETA: 29:2 - ETA: 29:2 - ETA: 29:2 - ETA: 29:2 - ETA: 29:2 - ETA: 29:2 - ETA: 29:2 - ETA: 29:2 - ETA: 29:2 - ETA: 29:2 - ETA: 29:2 - ETA: 29:2 - ETA: 29:2 - ETA: 29:2 - ETA: 29:2 - ETA: 29:2 - ETA: 29:2 - ETA: 29:2 - ETA: 29:2 - ETA: 29:2 - ETA: 29:2 - ETA: 29:2 - ETA: 29:2 - ETA: 29:2 - ETA: 29:2 - ETA: 29:2 - ETA: 29:2 - ETA: 29:2 - ETA: 29:2 - ETA: 29:2 - ETA: 29:2 - ETA: 29:2 - ETA: 29:2 - ETA: 29:2 - ETA: 29:1 - ETA: 29:1 - ETA: 29:1 - ETA: 29:1 - ETA: 29:1 - ETA: 29:1 - ETA: 29:1 - ETA: 29:1 - ETA: 29:1 - ETA: 29:1 - ETA: 29:1 - ETA: 29:1 - ETA: 29:1 - ETA: 29:1 - ETA: 29:1 - ETA: 29:1 - ETA: 29:1 - ETA: 29:1 - ETA: 29:1 - ETA: 29:1 - ETA: 29:1 - ETA: 29:1 - ETA: 29:1 - ETA: 29:1 - ETA: 29:1 - ETA: 29:1 - ETA: 29:1 - ETA: 29:1 - ETA: 29:1 - ETA: 29:1 - ETA: 29:1 - ETA: 29:1 - ETA: 29:1 - ETA: 29:1 - ETA: 29:1 - ETA: 29:1 - ETA: 29:1 - ETA: 29:1 - ETA: 29:1 - ETA: 29:1 - ETA: 29:1 - ETA: 29:1 - ETA: 29:1 - ETA: 29:1 - ETA: 29:1 - ETA: 29:1 - ETA: 29:1 - ETA: 29:1 - ETA: 29:1 - ETA: 29:1 - ETA: 29:1 - ETA: 29:1 - ETA: 29:1 - ETA: 29:1 - ETA: 29:1 - ETA: 29:1 - ETA: 29:1 - ETA: 29:1 - ETA: 29:1 - ETA: 29:1 - ETA: 29:1 - ETA: 29:1 - ETA: 29:1 - ETA: 29:1 - ETA: 29:1 - ETA: 29:1 - ETA: 29:1 - ETA: 29:1 - ETA: 29:1 - ETA: 29:1 - ETA: 29:1 - ETA: 29:1 - ETA: 29:1 - ETA: 29:1 - ETA: 29:1 - ETA: 29:1 - ETA: 29:1 - ETA: 29:1 - ETA: 29:1 - ETA: 29:1 - ETA: 29:1 - ETA: 29:1 - ETA: 29:1 - ETA: 29:1 - ETA: 29:1 - ETA: 29:1 - ETA: 29:1 - ETA: 29:1 - ETA: 29:1 - ETA: 29:1 - ETA: 29:0 - ETA: 29:0 - ETA: 29:0 - ETA: 29:0 - ETA: 29:0 - ETA: 29:0 - ETA: 29:0 - ETA: 29:0 - ETA: 29:0 - ETA: 29:0 - ETA: 29:0 - ETA: 29:0 - ETA: 29:0 - ETA: 29:0 - ETA: 29:0 - ETA: 29:0 - ETA: 29:0 - ETA: 29:0 - ETA: 29:0 - ETA: 29:0 - ETA: 29:0 - ETA: 29:0 - ETA: 29:0 - ETA: 29:0 - ETA: 29:0 - ETA: 29:0 - ETA: 29:0 - ETA: 29:0 - ETA: 29:0 - ETA: 29:0 - ETA: 29:0 - ETA: 29:0 - ETA: 29:0 - ETA: 29:0 - ETA: 29:0 - ETA: 29:0 - ETA: 29:0 - ETA: 29:0 - ETA: 29:0 - ETA: 29:0 - ETA: 29:0 - ETA: 29:0 - ETA: 29:0 - ETA: 29:0 - ETA: 29:0 - ETA: 29:0 - ETA: 29:0 - ETA: 29:0 - ETA: 29:04"
     ]
    },
    {
     "name": "stdout",
     "output_type": "stream",
     "text": [
      "224321536/580070376 [==========>...................] - ETA: 29:0 - ETA: 29:0 - ETA: 29:0 - ETA: 29:0 - ETA: 29:0 - ETA: 29:0 - ETA: 29:0 - ETA: 29:0 - ETA: 29:0 - ETA: 29:0 - ETA: 29:0 - ETA: 29:0 - ETA: 29:0 - ETA: 29:0 - ETA: 29:0 - ETA: 29:0 - ETA: 29:0 - ETA: 29:0 - ETA: 29:0 - ETA: 29:0 - ETA: 29:0 - ETA: 29:0 - ETA: 29:0 - ETA: 29:0 - ETA: 29:0 - ETA: 29:0 - ETA: 29:0 - ETA: 29:0 - ETA: 29:0 - ETA: 29:0 - ETA: 29:0 - ETA: 29:0 - ETA: 29:0 - ETA: 29:0 - ETA: 28:5 - ETA: 28:5 - ETA: 28:5 - ETA: 28:5 - ETA: 28:5 - ETA: 28:5 - ETA: 28:5 - ETA: 28:5 - ETA: 28:5 - ETA: 28:5 - ETA: 28:5 - ETA: 28:5 - ETA: 28:5 - ETA: 28:5 - ETA: 28:5 - ETA: 28:5 - ETA: 28:5 - ETA: 28:5 - ETA: 28:5 - ETA: 28:5 - ETA: 28:5 - ETA: 28:5 - ETA: 28:5 - ETA: 28:5 - ETA: 28:5 - ETA: 28:5 - ETA: 28:5 - ETA: 28:5 - ETA: 28:5 - ETA: 28:5 - ETA: 28:5 - ETA: 28:5 - ETA: 28:5 - ETA: 28:5 - ETA: 28:5 - ETA: 28:5 - ETA: 28:5 - ETA: 28:5 - ETA: 28:5 - ETA: 28:5 - ETA: 28:5 - ETA: 28:5 - ETA: 28:5 - ETA: 28:5 - ETA: 28:5 - ETA: 28:5 - ETA: 28:5 - ETA: 28:5 - ETA: 28:5 - ETA: 28:5 - ETA: 28:5 - ETA: 28:5 - ETA: 28:5 - ETA: 28:5 - ETA: 28:5 - ETA: 28:5 - ETA: 28:5 - ETA: 28:5 - ETA: 28:5 - ETA: 28:5 - ETA: 28:5 - ETA: 28:5 - ETA: 28:5 - ETA: 28:5 - ETA: 28:5 - ETA: 28:5 - ETA: 28:5 - ETA: 28:5 - ETA: 28:5 - ETA: 28:5 - ETA: 28:5 - ETA: 28:5 - ETA: 28:5 - ETA: 28:5 - ETA: 28:5 - ETA: 28:5 - ETA: 28:5 - ETA: 28:5 - ETA: 28:5 - ETA: 28:5 - ETA: 28:5 - ETA: 28:5 - ETA: 28:5 - ETA: 28:4 - ETA: 28:4 - ETA: 28:4 - ETA: 28:4 - ETA: 28:4 - ETA: 28:4 - ETA: 28:4 - ETA: 28:4 - ETA: 28:4 - ETA: 28:4 - ETA: 28:4 - ETA: 28:4 - ETA: 28:4 - ETA: 28:4 - ETA: 28:4 - ETA: 28:4 - ETA: 28:4 - ETA: 28:4 - ETA: 28:4 - ETA: 28:4 - ETA: 28:4 - ETA: 28:4 - ETA: 28:4 - ETA: 28:4 - ETA: 28:4 - ETA: 28:4 - ETA: 28:4 - ETA: 28:4 - ETA: 28:4 - ETA: 28:4 - ETA: 28:4 - ETA: 28:4 - ETA: 28:4 - ETA: 28:4 - ETA: 28:4 - ETA: 28:4 - ETA: 28:4 - ETA: 28:4 - ETA: 28:4 - ETA: 28:4 - ETA: 28:4 - ETA: 28:4 - ETA: 28:4 - ETA: 28:4 - ETA: 28:4 - ETA: 28:4 - ETA: 28:4 - ETA: 28:4 - ETA: 28:4 - ETA: 28:4 - ETA: 28:4 - ETA: 28:4 - ETA: 28:4 - ETA: 28:4 - ETA: 28:4 - ETA: 28:4 - ETA: 28:4 - ETA: 28:4 - ETA: 28:4 - ETA: 28:4 - ETA: 28:4 - ETA: 28:4 - ETA: 28:4 - ETA: 28:4 - ETA: 28:4 - ETA: 28:4 - ETA: 28:4 - ETA: 28:4 - ETA: 28:4 - ETA: 28:4 - ETA: 28:4 - ETA: 28:4 - ETA: 28:4 - ETA: 28:4 - ETA: 28:4 - ETA: 28:4 - ETA: 28:4 - ETA: 28:4 - ETA: 28:4 - ETA: 28:4 - ETA: 28:3 - ETA: 28:3 - ETA: 28:3 - ETA: 28:3 - ETA: 28:3 - ETA: 28:3 - ETA: 28:3 - ETA: 28:3 - ETA: 28:3 - ETA: 28:3 - ETA: 28:3 - ETA: 28:3 - ETA: 28:3 - ETA: 28:3 - ETA: 28:3 - ETA: 28:3 - ETA: 28:3 - ETA: 28:3 - ETA: 28:3 - ETA: 28:3 - ETA: 28:3 - ETA: 28:3 - ETA: 28:3 - ETA: 28:3 - ETA: 28:3 - ETA: 28:3 - ETA: 28:3 - ETA: 28:3 - ETA: 28:3 - ETA: 28:3 - ETA: 28:3 - ETA: 28:3 - ETA: 28:3 - ETA: 28:3 - ETA: 28:3 - ETA: 28:3 - ETA: 28:3 - ETA: 28:3 - ETA: 28:3 - ETA: 28:3 - ETA: 28:3 - ETA: 28:3 - ETA: 28:3 - ETA: 28:3 - ETA: 28:3 - ETA: 28:3 - ETA: 28:3 - ETA: 28:3 - ETA: 28:3 - ETA: 28:3 - ETA: 28:3 - ETA: 28:3 - ETA: 28:3 - ETA: 28:3 - ETA: 28:3 - ETA: 28:3 - ETA: 28:3 - ETA: 28:3 - ETA: 28:3 - ETA: 28:3 - ETA: 28:3 - ETA: 28:3 - ETA: 28:3 - ETA: 28:3 - ETA: 28:3 - ETA: 28:3 - ETA: 28:3 - ETA: 28:3 - ETA: 28:3 - ETA: 28:3 - ETA: 28:3 - ETA: 28:3 - ETA: 28:2 - ETA: 28:2 - ETA: 28:2 - ETA: 28:2 - ETA: 28:2 - ETA: 28:2 - ETA: 28:2 - ETA: 28:2 - ETA: 28:2 - ETA: 28:2 - ETA: 28:2 - ETA: 28:2 - ETA: 28:2 - ETA: 28:2 - ETA: 28:2 - ETA: 28:2 - ETA: 28:2 - ETA: 28:2 - ETA: 28:2 - ETA: 28:2 - ETA: 28:2 - ETA: 28:2 - ETA: 28:2 - ETA: 28:2 - ETA: 28:2 - ETA: 28:2 - ETA: 28:2 - ETA: 28:2 - ETA: 28:2 - ETA: 28:2 - ETA: 28:2 - ETA: 28:2 - ETA: 28:2 - ETA: 28:2 - ETA: 28:2 - ETA: 28:2 - ETA: 28:2 - ETA: 28:2 - ETA: 28:2 - ETA: 28:2 - ETA: 28:2 - ETA: 28:2 - ETA: 28:2 - ETA: 28:2 - ETA: 28:2 - ETA: 28:2 - ETA: 28:2 - ETA: 28:2 - ETA: 28:2 - ETA: 28:2 - ETA: 28:2 - ETA: 28:2 - ETA: 28:2 - ETA: 28:2 - ETA: 28:2 - ETA: 28:2 - ETA: 28:2 - ETA: 28:2 - ETA: 28:2 - ETA: 28:2 - ETA: 28:2 - ETA: 28:2 - ETA: 28:2 - ETA: 28:2 - ETA: 28:2 - ETA: 28:2 - ETA: 28:2 - ETA: 28:2 - ETA: 28:2 - ETA: 28:2 - ETA: 28:2 - ETA: 28:2 - ETA: 28:2 - ETA: 28:2 - ETA: 28:2 - ETA: 28:1 - ETA: 28:1 - ETA: 28:1 - ETA: 28:1 - ETA: 28:1 - ETA: 28:1 - ETA: 28:1 - ETA: 28:1 - ETA: 28:1 - ETA: 28:1 - ETA: 28:1 - ETA: 28:1 - ETA: 28:1 - ETA: 28:1 - ETA: 28:1 - ETA: 28:1 - ETA: 28:1 - ETA: 28:1 - ETA: 28:1 - ETA: 28:1 - ETA: 28:1 - ETA: 28:1 - ETA: 28:1 - ETA: 28:1 - ETA: 28:1 - ETA: 28:1 - ETA: 28:1 - ETA: 28:1 - ETA: 28:1 - ETA: 28:1 - ETA: 28:1 - ETA: 28:1 - ETA: 28:1 - ETA: 28:1 - ETA: 28:1 - ETA: 28:1 - ETA: 28:1 - ETA: 28:1 - ETA: 28:1 - ETA: 28:1 - ETA: 28:1 - ETA: 28:1 - ETA: 28:1 - ETA: 28:1 - ETA: 28:1 - ETA: 28:1 - ETA: 28:1 - ETA: 28:1 - ETA: 28:1 - ETA: 28:1 - ETA: 28:1 - ETA: 28:1 - ETA: 28:1 - ETA: 28:1 - ETA: 28:1 - ETA: 28:1 - ETA: 28:1 - ETA: 28:1 - ETA: 28:1 - ETA: 28:1 - ETA: 28:1 - ETA: 28:1 - ETA: 28:1 - ETA: 28:1 - ETA: 28:1 - ETA: 28:1 - ETA: 28:1 - ETA: 28:1 - ETA: 28:1 - ETA: 28:1 - ETA: 28:1 - ETA: 28:1 - ETA: 28:1 - ETA: 28:1 - ETA: 28:1 - ETA: 28:1 - ETA: 28:1 - ETA: 28:0 - ETA: 28:0 - ETA: 28:0 - ETA: 28:0 - ETA: 28:0 - ETA: 28:0 - ETA: 28:0 - ETA: 28:0 - ETA: 28:0 - ETA: 28:0 - ETA: 28:0 - ETA: 28:0 - ETA: 28:0 - ETA: 28:0 - ETA: 28:0 - ETA: 28:0 - ETA: 28:0 - ETA: 28:0 - ETA: 28:0 - ETA: 28:0 - ETA: 28:0 - ETA: 28:0 - ETA: 28:0 - ETA: 28:0 - ETA: 28:0 - ETA: 28:0 - ETA: 28:0 - ETA: 28:0 - ETA: 28:0 - ETA: 28:0 - ETA: 28:0 - ETA: 28:0 - ETA: 28:0 - ETA: 28:0 - ETA: 28:0 - ETA: 28:0 - ETA: 28:0 - ETA: 28:0 - ETA: 28:0 - ETA: 28:0 - ETA: 28:0 - ETA: 28:0 - ETA: 28:0 - ETA: 28:0 - ETA: 28:0 - ETA: 28:0 - ETA: 28:0 - ETA: 28:0 - ETA: 28:0 - ETA: 28:0 - ETA: 28:0 - ETA: 28:0 - ETA: 28:0 - ETA: 28:0 - ETA: 28:0 - ETA: 28:0 - ETA: 28:0 - ETA: 28:0 - ETA: 28:0 - ETA: 28:0 - ETA: 28:0 - ETA: 28:0 - ETA: 28:0 - ETA: 28:0 - ETA: 28:0 - ETA: 28:0 - ETA: 28:0 - ETA: 28:0 - ETA: 28:0 - ETA: 28:0 - ETA: 28:0 - ETA: 28:0 - ETA: 28:0 - ETA: 28:0 - ETA: 28:0 - ETA: 28:0 - ETA: 28:0 - ETA: 28:0 - ETA: 28:0 - ETA: 28:0 - ETA: 28:0 - ETA: 28:0 - ETA: 28:0 - ETA: 28:0 - ETA: 28:0 - ETA: 28:0 - ETA: 28:0 - ETA: 27:5 - ETA: 27:5 - ETA: 27:5 - ETA: 27:5 - ETA: 27:5 - ETA: 27:5 - ETA: 27:5 - ETA: 27:5 - ETA: 27:5 - ETA: 27:5 - ETA: 27:5 - ETA: 27:5 - ETA: 27:5 - ETA: 27:5 - ETA: 27:5 - ETA: 27:5 - ETA: 27:5 - ETA: 27:5 - ETA: 27:5 - ETA: 27:5 - ETA: 27:5 - ETA: 27:5 - ETA: 27:5 - ETA: 27:5 - ETA: 27:5 - ETA: 27:5 - ETA: 27:5 - ETA: 27:5 - ETA: 27:5 - ETA: 27:5 - ETA: 27:5 - ETA: 27:5 - ETA: 27:5 - ETA: 27:5 - ETA: 27:5 - ETA: 27:5 - ETA: 27:5 - ETA: 27:5 - ETA: 27:5 - ETA: 27:5 - ETA: 27:5 - ETA: 27:5 - ETA: 27:5 - ETA: 27:5 - ETA: 27:5 - ETA: 27:5 - ETA: 27:5 - ETA: 27:5 - ETA: 27:5 - ETA: 27:5 - ETA: 27:5 - ETA: 27:5 - ETA: 27:5 - ETA: 27:5 - ETA: 27:5 - ETA: 27:5 - ETA: 27:5 - ETA: 27:5 - ETA: 27:5 - ETA: 27:5 - ETA: 27:5 - ETA: 27:5 - ETA: 27:5 - ETA: 27:5 - ETA: 27:5 - ETA: 27:5 - ETA: 27:5 - ETA: 27:5 - ETA: 27:5 - ETA: 27:5 - ETA: 27:5 - ETA: 27:5 - ETA: 27:5 - ETA: 27:5 - ETA: 27:5 - ETA: 27:5 - ETA: 27:5 - ETA: 27:5 - ETA: 27:5 - ETA: 27:5 - ETA: 27:5 - ETA: 27:5 - ETA: 27:5 - ETA: 27:5 - ETA: 27:5 - ETA: 27:4 - ETA: 27:4 - ETA: 27:4 - ETA: 27:4 - ETA: 27:4 - ETA: 27:4 - ETA: 27:4 - ETA: 27:4 - ETA: 27:4 - ETA: 27:4 - ETA: 27:4 - ETA: 27:4 - ETA: 27:4 - ETA: 27:4 - ETA: 27:4 - ETA: 27:4 - ETA: 27:4 - ETA: 27:4 - ETA: 27:4 - ETA: 27:4 - ETA: 27:4 - ETA: 27:4 - ETA: 27:4 - ETA: 27:4 - ETA: 27:4 - ETA: 27:4 - ETA: 27:4 - ETA: 27:4 - ETA: 27:4 - ETA: 27:4 - ETA: 27:4 - ETA: 27:4 - ETA: 27:4 - ETA: 27:4 - ETA: 27:4 - ETA: 27:4 - ETA: 27:4 - ETA: 27:4 - ETA: 27:4 - ETA: 27:4 - ETA: 27:4 - ETA: 27:4 - ETA: 27:4 - ETA: 27:4 - ETA: 27:4 - ETA: 27:4 - ETA: 27:4 - ETA: 27:4 - ETA: 27:4 - ETA: 27:4 - ETA: 27:4 - ETA: 27:4 - ETA: 27:4 - ETA: 27:4 - ETA: 27:4 - ETA: 27:4 - ETA: 27:4 - ETA: 27:4 - ETA: 27:4 - ETA: 27:4 - ETA: 27:4 - ETA: 27:4 - ETA: 27:4 - ETA: 27:4 - ETA: 27:4 - ETA: 27:4 - ETA: 27:4 - ETA: 27:4 - ETA: 27:4 - ETA: 27:4 - ETA: 27:4 - ETA: 27:4 - ETA: 27:4 - ETA: 27:4 - ETA: 27:4 - ETA: 27:4 - ETA: 27:4 - ETA: 27:4 - ETA: 27:4 - ETA: 27:4 - ETA: 27:4 - ETA: 27:4 - ETA: 27:4 - ETA: 27:4 - ETA: 27:4 - ETA: 27:41"
     ]
    },
    {
     "name": "stdout",
     "output_type": "stream",
     "text": [
      "239501312/580070376 [===========>..................] - ETA: 27:4 - ETA: 27:4 - ETA: 27:4 - ETA: 27:4 - ETA: 27:4 - ETA: 27:4 - ETA: 27:4 - ETA: 27:4 - ETA: 27:4 - ETA: 27:3 - ETA: 27:3 - ETA: 27:3 - ETA: 27:3 - ETA: 27:3 - ETA: 27:3 - ETA: 27:3 - ETA: 27:3 - ETA: 27:3 - ETA: 27:3 - ETA: 27:3 - ETA: 27:3 - ETA: 27:3 - ETA: 27:3 - ETA: 27:3 - ETA: 27:3 - ETA: 27:3 - ETA: 27:3 - ETA: 27:3 - ETA: 27:3 - ETA: 27:3 - ETA: 27:3 - ETA: 27:3 - ETA: 27:3 - ETA: 27:3 - ETA: 27:3 - ETA: 27:3 - ETA: 27:3 - ETA: 27:3 - ETA: 27:3 - ETA: 27:3 - ETA: 27:3 - ETA: 27:3 - ETA: 27:3 - ETA: 27:3 - ETA: 27:3 - ETA: 27:3 - ETA: 27:3 - ETA: 27:3 - ETA: 27:3 - ETA: 27:3 - ETA: 27:3 - ETA: 27:3 - ETA: 27:3 - ETA: 27:3 - ETA: 27:3 - ETA: 27:3 - ETA: 27:3 - ETA: 27:3 - ETA: 27:3 - ETA: 27:3 - ETA: 27:3 - ETA: 27:3 - ETA: 27:3 - ETA: 27:3 - ETA: 27:3 - ETA: 27:3 - ETA: 27:3 - ETA: 27:3 - ETA: 27:3 - ETA: 27:3 - ETA: 27:3 - ETA: 27:3 - ETA: 27:3 - ETA: 27:3 - ETA: 27:3 - ETA: 27:3 - ETA: 27:3 - ETA: 27:3 - ETA: 27:3 - ETA: 27:3 - ETA: 27:3 - ETA: 27:3 - ETA: 27:3 - ETA: 27:3 - ETA: 27:3 - ETA: 27:3 - ETA: 27:3 - ETA: 27:3 - ETA: 27:3 - ETA: 27:3 - ETA: 27:3 - ETA: 27:3 - ETA: 27:2 - ETA: 27:3 - ETA: 27:2 - ETA: 27:2 - ETA: 27:2 - ETA: 27:2 - ETA: 27:2 - ETA: 27:2 - ETA: 27:2 - ETA: 27:2 - ETA: 27:2 - ETA: 27:2 - ETA: 27:3 - ETA: 27:3 - ETA: 27:2 - ETA: 27:2 - ETA: 27:2 - ETA: 27:2 - ETA: 27:2 - ETA: 27:2 - ETA: 27:2 - ETA: 27:2 - ETA: 27:2 - ETA: 27:2 - ETA: 27:2 - ETA: 27:2 - ETA: 27:2 - ETA: 27:2 - ETA: 27:2 - ETA: 27:2 - ETA: 27:2 - ETA: 27:2 - ETA: 27:2 - ETA: 27:2 - ETA: 27:2 - ETA: 27:2 - ETA: 27:2 - ETA: 27:2 - ETA: 27:2 - ETA: 27:2 - ETA: 27:2 - ETA: 27:2 - ETA: 27:2 - ETA: 27:2 - ETA: 27:2 - ETA: 27:2 - ETA: 27:2 - ETA: 27:2 - ETA: 27:2 - ETA: 27:2 - ETA: 27:2 - ETA: 27:2 - ETA: 27:2 - ETA: 27:2 - ETA: 27:2 - ETA: 27:2 - ETA: 27:2 - ETA: 27:2 - ETA: 27:2 - ETA: 27:2 - ETA: 27:2 - ETA: 27:2 - ETA: 27:2 - ETA: 27:2 - ETA: 27:2 - ETA: 27:2 - ETA: 27:2 - ETA: 27:2 - ETA: 27:2 - ETA: 27:2 - ETA: 27:2 - ETA: 27:2 - ETA: 27:2 - ETA: 27:2 - ETA: 27:2 - ETA: 27:2 - ETA: 27:2 - ETA: 27:2 - ETA: 27:2 - ETA: 27:2 - ETA: 27:2 - ETA: 27:2 - ETA: 27:2 - ETA: 27:2 - ETA: 27:2 - ETA: 27:2 - ETA: 27:1 - ETA: 27:1 - ETA: 27:1 - ETA: 27:1 - ETA: 27:1 - ETA: 27:1 - ETA: 27:1 - ETA: 27:1 - ETA: 27:1 - ETA: 27:1 - ETA: 27:1 - ETA: 27:1 - ETA: 27:1 - ETA: 27:1 - ETA: 27:1 - ETA: 27:1 - ETA: 27:1 - ETA: 27:1 - ETA: 27:1 - ETA: 27:1 - ETA: 27:1 - ETA: 27:1 - ETA: 27:1 - ETA: 27:1 - ETA: 27:1 - ETA: 27:1 - ETA: 27:1 - ETA: 27:1 - ETA: 27:1 - ETA: 27:1 - ETA: 27:1 - ETA: 27:1 - ETA: 27:1 - ETA: 27:1 - ETA: 27:1 - ETA: 27:1 - ETA: 27:1 - ETA: 27:1 - ETA: 27:1 - ETA: 27:1 - ETA: 27:1 - ETA: 27:1 - ETA: 27:1 - ETA: 27:1 - ETA: 27:1 - ETA: 27:1 - ETA: 27:1 - ETA: 27:1 - ETA: 27:1 - ETA: 27:1 - ETA: 27:1 - ETA: 27:1 - ETA: 27:1 - ETA: 27:1 - ETA: 27:1 - ETA: 27:1 - ETA: 27:1 - ETA: 27:1 - ETA: 27:1 - ETA: 27:1 - ETA: 27:1 - ETA: 27:1 - ETA: 27:1 - ETA: 27:1 - ETA: 27:1 - ETA: 27:1 - ETA: 27:1 - ETA: 27:1 - ETA: 27:1 - ETA: 27:1 - ETA: 27:1 - ETA: 27:1 - ETA: 27:1 - ETA: 27:1 - ETA: 27:1 - ETA: 27:1 - ETA: 27:1 - ETA: 27:1 - ETA: 27:1 - ETA: 27:0 - ETA: 27:0 - ETA: 27:0 - ETA: 27:0 - ETA: 27:0 - ETA: 27:0 - ETA: 27:0 - ETA: 27:0 - ETA: 27:0 - ETA: 27:0 - ETA: 27:0 - ETA: 27:0 - ETA: 27:1 - ETA: 27:1 - ETA: 27:1 - ETA: 27:0 - ETA: 27:0 - ETA: 27:0 - ETA: 27:0 - ETA: 27:0 - ETA: 27:0 - ETA: 27:0 - ETA: 27:0 - ETA: 27:0 - ETA: 27:0 - ETA: 27:0 - ETA: 27:0 - ETA: 27:0 - ETA: 27:0 - ETA: 27:0 - ETA: 27:0 - ETA: 27:0 - ETA: 27:0 - ETA: 27:0 - ETA: 27:0 - ETA: 27:0 - ETA: 27:0 - ETA: 27:0 - ETA: 27:0 - ETA: 27:0 - ETA: 27:0 - ETA: 27:0 - ETA: 27:0 - ETA: 27:0 - ETA: 27:0 - ETA: 27:0 - ETA: 27:0 - ETA: 27:0 - ETA: 27:0 - ETA: 27:0 - ETA: 27:0 - ETA: 27:0 - ETA: 27:0 - ETA: 27:0 - ETA: 27:0 - ETA: 27:0 - ETA: 27:0 - ETA: 27:0 - ETA: 27:0 - ETA: 27:0 - ETA: 27:0 - ETA: 27:0 - ETA: 27:0 - ETA: 27:0 - ETA: 27:0 - ETA: 27:0 - ETA: 27:0 - ETA: 27:0 - ETA: 27:0 - ETA: 27:0 - ETA: 27:0 - ETA: 27:0 - ETA: 27:0 - ETA: 27:0 - ETA: 27:0 - ETA: 27:0 - ETA: 27:0 - ETA: 27:0 - ETA: 27:0 - ETA: 27:0 - ETA: 27:0 - ETA: 27:0 - ETA: 27:0 - ETA: 27:0 - ETA: 27:0 - ETA: 27:0 - ETA: 27:0 - ETA: 27:0 - ETA: 27:0 - ETA: 27:0 - ETA: 27:0 - ETA: 27:0 - ETA: 27:0 - ETA: 27:0 - ETA: 27:0 - ETA: 27:0 - ETA: 27:0 - ETA: 27:0 - ETA: 27:0 - ETA: 27:0 - ETA: 27:0 - ETA: 27:0 - ETA: 27:0 - ETA: 27:0 - ETA: 27:0 - ETA: 27:0 - ETA: 27:0 - ETA: 27:0 - ETA: 27:0 - ETA: 27:0 - ETA: 27:0 - ETA: 27:0 - ETA: 27:0 - ETA: 27:0 - ETA: 27:0 - ETA: 27:0 - ETA: 27:0 - ETA: 27:0 - ETA: 27:0 - ETA: 27:0 - ETA: 27:0 - ETA: 27:0 - ETA: 27:0 - ETA: 26:5 - ETA: 26:5 - ETA: 26:5 - ETA: 26:5 - ETA: 26:5 - ETA: 26:5 - ETA: 26:5 - ETA: 26:5 - ETA: 26:5 - ETA: 26:5 - ETA: 26:5 - ETA: 26:5 - ETA: 26:5 - ETA: 26:5 - ETA: 26:5 - ETA: 26:5 - ETA: 26:5 - ETA: 26:5 - ETA: 26:5 - ETA: 26:5 - ETA: 26:5 - ETA: 26:5 - ETA: 26:5 - ETA: 26:5 - ETA: 26:5 - ETA: 26:5 - ETA: 26:5 - ETA: 26:5 - ETA: 26:5 - ETA: 26:5 - ETA: 26:5 - ETA: 26:5 - ETA: 26:5 - ETA: 26:5 - ETA: 26:5 - ETA: 26:5 - ETA: 26:5 - ETA: 26:5 - ETA: 26:5 - ETA: 26:5 - ETA: 26:5 - ETA: 26:5 - ETA: 26:5 - ETA: 26:5 - ETA: 26:5 - ETA: 26:5 - ETA: 26:5 - ETA: 26:5 - ETA: 26:5 - ETA: 26:5 - ETA: 26:5 - ETA: 26:5 - ETA: 26:5 - ETA: 26:5 - ETA: 26:5 - ETA: 26:5 - ETA: 26:5 - ETA: 26:5 - ETA: 26:5 - ETA: 26:5 - ETA: 26:5 - ETA: 26:5 - ETA: 26:5 - ETA: 26:5 - ETA: 26:5 - ETA: 26:5 - ETA: 26:5 - ETA: 26:5 - ETA: 26:5 - ETA: 26:5 - ETA: 26:5 - ETA: 26:5 - ETA: 26:5 - ETA: 26:5 - ETA: 26:5 - ETA: 26:5 - ETA: 26:5 - ETA: 26:5 - ETA: 26:5 - ETA: 26:5 - ETA: 26:5 - ETA: 26:5 - ETA: 26:5 - ETA: 26:5 - ETA: 26:5 - ETA: 26:5 - ETA: 26:5 - ETA: 26:5 - ETA: 26:5 - ETA: 26:5 - ETA: 26:5 - ETA: 26:5 - ETA: 26:5 - ETA: 26:5 - ETA: 26:5 - ETA: 26:5 - ETA: 26:4 - ETA: 26:4 - ETA: 26:4 - ETA: 26:4 - ETA: 26:4 - ETA: 26:4 - ETA: 26:4 - ETA: 26:4 - ETA: 26:4 - ETA: 26:4 - ETA: 26:4 - ETA: 26:4 - ETA: 26:4 - ETA: 26:4 - ETA: 26:4 - ETA: 26:4 - ETA: 26:4 - ETA: 26:4 - ETA: 26:4 - ETA: 26:4 - ETA: 26:4 - ETA: 26:4 - ETA: 26:4 - ETA: 26:4 - ETA: 26:4 - ETA: 26:4 - ETA: 26:4 - ETA: 26:4 - ETA: 26:4 - ETA: 26:4 - ETA: 26:4 - ETA: 26:4 - ETA: 26:4 - ETA: 26:4 - ETA: 26:4 - ETA: 26:4 - ETA: 26:4 - ETA: 26:4 - ETA: 26:4 - ETA: 26:4 - ETA: 26:4 - ETA: 26:4 - ETA: 26:4 - ETA: 26:4 - ETA: 26:4 - ETA: 26:4 - ETA: 26:4 - ETA: 26:4 - ETA: 26:4 - ETA: 26:4 - ETA: 26:4 - ETA: 26:4 - ETA: 26:4 - ETA: 26:4 - ETA: 26:4 - ETA: 26:4 - ETA: 26:4 - ETA: 26:4 - ETA: 26:4 - ETA: 26:4 - ETA: 26:4 - ETA: 26:4 - ETA: 26:4 - ETA: 26:4 - ETA: 26:4 - ETA: 26:4 - ETA: 26:4 - ETA: 26:4 - ETA: 26:4 - ETA: 26:4 - ETA: 26:4 - ETA: 26:4 - ETA: 26:4 - ETA: 26:4 - ETA: 26:4 - ETA: 26:4 - ETA: 26:4 - ETA: 26:4 - ETA: 26:4 - ETA: 26:4 - ETA: 26:4 - ETA: 26:4 - ETA: 26:4 - ETA: 26:3 - ETA: 26:3 - ETA: 26:3 - ETA: 26:3 - ETA: 26:3 - ETA: 26:3 - ETA: 26:3 - ETA: 26:3 - ETA: 26:3 - ETA: 26:3 - ETA: 26:3 - ETA: 26:3 - ETA: 26:3 - ETA: 26:3 - ETA: 26:3 - ETA: 26:3 - ETA: 26:3 - ETA: 26:3 - ETA: 26:3 - ETA: 26:3 - ETA: 26:3 - ETA: 26:3 - ETA: 26:3 - ETA: 26:3 - ETA: 26:3 - ETA: 26:3 - ETA: 26:3 - ETA: 26:3 - ETA: 26:3 - ETA: 26:3 - ETA: 26:3 - ETA: 26:3 - ETA: 26:3 - ETA: 26:3 - ETA: 26:3 - ETA: 26:3 - ETA: 26:3 - ETA: 26:3 - ETA: 26:3 - ETA: 26:3 - ETA: 26:3 - ETA: 26:3 - ETA: 26:3 - ETA: 26:3 - ETA: 26:3 - ETA: 26:3 - ETA: 26:3 - ETA: 26:3 - ETA: 26:3 - ETA: 26:3 - ETA: 26:3 - ETA: 26:3 - ETA: 26:3 - ETA: 26:3 - ETA: 26:3 - ETA: 26:3 - ETA: 26:3 - ETA: 26:3 - ETA: 26:3 - ETA: 26:3 - ETA: 26:3 - ETA: 26:3 - ETA: 26:3 - ETA: 26:3 - ETA: 26:3 - ETA: 26:3 - ETA: 26:3 - ETA: 26:3 - ETA: 26:3 - ETA: 26:3 - ETA: 26:3 - ETA: 26:3 - ETA: 26:3 - ETA: 26:3 - ETA: 26:3 - ETA: 26:3 - ETA: 26:3 - ETA: 26:3 - ETA: 26:3 - ETA: 26:3 - ETA: 26:3 - ETA: 26:3 - ETA: 26:3 - ETA: 26:3 - ETA: 26:3 - ETA: 26:3 - ETA: 26:3 - ETA: 26:3 - ETA: 26:3 - ETA: 26:3 - ETA: 26:2 - ETA: 26:2 - ETA: 26:2 - ETA: 26:2 - ETA: 26:2 - ETA: 26:2 - ETA: 26:2 - ETA: 26:2 - ETA: 26:2 - ETA: 26:2 - ETA: 26:2 - ETA: 26:2 - ETA: 26:2 - ETA: 26:2 - ETA: 26:2 - ETA: 26:2 - ETA: 26:2 - ETA: 26:2 - ETA: 26:2 - ETA: 26:2 - ETA: 26:2 - ETA: 26:2 - ETA: 26:2 - ETA: 26:2 - ETA: 26:2 - ETA: 26:2 - ETA: 26:2 - ETA: 26:2 - ETA: 26:2 - ETA: 26:27"
     ]
    },
    {
     "name": "stdout",
     "output_type": "stream",
     "text": [
      "253984768/580070376 [============>.................] - ETA: 26:2 - ETA: 26:2 - ETA: 26:2 - ETA: 26:2 - ETA: 26:2 - ETA: 26:2 - ETA: 26:2 - ETA: 26:2 - ETA: 26:2 - ETA: 26:2 - ETA: 26:2 - ETA: 26:2 - ETA: 26:2 - ETA: 26:2 - ETA: 26:2 - ETA: 26:2 - ETA: 26:2 - ETA: 26:2 - ETA: 26:2 - ETA: 26:2 - ETA: 26:2 - ETA: 26:2 - ETA: 26:2 - ETA: 26:2 - ETA: 26:2 - ETA: 26:2 - ETA: 26:2 - ETA: 26:2 - ETA: 26:2 - ETA: 26:2 - ETA: 26:2 - ETA: 26:2 - ETA: 26:2 - ETA: 26:2 - ETA: 26:2 - ETA: 26:2 - ETA: 26:2 - ETA: 26:2 - ETA: 26:2 - ETA: 26:2 - ETA: 26:2 - ETA: 26:2 - ETA: 26:2 - ETA: 26:2 - ETA: 26:2 - ETA: 26:2 - ETA: 26:2 - ETA: 26:2 - ETA: 26:2 - ETA: 26:2 - ETA: 26:2 - ETA: 26:2 - ETA: 26:2 - ETA: 26:2 - ETA: 26:2 - ETA: 26:1 - ETA: 26:1 - ETA: 26:1 - ETA: 26:1 - ETA: 26:1 - ETA: 26:1 - ETA: 26:1 - ETA: 26:1 - ETA: 26:1 - ETA: 26:1 - ETA: 26:1 - ETA: 26:1 - ETA: 26:1 - ETA: 26:1 - ETA: 26:1 - ETA: 26:1 - ETA: 26:1 - ETA: 26:1 - ETA: 26:1 - ETA: 26:1 - ETA: 26:1 - ETA: 26:1 - ETA: 26:1 - ETA: 26:1 - ETA: 26:1 - ETA: 26:1 - ETA: 26:1 - ETA: 26:1 - ETA: 26:1 - ETA: 26:1 - ETA: 26:1 - ETA: 26:1 - ETA: 26:1 - ETA: 26:1 - ETA: 26:1 - ETA: 26:1 - ETA: 26:1 - ETA: 26:1 - ETA: 26:1 - ETA: 26:1 - ETA: 26:1 - ETA: 26:1 - ETA: 26:1 - ETA: 26:1 - ETA: 26:1 - ETA: 26:1 - ETA: 26:1 - ETA: 26:1 - ETA: 26:1 - ETA: 26:1 - ETA: 26:1 - ETA: 26:1 - ETA: 26:1 - ETA: 26:1 - ETA: 26:1 - ETA: 26:1 - ETA: 26:1 - ETA: 26:1 - ETA: 26:1 - ETA: 26:1 - ETA: 26:1 - ETA: 26:1 - ETA: 26:1 - ETA: 26:1 - ETA: 26:1 - ETA: 26:1 - ETA: 26:1 - ETA: 26:1 - ETA: 26:1 - ETA: 26:1 - ETA: 26:1 - ETA: 26:1 - ETA: 26:1 - ETA: 26:1 - ETA: 26:1 - ETA: 26:1 - ETA: 26:1 - ETA: 26:1 - ETA: 26:1 - ETA: 26:1 - ETA: 26:1 - ETA: 26:1 - ETA: 26:1 - ETA: 26:1 - ETA: 26:1 - ETA: 26:0 - ETA: 26:0 - ETA: 26:0 - ETA: 26:0 - ETA: 26:0 - ETA: 26:0 - ETA: 26:0 - ETA: 26:0 - ETA: 26:0 - ETA: 26:0 - ETA: 26:0 - ETA: 26:0 - ETA: 26:0 - ETA: 26:0 - ETA: 26:0 - ETA: 26:0 - ETA: 26:0 - ETA: 26:0 - ETA: 26:0 - ETA: 26:0 - ETA: 26:0 - ETA: 26:0 - ETA: 26:0 - ETA: 26:0 - ETA: 26:0 - ETA: 26:0 - ETA: 26:0 - ETA: 26:0 - ETA: 26:0 - ETA: 26:0 - ETA: 26:0 - ETA: 26:0 - ETA: 26:0 - ETA: 26:0 - ETA: 26:0 - ETA: 26:0 - ETA: 26:0 - ETA: 26:0 - ETA: 26:0 - ETA: 26:0 - ETA: 26:0 - ETA: 26:0 - ETA: 26:0 - ETA: 26:0 - ETA: 26:0 - ETA: 26:0 - ETA: 26:0 - ETA: 26:0 - ETA: 26:0 - ETA: 26:0 - ETA: 26:0 - ETA: 26:0 - ETA: 26:0 - ETA: 26:0 - ETA: 26:0 - ETA: 26:0 - ETA: 26:0 - ETA: 26:0 - ETA: 26:0 - ETA: 26:0 - ETA: 26:0 - ETA: 26:0 - ETA: 26:0 - ETA: 26:0 - ETA: 26:0 - ETA: 26:0 - ETA: 26:0 - ETA: 26:0 - ETA: 26:0 - ETA: 26:0 - ETA: 26:0 - ETA: 26:0 - ETA: 26:0 - ETA: 26:0 - ETA: 26:0 - ETA: 26:0 - ETA: 26:0 - ETA: 26:0 - ETA: 26:0 - ETA: 26:0 - ETA: 26:0 - ETA: 26:0 - ETA: 26:0 - ETA: 26:0 - ETA: 26:0 - ETA: 26:0 - ETA: 26:0 - ETA: 26:0 - ETA: 26:0 - ETA: 26:0 - ETA: 26:0 - ETA: 25:5 - ETA: 25:5 - ETA: 25:5 - ETA: 25:5 - ETA: 25:5 - ETA: 25:5 - ETA: 25:5 - ETA: 25:5 - ETA: 25:5 - ETA: 25:5 - ETA: 25:5 - ETA: 25:5 - ETA: 25:5 - ETA: 25:5 - ETA: 25:5 - ETA: 25:5 - ETA: 25:5 - ETA: 25:5 - ETA: 26:0 - ETA: 26:0 - ETA: 25:5 - ETA: 25:5 - ETA: 25:5 - ETA: 25:5 - ETA: 25:5 - ETA: 25:5 - ETA: 25:5 - ETA: 25:5 - ETA: 25:5 - ETA: 25:5 - ETA: 25:5 - ETA: 25:5 - ETA: 25:5 - ETA: 25:5 - ETA: 25:5 - ETA: 25:5 - ETA: 25:5 - ETA: 25:5 - ETA: 25:5 - ETA: 25:5 - ETA: 25:5 - ETA: 25:5 - ETA: 25:5 - ETA: 25:5 - ETA: 25:5 - ETA: 25:5 - ETA: 25:5 - ETA: 25:5 - ETA: 25:5 - ETA: 25:5 - ETA: 25:5 - ETA: 25:5 - ETA: 25:5 - ETA: 25:5 - ETA: 25:5 - ETA: 25:5 - ETA: 25:5 - ETA: 25:5 - ETA: 25:5 - ETA: 25:5 - ETA: 25:5 - ETA: 25:5 - ETA: 25:5 - ETA: 25:5 - ETA: 25:5 - ETA: 25:5 - ETA: 25:5 - ETA: 25:5 - ETA: 25:5 - ETA: 25:5 - ETA: 25:5 - ETA: 25:5 - ETA: 25:5 - ETA: 25:5 - ETA: 25:5 - ETA: 25:5 - ETA: 25:5 - ETA: 25:5 - ETA: 25:5 - ETA: 25:5 - ETA: 25:5 - ETA: 25:5 - ETA: 25:5 - ETA: 25:5 - ETA: 25:5 - ETA: 25:5 - ETA: 25:5 - ETA: 25:5 - ETA: 25:5 - ETA: 25:5 - ETA: 25:5 - ETA: 25:5 - ETA: 25:5 - ETA: 25:5 - ETA: 25:5 - ETA: 25:5 - ETA: 25:5 - ETA: 25:5 - ETA: 25:5 - ETA: 25:5 - ETA: 25:5 - ETA: 25:5 - ETA: 25:5 - ETA: 25:5 - ETA: 25:5 - ETA: 25:5 - ETA: 25:5 - ETA: 25:5 - ETA: 25:5 - ETA: 25:5 - ETA: 25:4 - ETA: 25:4 - ETA: 25:4 - ETA: 25:4 - ETA: 25:4 - ETA: 25:4 - ETA: 25:4 - ETA: 25:4 - ETA: 25:4 - ETA: 25:4 - ETA: 25:4 - ETA: 25:4 - ETA: 25:4 - ETA: 25:4 - ETA: 25:4 - ETA: 25:4 - ETA: 25:4 - ETA: 25:4 - ETA: 25:4 - ETA: 25:4 - ETA: 25:4 - ETA: 25:4 - ETA: 25:4 - ETA: 25:4 - ETA: 25:4 - ETA: 25:4 - ETA: 25:4 - ETA: 25:4 - ETA: 25:4 - ETA: 25:4 - ETA: 25:4 - ETA: 25:4 - ETA: 25:4 - ETA: 25:4 - ETA: 25:4 - ETA: 25:4 - ETA: 25:4 - ETA: 25:4 - ETA: 25:4 - ETA: 25:4 - ETA: 25:4 - ETA: 25:4 - ETA: 25:4 - ETA: 25:4 - ETA: 25:4 - ETA: 25:4 - ETA: 25:4 - ETA: 25:4 - ETA: 25:4 - ETA: 25:4 - ETA: 25:4 - ETA: 25:4 - ETA: 25:4 - ETA: 25:4 - ETA: 25:4 - ETA: 25:4 - ETA: 25:4 - ETA: 25:4 - ETA: 25:4 - ETA: 25:4 - ETA: 25:4 - ETA: 25:4 - ETA: 25:4 - ETA: 25:4 - ETA: 25:4 - ETA: 25:4 - ETA: 25:4 - ETA: 25:4 - ETA: 25:4 - ETA: 25:4 - ETA: 25:4 - ETA: 25:4 - ETA: 25:4 - ETA: 25:4 - ETA: 25:4 - ETA: 25:4 - ETA: 25:4 - ETA: 25:4 - ETA: 25:4 - ETA: 25:4 - ETA: 25:4 - ETA: 25:3 - ETA: 25:3 - ETA: 25:3 - ETA: 25:3 - ETA: 25:3 - ETA: 25:3 - ETA: 25:3 - ETA: 25:3 - ETA: 25:3 - ETA: 25:3 - ETA: 25:3 - ETA: 25:3 - ETA: 25:3 - ETA: 25:3 - ETA: 25:3 - ETA: 25:3 - ETA: 25:3 - ETA: 25:3 - ETA: 25:3 - ETA: 25:3 - ETA: 25:3 - ETA: 25:3 - ETA: 25:3 - ETA: 25:3 - ETA: 25:3 - ETA: 25:3 - ETA: 25:3 - ETA: 25:3 - ETA: 25:3 - ETA: 25:3 - ETA: 25:3 - ETA: 25:3 - ETA: 25:3 - ETA: 25:3 - ETA: 25:3 - ETA: 25:3 - ETA: 25:3 - ETA: 25:3 - ETA: 25:3 - ETA: 25:3 - ETA: 25:3 - ETA: 25:3 - ETA: 25:3 - ETA: 25:3 - ETA: 25:3 - ETA: 25:3 - ETA: 25:3 - ETA: 25:3 - ETA: 25:3 - ETA: 25:3 - ETA: 25:3 - ETA: 25:3 - ETA: 25:3 - ETA: 25:3 - ETA: 25:3 - ETA: 25:3 - ETA: 25:3 - ETA: 25:3 - ETA: 25:3 - ETA: 25:3 - ETA: 25:3 - ETA: 25:3 - ETA: 25:3 - ETA: 25:3 - ETA: 25:3 - ETA: 25:3 - ETA: 25:3 - ETA: 25:3 - ETA: 25:3 - ETA: 25:3 - ETA: 25:3 - ETA: 25:3 - ETA: 25:3 - ETA: 25:3 - ETA: 25:3 - ETA: 25:3 - ETA: 25:3 - ETA: 25:3 - ETA: 25:3 - ETA: 25:3 - ETA: 25:3 - ETA: 25:3 - ETA: 25:3 - ETA: 25:3 - ETA: 25:2 - ETA: 25:2 - ETA: 25:2 - ETA: 25:2 - ETA: 25:2 - ETA: 25:2 - ETA: 25:2 - ETA: 25:2 - ETA: 25:2 - ETA: 25:2 - ETA: 25:2 - ETA: 25:2 - ETA: 25:2 - ETA: 25:2 - ETA: 25:2 - ETA: 25:2 - ETA: 25:2 - ETA: 25:2 - ETA: 25:2 - ETA: 25:2 - ETA: 25:2 - ETA: 25:2 - ETA: 25:2 - ETA: 25:2 - ETA: 25:2 - ETA: 25:2 - ETA: 25:2 - ETA: 25:2 - ETA: 25:2 - ETA: 25:2 - ETA: 25:2 - ETA: 25:2 - ETA: 25:2 - ETA: 25:2 - ETA: 25:2 - ETA: 25:2 - ETA: 25:2 - ETA: 25:2 - ETA: 25:2 - ETA: 25:2 - ETA: 25:2 - ETA: 25:2 - ETA: 25:2 - ETA: 25:2 - ETA: 25:2 - ETA: 25:2 - ETA: 25:2 - ETA: 25:2 - ETA: 25:2 - ETA: 25:2 - ETA: 25:2 - ETA: 25:2 - ETA: 25:2 - ETA: 25:2 - ETA: 25:2 - ETA: 25:2 - ETA: 25:2 - ETA: 25:2 - ETA: 25:2 - ETA: 25:2 - ETA: 25:2 - ETA: 25:2 - ETA: 25:2 - ETA: 25:2 - ETA: 25:2 - ETA: 25:2 - ETA: 25:2 - ETA: 25:2 - ETA: 25:2 - ETA: 25:2 - ETA: 25:2 - ETA: 25:2 - ETA: 25:2 - ETA: 25:2 - ETA: 25:2 - ETA: 25:2 - ETA: 25:2 - ETA: 25:2 - ETA: 25:2 - ETA: 25:2 - ETA: 25:2 - ETA: 25:2 - ETA: 25:2 - ETA: 25:2 - ETA: 25:2 - ETA: 25:2 - ETA: 25:2 - ETA: 25:2 - ETA: 25:2 - ETA: 25:2 - ETA: 25:2 - ETA: 25:2 - ETA: 25:2 - ETA: 25:2 - ETA: 25:2 - ETA: 25:2 - ETA: 25:2 - ETA: 25:1 - ETA: 25:1 - ETA: 25:1 - ETA: 25:1 - ETA: 25:1 - ETA: 25:1 - ETA: 25:1 - ETA: 25:1 - ETA: 25:1 - ETA: 25:1 - ETA: 25:1 - ETA: 25:1 - ETA: 25:1 - ETA: 25:1 - ETA: 25:1 - ETA: 25:1 - ETA: 25:1 - ETA: 25:1 - ETA: 25:1 - ETA: 25:1 - ETA: 25:1 - ETA: 25:1 - ETA: 25:1 - ETA: 25:1 - ETA: 25:1 - ETA: 25:1 - ETA: 25:1 - ETA: 25:1 - ETA: 25:1 - ETA: 25:1 - ETA: 25:1 - ETA: 25:1 - ETA: 25:1 - ETA: 25:1 - ETA: 25:1 - ETA: 25:1 - ETA: 25:1 - ETA: 25:1 - ETA: 25:1 - ETA: 25:1 - ETA: 25:1 - ETA: 25:1 - ETA: 25:1 - ETA: 25:1 - ETA: 25:1 - ETA: 25:1 - ETA: 25:1 - ETA: 25:1 - ETA: 25:1 - ETA: 25:1 - ETA: 25:1 - ETA: 25:1 - ETA: 25:1 - ETA: 25:1 - ETA: 25:1 - ETA: 25:1 - ETA: 25:1 - ETA: 25:1 - ETA: 25:1 - ETA: 25:1 - ETA: 25:1 - ETA: 25:1 - ETA: 25:1 - ETA: 25:1 - ETA: 25:1 - ETA: 25:1 - ETA: 25:1 - ETA: 25:1 - ETA: 25:1 - ETA: 25:1 - ETA: 25:1 - ETA: 25:1 - ETA: 25:1 - ETA: 25:1 - ETA: 25:1 - ETA: 25:12"
     ]
    },
    {
     "name": "stdout",
     "output_type": "stream",
     "text": [
      "269197312/580070376 [============>.................] - ETA: 25:1 - ETA: 25:1 - ETA: 25:1 - ETA: 25:1 - ETA: 25:1 - ETA: 25:1 - ETA: 25:1 - ETA: 25:1 - ETA: 25:1 - ETA: 25:1 - ETA: 25:1 - ETA: 25:1 - ETA: 25:1 - ETA: 25:1 - ETA: 25:1 - ETA: 25:1 - ETA: 25:1 - ETA: 25:1 - ETA: 25:0 - ETA: 25:0 - ETA: 25:0 - ETA: 25:0 - ETA: 25:0 - ETA: 25:0 - ETA: 25:0 - ETA: 25:0 - ETA: 25:0 - ETA: 25:0 - ETA: 25:0 - ETA: 25:0 - ETA: 25:0 - ETA: 25:0 - ETA: 25:0 - ETA: 25:0 - ETA: 25:0 - ETA: 25:0 - ETA: 25:0 - ETA: 25:0 - ETA: 25:0 - ETA: 25:0 - ETA: 25:0 - ETA: 25:0 - ETA: 25:0 - ETA: 25:0 - ETA: 25:0 - ETA: 25:0 - ETA: 25:0 - ETA: 25:0 - ETA: 25:0 - ETA: 25:0 - ETA: 25:0 - ETA: 25:0 - ETA: 25:0 - ETA: 25:0 - ETA: 25:0 - ETA: 25:0 - ETA: 25:0 - ETA: 25:0 - ETA: 25:0 - ETA: 25:0 - ETA: 25:0 - ETA: 25:0 - ETA: 25:0 - ETA: 25:0 - ETA: 25:0 - ETA: 25:0 - ETA: 25:0 - ETA: 25:0 - ETA: 25:0 - ETA: 25:0 - ETA: 25:0 - ETA: 25:0 - ETA: 25:0 - ETA: 25:0 - ETA: 25:0 - ETA: 25:0 - ETA: 25:0 - ETA: 25:0 - ETA: 25:0 - ETA: 25:0 - ETA: 25:0 - ETA: 25:0 - ETA: 25:0 - ETA: 25:0 - ETA: 25:0 - ETA: 25:0 - ETA: 25:0 - ETA: 25:0 - ETA: 25:0 - ETA: 25:0 - ETA: 25:0 - ETA: 25:0 - ETA: 25:0 - ETA: 25:0 - ETA: 25:0 - ETA: 25:0 - ETA: 25:0 - ETA: 25:0 - ETA: 25:0 - ETA: 25:0 - ETA: 25:0 - ETA: 25:0 - ETA: 25:0 - ETA: 25:0 - ETA: 25:0 - ETA: 25:0 - ETA: 25:0 - ETA: 24:5 - ETA: 24:5 - ETA: 24:5 - ETA: 24:5 - ETA: 24:5 - ETA: 24:5 - ETA: 24:5 - ETA: 24:5 - ETA: 24:5 - ETA: 24:5 - ETA: 24:5 - ETA: 24:5 - ETA: 24:5 - ETA: 24:5 - ETA: 24:5 - ETA: 24:5 - ETA: 24:5 - ETA: 24:5 - ETA: 24:5 - ETA: 24:5 - ETA: 24:5 - ETA: 24:5 - ETA: 24:5 - ETA: 24:5 - ETA: 24:5 - ETA: 24:5 - ETA: 24:5 - ETA: 24:5 - ETA: 24:5 - ETA: 24:5 - ETA: 24:5 - ETA: 24:5 - ETA: 24:5 - ETA: 24:5 - ETA: 24:5 - ETA: 24:5 - ETA: 24:5 - ETA: 24:5 - ETA: 24:5 - ETA: 24:5 - ETA: 24:5 - ETA: 24:5 - ETA: 24:5 - ETA: 24:5 - ETA: 24:5 - ETA: 24:5 - ETA: 24:5 - ETA: 24:5 - ETA: 24:5 - ETA: 24:5 - ETA: 24:5 - ETA: 24:5 - ETA: 24:5 - ETA: 24:5 - ETA: 24:5 - ETA: 24:5 - ETA: 24:5 - ETA: 24:5 - ETA: 24:5 - ETA: 24:5 - ETA: 24:5 - ETA: 24:5 - ETA: 24:5 - ETA: 24:5 - ETA: 24:5 - ETA: 24:5 - ETA: 24:5 - ETA: 24:5 - ETA: 24:5 - ETA: 24:5 - ETA: 24:5 - ETA: 24:5 - ETA: 24:5 - ETA: 24:5 - ETA: 24:5 - ETA: 24:5 - ETA: 24:5 - ETA: 24:5 - ETA: 24:5 - ETA: 24:5 - ETA: 24:5 - ETA: 24:5 - ETA: 24:5 - ETA: 24:5 - ETA: 24:5 - ETA: 24:5 - ETA: 24:5 - ETA: 24:5 - ETA: 24:5 - ETA: 24:5 - ETA: 24:5 - ETA: 24:5 - ETA: 24:5 - ETA: 24:5 - ETA: 24:4 - ETA: 24:4 - ETA: 24:4 - ETA: 24:4 - ETA: 24:4 - ETA: 24:4 - ETA: 24:4 - ETA: 24:4 - ETA: 24:4 - ETA: 24:4 - ETA: 24:4 - ETA: 24:4 - ETA: 24:4 - ETA: 24:4 - ETA: 24:4 - ETA: 24:4 - ETA: 24:4 - ETA: 24:4 - ETA: 24:4 - ETA: 24:4 - ETA: 24:4 - ETA: 24:4 - ETA: 24:4 - ETA: 24:4 - ETA: 24:4 - ETA: 24:4 - ETA: 24:4 - ETA: 24:4 - ETA: 24:4 - ETA: 24:4 - ETA: 24:4 - ETA: 24:4 - ETA: 24:4 - ETA: 24:4 - ETA: 24:4 - ETA: 24:4 - ETA: 24:4 - ETA: 24:4 - ETA: 24:4 - ETA: 24:4 - ETA: 24:4 - ETA: 24:4 - ETA: 24:4 - ETA: 24:4 - ETA: 24:4 - ETA: 24:4 - ETA: 24:4 - ETA: 24:4 - ETA: 24:4 - ETA: 24:4 - ETA: 24:4 - ETA: 24:4 - ETA: 24:4 - ETA: 24:4 - ETA: 24:4 - ETA: 24:4 - ETA: 24:4 - ETA: 24:4 - ETA: 24:4 - ETA: 24:4 - ETA: 24:4 - ETA: 24:4 - ETA: 24:4 - ETA: 24:4 - ETA: 24:4 - ETA: 24:4 - ETA: 24:4 - ETA: 24:4 - ETA: 24:4 - ETA: 24:4 - ETA: 24:4 - ETA: 24:4 - ETA: 24:4 - ETA: 24:4 - ETA: 24:4 - ETA: 24:4 - ETA: 24:4 - ETA: 24:4 - ETA: 24:4 - ETA: 24:4 - ETA: 24:4 - ETA: 24:4 - ETA: 24:4 - ETA: 24:4 - ETA: 24:4 - ETA: 24:4 - ETA: 24:4 - ETA: 24:4 - ETA: 24:4 - ETA: 24:4 - ETA: 24:4 - ETA: 24:4 - ETA: 24:4 - ETA: 24:4 - ETA: 24:4 - ETA: 24:4 - ETA: 24:4 - ETA: 24:4 - ETA: 24:3 - ETA: 24:3 - ETA: 24:3 - ETA: 24:3 - ETA: 24:3 - ETA: 24:3 - ETA: 24:3 - ETA: 24:3 - ETA: 24:3 - ETA: 24:3 - ETA: 24:3 - ETA: 24:3 - ETA: 24:3 - ETA: 24:3 - ETA: 24:3 - ETA: 24:3 - ETA: 24:3 - ETA: 24:3 - ETA: 24:3 - ETA: 24:3 - ETA: 24:3 - ETA: 24:3 - ETA: 24:3 - ETA: 24:3 - ETA: 24:3 - ETA: 24:3 - ETA: 24:3 - ETA: 24:3 - ETA: 24:3 - ETA: 24:3 - ETA: 24:3 - ETA: 24:3 - ETA: 24:3 - ETA: 24:3 - ETA: 24:3 - ETA: 24:3 - ETA: 24:3 - ETA: 24:3 - ETA: 24:3 - ETA: 24:3 - ETA: 24:3 - ETA: 24:3 - ETA: 24:3 - ETA: 24:3 - ETA: 24:3 - ETA: 24:3 - ETA: 24:3 - ETA: 24:3 - ETA: 24:3 - ETA: 24:3 - ETA: 24:3 - ETA: 24:3 - ETA: 24:3 - ETA: 24:3 - ETA: 24:3 - ETA: 24:3 - ETA: 24:3 - ETA: 24:3 - ETA: 24:3 - ETA: 24:3 - ETA: 24:3 - ETA: 24:3 - ETA: 24:3 - ETA: 24:3 - ETA: 24:3 - ETA: 24:3 - ETA: 24:3 - ETA: 24:3 - ETA: 24:3 - ETA: 24:3 - ETA: 24:3 - ETA: 24:3 - ETA: 24:3 - ETA: 24:3 - ETA: 24:3 - ETA: 24:3 - ETA: 24:3 - ETA: 24:3 - ETA: 24:3 - ETA: 24:3 - ETA: 24:2 - ETA: 24:2 - ETA: 24:2 - ETA: 24:2 - ETA: 24:2 - ETA: 24:2 - ETA: 24:2 - ETA: 24:2 - ETA: 24:2 - ETA: 24:2 - ETA: 24:2 - ETA: 24:2 - ETA: 24:2 - ETA: 24:2 - ETA: 24:2 - ETA: 24:2 - ETA: 24:2 - ETA: 24:2 - ETA: 24:2 - ETA: 24:2 - ETA: 24:2 - ETA: 24:2 - ETA: 24:2 - ETA: 24:2 - ETA: 24:2 - ETA: 24:2 - ETA: 24:2 - ETA: 24:2 - ETA: 24:2 - ETA: 24:2 - ETA: 24:2 - ETA: 24:2 - ETA: 24:2 - ETA: 24:2 - ETA: 24:2 - ETA: 24:2 - ETA: 24:2 - ETA: 24:2 - ETA: 24:2 - ETA: 24:2 - ETA: 24:2 - ETA: 24:2 - ETA: 24:2 - ETA: 24:2 - ETA: 24:2 - ETA: 24:2 - ETA: 24:2 - ETA: 24:2 - ETA: 24:2 - ETA: 24:2 - ETA: 24:2 - ETA: 24:2 - ETA: 24:2 - ETA: 24:2 - ETA: 24:2 - ETA: 24:2 - ETA: 24:2 - ETA: 24:2 - ETA: 24:2 - ETA: 24:2 - ETA: 24:2 - ETA: 24:2 - ETA: 24:2 - ETA: 24:2 - ETA: 24:2 - ETA: 24:2 - ETA: 24:2 - ETA: 24:2 - ETA: 24:2 - ETA: 24:2 - ETA: 24:2 - ETA: 24:2 - ETA: 24:2 - ETA: 24:2 - ETA: 24:2 - ETA: 24:1 - ETA: 24:1 - ETA: 24:1 - ETA: 24:1 - ETA: 24:1 - ETA: 24:1 - ETA: 24:1 - ETA: 24:1 - ETA: 24:1 - ETA: 24:1 - ETA: 24:1 - ETA: 24:1 - ETA: 24:1 - ETA: 24:1 - ETA: 24:1 - ETA: 24:1 - ETA: 24:1 - ETA: 24:1 - ETA: 24:1 - ETA: 24:1 - ETA: 24:1 - ETA: 24:1 - ETA: 24:1 - ETA: 24:1 - ETA: 24:1 - ETA: 24:1 - ETA: 24:1 - ETA: 24:1 - ETA: 24:1 - ETA: 24:1 - ETA: 24:1 - ETA: 24:1 - ETA: 24:1 - ETA: 24:1 - ETA: 24:1 - ETA: 24:1 - ETA: 24:1 - ETA: 24:1 - ETA: 24:1 - ETA: 24:1 - ETA: 24:1 - ETA: 24:1 - ETA: 24:1 - ETA: 24:1 - ETA: 24:1 - ETA: 24:1 - ETA: 24:1 - ETA: 24:1 - ETA: 24:1 - ETA: 24:1 - ETA: 24:1 - ETA: 24:1 - ETA: 24:1 - ETA: 24:1 - ETA: 24:1 - ETA: 24:1 - ETA: 24:1 - ETA: 24:1 - ETA: 24:1 - ETA: 24:1 - ETA: 24:1 - ETA: 24:1 - ETA: 24:1 - ETA: 24:1 - ETA: 24:1 - ETA: 24:1 - ETA: 24:1 - ETA: 24:1 - ETA: 24:1 - ETA: 24:1 - ETA: 24:1 - ETA: 24:1 - ETA: 24:1 - ETA: 24:1 - ETA: 24:1 - ETA: 24:1 - ETA: 24:1 - ETA: 24:1 - ETA: 24:1 - ETA: 24:1 - ETA: 24:1 - ETA: 24:1 - ETA: 24:1 - ETA: 24:1 - ETA: 24:1 - ETA: 24:1 - ETA: 24:1 - ETA: 24:0 - ETA: 24:0 - ETA: 24:0 - ETA: 24:0 - ETA: 24:0 - ETA: 24:0 - ETA: 24:0 - ETA: 24:0 - ETA: 24:0 - ETA: 24:0 - ETA: 24:0 - ETA: 24:0 - ETA: 24:0 - ETA: 24:0 - ETA: 24:0 - ETA: 24:0 - ETA: 24:0 - ETA: 24:0 - ETA: 24:0 - ETA: 24:0 - ETA: 24:0 - ETA: 24:0 - ETA: 24:0 - ETA: 24:0 - ETA: 24:0 - ETA: 24:0 - ETA: 24:0 - ETA: 24:0 - ETA: 24:0 - ETA: 24:0 - ETA: 24:0 - ETA: 24:0 - ETA: 24:0 - ETA: 24:0 - ETA: 24:0 - ETA: 24:0 - ETA: 24:0 - ETA: 24:0 - ETA: 24:0 - ETA: 24:0 - ETA: 24:0 - ETA: 24:0 - ETA: 24:0 - ETA: 24:0 - ETA: 24:0 - ETA: 24:0 - ETA: 24:0 - ETA: 24:0 - ETA: 24:0 - ETA: 24:0 - ETA: 24:0 - ETA: 24:0 - ETA: 24:0 - ETA: 24:0 - ETA: 24:0 - ETA: 24:0 - ETA: 24:0 - ETA: 24:0 - ETA: 24:0 - ETA: 24:0 - ETA: 24:0 - ETA: 24:0 - ETA: 24:0 - ETA: 24:0 - ETA: 24:0 - ETA: 24:0 - ETA: 24:0 - ETA: 24:0 - ETA: 24:0 - ETA: 24:0 - ETA: 24:0 - ETA: 24:0 - ETA: 24:0 - ETA: 24:0 - ETA: 24:0 - ETA: 24:0 - ETA: 24:0 - ETA: 24:0 - ETA: 24:0 - ETA: 24:0 - ETA: 24:0 - ETA: 24:0 - ETA: 24:0 - ETA: 24:0 - ETA: 24:0 - ETA: 24:0 - ETA: 24:0 - ETA: 24:0 - ETA: 24:0 - ETA: 24:0 - ETA: 24:0 - ETA: 23:5 - ETA: 23:5 - ETA: 23:5 - ETA: 23:5 - ETA: 23:5 - ETA: 23:5 - ETA: 23:5 - ETA: 23:5 - ETA: 23:5 - ETA: 23:5 - ETA: 23:5 - ETA: 23:5 - ETA: 23:5 - ETA: 23:5 - ETA: 23:5 - ETA: 23:5 - ETA: 23:5 - ETA: 23:5 - ETA: 23:5 - ETA: 23:5 - ETA: 23:5 - ETA: 23:5 - ETA: 23:5 - ETA: 23:5 - ETA: 23:5 - ETA: 23:5 - ETA: 23:5 - ETA: 23:5 - ETA: 23:5 - ETA: 23:5 - ETA: 23:5 - ETA: 23:5 - ETA: 23:5 - ETA: 23:5 - ETA: 23:5 - ETA: 23:5 - ETA: 23:5 - ETA: 23:5 - ETA: 23:5 - ETA: 23:5 - ETA: 23:5 - ETA: 23:5 - ETA: 23:5 - ETA: 23:5 - ETA: 23:5 - ETA: 23:5 - ETA: 23:55"
     ]
    },
    {
     "name": "stdout",
     "output_type": "stream",
     "text": [
      "282779648/580070376 [=============>................] - ETA: 23:5 - ETA: 23:5 - ETA: 23:5 - ETA: 23:5 - ETA: 23:5 - ETA: 23:5 - ETA: 23:5 - ETA: 23:5 - ETA: 23:5 - ETA: 23:5 - ETA: 23:5 - ETA: 23:5 - ETA: 23:5 - ETA: 23:5 - ETA: 23:5 - ETA: 23:5 - ETA: 23:5 - ETA: 23:5 - ETA: 23:5 - ETA: 23:5 - ETA: 23:5 - ETA: 23:5 - ETA: 23:5 - ETA: 23:5 - ETA: 23:5 - ETA: 23:5 - ETA: 23:5 - ETA: 23:5 - ETA: 23:5 - ETA: 23:5 - ETA: 23:5 - ETA: 23:5 - ETA: 23:5 - ETA: 23:5 - ETA: 23:5 - ETA: 23:5 - ETA: 23:5 - ETA: 23:5 - ETA: 23:5 - ETA: 23:5 - ETA: 23:5 - ETA: 23:5 - ETA: 23:5 - ETA: 23:5 - ETA: 23:5 - ETA: 23:4 - ETA: 23:4 - ETA: 23:4 - ETA: 23:4 - ETA: 23:4 - ETA: 23:4 - ETA: 23:4 - ETA: 23:4 - ETA: 23:4 - ETA: 23:4 - ETA: 23:4 - ETA: 23:4 - ETA: 23:4 - ETA: 23:4 - ETA: 23:4 - ETA: 23:4 - ETA: 23:4 - ETA: 23:4 - ETA: 23:4 - ETA: 23:4 - ETA: 23:4 - ETA: 23:4 - ETA: 23:4 - ETA: 23:4 - ETA: 23:4 - ETA: 23:4 - ETA: 23:4 - ETA: 23:4 - ETA: 23:4 - ETA: 23:4 - ETA: 23:4 - ETA: 23:4 - ETA: 23:4 - ETA: 23:4 - ETA: 23:4 - ETA: 23:4 - ETA: 23:4 - ETA: 23:4 - ETA: 23:4 - ETA: 23:4 - ETA: 23:4 - ETA: 23:4 - ETA: 23:4 - ETA: 23:4 - ETA: 23:4 - ETA: 23:4 - ETA: 23:4 - ETA: 23:4 - ETA: 23:4 - ETA: 23:4 - ETA: 23:4 - ETA: 23:4 - ETA: 23:4 - ETA: 23:4 - ETA: 23:4 - ETA: 23:4 - ETA: 23:4 - ETA: 23:4 - ETA: 23:4 - ETA: 23:4 - ETA: 23:4 - ETA: 23:4 - ETA: 23:4 - ETA: 23:4 - ETA: 23:4 - ETA: 23:4 - ETA: 23:4 - ETA: 23:4 - ETA: 23:4 - ETA: 23:4 - ETA: 23:4 - ETA: 23:4 - ETA: 23:4 - ETA: 23:4 - ETA: 23:4 - ETA: 23:4 - ETA: 23:4 - ETA: 23:4 - ETA: 23:4 - ETA: 23:4 - ETA: 23:4 - ETA: 23:4 - ETA: 23:4 - ETA: 23:4 - ETA: 23:4 - ETA: 23:4 - ETA: 23:4 - ETA: 23:4 - ETA: 23:4 - ETA: 23:4 - ETA: 23:4 - ETA: 23:4 - ETA: 23:4 - ETA: 23:4 - ETA: 23:4 - ETA: 23:4 - ETA: 23:4 - ETA: 23:4 - ETA: 23:4 - ETA: 23:4 - ETA: 23:3 - ETA: 23:3 - ETA: 23:3 - ETA: 23:3 - ETA: 23:3 - ETA: 23:3 - ETA: 23:3 - ETA: 23:3 - ETA: 23:3 - ETA: 23:3 - ETA: 23:3 - ETA: 23:3 - ETA: 23:3 - ETA: 23:3 - ETA: 23:3 - ETA: 23:3 - ETA: 23:3 - ETA: 23:3 - ETA: 23:3 - ETA: 23:3 - ETA: 23:3 - ETA: 23:3 - ETA: 23:3 - ETA: 23:3 - ETA: 23:3 - ETA: 23:3 - ETA: 23:3 - ETA: 23:3 - ETA: 23:3 - ETA: 23:3 - ETA: 23:3 - ETA: 23:3 - ETA: 23:3 - ETA: 23:3 - ETA: 23:3 - ETA: 23:3 - ETA: 23:3 - ETA: 23:3 - ETA: 23:3 - ETA: 23:3 - ETA: 23:3 - ETA: 23:3 - ETA: 23:3 - ETA: 23:3 - ETA: 23:3 - ETA: 23:3 - ETA: 23:3 - ETA: 23:3 - ETA: 23:3 - ETA: 23:3 - ETA: 23:3 - ETA: 23:3 - ETA: 23:3 - ETA: 23:3 - ETA: 23:3 - ETA: 23:3 - ETA: 23:3 - ETA: 23:3 - ETA: 23:3 - ETA: 23:3 - ETA: 23:3 - ETA: 23:3 - ETA: 23:3 - ETA: 23:3 - ETA: 23:3 - ETA: 23:3 - ETA: 23:3 - ETA: 23:3 - ETA: 23:3 - ETA: 23:3 - ETA: 23:3 - ETA: 23:3 - ETA: 23:3 - ETA: 23:3 - ETA: 23:3 - ETA: 23:3 - ETA: 23:3 - ETA: 23:3 - ETA: 23:3 - ETA: 23:3 - ETA: 23:3 - ETA: 23:3 - ETA: 23:3 - ETA: 23:3 - ETA: 23:3 - ETA: 23:3 - ETA: 23:3 - ETA: 23:3 - ETA: 23:3 - ETA: 23:3 - ETA: 23:3 - ETA: 23:3 - ETA: 23:3 - ETA: 23:3 - ETA: 23:3 - ETA: 23:3 - ETA: 23:3 - ETA: 23:2 - ETA: 23:2 - ETA: 23:2 - ETA: 23:2 - ETA: 23:2 - ETA: 23:2 - ETA: 23:2 - ETA: 23:2 - ETA: 23:2 - ETA: 23:2 - ETA: 23:2 - ETA: 23:2 - ETA: 23:2 - ETA: 23:2 - ETA: 23:2 - ETA: 23:2 - ETA: 23:2 - ETA: 23:2 - ETA: 23:2 - ETA: 23:2 - ETA: 23:2 - ETA: 23:2 - ETA: 23:2 - ETA: 23:2 - ETA: 23:2 - ETA: 23:2 - ETA: 23:2 - ETA: 23:2 - ETA: 23:2 - ETA: 23:2 - ETA: 23:2 - ETA: 23:2 - ETA: 23:2 - ETA: 23:2 - ETA: 23:2 - ETA: 23:2 - ETA: 23:2 - ETA: 23:2 - ETA: 23:2 - ETA: 23:2 - ETA: 23:2 - ETA: 23:2 - ETA: 23:2 - ETA: 23:2 - ETA: 23:2 - ETA: 23:2 - ETA: 23:2 - ETA: 23:2 - ETA: 23:2 - ETA: 23:2 - ETA: 23:2 - ETA: 23:2 - ETA: 23:2 - ETA: 23:2 - ETA: 23:2 - ETA: 23:2 - ETA: 23:2 - ETA: 23:2 - ETA: 23:2 - ETA: 23:2 - ETA: 23:2 - ETA: 23:2 - ETA: 23:2 - ETA: 23:2 - ETA: 23:2 - ETA: 23:2 - ETA: 23:2 - ETA: 23:2 - ETA: 23:2 - ETA: 23:2 - ETA: 23:2 - ETA: 23:2 - ETA: 23:2 - ETA: 23:2 - ETA: 23:2 - ETA: 23:2 - ETA: 23:2 - ETA: 23:2 - ETA: 23:2 - ETA: 23:2 - ETA: 23:2 - ETA: 23:2 - ETA: 23:2 - ETA: 23:2 - ETA: 23:2 - ETA: 23:2 - ETA: 23:2 - ETA: 23:2 - ETA: 23:2 - ETA: 23:2 - ETA: 23:2 - ETA: 23:2 - ETA: 23:2 - ETA: 23:2 - ETA: 23:2 - ETA: 23:2 - ETA: 23:2 - ETA: 23:2 - ETA: 23:2 - ETA: 23:2 - ETA: 23:1 - ETA: 23:1 - ETA: 23:1 - ETA: 23:1 - ETA: 23:1 - ETA: 23:1 - ETA: 23:1 - ETA: 23:1 - ETA: 23:1 - ETA: 23:1 - ETA: 23:1 - ETA: 23:1 - ETA: 23:1 - ETA: 23:1 - ETA: 23:1 - ETA: 23:1 - ETA: 23:1 - ETA: 23:1 - ETA: 23:1 - ETA: 23:1 - ETA: 23:1 - ETA: 23:1 - ETA: 23:1 - ETA: 23:1 - ETA: 23:1 - ETA: 23:1 - ETA: 23:1 - ETA: 23:1 - ETA: 23:1 - ETA: 23:1 - ETA: 23:1 - ETA: 23:1 - ETA: 23:1 - ETA: 23:1 - ETA: 23:1 - ETA: 23:1 - ETA: 23:1 - ETA: 23:1 - ETA: 23:1 - ETA: 23:1 - ETA: 23:1 - ETA: 23:1 - ETA: 23:1 - ETA: 23:1 - ETA: 23:1 - ETA: 23:1 - ETA: 23:1 - ETA: 23:1 - ETA: 23:1 - ETA: 23:1 - ETA: 23:1 - ETA: 23:1 - ETA: 23:1 - ETA: 23:1 - ETA: 23:1 - ETA: 23:1 - ETA: 23:1 - ETA: 23:1 - ETA: 23:1 - ETA: 23:1 - ETA: 23:1 - ETA: 23:1 - ETA: 23:1 - ETA: 23:1 - ETA: 23:1 - ETA: 23:1 - ETA: 23:1 - ETA: 23:1 - ETA: 23:1 - ETA: 23:1 - ETA: 23:1 - ETA: 23:1 - ETA: 23:1 - ETA: 23:1 - ETA: 23:1 - ETA: 23:1 - ETA: 23:1 - ETA: 23:1 - ETA: 23:1 - ETA: 23:1 - ETA: 23:1 - ETA: 23:1 - ETA: 23:1 - ETA: 23:1 - ETA: 23:1 - ETA: 23:1 - ETA: 23:1 - ETA: 23:1 - ETA: 23:1 - ETA: 23:1 - ETA: 23:1 - ETA: 23:1 - ETA: 23:1 - ETA: 23:1 - ETA: 23:1 - ETA: 23:1 - ETA: 23:1 - ETA: 23:1 - ETA: 23:1 - ETA: 23:1 - ETA: 23:1 - ETA: 23:1 - ETA: 23:1 - ETA: 23:1 - ETA: 23:1 - ETA: 23:1 - ETA: 23:1 - ETA: 23:1 - ETA: 23:1 - ETA: 23:1 - ETA: 23:1 - ETA: 23:1 - ETA: 23:0 - ETA: 23:0 - ETA: 23:0 - ETA: 23:0 - ETA: 23:0 - ETA: 23:0 - ETA: 23:0 - ETA: 23:0 - ETA: 23:0 - ETA: 23:0 - ETA: 23:0 - ETA: 23:0 - ETA: 23:0 - ETA: 23:0 - ETA: 23:0 - ETA: 23:0 - ETA: 23:0 - ETA: 23:0 - ETA: 23:0 - ETA: 23:0 - ETA: 23:0 - ETA: 23:0 - ETA: 23:0 - ETA: 23:0 - ETA: 23:0 - ETA: 23:0 - ETA: 23:0 - ETA: 23:0 - ETA: 23:0 - ETA: 23:0 - ETA: 23:0 - ETA: 23:0 - ETA: 23:0 - ETA: 23:0 - ETA: 23:0 - ETA: 23:0 - ETA: 23:0 - ETA: 23:0 - ETA: 23:0 - ETA: 23:0 - ETA: 23:0 - ETA: 23:0 - ETA: 23:0 - ETA: 23:0 - ETA: 23:0 - ETA: 23:0 - ETA: 23:0 - ETA: 23:0 - ETA: 23:0 - ETA: 23:0 - ETA: 23:0 - ETA: 23:0 - ETA: 23:0 - ETA: 23:0 - ETA: 23:0 - ETA: 23:0 - ETA: 23:0 - ETA: 23:0 - ETA: 23:0 - ETA: 23:0 - ETA: 23:0 - ETA: 23:0 - ETA: 23:0 - ETA: 23:0 - ETA: 23:0 - ETA: 23:0 - ETA: 23:0 - ETA: 23:0 - ETA: 23:0 - ETA: 23:0 - ETA: 23:0 - ETA: 23:0 - ETA: 23:0 - ETA: 23:0 - ETA: 23:0 - ETA: 23:0 - ETA: 23:0 - ETA: 23:0 - ETA: 23:0 - ETA: 23:0 - ETA: 23:0 - ETA: 23:0 - ETA: 23:0 - ETA: 23:0 - ETA: 23:0 - ETA: 23:0 - ETA: 23:0 - ETA: 23:0 - ETA: 23:0 - ETA: 23:0 - ETA: 23:0 - ETA: 23:0 - ETA: 23:0 - ETA: 23:0 - ETA: 23:0 - ETA: 23:0 - ETA: 23:0 - ETA: 23:0 - ETA: 23:0 - ETA: 23:0 - ETA: 23:0 - ETA: 23:0 - ETA: 23:0 - ETA: 23:0 - ETA: 23:0 - ETA: 23:0 - ETA: 23:0 - ETA: 23:0 - ETA: 23:0 - ETA: 23:0 - ETA: 23:0 - ETA: 23:0 - ETA: 23:0 - ETA: 23:0 - ETA: 23:0 - ETA: 23:0 - ETA: 23:0 - ETA: 23:0 - ETA: 23:0 - ETA: 23:0 - ETA: 23:0 - ETA: 23:0 - ETA: 23:0 - ETA: 23:0 - ETA: 23:0 - ETA: 23:0 - ETA: 23:0 - ETA: 23:0 - ETA: 23:0 - ETA: 23:0 - ETA: 23:0 - ETA: 23:0 - ETA: 23:0 - ETA: 23:0 - ETA: 23:0 - ETA: 23:0 - ETA: 23:0 - ETA: 23:0 - ETA: 23:0 - ETA: 23:0 - ETA: 23:0 - ETA: 23:0 - ETA: 23:0 - ETA: 23:0 - ETA: 23:0 - ETA: 23:0 - ETA: 23:0 - ETA: 23:0 - ETA: 23:0 - ETA: 23:0 - ETA: 23:0 - ETA: 23:0 - ETA: 22:5 - ETA: 22:5 - ETA: 22:5 - ETA: 22:5 - ETA: 22:5 - ETA: 22:5 - ETA: 22:5 - ETA: 22:5 - ETA: 22:5 - ETA: 22:5 - ETA: 22:5 - ETA: 22:5 - ETA: 22:5 - ETA: 22:5 - ETA: 22:5 - ETA: 22:5 - ETA: 22:5 - ETA: 22:5 - ETA: 22:5 - ETA: 22:5 - ETA: 22:5 - ETA: 22:5 - ETA: 22:5 - ETA: 22:5 - ETA: 22:5 - ETA: 22:5 - ETA: 22:5 - ETA: 22:5 - ETA: 22:5 - ETA: 22:5 - ETA: 22:5 - ETA: 22:5 - ETA: 22:5 - ETA: 22:5 - ETA: 22:5 - ETA: 22:5 - ETA: 22:5 - ETA: 22:5 - ETA: 22:5 - ETA: 22:5 - ETA: 22:5 - ETA: 22:5 - ETA: 22:5 - ETA: 22:5 - ETA: 22:5 - ETA: 22:5 - ETA: 22:5 - ETA: 22:5 - ETA: 22:5 - ETA: 22:5 - ETA: 22:5 - ETA: 22:5 - ETA: 22:5 - ETA: 22:5 - ETA: 22:5 - ETA: 22:5 - ETA: 22:5 - ETA: 22:5 - ETA: 22:5 - ETA: 22:5 - ETA: 22:5 - ETA: 22:5 - ETA: 22:5 - ETA: 22:5 - ETA: 22:5 - ETA: 22:5 - ETA: 22:5 - ETA: 22:5 - ETA: 22:5 - ETA: 22:5 - ETA: 22:5 - ETA: 22:5 - ETA: 22:52"
     ]
    },
    {
     "name": "stdout",
     "output_type": "stream",
     "text": [
      "297140224/580070376 [==============>...............] - ETA: 22:5 - ETA: 22:5 - ETA: 22:5 - ETA: 22:5 - ETA: 22:5 - ETA: 22:5 - ETA: 22:5 - ETA: 22:5 - ETA: 22:5 - ETA: 22:5 - ETA: 22:5 - ETA: 22:5 - ETA: 22:5 - ETA: 22:5 - ETA: 22:5 - ETA: 22:5 - ETA: 22:5 - ETA: 22:5 - ETA: 22:5 - ETA: 22:4 - ETA: 22:4 - ETA: 22:4 - ETA: 22:4 - ETA: 22:4 - ETA: 22:4 - ETA: 22:4 - ETA: 22:4 - ETA: 22:4 - ETA: 22:4 - ETA: 22:4 - ETA: 22:4 - ETA: 22:4 - ETA: 22:4 - ETA: 22:4 - ETA: 22:4 - ETA: 22:4 - ETA: 22:4 - ETA: 22:4 - ETA: 22:4 - ETA: 22:4 - ETA: 22:4 - ETA: 22:4 - ETA: 22:4 - ETA: 22:4 - ETA: 22:4 - ETA: 22:4 - ETA: 22:4 - ETA: 22:4 - ETA: 22:4 - ETA: 22:4 - ETA: 22:4 - ETA: 22:4 - ETA: 22:4 - ETA: 22:4 - ETA: 22:4 - ETA: 22:4 - ETA: 22:4 - ETA: 22:4 - ETA: 22:4 - ETA: 22:4 - ETA: 22:4 - ETA: 22:4 - ETA: 22:4 - ETA: 22:4 - ETA: 22:4 - ETA: 22:4 - ETA: 22:4 - ETA: 22:4 - ETA: 22:4 - ETA: 22:4 - ETA: 22:4 - ETA: 22:4 - ETA: 22:4 - ETA: 22:4 - ETA: 22:4 - ETA: 22:4 - ETA: 22:4 - ETA: 22:4 - ETA: 22:4 - ETA: 22:4 - ETA: 22:4 - ETA: 22:4 - ETA: 22:4 - ETA: 22:4 - ETA: 22:4 - ETA: 22:4 - ETA: 22:4 - ETA: 22:4 - ETA: 22:4 - ETA: 22:4 - ETA: 22:4 - ETA: 22:4 - ETA: 22:4 - ETA: 22:4 - ETA: 22:4 - ETA: 22:4 - ETA: 22:4 - ETA: 22:4 - ETA: 22:4 - ETA: 22:3 - ETA: 22:3 - ETA: 22:3 - ETA: 22:3 - ETA: 22:3 - ETA: 22:3 - ETA: 22:3 - ETA: 22:3 - ETA: 22:3 - ETA: 22:3 - ETA: 22:3 - ETA: 22:3 - ETA: 22:3 - ETA: 22:3 - ETA: 22:3 - ETA: 22:3 - ETA: 22:3 - ETA: 22:3 - ETA: 22:3 - ETA: 22:3 - ETA: 22:3 - ETA: 22:3 - ETA: 22:3 - ETA: 22:3 - ETA: 22:3 - ETA: 22:3 - ETA: 22:3 - ETA: 22:3 - ETA: 22:3 - ETA: 22:3 - ETA: 22:3 - ETA: 22:3 - ETA: 22:3 - ETA: 22:3 - ETA: 22:3 - ETA: 22:3 - ETA: 22:3 - ETA: 22:3 - ETA: 22:3 - ETA: 22:3 - ETA: 22:3 - ETA: 22:3 - ETA: 22:3 - ETA: 22:3 - ETA: 22:3 - ETA: 22:3 - ETA: 22:3 - ETA: 22:3 - ETA: 22:3 - ETA: 22:3 - ETA: 22:3 - ETA: 22:3 - ETA: 22:3 - ETA: 22:3 - ETA: 22:3 - ETA: 22:3 - ETA: 22:3 - ETA: 22:3 - ETA: 22:3 - ETA: 22:3 - ETA: 22:3 - ETA: 22:3 - ETA: 22:3 - ETA: 22:3 - ETA: 22:3 - ETA: 22:3 - ETA: 22:3 - ETA: 22:3 - ETA: 22:3 - ETA: 22:3 - ETA: 22:3 - ETA: 22:3 - ETA: 22:3 - ETA: 22:3 - ETA: 22:3 - ETA: 22:3 - ETA: 22:3 - ETA: 22:3 - ETA: 22:3 - ETA: 22:3 - ETA: 22:3 - ETA: 22:3 - ETA: 22:3 - ETA: 22:3 - ETA: 22:3 - ETA: 22:3 - ETA: 22:3 - ETA: 22:3 - ETA: 22:3 - ETA: 22:3 - ETA: 22:3 - ETA: 22:3 - ETA: 22:3 - ETA: 22:3 - ETA: 22:3 - ETA: 22:3 - ETA: 22:3 - ETA: 22:3 - ETA: 22:3 - ETA: 22:3 - ETA: 22:3 - ETA: 22:3 - ETA: 22:3 - ETA: 22:3 - ETA: 22:3 - ETA: 22:3 - ETA: 22:3 - ETA: 22:3 - ETA: 22:3 - ETA: 22:3 - ETA: 22:3 - ETA: 22:3 - ETA: 22:3 - ETA: 22:3 - ETA: 22:3 - ETA: 22:3 - ETA: 22:3 - ETA: 22:3 - ETA: 22:3 - ETA: 22:3 - ETA: 22:3 - ETA: 22:3 - ETA: 22:3 - ETA: 22:3 - ETA: 22:3 - ETA: 22:3 - ETA: 22:3 - ETA: 22:3 - ETA: 22:3 - ETA: 22:3 - ETA: 22:3 - ETA: 22:3 - ETA: 22:3 - ETA: 22:3 - ETA: 22:3 - ETA: 22:3 - ETA: 22:3 - ETA: 22:3 - ETA: 22:3 - ETA: 22:3 - ETA: 22:3 - ETA: 22:3 - ETA: 22:3 - ETA: 22:3 - ETA: 22:3 - ETA: 22:3 - ETA: 22:3 - ETA: 22:3 - ETA: 22:3 - ETA: 22:3 - ETA: 22:3 - ETA: 22:3 - ETA: 22:3 - ETA: 22:3 - ETA: 22:3 - ETA: 22:3 - ETA: 22:3 - ETA: 22:3 - ETA: 22:3 - ETA: 22:3 - ETA: 22:3 - ETA: 22:3 - ETA: 22:3 - ETA: 22:3 - ETA: 22:3 - ETA: 22:3 - ETA: 22:3 - ETA: 22:3 - ETA: 22:3 - ETA: 22:3 - ETA: 22:2 - ETA: 22:2 - ETA: 22:2 - ETA: 22:2 - ETA: 22:2 - ETA: 22:2 - ETA: 22:2 - ETA: 22:2 - ETA: 22:2 - ETA: 22:2 - ETA: 22:2 - ETA: 22:2 - ETA: 22:2 - ETA: 22:2 - ETA: 22:2 - ETA: 22:2 - ETA: 22:2 - ETA: 22:2 - ETA: 22:2 - ETA: 22:2 - ETA: 22:2 - ETA: 22:2 - ETA: 22:2 - ETA: 22:3 - ETA: 22:3 - ETA: 22:3 - ETA: 22:3 - ETA: 22:3 - ETA: 22:3 - ETA: 22:3 - ETA: 22:3 - ETA: 22:3 - ETA: 22:3 - ETA: 22:3 - ETA: 22:3 - ETA: 22:3 - ETA: 22:3 - ETA: 22:3 - ETA: 22:3 - ETA: 22:3 - ETA: 22:3 - ETA: 22:3 - ETA: 22:3 - ETA: 22:3 - ETA: 22:3 - ETA: 22:3 - ETA: 22:3 - ETA: 22:3 - ETA: 22:3 - ETA: 22:3 - ETA: 22:3 - ETA: 22:3 - ETA: 22:3 - ETA: 22:3 - ETA: 22:3 - ETA: 22:3 - ETA: 22:3 - ETA: 22:3 - ETA: 22:3 - ETA: 22:3 - ETA: 22:3 - ETA: 22:3 - ETA: 22:3 - ETA: 22:3 - ETA: 22:3 - ETA: 22:3 - ETA: 22:3 - ETA: 22:3 - ETA: 22:3 - ETA: 22:3 - ETA: 22:3 - ETA: 22:3 - ETA: 22:3 - ETA: 22:3 - ETA: 22:3 - ETA: 22:3 - ETA: 22:3 - ETA: 22:3 - ETA: 22:3 - ETA: 22:3 - ETA: 22:3 - ETA: 22:3 - ETA: 22:3 - ETA: 22:3 - ETA: 22:3 - ETA: 22:3 - ETA: 22:3 - ETA: 22:3 - ETA: 22:3 - ETA: 22:3 - ETA: 22:3 - ETA: 22:3 - ETA: 22:3 - ETA: 22:3 - ETA: 22:3 - ETA: 22:3 - ETA: 22:3 - ETA: 22:3 - ETA: 22:3 - ETA: 22:3 - ETA: 22:3 - ETA: 22:3 - ETA: 22:3 - ETA: 22:3 - ETA: 22:3 - ETA: 22:3 - ETA: 22:3 - ETA: 22:3 - ETA: 22:3 - ETA: 22:3 - ETA: 22:3 - ETA: 22:3 - ETA: 22:3 - ETA: 22:3 - ETA: 22:3 - ETA: 22:3 - ETA: 22:3 - ETA: 22:3 - ETA: 22:3 - ETA: 22:3 - ETA: 22:3 - ETA: 22:3 - ETA: 22:3 - ETA: 22:3 - ETA: 22:3 - ETA: 22:3 - ETA: 22:3 - ETA: 22:3 - ETA: 22:2 - ETA: 22:2 - ETA: 22:2 - ETA: 22:2 - ETA: 22:2 - ETA: 22:2 - ETA: 22:2 - ETA: 22:2 - ETA: 22:2 - ETA: 22:2 - ETA: 22:2 - ETA: 22:2 - ETA: 22:2 - ETA: 22:2 - ETA: 22:2 - ETA: 22:2 - ETA: 22:2 - ETA: 22:2 - ETA: 22:2 - ETA: 22:2 - ETA: 22:2 - ETA: 22:2 - ETA: 22:2 - ETA: 22:2 - ETA: 22:2 - ETA: 22:2 - ETA: 22:2 - ETA: 22:2 - ETA: 22:2 - ETA: 22:2 - ETA: 22:2 - ETA: 22:2 - ETA: 22:2 - ETA: 22:2 - ETA: 22:2 - ETA: 22:2 - ETA: 22:2 - ETA: 22:2 - ETA: 22:2 - ETA: 22:2 - ETA: 22:2 - ETA: 22:2 - ETA: 22:2 - ETA: 22:2 - ETA: 22:2 - ETA: 22:2 - ETA: 22:2 - ETA: 22:2 - ETA: 22:2 - ETA: 22:2 - ETA: 22:2 - ETA: 22:2 - ETA: 22:2 - ETA: 22:2 - ETA: 22:2 - ETA: 22:2 - ETA: 22:2 - ETA: 22:2 - ETA: 22:2 - ETA: 22:2 - ETA: 22:2 - ETA: 22:2 - ETA: 22:2 - ETA: 22:2 - ETA: 22:2 - ETA: 22:2 - ETA: 22:2 - ETA: 22:2 - ETA: 22:2 - ETA: 22:2 - ETA: 22:2 - ETA: 22:2 - ETA: 22:2 - ETA: 22:2 - ETA: 22:2 - ETA: 22:2 - ETA: 22:2 - ETA: 22:2 - ETA: 22:2 - ETA: 22:2 - ETA: 22:2 - ETA: 22:2 - ETA: 22:2 - ETA: 22:2 - ETA: 22:2 - ETA: 22:2 - ETA: 22:2 - ETA: 22:2 - ETA: 22:2 - ETA: 22:2 - ETA: 22:2 - ETA: 22:2 - ETA: 22:2 - ETA: 22:2 - ETA: 22:2 - ETA: 22:2 - ETA: 22:2 - ETA: 22:2 - ETA: 22:2 - ETA: 22:2 - ETA: 22:2 - ETA: 22:2 - ETA: 22:2 - ETA: 22:2 - ETA: 22:2 - ETA: 22:2 - ETA: 22:2 - ETA: 22:2 - ETA: 22:2 - ETA: 22:2 - ETA: 22:2 - ETA: 22:2 - ETA: 22:2 - ETA: 22:2 - ETA: 22:2 - ETA: 22:2 - ETA: 22:2 - ETA: 22:2 - ETA: 22:2 - ETA: 22:2 - ETA: 22:2 - ETA: 22:2 - ETA: 22:2 - ETA: 22:2 - ETA: 22:2 - ETA: 22:2 - ETA: 22:2 - ETA: 22:2 - ETA: 22:2 - ETA: 22:2 - ETA: 22:2 - ETA: 22:2 - ETA: 22:2 - ETA: 22:2 - ETA: 22:2 - ETA: 22:2 - ETA: 22:2 - ETA: 22:2 - ETA: 22:2 - ETA: 22:2 - ETA: 22:2 - ETA: 22:2 - ETA: 22:2 - ETA: 22:2 - ETA: 22:2 - ETA: 22:2 - ETA: 22:2 - ETA: 22:2 - ETA: 22:2 - ETA: 22:2 - ETA: 22:2 - ETA: 22:2 - ETA: 22:2 - ETA: 22:2 - ETA: 22:2 - ETA: 22:2 - ETA: 22:2 - ETA: 22:2 - ETA: 22:2 - ETA: 22:2 - ETA: 22:2 - ETA: 22:2 - ETA: 22:2 - ETA: 22:2 - ETA: 22:2 - ETA: 22:2 - ETA: 22:2 - ETA: 22:2 - ETA: 22:2 - ETA: 22:2 - ETA: 22:2 - ETA: 22:2 - ETA: 22:2 - ETA: 22:2 - ETA: 22:2 - ETA: 22:2 - ETA: 22:2 - ETA: 22:2 - ETA: 22:2 - ETA: 22:2 - ETA: 22:2 - ETA: 22:2 - ETA: 22:2 - ETA: 22:2 - ETA: 22:2 - ETA: 22:2 - ETA: 22:2 - ETA: 22:2 - ETA: 22:2 - ETA: 22:2 - ETA: 22:2 - ETA: 22:2 - ETA: 22:2 - ETA: 22:2 - ETA: 22:2 - ETA: 22:2 - ETA: 22:2 - ETA: 22:2 - ETA: 22:2 - ETA: 22:2 - ETA: 22:2 - ETA: 22:2 - ETA: 22:2 - ETA: 22:2 - ETA: 22:2 - ETA: 22:2 - ETA: 22:2 - ETA: 22:2 - ETA: 22:2 - ETA: 22:2 - ETA: 22:2 - ETA: 22:2 - ETA: 22:2 - ETA: 22:2 - ETA: 22:2 - ETA: 22:2 - ETA: 22:2 - ETA: 22:2 - ETA: 22:2 - ETA: 22:2 - ETA: 22:2 - ETA: 22:2 - ETA: 22:2 - ETA: 22:2 - ETA: 22:2 - ETA: 22:2 - ETA: 22:2 - ETA: 22:2 - ETA: 22:2 - ETA: 22:2 - ETA: 22:2 - ETA: 22:2 - ETA: 22:2 - ETA: 22:2 - ETA: 22:2 - ETA: 22:2 - ETA: 22:2 - ETA: 22:2 - ETA: 22:2 - ETA: 22:2 - ETA: 22:2 - ETA: 22:2 - ETA: 22:2 - ETA: 22:2 - ETA: 22:2 - ETA: 22:2 - ETA: 22:2 - ETA: 22:2 - ETA: 22:2 - ETA: 22:2 - ETA: 22:2 - ETA: 22:2 - ETA: 22:2 - ETA: 22:2 - ETA: 22:2 - ETA: 22:2 - ETA: 22:2 - ETA: 22:2 - ETA: 22:2 - ETA: 22:2 - ETA: 22:2 - ETA: 22:2 - ETA: 22:2 - ETA: 22:2 - ETA: 22:2 - ETA: 22:2 - ETA: 22:2 - ETA: 22:2 - ETA: 22:2 - ETA: 22:2 - ETA: 22:2 - ETA: 22:2 - ETA: 22:2 - ETA: 22:2 - ETA: 22:2 - ETA: 22:2 - ETA: 22:2 - ETA: 22:2 - ETA: 22:2 - ETA: 22:2 - ETA: 22:2 - ETA: 22:20"
     ]
    },
    {
     "name": "stdout",
     "output_type": "stream",
     "text": [
      "309673984/580070376 [===============>..............] - ETA: 22:2 - ETA: 22:2 - ETA: 22:2 - ETA: 22:2 - ETA: 22:2 - ETA: 22:1 - ETA: 22:1 - ETA: 22:2 - ETA: 22:2 - ETA: 22:2 - ETA: 22:1 - ETA: 22:1 - ETA: 22:1 - ETA: 22:1 - ETA: 22:1 - ETA: 22:1 - ETA: 22:1 - ETA: 22:1 - ETA: 22:1 - ETA: 22:1 - ETA: 22:1 - ETA: 22:1 - ETA: 22:1 - ETA: 22:1 - ETA: 22:1 - ETA: 22:1 - ETA: 22:1 - ETA: 22:1 - ETA: 22:1 - ETA: 22:1 - ETA: 22:1 - ETA: 22:1 - ETA: 22:1 - ETA: 22:1 - ETA: 22:1 - ETA: 22:1 - ETA: 22:1 - ETA: 22:1 - ETA: 22:1 - ETA: 22:1 - ETA: 22:1 - ETA: 22:1 - ETA: 22:1 - ETA: 22:1 - ETA: 22:1 - ETA: 22:1 - ETA: 22:1 - ETA: 22:1 - ETA: 22:1 - ETA: 22:1 - ETA: 22:1 - ETA: 22:1 - ETA: 22:1 - ETA: 22:1 - ETA: 22:1 - ETA: 22:1 - ETA: 22:1 - ETA: 22:1 - ETA: 22:1 - ETA: 22:1 - ETA: 22:1 - ETA: 22:1 - ETA: 22:1 - ETA: 22:1 - ETA: 22:1 - ETA: 22:1 - ETA: 22:1 - ETA: 22:1 - ETA: 22:1 - ETA: 22:1 - ETA: 22:1 - ETA: 22:1 - ETA: 22:1 - ETA: 22:1 - ETA: 22:1 - ETA: 22:1 - ETA: 22:1 - ETA: 22:1 - ETA: 22:1 - ETA: 22:1 - ETA: 22:1 - ETA: 22:1 - ETA: 22:1 - ETA: 22:1 - ETA: 22:1 - ETA: 22:1 - ETA: 22:1 - ETA: 22:1 - ETA: 22:1 - ETA: 22:1 - ETA: 22:1 - ETA: 22:1 - ETA: 22:1 - ETA: 22:1 - ETA: 22:1 - ETA: 22:1 - ETA: 22:1 - ETA: 22:1 - ETA: 22:1 - ETA: 22:1 - ETA: 22:1 - ETA: 22:1 - ETA: 22:1 - ETA: 22:1 - ETA: 22:1 - ETA: 22:1 - ETA: 22:1 - ETA: 22:1 - ETA: 22:1 - ETA: 22:1 - ETA: 22:1 - ETA: 22:1 - ETA: 22:1 - ETA: 22:1 - ETA: 22:1 - ETA: 22:1 - ETA: 22:1 - ETA: 22:1 - ETA: 22:1 - ETA: 22:1 - ETA: 22:1 - ETA: 22:1 - ETA: 22:1 - ETA: 22:1 - ETA: 22:1 - ETA: 22:1 - ETA: 22:1 - ETA: 22:1 - ETA: 22:1 - ETA: 22:1 - ETA: 22:1 - ETA: 22:1 - ETA: 22:1 - ETA: 22:1 - ETA: 22:1 - ETA: 22:1 - ETA: 22:1 - ETA: 22:1 - ETA: 22:1 - ETA: 22:1 - ETA: 22:1 - ETA: 22:1 - ETA: 22:1 - ETA: 22:1 - ETA: 22:1 - ETA: 22:1 - ETA: 22:1 - ETA: 22:1 - ETA: 22:1 - ETA: 22:1 - ETA: 22:1 - ETA: 22:1 - ETA: 22:1 - ETA: 22:1 - ETA: 22:1 - ETA: 22:1 - ETA: 22:1 - ETA: 22:1 - ETA: 22:1 - ETA: 22:1 - ETA: 22:1 - ETA: 22:1 - ETA: 22:1 - ETA: 22:1 - ETA: 22:1 - ETA: 22:1 - ETA: 22:1 - ETA: 22:1 - ETA: 22:1 - ETA: 22:1 - ETA: 22:1 - ETA: 22:1 - ETA: 22:1 - ETA: 22:1 - ETA: 22:1 - ETA: 22:1 - ETA: 22:1 - ETA: 22:1 - ETA: 22:1 - ETA: 22:1 - ETA: 22:1 - ETA: 22:1 - ETA: 22:1 - ETA: 22:1 - ETA: 22:1 - ETA: 22:1 - ETA: 22:1 - ETA: 22:1 - ETA: 22:1 - ETA: 22:1 - ETA: 22:1 - ETA: 22:1 - ETA: 22:1 - ETA: 22:1 - ETA: 22:1 - ETA: 22:1 - ETA: 22:1 - ETA: 22:1 - ETA: 22:1 - ETA: 22:1 - ETA: 22:1 - ETA: 22:1 - ETA: 22:1 - ETA: 22:1 - ETA: 22:1 - ETA: 22:1 - ETA: 22:1 - ETA: 22:1 - ETA: 22:1 - ETA: 22:1 - ETA: 22:1 - ETA: 22:1 - ETA: 22:1 - ETA: 22:1 - ETA: 22:1 - ETA: 22:1 - ETA: 22:1 - ETA: 22:1 - ETA: 22:1 - ETA: 22:1 - ETA: 22:1 - ETA: 22:1 - ETA: 22:1 - ETA: 22:1 - ETA: 22:1 - ETA: 22:1 - ETA: 22:1 - ETA: 22:1 - ETA: 22:1 - ETA: 22:1 - ETA: 22:1 - ETA: 22:1 - ETA: 22:1 - ETA: 22:1 - ETA: 22:1 - ETA: 22:1 - ETA: 22:1 - ETA: 22:1 - ETA: 22:1 - ETA: 22:1 - ETA: 22:1 - ETA: 22:1 - ETA: 22:1 - ETA: 22:1 - ETA: 22:1 - ETA: 22:1 - ETA: 22:1 - ETA: 22:1 - ETA: 22:1 - ETA: 22:1 - ETA: 22:1 - ETA: 22:1 - ETA: 22:1 - ETA: 22:1 - ETA: 22:1 - ETA: 22:1 - ETA: 22:1 - ETA: 22:1 - ETA: 22:1 - ETA: 22:1 - ETA: 22:1 - ETA: 22:1 - ETA: 22:1 - ETA: 22:1 - ETA: 22:1 - ETA: 22:1 - ETA: 22:1 - ETA: 22:1 - ETA: 22:1 - ETA: 22:1 - ETA: 22:1 - ETA: 22:1 - ETA: 22:1 - ETA: 22:1 - ETA: 22:1 - ETA: 22:1 - ETA: 22:1 - ETA: 22:1 - ETA: 22:1 - ETA: 22:1 - ETA: 22:1 - ETA: 22:1 - ETA: 22:1 - ETA: 22:1 - ETA: 22:1 - ETA: 22:1 - ETA: 22:1 - ETA: 22:1 - ETA: 22:1 - ETA: 22:1 - ETA: 22:1 - ETA: 22:1 - ETA: 22:1 - ETA: 22:1 - ETA: 22:1 - ETA: 22:1 - ETA: 22:1 - ETA: 22:1 - ETA: 22:1 - ETA: 22:1 - ETA: 22:1 - ETA: 22:1 - ETA: 22:1 - ETA: 22:1 - ETA: 22:1 - ETA: 22:1 - ETA: 22:1 - ETA: 22:1 - ETA: 22:1 - ETA: 22:1 - ETA: 22:1 - ETA: 22:1 - ETA: 22:1 - ETA: 22:1 - ETA: 22:1 - ETA: 22:1 - ETA: 22:1 - ETA: 22:1 - ETA: 22:1 - ETA: 22:1 - ETA: 22:0 - ETA: 22:0 - ETA: 22:0 - ETA: 22:0 - ETA: 22:0 - ETA: 22:0 - ETA: 22:0 - ETA: 22:0 - ETA: 22:0 - ETA: 22:0 - ETA: 22:0 - ETA: 22:0 - ETA: 22:0 - ETA: 22:0 - ETA: 22:0 - ETA: 22:0 - ETA: 22:0 - ETA: 22:0 - ETA: 22:0 - ETA: 22:0 - ETA: 22:0 - ETA: 22:0 - ETA: 22:0 - ETA: 22:0 - ETA: 22:0 - ETA: 22:0 - ETA: 22:0 - ETA: 22:0 - ETA: 22:0 - ETA: 22:0 - ETA: 22:0 - ETA: 22:0 - ETA: 22:0 - ETA: 22:0 - ETA: 22:0 - ETA: 22:0 - ETA: 22:0 - ETA: 22:0 - ETA: 22:0 - ETA: 22:0 - ETA: 22:0 - ETA: 22:0 - ETA: 22:0 - ETA: 22:0 - ETA: 22:0 - ETA: 22:0 - ETA: 22:0 - ETA: 22:0 - ETA: 22:0 - ETA: 22:0 - ETA: 22:0 - ETA: 22:0 - ETA: 22:0 - ETA: 22:0 - ETA: 22:0 - ETA: 22:0 - ETA: 22:0 - ETA: 22:0 - ETA: 22:0 - ETA: 22:0 - ETA: 22:0 - ETA: 22:0 - ETA: 22:0 - ETA: 22:0 - ETA: 22:0 - ETA: 22:0 - ETA: 22:0 - ETA: 22:0 - ETA: 22:0 - ETA: 22:0 - ETA: 22:0 - ETA: 22:0 - ETA: 22:0 - ETA: 22:0 - ETA: 22:0 - ETA: 22:0 - ETA: 22:0 - ETA: 22:0 - ETA: 22:0 - ETA: 22:0 - ETA: 22:0 - ETA: 22:0 - ETA: 22:0 - ETA: 22:0 - ETA: 22:0 - ETA: 22:0 - ETA: 22:0 - ETA: 22:0 - ETA: 22:0 - ETA: 22:0 - ETA: 22:0 - ETA: 22:0 - ETA: 22:0 - ETA: 22:0 - ETA: 22:0 - ETA: 22:0 - ETA: 22:0 - ETA: 22:0 - ETA: 22:0 - ETA: 22:0 - ETA: 22:0 - ETA: 22:0 - ETA: 22:0 - ETA: 22:0 - ETA: 22:0 - ETA: 22:0 - ETA: 22:0 - ETA: 22:0 - ETA: 22:0 - ETA: 22:0 - ETA: 22:0 - ETA: 22:0 - ETA: 22:0 - ETA: 22:0 - ETA: 22:0 - ETA: 22:0 - ETA: 22:0 - ETA: 22:0 - ETA: 22:0 - ETA: 22:0 - ETA: 22:0 - ETA: 22:0 - ETA: 22:0 - ETA: 22:0 - ETA: 22:0 - ETA: 22:0 - ETA: 22:0 - ETA: 22:0 - ETA: 22:0 - ETA: 22:0 - ETA: 22:0 - ETA: 22:0 - ETA: 22:0 - ETA: 22:0 - ETA: 22:0 - ETA: 22:0 - ETA: 22:0 - ETA: 22:0 - ETA: 22:0 - ETA: 22:0 - ETA: 22:0 - ETA: 22:0 - ETA: 22:0 - ETA: 22:0 - ETA: 22:0 - ETA: 22:0 - ETA: 22:0 - ETA: 22:0 - ETA: 22:0 - ETA: 22:0 - ETA: 22:0 - ETA: 22:0 - ETA: 22:0 - ETA: 22:0 - ETA: 22:0 - ETA: 22:0 - ETA: 22:0 - ETA: 22:0 - ETA: 22:0 - ETA: 22:0 - ETA: 22:0 - ETA: 22:0 - ETA: 22:0 - ETA: 22:0 - ETA: 22:0 - ETA: 22:0 - ETA: 22:0 - ETA: 22:0 - ETA: 22:0 - ETA: 22:0 - ETA: 22:0 - ETA: 22:0 - ETA: 22:0 - ETA: 22:0 - ETA: 22:0 - ETA: 22:0 - ETA: 22:0 - ETA: 22:0 - ETA: 22:0 - ETA: 22:0 - ETA: 22:0 - ETA: 22:0 - ETA: 22:0 - ETA: 22:0 - ETA: 22:0 - ETA: 22:0 - ETA: 22:0 - ETA: 22:0 - ETA: 22:0 - ETA: 22:0 - ETA: 22:0 - ETA: 22:0 - ETA: 22:0 - ETA: 22:0 - ETA: 22:0 - ETA: 22:0 - ETA: 22:0 - ETA: 22:0 - ETA: 22:0 - ETA: 22:0 - ETA: 22:0 - ETA: 22:0 - ETA: 22:0 - ETA: 22:0 - ETA: 22:0 - ETA: 21:5 - ETA: 21:5 - ETA: 21:5 - ETA: 21:5 - ETA: 21:5 - ETA: 21:5 - ETA: 21:5 - ETA: 21:5 - ETA: 21:5 - ETA: 21:5 - ETA: 21:5 - ETA: 21:5 - ETA: 21:5 - ETA: 21:5 - ETA: 21:5 - ETA: 21:5 - ETA: 21:5 - ETA: 21:5 - ETA: 21:5 - ETA: 21:5 - ETA: 21:5 - ETA: 21:5 - ETA: 21:5 - ETA: 21:5 - ETA: 21:5 - ETA: 21:5 - ETA: 21:5 - ETA: 21:5 - ETA: 21:5 - ETA: 21:5 - ETA: 21:5 - ETA: 21:5 - ETA: 21:5 - ETA: 21:5 - ETA: 21:5 - ETA: 21:5 - ETA: 21:5 - ETA: 21:5 - ETA: 21:5 - ETA: 21:5 - ETA: 21:5 - ETA: 21:5 - ETA: 21:5 - ETA: 21:5 - ETA: 21:5 - ETA: 21:5 - ETA: 21:5 - ETA: 21:5 - ETA: 21:5 - ETA: 21:5 - ETA: 21:5 - ETA: 21:5 - ETA: 21:5 - ETA: 21:5 - ETA: 21:5 - ETA: 21:5 - ETA: 21:5 - ETA: 21:5 - ETA: 21:5 - ETA: 21:5 - ETA: 21:5 - ETA: 21:5 - ETA: 21:5 - ETA: 21:5 - ETA: 21:5 - ETA: 21:5 - ETA: 21:5 - ETA: 21:5 - ETA: 21:5 - ETA: 21:5 - ETA: 21:5 - ETA: 21:5 - ETA: 21:5 - ETA: 21:5 - ETA: 21:5 - ETA: 21:5 - ETA: 21:5 - ETA: 21:5 - ETA: 21:5 - ETA: 21:5 - ETA: 21:5 - ETA: 21:5 - ETA: 21:5 - ETA: 21:5 - ETA: 21:5 - ETA: 21:5 - ETA: 21:5 - ETA: 21:5 - ETA: 21:5 - ETA: 21:5 - ETA: 21:5 - ETA: 21:5 - ETA: 21:5 - ETA: 21:5 - ETA: 21:5 - ETA: 21:5 - ETA: 21:5 - ETA: 21:5 - ETA: 21:5 - ETA: 21:5 - ETA: 21:5 - ETA: 21:5 - ETA: 21:5 - ETA: 21:5 - ETA: 21:5 - ETA: 21:5 - ETA: 21:5 - ETA: 21:5 - ETA: 21:5 - ETA: 21:5 - ETA: 21:5 - ETA: 21:5 - ETA: 21:5 - ETA: 21:5 - ETA: 21:5 - ETA: 21:5 - ETA: 21:5 - ETA: 21:5 - ETA: 21:5 - ETA: 21:5 - ETA: 21:5 - ETA: 21:5 - ETA: 21:5 - ETA: 21:5 - ETA: 21:5 - ETA: 21:5 - ETA: 21:5 - ETA: 21:5 - ETA: 21:5 - ETA: 21:5 - ETA: 21:5 - ETA: 21:5 - ETA: 21:5 - ETA: 21:5 - ETA: 21:5 - ETA: 21:5 - ETA: 21:5 - ETA: 21:5 - ETA: 21:5 - ETA: 21:5 - ETA: 21:5 - ETA: 21:5 - ETA: 21:5 - ETA: 21:5 - ETA: 21:5 - ETA: 21:5 - ETA: 21:5 - ETA: 21:5 - ETA: 21:5 - ETA: 21:5 - ETA: 21:5 - ETA: 21:5 - ETA: 21:5 - ETA: 21:53"
     ]
    },
    {
     "name": "stdout",
     "output_type": "stream",
     "text": [
      "322838528/580070376 [===============>..............] - ETA: 21:5 - ETA: 21:5 - ETA: 21:5 - ETA: 21:5 - ETA: 21:5 - ETA: 21:5 - ETA: 21:5 - ETA: 21:5 - ETA: 21:5 - ETA: 21:5 - ETA: 21:5 - ETA: 21:5 - ETA: 21:5 - ETA: 21:5 - ETA: 21:5 - ETA: 21:5 - ETA: 21:5 - ETA: 21:5 - ETA: 21:5 - ETA: 21:5 - ETA: 21:5 - ETA: 21:5 - ETA: 21:5 - ETA: 21:5 - ETA: 21:5 - ETA: 21:5 - ETA: 21:5 - ETA: 21:5 - ETA: 21:5 - ETA: 21:5 - ETA: 21:5 - ETA: 21:5 - ETA: 21:5 - ETA: 21:5 - ETA: 21:5 - ETA: 21:5 - ETA: 21:5 - ETA: 21:5 - ETA: 21:5 - ETA: 21:5 - ETA: 21:5 - ETA: 21:5 - ETA: 21:5 - ETA: 21:5 - ETA: 21:5 - ETA: 21:5 - ETA: 21:5 - ETA: 21:5 - ETA: 21:5 - ETA: 21:5 - ETA: 21:5 - ETA: 21:5 - ETA: 21:5 - ETA: 21:5 - ETA: 21:5 - ETA: 21:5 - ETA: 21:5 - ETA: 21:5 - ETA: 21:5 - ETA: 21:4 - ETA: 21:4 - ETA: 21:4 - ETA: 21:4 - ETA: 21:4 - ETA: 21:4 - ETA: 21:4 - ETA: 21:4 - ETA: 21:4 - ETA: 21:4 - ETA: 21:4 - ETA: 21:4 - ETA: 21:4 - ETA: 21:4 - ETA: 21:4 - ETA: 21:4 - ETA: 21:4 - ETA: 21:4 - ETA: 21:4 - ETA: 21:4 - ETA: 21:4 - ETA: 21:4 - ETA: 21:4 - ETA: 21:4 - ETA: 21:4 - ETA: 21:4 - ETA: 21:4 - ETA: 21:4 - ETA: 21:4 - ETA: 21:4 - ETA: 21:4 - ETA: 21:4 - ETA: 21:4 - ETA: 21:4 - ETA: 21:4 - ETA: 21:4 - ETA: 21:4 - ETA: 21:4 - ETA: 21:4 - ETA: 21:4 - ETA: 21:4 - ETA: 21:4 - ETA: 21:4 - ETA: 21:4 - ETA: 21:4 - ETA: 21:4 - ETA: 21:4 - ETA: 21:4 - ETA: 21:4 - ETA: 21:4 - ETA: 21:4 - ETA: 21:4 - ETA: 21:4 - ETA: 21:4 - ETA: 21:4 - ETA: 21:4 - ETA: 21:4 - ETA: 21:4 - ETA: 21:4 - ETA: 21:4 - ETA: 21:4 - ETA: 21:4 - ETA: 21:4 - ETA: 21:4 - ETA: 21:4 - ETA: 21:4 - ETA: 21:4 - ETA: 21:4 - ETA: 21:4 - ETA: 21:4 - ETA: 21:4 - ETA: 21:4 - ETA: 21:4 - ETA: 21:4 - ETA: 21:4 - ETA: 21:4 - ETA: 21:4 - ETA: 21:4 - ETA: 21:4 - ETA: 21:4 - ETA: 21:4 - ETA: 21:4 - ETA: 21:4 - ETA: 21:4 - ETA: 21:4 - ETA: 21:4 - ETA: 21:4 - ETA: 21:4 - ETA: 21:4 - ETA: 21:4 - ETA: 21:4 - ETA: 21:4 - ETA: 21:4 - ETA: 21:4 - ETA: 21:4 - ETA: 21:4 - ETA: 21:4 - ETA: 21:4 - ETA: 21:4 - ETA: 21:4 - ETA: 21:4 - ETA: 21:4 - ETA: 21:4 - ETA: 21:4 - ETA: 21:4 - ETA: 21:4 - ETA: 21:4 - ETA: 21:4 - ETA: 21:4 - ETA: 21:4 - ETA: 21:4 - ETA: 21:4 - ETA: 21:4 - ETA: 21:4 - ETA: 21:4 - ETA: 21:4 - ETA: 21:4 - ETA: 21:4 - ETA: 21:4 - ETA: 21:4 - ETA: 21:4 - ETA: 21:4 - ETA: 21:4 - ETA: 21:4 - ETA: 21:4 - ETA: 21:4 - ETA: 21:4 - ETA: 21:4 - ETA: 21:4 - ETA: 21:4 - ETA: 21:4 - ETA: 21:4 - ETA: 21:4 - ETA: 21:4 - ETA: 21:4 - ETA: 21:4 - ETA: 21:4 - ETA: 21:4 - ETA: 21:4 - ETA: 21:4 - ETA: 21:4 - ETA: 21:4 - ETA: 21:4 - ETA: 21:4 - ETA: 21:4 - ETA: 21:4 - ETA: 21:4 - ETA: 21:4 - ETA: 21:4 - ETA: 21:4 - ETA: 21:4 - ETA: 21:4 - ETA: 21:4 - ETA: 21:4 - ETA: 21:4 - ETA: 21:4 - ETA: 21:4 - ETA: 21:4 - ETA: 21:4 - ETA: 21:4 - ETA: 21:4 - ETA: 21:4 - ETA: 21:4 - ETA: 21:4 - ETA: 21:3 - ETA: 21:3 - ETA: 21:3 - ETA: 21:3 - ETA: 21:3 - ETA: 21:3 - ETA: 21:3 - ETA: 21:3 - ETA: 21:3 - ETA: 21:3 - ETA: 21:3 - ETA: 21:3 - ETA: 21:3 - ETA: 21:3 - ETA: 21:3 - ETA: 21:3 - ETA: 21:3 - ETA: 21:3 - ETA: 21:3 - ETA: 21:3 - ETA: 21:3 - ETA: 21:3 - ETA: 21:3 - ETA: 21:3 - ETA: 21:3 - ETA: 21:3 - ETA: 21:3 - ETA: 21:3 - ETA: 21:3 - ETA: 21:3 - ETA: 21:3 - ETA: 21:3 - ETA: 21:3 - ETA: 21:3 - ETA: 21:3 - ETA: 21:3 - ETA: 21:3 - ETA: 21:3 - ETA: 21:3 - ETA: 21:3 - ETA: 21:3 - ETA: 21:3 - ETA: 21:3 - ETA: 21:3 - ETA: 21:3 - ETA: 21:3 - ETA: 21:3 - ETA: 21:3 - ETA: 21:3 - ETA: 21:3 - ETA: 21:3 - ETA: 21:3 - ETA: 21:3 - ETA: 21:3 - ETA: 21:3 - ETA: 21:3 - ETA: 21:3 - ETA: 21:3 - ETA: 21:3 - ETA: 21:3 - ETA: 21:3 - ETA: 21:3 - ETA: 21:3 - ETA: 21:3 - ETA: 21:3 - ETA: 21:3 - ETA: 21:3 - ETA: 21:3 - ETA: 21:3 - ETA: 21:3 - ETA: 21:3 - ETA: 21:3 - ETA: 21:3 - ETA: 21:3 - ETA: 21:3 - ETA: 21:3 - ETA: 21:3 - ETA: 21:3 - ETA: 21:3 - ETA: 21:3 - ETA: 21:3 - ETA: 21:3 - ETA: 21:3 - ETA: 21:3 - ETA: 21:3 - ETA: 21:3 - ETA: 21:3 - ETA: 21:3 - ETA: 21:3 - ETA: 21:3 - ETA: 21:3 - ETA: 21:3 - ETA: 21:3 - ETA: 21:3 - ETA: 21:3 - ETA: 21:3 - ETA: 21:3 - ETA: 21:3 - ETA: 21:3 - ETA: 21:3 - ETA: 21:3 - ETA: 21:3 - ETA: 21:3 - ETA: 21:3 - ETA: 21:3 - ETA: 21:3 - ETA: 21:3 - ETA: 21:3 - ETA: 21:3 - ETA: 21:3 - ETA: 21:3 - ETA: 21:3 - ETA: 21:3 - ETA: 21:3 - ETA: 21:3 - ETA: 21:3 - ETA: 21:2 - ETA: 21:2 - ETA: 21:2 - ETA: 21:2 - ETA: 21:2 - ETA: 21:2 - ETA: 21:2 - ETA: 21:2 - ETA: 21:2 - ETA: 21:2 - ETA: 21:2 - ETA: 21:2 - ETA: 21:2 - ETA: 21:2 - ETA: 21:2 - ETA: 21:2 - ETA: 21:2 - ETA: 21:2 - ETA: 21:2 - ETA: 21:2 - ETA: 21:2 - ETA: 21:2 - ETA: 21:2 - ETA: 21:2 - ETA: 21:2 - ETA: 21:2 - ETA: 21:2 - ETA: 21:2 - ETA: 21:2 - ETA: 21:2 - ETA: 21:2 - ETA: 21:2 - ETA: 21:2 - ETA: 21:2 - ETA: 21:2 - ETA: 21:2 - ETA: 21:2 - ETA: 21:2 - ETA: 21:2 - ETA: 21:2 - ETA: 21:2 - ETA: 21:2 - ETA: 21:2 - ETA: 21:2 - ETA: 21:2 - ETA: 21:2 - ETA: 21:2 - ETA: 21:2 - ETA: 21:2 - ETA: 21:2 - ETA: 21:2 - ETA: 21:2 - ETA: 21:2 - ETA: 21:2 - ETA: 21:2 - ETA: 21:2 - ETA: 21:2 - ETA: 21:2 - ETA: 21:2 - ETA: 21:2 - ETA: 21:2 - ETA: 21:2 - ETA: 21:2 - ETA: 21:2 - ETA: 21:2 - ETA: 21:2 - ETA: 21:2 - ETA: 21:2 - ETA: 21:2 - ETA: 21:2 - ETA: 21:2 - ETA: 21:2 - ETA: 21:2 - ETA: 21:2 - ETA: 21:2 - ETA: 21:2 - ETA: 21:2 - ETA: 21:2 - ETA: 21:2 - ETA: 21:2 - ETA: 21:2 - ETA: 21:2 - ETA: 21:2 - ETA: 21:2 - ETA: 21:2 - ETA: 21:2 - ETA: 21:2 - ETA: 21:2 - ETA: 21:2 - ETA: 21:2 - ETA: 21:2 - ETA: 21:2 - ETA: 21:2 - ETA: 21:2 - ETA: 21:2 - ETA: 21:1 - ETA: 21:1 - ETA: 21:1 - ETA: 21:1 - ETA: 21:1 - ETA: 21:1 - ETA: 21:1 - ETA: 21:1 - ETA: 21:1 - ETA: 21:1 - ETA: 21:1 - ETA: 21:1 - ETA: 21:1 - ETA: 21:1 - ETA: 21:1 - ETA: 21:1 - ETA: 21:1 - ETA: 21:1 - ETA: 21:1 - ETA: 21:1 - ETA: 21:1 - ETA: 21:1 - ETA: 21:1 - ETA: 21:1 - ETA: 21:1 - ETA: 21:1 - ETA: 21:1 - ETA: 21:1 - ETA: 21:1 - ETA: 21:1 - ETA: 21:1 - ETA: 21:1 - ETA: 21:1 - ETA: 21:1 - ETA: 21:1 - ETA: 21:1 - ETA: 21:1 - ETA: 21:1 - ETA: 21:1 - ETA: 21:1 - ETA: 21:1 - ETA: 21:1 - ETA: 21:1 - ETA: 21:1 - ETA: 21:1 - ETA: 21:1 - ETA: 21:1 - ETA: 21:1 - ETA: 21:1 - ETA: 21:1 - ETA: 21:1 - ETA: 21:1 - ETA: 21:1 - ETA: 21:1 - ETA: 21:1 - ETA: 21:1 - ETA: 21:1 - ETA: 21:1 - ETA: 21:1 - ETA: 21:1 - ETA: 21:1 - ETA: 21:1 - ETA: 21:1 - ETA: 21:1 - ETA: 21:1 - ETA: 21:1 - ETA: 21:1 - ETA: 21:1 - ETA: 21:1 - ETA: 21:1 - ETA: 21:1 - ETA: 21:1 - ETA: 21:1 - ETA: 21:1 - ETA: 21:1 - ETA: 21:1 - ETA: 21:1 - ETA: 21:1 - ETA: 21:1 - ETA: 21:1 - ETA: 21:1 - ETA: 21:1 - ETA: 21:1 - ETA: 21:1 - ETA: 21:1 - ETA: 21:1 - ETA: 21:1 - ETA: 21:1 - ETA: 21:1 - ETA: 21:1 - ETA: 21:1 - ETA: 21:1 - ETA: 21:1 - ETA: 21:1 - ETA: 21:1 - ETA: 21:1 - ETA: 21:1 - ETA: 21:1 - ETA: 21:1 - ETA: 21:1 - ETA: 21:1 - ETA: 21:1 - ETA: 21:1 - ETA: 21:1 - ETA: 21:1 - ETA: 21:1 - ETA: 21:1 - ETA: 21:1 - ETA: 21:1 - ETA: 21:1 - ETA: 21:1 - ETA: 21:1 - ETA: 21:1 - ETA: 21:1 - ETA: 21:1 - ETA: 21:1 - ETA: 21:1 - ETA: 21:1 - ETA: 21:1 - ETA: 21:1 - ETA: 21:1 - ETA: 21:1 - ETA: 21:1 - ETA: 21:1 - ETA: 21:1 - ETA: 21:1 - ETA: 21:1 - ETA: 21:1 - ETA: 21:1 - ETA: 21:1 - ETA: 21:1 - ETA: 21:1 - ETA: 21:1 - ETA: 21:1 - ETA: 21:1 - ETA: 21:1 - ETA: 21:1 - ETA: 21:1 - ETA: 21:1 - ETA: 21:1 - ETA: 21:1 - ETA: 21:1 - ETA: 21:1 - ETA: 21:0 - ETA: 21:0 - ETA: 21:0 - ETA: 21:0 - ETA: 21:0 - ETA: 21:0 - ETA: 21:0 - ETA: 21:0 - ETA: 21:0 - ETA: 21:0 - ETA: 21:0 - ETA: 21:0 - ETA: 21:0 - ETA: 21:0 - ETA: 21:0 - ETA: 21:0 - ETA: 21:0 - ETA: 21:0 - ETA: 21:0 - ETA: 21:0 - ETA: 21:0 - ETA: 21:0 - ETA: 21:0 - ETA: 21:0 - ETA: 21:0 - ETA: 21:0 - ETA: 21:0 - ETA: 21:0 - ETA: 21:0 - ETA: 21:0 - ETA: 21:0 - ETA: 21:0 - ETA: 21:0 - ETA: 21:0 - ETA: 21:0 - ETA: 21:0 - ETA: 21:0 - ETA: 21:0 - ETA: 21:0 - ETA: 21:0 - ETA: 21:0 - ETA: 21:0 - ETA: 21:0 - ETA: 21:0 - ETA: 21:0 - ETA: 21:0 - ETA: 21:0 - ETA: 21:0 - ETA: 21:0 - ETA: 21:0 - ETA: 21:0 - ETA: 21:0 - ETA: 21:0 - ETA: 21:0 - ETA: 21:0 - ETA: 21:0 - ETA: 21:0 - ETA: 21:0 - ETA: 21:0 - ETA: 21:0 - ETA: 21:0 - ETA: 21:0 - ETA: 21:0 - ETA: 21:0 - ETA: 21:0 - ETA: 21:0 - ETA: 21:0 - ETA: 21:0 - ETA: 21:0 - ETA: 21:0 - ETA: 21:0 - ETA: 21:0 - ETA: 21:0 - ETA: 21:0 - ETA: 21:0 - ETA: 21:0 - ETA: 21:0 - ETA: 21:0 - ETA: 21:0 - ETA: 21:0 - ETA: 21:0 - ETA: 21:0 - ETA: 21:0 - ETA: 21:0 - ETA: 21:0 - ETA: 21:0 - ETA: 21:0 - ETA: 21:0 - ETA: 21:0 - ETA: 21:0 - ETA: 20:5 - ETA: 20:5 - ETA: 20:5 - ETA: 20:5 - ETA: 20:5 - ETA: 20:5 - ETA: 20:5 - ETA: 20:5 - ETA: 20:5 - ETA: 20:5 - ETA: 20:5 - ETA: 20:58"
     ]
    },
    {
     "name": "stdout",
     "output_type": "stream",
     "text": [
      "338051072/580070376 [================>.............] - ETA: 20:5 - ETA: 20:5 - ETA: 20:5 - ETA: 20:5 - ETA: 20:5 - ETA: 20:5 - ETA: 20:5 - ETA: 20:5 - ETA: 20:5 - ETA: 20:5 - ETA: 20:5 - ETA: 20:5 - ETA: 20:5 - ETA: 20:5 - ETA: 20:5 - ETA: 20:5 - ETA: 20:5 - ETA: 20:5 - ETA: 20:5 - ETA: 20:5 - ETA: 20:5 - ETA: 20:5 - ETA: 20:5 - ETA: 20:5 - ETA: 20:5 - ETA: 20:5 - ETA: 20:5 - ETA: 20:5 - ETA: 20:5 - ETA: 20:5 - ETA: 20:5 - ETA: 20:5 - ETA: 20:5 - ETA: 20:5 - ETA: 20:5 - ETA: 20:5 - ETA: 20:5 - ETA: 20:5 - ETA: 20:5 - ETA: 20:5 - ETA: 20:5 - ETA: 20:5 - ETA: 20:5 - ETA: 20:5 - ETA: 20:5 - ETA: 20:5 - ETA: 20:5 - ETA: 20:5 - ETA: 20:5 - ETA: 20:5 - ETA: 20:5 - ETA: 20:5 - ETA: 20:5 - ETA: 20:5 - ETA: 20:5 - ETA: 20:5 - ETA: 20:5 - ETA: 20:5 - ETA: 20:5 - ETA: 20:5 - ETA: 20:5 - ETA: 20:5 - ETA: 20:5 - ETA: 20:5 - ETA: 20:5 - ETA: 20:5 - ETA: 20:5 - ETA: 20:5 - ETA: 20:5 - ETA: 20:5 - ETA: 20:5 - ETA: 20:5 - ETA: 20:5 - ETA: 20:5 - ETA: 20:5 - ETA: 20:5 - ETA: 20:5 - ETA: 20:5 - ETA: 20:4 - ETA: 20:4 - ETA: 20:4 - ETA: 20:4 - ETA: 20:4 - ETA: 20:4 - ETA: 20:4 - ETA: 20:4 - ETA: 20:4 - ETA: 20:4 - ETA: 20:4 - ETA: 20:4 - ETA: 20:4 - ETA: 20:4 - ETA: 20:4 - ETA: 20:4 - ETA: 20:4 - ETA: 20:4 - ETA: 20:4 - ETA: 20:4 - ETA: 20:4 - ETA: 20:4 - ETA: 20:4 - ETA: 20:4 - ETA: 20:4 - ETA: 20:4 - ETA: 20:4 - ETA: 20:4 - ETA: 20:4 - ETA: 20:4 - ETA: 20:4 - ETA: 20:4 - ETA: 20:4 - ETA: 20:4 - ETA: 20:4 - ETA: 20:4 - ETA: 20:4 - ETA: 20:4 - ETA: 20:4 - ETA: 20:4 - ETA: 20:4 - ETA: 20:4 - ETA: 20:4 - ETA: 20:4 - ETA: 20:4 - ETA: 20:4 - ETA: 20:4 - ETA: 20:4 - ETA: 20:4 - ETA: 20:4 - ETA: 20:4 - ETA: 20:4 - ETA: 20:4 - ETA: 20:4 - ETA: 20:4 - ETA: 20:4 - ETA: 20:4 - ETA: 20:4 - ETA: 20:4 - ETA: 20:4 - ETA: 20:4 - ETA: 20:4 - ETA: 20:4 - ETA: 20:4 - ETA: 20:4 - ETA: 20:4 - ETA: 20:4 - ETA: 20:4 - ETA: 20:4 - ETA: 20:4 - ETA: 20:4 - ETA: 20:4 - ETA: 20:4 - ETA: 20:4 - ETA: 20:4 - ETA: 20:4 - ETA: 20:4 - ETA: 20:4 - ETA: 20:4 - ETA: 20:4 - ETA: 20:4 - ETA: 20:4 - ETA: 20:4 - ETA: 20:4 - ETA: 20:4 - ETA: 20:4 - ETA: 20:4 - ETA: 20:4 - ETA: 20:4 - ETA: 20:4 - ETA: 20:4 - ETA: 20:4 - ETA: 20:4 - ETA: 20:4 - ETA: 20:4 - ETA: 20:4 - ETA: 20:4 - ETA: 20:4 - ETA: 20:4 - ETA: 20:4 - ETA: 20:4 - ETA: 20:4 - ETA: 20:4 - ETA: 20:4 - ETA: 20:4 - ETA: 20:4 - ETA: 20:4 - ETA: 20:4 - ETA: 20:4 - ETA: 20:4 - ETA: 20:4 - ETA: 20:4 - ETA: 20:4 - ETA: 20:4 - ETA: 20:4 - ETA: 20:4 - ETA: 20:4 - ETA: 20:4 - ETA: 20:4 - ETA: 20:4 - ETA: 20:4 - ETA: 20:4 - ETA: 20:4 - ETA: 20:4 - ETA: 20:4 - ETA: 20:4 - ETA: 20:4 - ETA: 20:4 - ETA: 20:4 - ETA: 20:4 - ETA: 20:4 - ETA: 20:3 - ETA: 20:3 - ETA: 20:3 - ETA: 20:3 - ETA: 20:3 - ETA: 20:3 - ETA: 20:3 - ETA: 20:3 - ETA: 20:3 - ETA: 20:3 - ETA: 20:3 - ETA: 20:3 - ETA: 20:3 - ETA: 20:3 - ETA: 20:3 - ETA: 20:3 - ETA: 20:3 - ETA: 20:3 - ETA: 20:3 - ETA: 20:3 - ETA: 20:3 - ETA: 20:3 - ETA: 20:3 - ETA: 20:3 - ETA: 20:3 - ETA: 20:3 - ETA: 20:3 - ETA: 20:3 - ETA: 20:3 - ETA: 20:3 - ETA: 20:3 - ETA: 20:3 - ETA: 20:3 - ETA: 20:3 - ETA: 20:3 - ETA: 20:3 - ETA: 20:3 - ETA: 20:3 - ETA: 20:3 - ETA: 20:3 - ETA: 20:3 - ETA: 20:3 - ETA: 20:3 - ETA: 20:3 - ETA: 20:3 - ETA: 20:3 - ETA: 20:3 - ETA: 20:3 - ETA: 20:3 - ETA: 20:3 - ETA: 20:3 - ETA: 20:3 - ETA: 20:3 - ETA: 20:3 - ETA: 20:3 - ETA: 20:3 - ETA: 20:3 - ETA: 20:3 - ETA: 20:3 - ETA: 20:3 - ETA: 20:3 - ETA: 20:3 - ETA: 20:3 - ETA: 20:3 - ETA: 20:3 - ETA: 20:3 - ETA: 20:3 - ETA: 20:3 - ETA: 20:3 - ETA: 20:3 - ETA: 20:3 - ETA: 20:3 - ETA: 20:3 - ETA: 20:3 - ETA: 20:3 - ETA: 20:3 - ETA: 20:3 - ETA: 20:3 - ETA: 20:3 - ETA: 20:3 - ETA: 20:3 - ETA: 20:3 - ETA: 20:3 - ETA: 20:2 - ETA: 20:2 - ETA: 20:2 - ETA: 20:2 - ETA: 20:2 - ETA: 20:2 - ETA: 20:2 - ETA: 20:2 - ETA: 20:2 - ETA: 20:2 - ETA: 20:2 - ETA: 20:2 - ETA: 20:2 - ETA: 20:2 - ETA: 20:2 - ETA: 20:2 - ETA: 20:2 - ETA: 20:2 - ETA: 20:2 - ETA: 20:2 - ETA: 20:2 - ETA: 20:2 - ETA: 20:2 - ETA: 20:2 - ETA: 20:2 - ETA: 20:2 - ETA: 20:2 - ETA: 20:2 - ETA: 20:2 - ETA: 20:2 - ETA: 20:2 - ETA: 20:2 - ETA: 20:2 - ETA: 20:2 - ETA: 20:2 - ETA: 20:2 - ETA: 20:2 - ETA: 20:2 - ETA: 20:2 - ETA: 20:2 - ETA: 20:2 - ETA: 20:2 - ETA: 20:2 - ETA: 20:2 - ETA: 20:2 - ETA: 20:2 - ETA: 20:2 - ETA: 20:2 - ETA: 20:2 - ETA: 20:2 - ETA: 20:2 - ETA: 20:2 - ETA: 20:2 - ETA: 20:2 - ETA: 20:2 - ETA: 20:2 - ETA: 20:2 - ETA: 20:2 - ETA: 20:2 - ETA: 20:2 - ETA: 20:2 - ETA: 20:2 - ETA: 20:2 - ETA: 20:2 - ETA: 20:2 - ETA: 20:2 - ETA: 20:2 - ETA: 20:2 - ETA: 20:2 - ETA: 20:2 - ETA: 20:2 - ETA: 20:2 - ETA: 20:2 - ETA: 20:2 - ETA: 20:2 - ETA: 20:2 - ETA: 20:2 - ETA: 20:2 - ETA: 20:2 - ETA: 20:2 - ETA: 20:2 - ETA: 20:2 - ETA: 20:2 - ETA: 20:1 - ETA: 20:1 - ETA: 20:1 - ETA: 20:1 - ETA: 20:1 - ETA: 20:1 - ETA: 20:1 - ETA: 20:1 - ETA: 20:1 - ETA: 20:1 - ETA: 20:1 - ETA: 20:1 - ETA: 20:1 - ETA: 20:1 - ETA: 20:1 - ETA: 20:1 - ETA: 20:1 - ETA: 20:1 - ETA: 20:1 - ETA: 20:1 - ETA: 20:1 - ETA: 20:1 - ETA: 20:1 - ETA: 20:1 - ETA: 20:1 - ETA: 20:1 - ETA: 20:1 - ETA: 20:1 - ETA: 20:1 - ETA: 20:1 - ETA: 20:1 - ETA: 20:1 - ETA: 20:1 - ETA: 20:1 - ETA: 20:1 - ETA: 20:1 - ETA: 20:1 - ETA: 20:1 - ETA: 20:1 - ETA: 20:1 - ETA: 20:1 - ETA: 20:1 - ETA: 20:1 - ETA: 20:1 - ETA: 20:1 - ETA: 20:1 - ETA: 20:1 - ETA: 20:1 - ETA: 20:1 - ETA: 20:1 - ETA: 20:1 - ETA: 20:1 - ETA: 20:1 - ETA: 20:1 - ETA: 20:1 - ETA: 20:1 - ETA: 20:1 - ETA: 20:1 - ETA: 20:1 - ETA: 20:1 - ETA: 20:1 - ETA: 20:1 - ETA: 20:1 - ETA: 20:1 - ETA: 20:1 - ETA: 20:1 - ETA: 20:1 - ETA: 20:1 - ETA: 20:1 - ETA: 20:1 - ETA: 20:1 - ETA: 20:1 - ETA: 20:1 - ETA: 20:0 - ETA: 20:0 - ETA: 20:0 - ETA: 20:0 - ETA: 20:0 - ETA: 20:0 - ETA: 20:0 - ETA: 20:0 - ETA: 20:0 - ETA: 20:0 - ETA: 20:0 - ETA: 20:0 - ETA: 20:0 - ETA: 20:0 - ETA: 20:0 - ETA: 20:0 - ETA: 20:0 - ETA: 20:0 - ETA: 20:0 - ETA: 20:0 - ETA: 20:0 - ETA: 20:0 - ETA: 20:0 - ETA: 20:0 - ETA: 20:0 - ETA: 20:0 - ETA: 20:0 - ETA: 20:0 - ETA: 20:0 - ETA: 20:0 - ETA: 20:0 - ETA: 20:0 - ETA: 20:0 - ETA: 20:0 - ETA: 20:0 - ETA: 20:0 - ETA: 20:0 - ETA: 20:0 - ETA: 20:0 - ETA: 20:0 - ETA: 20:0 - ETA: 20:0 - ETA: 20:0 - ETA: 20:0 - ETA: 20:0 - ETA: 20:0 - ETA: 20:0 - ETA: 20:0 - ETA: 20:0 - ETA: 20:0 - ETA: 20:0 - ETA: 20:0 - ETA: 20:0 - ETA: 20:0 - ETA: 20:0 - ETA: 20:0 - ETA: 20:0 - ETA: 20:0 - ETA: 20:0 - ETA: 20:0 - ETA: 20:0 - ETA: 20:0 - ETA: 20:0 - ETA: 20:0 - ETA: 20:0 - ETA: 20:0 - ETA: 20:0 - ETA: 20:0 - ETA: 20:0 - ETA: 20:0 - ETA: 19:5 - ETA: 19:5 - ETA: 19:5 - ETA: 19:5 - ETA: 19:5 - ETA: 19:5 - ETA: 19:5 - ETA: 19:5 - ETA: 19:5 - ETA: 19:5 - ETA: 19:5 - ETA: 19:5 - ETA: 19:5 - ETA: 19:5 - ETA: 19:5 - ETA: 19:5 - ETA: 19:5 - ETA: 19:5 - ETA: 19:5 - ETA: 19:5 - ETA: 19:5 - ETA: 19:5 - ETA: 19:5 - ETA: 19:5 - ETA: 19:5 - ETA: 19:5 - ETA: 19:5 - ETA: 19:5 - ETA: 19:5 - ETA: 19:5 - ETA: 19:5 - ETA: 19:5 - ETA: 19:5 - ETA: 19:5 - ETA: 19:5 - ETA: 19:5 - ETA: 19:5 - ETA: 19:5 - ETA: 19:5 - ETA: 19:5 - ETA: 19:5 - ETA: 19:5 - ETA: 19:5 - ETA: 19:5 - ETA: 19:5 - ETA: 19:5 - ETA: 19:5 - ETA: 19:5 - ETA: 19:5 - ETA: 19:5 - ETA: 19:5 - ETA: 19:5 - ETA: 19:5 - ETA: 19:5 - ETA: 19:5 - ETA: 19:5 - ETA: 19:5 - ETA: 19:5 - ETA: 19:5 - ETA: 19:5 - ETA: 19:5 - ETA: 19:5 - ETA: 19:5 - ETA: 19:5 - ETA: 19:5 - ETA: 19:5 - ETA: 19:5 - ETA: 19:5 - ETA: 19:5 - ETA: 19:5 - ETA: 19:5 - ETA: 19:5 - ETA: 19:5 - ETA: 19:5 - ETA: 19:5 - ETA: 19:5 - ETA: 19:5 - ETA: 19:5 - ETA: 19:5 - ETA: 19:5 - ETA: 19:5 - ETA: 19:5 - ETA: 19:5 - ETA: 19:5 - ETA: 19:5 - ETA: 19:5 - ETA: 19:5 - ETA: 19:5 - ETA: 19:5 - ETA: 19:5 - ETA: 19:5 - ETA: 19:5 - ETA: 19:5 - ETA: 19:4 - ETA: 19:4 - ETA: 19:4 - ETA: 19:4 - ETA: 19:4 - ETA: 19:4 - ETA: 19:4 - ETA: 19:4 - ETA: 19:4 - ETA: 19:4 - ETA: 19:4 - ETA: 19:4 - ETA: 19:4 - ETA: 19:4 - ETA: 19:4 - ETA: 19:4 - ETA: 19:4 - ETA: 19:4 - ETA: 19:4 - ETA: 19:4 - ETA: 19:4 - ETA: 19:4 - ETA: 19:4 - ETA: 19:4 - ETA: 19:4 - ETA: 19:4 - ETA: 19:4 - ETA: 19:4 - ETA: 19:4 - ETA: 19:4 - ETA: 19:4 - ETA: 19:4 - ETA: 19:4 - ETA: 19:4 - ETA: 19:4 - ETA: 19:4 - ETA: 19:4 - ETA: 19:4 - ETA: 19:4 - ETA: 19:4 - ETA: 19:4 - ETA: 19:4 - ETA: 19:4 - ETA: 19:4 - ETA: 19:4 - ETA: 19:4 - ETA: 19:4 - ETA: 19:4 - ETA: 19:4 - ETA: 19:4 - ETA: 19:4 - ETA: 19:4 - ETA: 19:4 - ETA: 19:4 - ETA: 19:4 - ETA: 19:4 - ETA: 19:4 - ETA: 19:4 - ETA: 19:4 - ETA: 19:4 - ETA: 19:4 - ETA: 19:4 - ETA: 19:4 - ETA: 19:4 - ETA: 19:4 - ETA: 19:4 - ETA: 19:4 - ETA: 19:40"
     ]
    },
    {
     "name": "stdout",
     "output_type": "stream",
     "text": [
      "355147776/580070376 [=================>............] - ETA: 19:4 - ETA: 19:3 - ETA: 19:3 - ETA: 19:3 - ETA: 19:3 - ETA: 19:3 - ETA: 19:3 - ETA: 19:3 - ETA: 19:3 - ETA: 19:3 - ETA: 19:3 - ETA: 19:3 - ETA: 19:3 - ETA: 19:3 - ETA: 19:3 - ETA: 19:3 - ETA: 19:3 - ETA: 19:3 - ETA: 19:3 - ETA: 19:3 - ETA: 19:3 - ETA: 19:3 - ETA: 19:3 - ETA: 19:3 - ETA: 19:3 - ETA: 19:3 - ETA: 19:3 - ETA: 19:3 - ETA: 19:3 - ETA: 19:3 - ETA: 19:3 - ETA: 19:3 - ETA: 19:3 - ETA: 19:3 - ETA: 19:3 - ETA: 19:3 - ETA: 19:3 - ETA: 19:3 - ETA: 19:3 - ETA: 19:3 - ETA: 19:3 - ETA: 19:3 - ETA: 19:3 - ETA: 19:3 - ETA: 19:3 - ETA: 19:3 - ETA: 19:3 - ETA: 19:3 - ETA: 19:3 - ETA: 19:3 - ETA: 19:3 - ETA: 19:3 - ETA: 19:3 - ETA: 19:3 - ETA: 19:3 - ETA: 19:3 - ETA: 19:3 - ETA: 19:3 - ETA: 19:3 - ETA: 19:3 - ETA: 19:3 - ETA: 19:3 - ETA: 19:3 - ETA: 19:3 - ETA: 19:3 - ETA: 19:3 - ETA: 19:3 - ETA: 19:3 - ETA: 19:3 - ETA: 19:3 - ETA: 19:3 - ETA: 19:3 - ETA: 19:3 - ETA: 19:3 - ETA: 19:3 - ETA: 19:3 - ETA: 19:3 - ETA: 19:3 - ETA: 19:3 - ETA: 19:3 - ETA: 19:3 - ETA: 19:2 - ETA: 19:2 - ETA: 19:2 - ETA: 19:2 - ETA: 19:2 - ETA: 19:2 - ETA: 19:2 - ETA: 19:2 - ETA: 19:2 - ETA: 19:2 - ETA: 19:2 - ETA: 19:2 - ETA: 19:2 - ETA: 19:2 - ETA: 19:2 - ETA: 19:2 - ETA: 19:2 - ETA: 19:2 - ETA: 19:2 - ETA: 19:2 - ETA: 19:2 - ETA: 19:2 - ETA: 19:2 - ETA: 19:2 - ETA: 19:2 - ETA: 19:2 - ETA: 19:2 - ETA: 19:2 - ETA: 19:2 - ETA: 19:2 - ETA: 19:2 - ETA: 19:2 - ETA: 19:2 - ETA: 19:2 - ETA: 19:2 - ETA: 19:2 - ETA: 19:2 - ETA: 19:2 - ETA: 19:2 - ETA: 19:2 - ETA: 19:2 - ETA: 19:2 - ETA: 19:2 - ETA: 19:2 - ETA: 19:2 - ETA: 19:2 - ETA: 19:2 - ETA: 19:2 - ETA: 19:2 - ETA: 19:2 - ETA: 19:2 - ETA: 19:2 - ETA: 19:2 - ETA: 19:2 - ETA: 19:2 - ETA: 19:2 - ETA: 19:2 - ETA: 19:2 - ETA: 19:2 - ETA: 19:2 - ETA: 19:2 - ETA: 19:2 - ETA: 19:2 - ETA: 19:2 - ETA: 19:2 - ETA: 19:2 - ETA: 19:2 - ETA: 19:2 - ETA: 19:2 - ETA: 19:2 - ETA: 19:2 - ETA: 19:2 - ETA: 19:2 - ETA: 19:2 - ETA: 19:2 - ETA: 19:1 - ETA: 19:1 - ETA: 19:1 - ETA: 19:1 - ETA: 19:1 - ETA: 19:1 - ETA: 19:1 - ETA: 19:1 - ETA: 19:1 - ETA: 19:1 - ETA: 19:1 - ETA: 19:1 - ETA: 19:1 - ETA: 19:1 - ETA: 19:1 - ETA: 19:1 - ETA: 19:1 - ETA: 19:1 - ETA: 19:1 - ETA: 19:1 - ETA: 19:1 - ETA: 19:1 - ETA: 19:1 - ETA: 19:1 - ETA: 19:1 - ETA: 19:1 - ETA: 19:1 - ETA: 19:1 - ETA: 19:1 - ETA: 19:1 - ETA: 19:1 - ETA: 19:1 - ETA: 19:1 - ETA: 19:1 - ETA: 19:1 - ETA: 19:1 - ETA: 19:1 - ETA: 19:1 - ETA: 19:1 - ETA: 19:1 - ETA: 19:1 - ETA: 19:1 - ETA: 19:1 - ETA: 19:1 - ETA: 19:1 - ETA: 19:1 - ETA: 19:1 - ETA: 19:1 - ETA: 19:1 - ETA: 19:1 - ETA: 19:1 - ETA: 19:1 - ETA: 19:1 - ETA: 19:1 - ETA: 19:1 - ETA: 19:1 - ETA: 19:1 - ETA: 19:1 - ETA: 19:1 - ETA: 19:1 - ETA: 19:1 - ETA: 19:1 - ETA: 19:1 - ETA: 19:1 - ETA: 19:1 - ETA: 19:1 - ETA: 19:1 - ETA: 19:1 - ETA: 19:1 - ETA: 19:1 - ETA: 19:1 - ETA: 19:1 - ETA: 19:0 - ETA: 19:0 - ETA: 19:0 - ETA: 19:0 - ETA: 19:0 - ETA: 19:0 - ETA: 19:0 - ETA: 19:0 - ETA: 19:0 - ETA: 19:0 - ETA: 19:0 - ETA: 19:0 - ETA: 19:0 - ETA: 19:0 - ETA: 19:0 - ETA: 19:0 - ETA: 19:0 - ETA: 19:0 - ETA: 19:0 - ETA: 19:0 - ETA: 19:0 - ETA: 19:0 - ETA: 19:0 - ETA: 19:0 - ETA: 19:0 - ETA: 19:0 - ETA: 19:0 - ETA: 19:0 - ETA: 19:0 - ETA: 19:0 - ETA: 19:0 - ETA: 19:0 - ETA: 19:0 - ETA: 19:0 - ETA: 19:0 - ETA: 19:0 - ETA: 19:0 - ETA: 19:0 - ETA: 19:0 - ETA: 19:0 - ETA: 19:0 - ETA: 19:0 - ETA: 19:0 - ETA: 19:0 - ETA: 19:0 - ETA: 19:0 - ETA: 19:0 - ETA: 19:0 - ETA: 19:0 - ETA: 19:0 - ETA: 19:0 - ETA: 19:0 - ETA: 19:0 - ETA: 19:0 - ETA: 19:0 - ETA: 19:0 - ETA: 19:0 - ETA: 19:0 - ETA: 19:0 - ETA: 19:0 - ETA: 19:0 - ETA: 19:0 - ETA: 19:0 - ETA: 19:0 - ETA: 19:0 - ETA: 19:0 - ETA: 19:0 - ETA: 19:0 - ETA: 19:0 - ETA: 19:0 - ETA: 19:0 - ETA: 19:0 - ETA: 19:0 - ETA: 19:0 - ETA: 18:5 - ETA: 18:5 - ETA: 18:5 - ETA: 18:5 - ETA: 18:5 - ETA: 18:5 - ETA: 18:5 - ETA: 18:5 - ETA: 18:5 - ETA: 18:5 - ETA: 18:5 - ETA: 18:5 - ETA: 18:5 - ETA: 18:5 - ETA: 18:5 - ETA: 18:5 - ETA: 18:5 - ETA: 18:5 - ETA: 18:5 - ETA: 18:5 - ETA: 18:5 - ETA: 18:5 - ETA: 18:5 - ETA: 18:5 - ETA: 18:5 - ETA: 18:5 - ETA: 18:5 - ETA: 18:5 - ETA: 18:5 - ETA: 18:5 - ETA: 18:5 - ETA: 18:5 - ETA: 18:5 - ETA: 18:5 - ETA: 18:5 - ETA: 18:5 - ETA: 18:5 - ETA: 18:5 - ETA: 18:5 - ETA: 18:5 - ETA: 18:5 - ETA: 18:5 - ETA: 18:5 - ETA: 18:5 - ETA: 18:5 - ETA: 18:5 - ETA: 18:5 - ETA: 18:5 - ETA: 18:5 - ETA: 18:5 - ETA: 18:5 - ETA: 18:5 - ETA: 18:5 - ETA: 18:5 - ETA: 18:5 - ETA: 18:5 - ETA: 18:5 - ETA: 18:5 - ETA: 18:5 - ETA: 18:5 - ETA: 18:5 - ETA: 18:5 - ETA: 18:5 - ETA: 18:5 - ETA: 18:5 - ETA: 18:5 - ETA: 18:5 - ETA: 18:5 - ETA: 18:5 - ETA: 18:5 - ETA: 18:5 - ETA: 18:4 - ETA: 18:4 - ETA: 18:4 - ETA: 18:4 - ETA: 18:4 - ETA: 18:4 - ETA: 18:4 - ETA: 18:4 - ETA: 18:4 - ETA: 18:4 - ETA: 18:4 - ETA: 18:4 - ETA: 18:4 - ETA: 18:4 - ETA: 18:4 - ETA: 18:4 - ETA: 18:4 - ETA: 18:4 - ETA: 18:4 - ETA: 18:4 - ETA: 18:4 - ETA: 18:4 - ETA: 18:4 - ETA: 18:4 - ETA: 18:4 - ETA: 18:4 - ETA: 18:4 - ETA: 18:4 - ETA: 18:4 - ETA: 18:4 - ETA: 18:4 - ETA: 18:4 - ETA: 18:4 - ETA: 18:4 - ETA: 18:4 - ETA: 18:4 - ETA: 18:4 - ETA: 18:4 - ETA: 18:4 - ETA: 18:4 - ETA: 18:4 - ETA: 18:4 - ETA: 18:4 - ETA: 18:4 - ETA: 18:4 - ETA: 18:4 - ETA: 18:4 - ETA: 18:4 - ETA: 18:4 - ETA: 18:4 - ETA: 18:4 - ETA: 18:4 - ETA: 18:4 - ETA: 18:4 - ETA: 18:4 - ETA: 18:4 - ETA: 18:4 - ETA: 18:4 - ETA: 18:4 - ETA: 18:4 - ETA: 18:4 - ETA: 18:4 - ETA: 18:4 - ETA: 18:4 - ETA: 18:4 - ETA: 18:4 - ETA: 18:4 - ETA: 18:4 - ETA: 18:4 - ETA: 18:4 - ETA: 18:4 - ETA: 18:4 - ETA: 18:4 - ETA: 18:4 - ETA: 18:4 - ETA: 18:4 - ETA: 18:4 - ETA: 18:4 - ETA: 18:4 - ETA: 18:3 - ETA: 18:3 - ETA: 18:3 - ETA: 18:3 - ETA: 18:3 - ETA: 18:3 - ETA: 18:3 - ETA: 18:3 - ETA: 18:3 - ETA: 18:3 - ETA: 18:3 - ETA: 18:3 - ETA: 18:3 - ETA: 18:3 - ETA: 18:3 - ETA: 18:3 - ETA: 18:3 - ETA: 18:3 - ETA: 18:3 - ETA: 18:3 - ETA: 18:3 - ETA: 18:3 - ETA: 18:3 - ETA: 18:3 - ETA: 18:3 - ETA: 18:3 - ETA: 18:3 - ETA: 18:3 - ETA: 18:3 - ETA: 18:3 - ETA: 18:3 - ETA: 18:3 - ETA: 18:3 - ETA: 18:3 - ETA: 18:3 - ETA: 18:3 - ETA: 18:3 - ETA: 18:3 - ETA: 18:3 - ETA: 18:3 - ETA: 18:3 - ETA: 18:3 - ETA: 18:3 - ETA: 18:3 - ETA: 18:3 - ETA: 18:3 - ETA: 18:3 - ETA: 18:3 - ETA: 18:3 - ETA: 18:3 - ETA: 18:3 - ETA: 18:3 - ETA: 18:3 - ETA: 18:3 - ETA: 18:3 - ETA: 18:3 - ETA: 18:3 - ETA: 18:3 - ETA: 18:3 - ETA: 18:3 - ETA: 18:3 - ETA: 18:3 - ETA: 18:3 - ETA: 18:3 - ETA: 18:3 - ETA: 18:3 - ETA: 18:3 - ETA: 18:3 - ETA: 18:3 - ETA: 18:3 - ETA: 18:3 - ETA: 18:3 - ETA: 18:3 - ETA: 18:3 - ETA: 18:3 - ETA: 18:3 - ETA: 18:2 - ETA: 18:2 - ETA: 18:2 - ETA: 18:2 - ETA: 18:2 - ETA: 18:2 - ETA: 18:2 - ETA: 18:2 - ETA: 18:2 - ETA: 18:2 - ETA: 18:2 - ETA: 18:2 - ETA: 18:2 - ETA: 18:2 - ETA: 18:2 - ETA: 18:2 - ETA: 18:2 - ETA: 18:2 - ETA: 18:2 - ETA: 18:2 - ETA: 18:2 - ETA: 18:2 - ETA: 18:2 - ETA: 18:2 - ETA: 18:2 - ETA: 18:2 - ETA: 18:2 - ETA: 18:2 - ETA: 18:2 - ETA: 18:2 - ETA: 18:2 - ETA: 18:2 - ETA: 18:2 - ETA: 18:2 - ETA: 18:2 - ETA: 18:2 - ETA: 18:2 - ETA: 18:2 - ETA: 18:2 - ETA: 18:2 - ETA: 18:2 - ETA: 18:2 - ETA: 18:2 - ETA: 18:2 - ETA: 18:2 - ETA: 18:2 - ETA: 18:2 - ETA: 18:2 - ETA: 18:2 - ETA: 18:2 - ETA: 18:2 - ETA: 18:2 - ETA: 18:2 - ETA: 18:2 - ETA: 18:2 - ETA: 18:2 - ETA: 18:2 - ETA: 18:2 - ETA: 18:2 - ETA: 18:2 - ETA: 18:2 - ETA: 18:2 - ETA: 18:2 - ETA: 18:2 - ETA: 18:2 - ETA: 18:2 - ETA: 18:2 - ETA: 18:2 - ETA: 18:2 - ETA: 18:2 - ETA: 18:2 - ETA: 18:1 - ETA: 18:1 - ETA: 18:1 - ETA: 18:1 - ETA: 18:1 - ETA: 18:1 - ETA: 18:1 - ETA: 18:1 - ETA: 18:1 - ETA: 18:1 - ETA: 18:1 - ETA: 18:1 - ETA: 18:1 - ETA: 18:1 - ETA: 18:1 - ETA: 18:1 - ETA: 18:1 - ETA: 18:1 - ETA: 18:1 - ETA: 18:1 - ETA: 18:1 - ETA: 18:1 - ETA: 18:1 - ETA: 18:1 - ETA: 18:1 - ETA: 18:1 - ETA: 18:1 - ETA: 18:1 - ETA: 18:1 - ETA: 18:1 - ETA: 18:1 - ETA: 18:1 - ETA: 18:1 - ETA: 18:1 - ETA: 18:1 - ETA: 18:1 - ETA: 18:1 - ETA: 18:1 - ETA: 18:1 - ETA: 18:1 - ETA: 18:1 - ETA: 18:1 - ETA: 18:1 - ETA: 18:1 - ETA: 18:1 - ETA: 18:1 - ETA: 18:1 - ETA: 18:1 - ETA: 18:1 - ETA: 18:1 - ETA: 18:1 - ETA: 18:1 - ETA: 18:1 - ETA: 18:1 - ETA: 18:1 - ETA: 18:1 - ETA: 18:1 - ETA: 18:1 - ETA: 18:1 - ETA: 18:1 - ETA: 18:1 - ETA: 18:1 - ETA: 18:1 - ETA: 18:0 - ETA: 18:0 - ETA: 18:0 - ETA: 18:0 - ETA: 18:0 - ETA: 18:0 - ETA: 18:0 - ETA: 18:0 - ETA: 18:0 - ETA: 18:0 - ETA: 18:0 - ETA: 18:0 - ETA: 18:0 - ETA: 18:0 - ETA: 18:0 - ETA: 18:0 - ETA: 18:07"
     ]
    },
    {
     "name": "stdout",
     "output_type": "stream",
     "text": [
      "371785728/580070376 [==================>...........] - ETA: 18:0 - ETA: 18:0 - ETA: 18:0 - ETA: 18:0 - ETA: 18:0 - ETA: 18:0 - ETA: 18:0 - ETA: 18:0 - ETA: 18:0 - ETA: 18:0 - ETA: 18:0 - ETA: 18:0 - ETA: 18:0 - ETA: 18:0 - ETA: 18:0 - ETA: 18:0 - ETA: 18:0 - ETA: 18:0 - ETA: 18:0 - ETA: 18:0 - ETA: 18:0 - ETA: 18:0 - ETA: 18:0 - ETA: 18:0 - ETA: 18:0 - ETA: 18:0 - ETA: 18:0 - ETA: 18:0 - ETA: 18:0 - ETA: 18:0 - ETA: 18:0 - ETA: 18:0 - ETA: 18:0 - ETA: 18:0 - ETA: 18:0 - ETA: 18:0 - ETA: 18:0 - ETA: 18:0 - ETA: 18:0 - ETA: 18:0 - ETA: 18:0 - ETA: 18:0 - ETA: 18:0 - ETA: 18:0 - ETA: 18:0 - ETA: 18:0 - ETA: 18:0 - ETA: 18:0 - ETA: 18:0 - ETA: 18:0 - ETA: 18:0 - ETA: 18:0 - ETA: 18:0 - ETA: 18:0 - ETA: 18:0 - ETA: 18:0 - ETA: 18:0 - ETA: 18:0 - ETA: 18:0 - ETA: 18:0 - ETA: 18:0 - ETA: 18:0 - ETA: 18:0 - ETA: 18:0 - ETA: 18:0 - ETA: 17:5 - ETA: 17:5 - ETA: 17:5 - ETA: 17:5 - ETA: 17:5 - ETA: 17:5 - ETA: 17:5 - ETA: 17:5 - ETA: 17:5 - ETA: 17:5 - ETA: 17:5 - ETA: 17:5 - ETA: 17:5 - ETA: 17:5 - ETA: 17:5 - ETA: 17:5 - ETA: 17:5 - ETA: 17:5 - ETA: 17:5 - ETA: 17:5 - ETA: 17:5 - ETA: 17:5 - ETA: 17:5 - ETA: 17:5 - ETA: 17:5 - ETA: 17:5 - ETA: 17:5 - ETA: 17:5 - ETA: 17:5 - ETA: 17:5 - ETA: 17:5 - ETA: 17:5 - ETA: 17:5 - ETA: 17:5 - ETA: 17:5 - ETA: 17:5 - ETA: 17:5 - ETA: 17:5 - ETA: 17:5 - ETA: 17:5 - ETA: 17:5 - ETA: 17:5 - ETA: 17:5 - ETA: 17:5 - ETA: 17:5 - ETA: 17:5 - ETA: 17:5 - ETA: 17:5 - ETA: 17:5 - ETA: 17:5 - ETA: 17:5 - ETA: 17:5 - ETA: 17:5 - ETA: 17:5 - ETA: 17:5 - ETA: 17:5 - ETA: 17:5 - ETA: 17:5 - ETA: 17:5 - ETA: 17:5 - ETA: 17:5 - ETA: 17:5 - ETA: 17:5 - ETA: 17:5 - ETA: 17:5 - ETA: 17:5 - ETA: 17:5 - ETA: 17:4 - ETA: 17:4 - ETA: 17:4 - ETA: 17:4 - ETA: 17:4 - ETA: 17:4 - ETA: 17:4 - ETA: 17:4 - ETA: 17:4 - ETA: 17:4 - ETA: 17:4 - ETA: 17:4 - ETA: 17:4 - ETA: 17:4 - ETA: 17:4 - ETA: 17:4 - ETA: 17:4 - ETA: 17:4 - ETA: 17:4 - ETA: 17:4 - ETA: 17:4 - ETA: 17:4 - ETA: 17:4 - ETA: 17:4 - ETA: 17:4 - ETA: 17:4 - ETA: 17:4 - ETA: 17:4 - ETA: 17:4 - ETA: 17:4 - ETA: 17:4 - ETA: 17:4 - ETA: 17:4 - ETA: 17:4 - ETA: 17:4 - ETA: 17:4 - ETA: 17:4 - ETA: 17:4 - ETA: 17:4 - ETA: 17:4 - ETA: 17:4 - ETA: 17:4 - ETA: 17:4 - ETA: 17:4 - ETA: 17:4 - ETA: 17:4 - ETA: 17:4 - ETA: 17:4 - ETA: 17:4 - ETA: 17:4 - ETA: 17:4 - ETA: 17:4 - ETA: 17:4 - ETA: 17:4 - ETA: 17:4 - ETA: 17:4 - ETA: 17:4 - ETA: 17:4 - ETA: 17:4 - ETA: 17:4 - ETA: 17:3 - ETA: 17:3 - ETA: 17:3 - ETA: 17:3 - ETA: 17:3 - ETA: 17:3 - ETA: 17:3 - ETA: 17:3 - ETA: 17:3 - ETA: 17:3 - ETA: 17:3 - ETA: 17:3 - ETA: 17:3 - ETA: 17:3 - ETA: 17:3 - ETA: 17:3 - ETA: 17:3 - ETA: 17:3 - ETA: 17:3 - ETA: 17:3 - ETA: 17:3 - ETA: 17:3 - ETA: 17:3 - ETA: 17:3 - ETA: 17:3 - ETA: 17:3 - ETA: 17:3 - ETA: 17:3 - ETA: 17:3 - ETA: 17:3 - ETA: 17:3 - ETA: 17:3 - ETA: 17:3 - ETA: 17:3 - ETA: 17:3 - ETA: 17:3 - ETA: 17:3 - ETA: 17:3 - ETA: 17:3 - ETA: 17:3 - ETA: 17:3 - ETA: 17:3 - ETA: 17:3 - ETA: 17:3 - ETA: 17:3 - ETA: 17:3 - ETA: 17:3 - ETA: 17:3 - ETA: 17:3 - ETA: 17:3 - ETA: 17:3 - ETA: 17:3 - ETA: 17:3 - ETA: 17:3 - ETA: 17:3 - ETA: 17:3 - ETA: 17:3 - ETA: 17:3 - ETA: 17:3 - ETA: 17:3 - ETA: 17:3 - ETA: 17:3 - ETA: 17:3 - ETA: 17:3 - ETA: 17:3 - ETA: 17:3 - ETA: 17:3 - ETA: 17:3 - ETA: 17:3 - ETA: 17:3 - ETA: 17:3 - ETA: 17:3 - ETA: 17:3 - ETA: 17:3 - ETA: 17:3 - ETA: 17:3 - ETA: 17:3 - ETA: 17:3 - ETA: 17:3 - ETA: 17:3 - ETA: 17:3 - ETA: 17:3 - ETA: 17:3 - ETA: 17:3 - ETA: 17:3 - ETA: 17:3 - ETA: 17:3 - ETA: 17:3 - ETA: 17:2 - ETA: 17:2 - ETA: 17:2 - ETA: 17:2 - ETA: 17:2 - ETA: 17:2 - ETA: 17:2 - ETA: 17:2 - ETA: 17:2 - ETA: 17:2 - ETA: 17:2 - ETA: 17:2 - ETA: 17:2 - ETA: 17:2 - ETA: 17:2 - ETA: 17:2 - ETA: 17:2 - ETA: 17:2 - ETA: 17:2 - ETA: 17:2 - ETA: 17:2 - ETA: 17:2 - ETA: 17:2 - ETA: 17:2 - ETA: 17:2 - ETA: 17:2 - ETA: 17:2 - ETA: 17:2 - ETA: 17:2 - ETA: 17:2 - ETA: 17:2 - ETA: 17:2 - ETA: 17:2 - ETA: 17:2 - ETA: 17:2 - ETA: 17:2 - ETA: 17:2 - ETA: 17:2 - ETA: 17:2 - ETA: 17:2 - ETA: 17:2 - ETA: 17:2 - ETA: 17:2 - ETA: 17:2 - ETA: 17:2 - ETA: 17:2 - ETA: 17:2 - ETA: 17:2 - ETA: 17:2 - ETA: 17:2 - ETA: 17:2 - ETA: 17:2 - ETA: 17:2 - ETA: 17:2 - ETA: 17:2 - ETA: 17:2 - ETA: 17:2 - ETA: 17:2 - ETA: 17:2 - ETA: 17:2 - ETA: 17:2 - ETA: 17:2 - ETA: 17:2 - ETA: 17:2 - ETA: 17:2 - ETA: 17:2 - ETA: 17:2 - ETA: 17:2 - ETA: 17:2 - ETA: 17:2 - ETA: 17:2 - ETA: 17:2 - ETA: 17:2 - ETA: 17:2 - ETA: 17:2 - ETA: 17:2 - ETA: 17:2 - ETA: 17:2 - ETA: 17:2 - ETA: 17:2 - ETA: 17:2 - ETA: 17:2 - ETA: 17:2 - ETA: 17:2 - ETA: 17:2 - ETA: 17:2 - ETA: 17:2 - ETA: 17:2 - ETA: 17:1 - ETA: 17:1 - ETA: 17:1 - ETA: 17:1 - ETA: 17:1 - ETA: 17:1 - ETA: 17:1 - ETA: 17:1 - ETA: 17:1 - ETA: 17:1 - ETA: 17:1 - ETA: 17:1 - ETA: 17:1 - ETA: 17:1 - ETA: 17:1 - ETA: 17:1 - ETA: 17:1 - ETA: 17:1 - ETA: 17:1 - ETA: 17:1 - ETA: 17:1 - ETA: 17:1 - ETA: 17:1 - ETA: 17:1 - ETA: 17:1 - ETA: 17:1 - ETA: 17:1 - ETA: 17:1 - ETA: 17:1 - ETA: 17:1 - ETA: 17:1 - ETA: 17:1 - ETA: 17:1 - ETA: 17:1 - ETA: 17:1 - ETA: 17:1 - ETA: 17:1 - ETA: 17:1 - ETA: 17:1 - ETA: 17:1 - ETA: 17:1 - ETA: 17:1 - ETA: 17:1 - ETA: 17:1 - ETA: 17:1 - ETA: 17:1 - ETA: 17:1 - ETA: 17:1 - ETA: 17:1 - ETA: 17:1 - ETA: 17:1 - ETA: 17:1 - ETA: 17:1 - ETA: 17:1 - ETA: 17:1 - ETA: 17:1 - ETA: 17:1 - ETA: 17:1 - ETA: 17:1 - ETA: 17:1 - ETA: 17:1 - ETA: 17:1 - ETA: 17:1 - ETA: 17:1 - ETA: 17:1 - ETA: 17:1 - ETA: 17:1 - ETA: 17:1 - ETA: 17:1 - ETA: 17:1 - ETA: 17:1 - ETA: 17:1 - ETA: 17:1 - ETA: 17:1 - ETA: 17:1 - ETA: 17:1 - ETA: 17:1 - ETA: 17:1 - ETA: 17:1 - ETA: 17:1 - ETA: 17:1 - ETA: 17:1 - ETA: 17:1 - ETA: 17:1 - ETA: 17:1 - ETA: 17:1 - ETA: 17:1 - ETA: 17:1 - ETA: 17:1 - ETA: 17:1 - ETA: 17:1 - ETA: 17:1 - ETA: 17:1 - ETA: 17:1 - ETA: 17:1 - ETA: 17:1 - ETA: 17:1 - ETA: 17:1 - ETA: 17:1 - ETA: 17:1 - ETA: 17:1 - ETA: 17:1 - ETA: 17:1 - ETA: 17:1 - ETA: 17:1 - ETA: 17:1 - ETA: 17:1 - ETA: 17:1 - ETA: 17:1 - ETA: 17:1 - ETA: 17:1 - ETA: 17:1 - ETA: 17:1 - ETA: 17:1 - ETA: 17:1 - ETA: 17:1 - ETA: 17:1 - ETA: 17:1 - ETA: 17:1 - ETA: 17:1 - ETA: 17:1 - ETA: 17:1 - ETA: 17:1 - ETA: 17:1 - ETA: 17:1 - ETA: 17:1 - ETA: 17:1 - ETA: 17:1 - ETA: 17:1 - ETA: 17:1 - ETA: 17:1 - ETA: 17:0 - ETA: 17:0 - ETA: 17:0 - ETA: 17:0 - ETA: 17:0 - ETA: 17:0 - ETA: 17:0 - ETA: 17:0 - ETA: 17:0 - ETA: 17:0 - ETA: 17:0 - ETA: 17:0 - ETA: 17:0 - ETA: 17:0 - ETA: 17:0 - ETA: 17:0 - ETA: 17:0 - ETA: 17:0 - ETA: 17:0 - ETA: 17:0 - ETA: 17:0 - ETA: 17:0 - ETA: 17:0 - ETA: 17:0 - ETA: 17:0 - ETA: 17:0 - ETA: 17:0 - ETA: 17:0 - ETA: 17:0 - ETA: 17:0 - ETA: 17:0 - ETA: 17:0 - ETA: 17:0 - ETA: 17:0 - ETA: 17:0 - ETA: 17:0 - ETA: 17:0 - ETA: 17:0 - ETA: 17:0 - ETA: 17:0 - ETA: 17:0 - ETA: 17:0 - ETA: 17:0 - ETA: 17:0 - ETA: 17:0 - ETA: 17:0 - ETA: 17:0 - ETA: 17:0 - ETA: 17:0 - ETA: 17:0 - ETA: 17:0 - ETA: 17:0 - ETA: 17:0 - ETA: 17:0 - ETA: 17:0 - ETA: 17:0 - ETA: 17:0 - ETA: 17:0 - ETA: 17:0 - ETA: 17:0 - ETA: 17:0 - ETA: 17:0 - ETA: 17:0 - ETA: 17:0 - ETA: 17:0 - ETA: 17:0 - ETA: 17:0 - ETA: 17:0 - ETA: 17:0 - ETA: 17:0 - ETA: 17:0 - ETA: 17:0 - ETA: 17:0 - ETA: 17:0 - ETA: 17:0 - ETA: 17:0 - ETA: 17:0 - ETA: 17:0 - ETA: 17:0 - ETA: 17:0 - ETA: 17:0 - ETA: 17:0 - ETA: 17:0 - ETA: 17:0 - ETA: 17:0 - ETA: 17:0 - ETA: 17:0 - ETA: 17:0 - ETA: 17:0 - ETA: 17:0 - ETA: 17:0 - ETA: 17:0 - ETA: 17:0 - ETA: 17:0 - ETA: 17:0 - ETA: 17:0 - ETA: 17:0 - ETA: 17:0 - ETA: 17:0 - ETA: 17:0 - ETA: 17:0 - ETA: 17:0 - ETA: 17:0 - ETA: 17:0 - ETA: 17:0 - ETA: 17:0 - ETA: 17:0 - ETA: 17:0 - ETA: 17:0 - ETA: 17:0 - ETA: 17:0 - ETA: 17:0 - ETA: 17:0 - ETA: 17:0 - ETA: 17:0 - ETA: 17:0 - ETA: 17:0 - ETA: 17:0 - ETA: 17:0 - ETA: 17:0 - ETA: 17:0 - ETA: 17:0 - ETA: 17:0 - ETA: 17:0 - ETA: 17:0 - ETA: 17:0 - ETA: 17:0 - ETA: 17:0 - ETA: 17:0 - ETA: 17:0 - ETA: 17:0 - ETA: 17:0 - ETA: 17:0 - ETA: 17:0 - ETA: 17:0 - ETA: 17:0 - ETA: 17:0 - ETA: 17:0 - ETA: 17:0 - ETA: 17:0 - ETA: 17:0 - ETA: 17:0 - ETA: 17:0 - ETA: 17:0 - ETA: 17:0 - ETA: 17:0 - ETA: 17:0 - ETA: 17:0 - ETA: 16:5 - ETA: 16:5 - ETA: 16:5 - ETA: 16:5 - ETA: 16:5 - ETA: 16:5 - ETA: 16:5 - ETA: 16:5 - ETA: 16:5 - ETA: 16:5 - ETA: 16:5 - ETA: 16:5 - ETA: 16:5 - ETA: 16:5 - ETA: 16:5 - ETA: 16:5 - ETA: 16:5 - ETA: 16:5 - ETA: 16:5 - ETA: 16:5 - ETA: 16:5 - ETA: 16:5 - ETA: 16:5 - ETA: 16:5 - ETA: 16:5 - ETA: 16:5 - ETA: 16:5 - ETA: 16:5 - ETA: 16:5 - ETA: 16:5 - ETA: 16:5 - ETA: 16:58"
     ]
    },
    {
     "name": "stdout",
     "output_type": "stream",
     "text": [
      "389210112/580070376 [===================>..........] - ETA: 16:5 - ETA: 16:5 - ETA: 16:5 - ETA: 16:5 - ETA: 16:5 - ETA: 16:5 - ETA: 16:5 - ETA: 16:5 - ETA: 16:5 - ETA: 16:5 - ETA: 16:5 - ETA: 16:5 - ETA: 16:5 - ETA: 16:5 - ETA: 16:5 - ETA: 16:5 - ETA: 16:5 - ETA: 16:5 - ETA: 16:5 - ETA: 16:5 - ETA: 16:5 - ETA: 16:5 - ETA: 16:5 - ETA: 16:5 - ETA: 16:5 - ETA: 16:5 - ETA: 16:5 - ETA: 16:5 - ETA: 16:5 - ETA: 16:5 - ETA: 16:5 - ETA: 16:5 - ETA: 16:5 - ETA: 16:5 - ETA: 16:5 - ETA: 16:5 - ETA: 16:5 - ETA: 16:5 - ETA: 16:5 - ETA: 16:5 - ETA: 16:5 - ETA: 16:5 - ETA: 16:5 - ETA: 16:5 - ETA: 16:5 - ETA: 16:5 - ETA: 16:5 - ETA: 16:5 - ETA: 16:5 - ETA: 16:5 - ETA: 16:5 - ETA: 16:5 - ETA: 16:5 - ETA: 16:5 - ETA: 16:5 - ETA: 16:5 - ETA: 16:5 - ETA: 16:5 - ETA: 16:5 - ETA: 16:5 - ETA: 16:5 - ETA: 16:5 - ETA: 16:5 - ETA: 16:5 - ETA: 16:5 - ETA: 16:5 - ETA: 16:5 - ETA: 16:5 - ETA: 16:5 - ETA: 16:5 - ETA: 16:5 - ETA: 16:5 - ETA: 16:5 - ETA: 16:5 - ETA: 16:5 - ETA: 16:5 - ETA: 16:5 - ETA: 16:5 - ETA: 16:5 - ETA: 16:5 - ETA: 16:5 - ETA: 16:5 - ETA: 16:5 - ETA: 16:5 - ETA: 16:5 - ETA: 16:5 - ETA: 16:5 - ETA: 16:5 - ETA: 16:5 - ETA: 16:5 - ETA: 16:5 - ETA: 16:5 - ETA: 16:5 - ETA: 16:5 - ETA: 16:5 - ETA: 16:5 - ETA: 16:5 - ETA: 16:5 - ETA: 16:5 - ETA: 16:5 - ETA: 16:5 - ETA: 16:5 - ETA: 16:5 - ETA: 16:4 - ETA: 16:4 - ETA: 16:4 - ETA: 16:4 - ETA: 16:4 - ETA: 16:4 - ETA: 16:4 - ETA: 16:4 - ETA: 16:4 - ETA: 16:4 - ETA: 16:4 - ETA: 16:4 - ETA: 16:4 - ETA: 16:4 - ETA: 16:4 - ETA: 16:4 - ETA: 16:4 - ETA: 16:4 - ETA: 16:4 - ETA: 16:4 - ETA: 16:4 - ETA: 16:4 - ETA: 16:4 - ETA: 16:4 - ETA: 16:4 - ETA: 16:4 - ETA: 16:4 - ETA: 16:4 - ETA: 16:4 - ETA: 16:4 - ETA: 16:4 - ETA: 16:4 - ETA: 16:4 - ETA: 16:4 - ETA: 16:4 - ETA: 16:4 - ETA: 16:4 - ETA: 16:4 - ETA: 16:4 - ETA: 16:4 - ETA: 16:4 - ETA: 16:4 - ETA: 16:4 - ETA: 16:4 - ETA: 16:4 - ETA: 16:4 - ETA: 16:4 - ETA: 16:4 - ETA: 16:4 - ETA: 16:4 - ETA: 16:4 - ETA: 16:4 - ETA: 16:4 - ETA: 16:4 - ETA: 16:4 - ETA: 16:4 - ETA: 16:4 - ETA: 16:4 - ETA: 16:4 - ETA: 16:4 - ETA: 16:4 - ETA: 16:4 - ETA: 16:4 - ETA: 16:4 - ETA: 16:4 - ETA: 16:4 - ETA: 16:4 - ETA: 16:4 - ETA: 16:4 - ETA: 16:4 - ETA: 16:4 - ETA: 16:4 - ETA: 16:4 - ETA: 16:4 - ETA: 16:4 - ETA: 16:4 - ETA: 16:3 - ETA: 16:3 - ETA: 16:3 - ETA: 16:3 - ETA: 16:3 - ETA: 16:3 - ETA: 16:3 - ETA: 16:3 - ETA: 16:3 - ETA: 16:3 - ETA: 16:3 - ETA: 16:3 - ETA: 16:3 - ETA: 16:3 - ETA: 16:3 - ETA: 16:3 - ETA: 16:3 - ETA: 16:3 - ETA: 16:3 - ETA: 16:3 - ETA: 16:3 - ETA: 16:3 - ETA: 16:3 - ETA: 16:3 - ETA: 16:3 - ETA: 16:3 - ETA: 16:3 - ETA: 16:3 - ETA: 16:3 - ETA: 16:3 - ETA: 16:3 - ETA: 16:3 - ETA: 16:3 - ETA: 16:3 - ETA: 16:3 - ETA: 16:3 - ETA: 16:3 - ETA: 16:3 - ETA: 16:3 - ETA: 16:3 - ETA: 16:3 - ETA: 16:3 - ETA: 16:3 - ETA: 16:3 - ETA: 16:3 - ETA: 16:3 - ETA: 16:3 - ETA: 16:3 - ETA: 16:3 - ETA: 16:3 - ETA: 16:3 - ETA: 16:3 - ETA: 16:3 - ETA: 16:3 - ETA: 16:3 - ETA: 16:3 - ETA: 16:3 - ETA: 16:3 - ETA: 16:3 - ETA: 16:3 - ETA: 16:3 - ETA: 16:3 - ETA: 16:3 - ETA: 16:3 - ETA: 16:2 - ETA: 16:2 - ETA: 16:2 - ETA: 16:2 - ETA: 16:2 - ETA: 16:2 - ETA: 16:2 - ETA: 16:2 - ETA: 16:2 - ETA: 16:2 - ETA: 16:2 - ETA: 16:2 - ETA: 16:2 - ETA: 16:2 - ETA: 16:2 - ETA: 16:2 - ETA: 16:2 - ETA: 16:2 - ETA: 16:2 - ETA: 16:2 - ETA: 16:2 - ETA: 16:2 - ETA: 16:2 - ETA: 16:2 - ETA: 16:2 - ETA: 16:2 - ETA: 16:2 - ETA: 16:2 - ETA: 16:2 - ETA: 16:2 - ETA: 16:2 - ETA: 16:2 - ETA: 16:2 - ETA: 16:2 - ETA: 16:2 - ETA: 16:2 - ETA: 16:2 - ETA: 16:2 - ETA: 16:2 - ETA: 16:2 - ETA: 16:2 - ETA: 16:2 - ETA: 16:2 - ETA: 16:2 - ETA: 16:2 - ETA: 16:2 - ETA: 16:2 - ETA: 16:2 - ETA: 16:2 - ETA: 16:2 - ETA: 16:2 - ETA: 16:2 - ETA: 16:2 - ETA: 16:2 - ETA: 16:2 - ETA: 16:2 - ETA: 16:2 - ETA: 16:2 - ETA: 16:2 - ETA: 16:2 - ETA: 16:2 - ETA: 16:2 - ETA: 16:2 - ETA: 16:2 - ETA: 16:2 - ETA: 16:2 - ETA: 16:2 - ETA: 16:2 - ETA: 16:2 - ETA: 16:2 - ETA: 16:2 - ETA: 16:2 - ETA: 16:2 - ETA: 16:2 - ETA: 16:2 - ETA: 16:2 - ETA: 16:2 - ETA: 16:2 - ETA: 16:2 - ETA: 16:2 - ETA: 16:2 - ETA: 16:2 - ETA: 16:2 - ETA: 16:1 - ETA: 16:1 - ETA: 16:1 - ETA: 16:1 - ETA: 16:2 - ETA: 16:1 - ETA: 16:1 - ETA: 16:1 - ETA: 16:1 - ETA: 16:1 - ETA: 16:1 - ETA: 16:1 - ETA: 16:1 - ETA: 16:1 - ETA: 16:1 - ETA: 16:1 - ETA: 16:1 - ETA: 16:1 - ETA: 16:1 - ETA: 16:1 - ETA: 16:1 - ETA: 16:1 - ETA: 16:1 - ETA: 16:1 - ETA: 16:1 - ETA: 16:1 - ETA: 16:1 - ETA: 16:1 - ETA: 16:1 - ETA: 16:1 - ETA: 16:1 - ETA: 16:1 - ETA: 16:1 - ETA: 16:1 - ETA: 16:1 - ETA: 16:1 - ETA: 16:1 - ETA: 16:1 - ETA: 16:1 - ETA: 16:1 - ETA: 16:1 - ETA: 16:1 - ETA: 16:1 - ETA: 16:1 - ETA: 16:1 - ETA: 16:1 - ETA: 16:1 - ETA: 16:1 - ETA: 16:1 - ETA: 16:1 - ETA: 16:1 - ETA: 16:1 - ETA: 16:1 - ETA: 16:1 - ETA: 16:1 - ETA: 16:1 - ETA: 16:1 - ETA: 16:1 - ETA: 16:1 - ETA: 16:0 - ETA: 16:0 - ETA: 16:0 - ETA: 16:0 - ETA: 16:0 - ETA: 16:0 - ETA: 16:0 - ETA: 16:0 - ETA: 16:0 - ETA: 16:0 - ETA: 16:0 - ETA: 16:0 - ETA: 16:0 - ETA: 16:0 - ETA: 16:0 - ETA: 16:0 - ETA: 16:0 - ETA: 16:0 - ETA: 16:0 - ETA: 16:0 - ETA: 16:0 - ETA: 16:0 - ETA: 16:0 - ETA: 16:0 - ETA: 16:0 - ETA: 16:0 - ETA: 16:0 - ETA: 16:0 - ETA: 16:0 - ETA: 16:0 - ETA: 16:0 - ETA: 16:0 - ETA: 16:0 - ETA: 16:0 - ETA: 16:0 - ETA: 16:0 - ETA: 16:0 - ETA: 16:0 - ETA: 16:0 - ETA: 16:0 - ETA: 16:0 - ETA: 16:0 - ETA: 16:0 - ETA: 16:0 - ETA: 16:0 - ETA: 16:0 - ETA: 16:0 - ETA: 16:0 - ETA: 16:0 - ETA: 16:0 - ETA: 16:0 - ETA: 16:0 - ETA: 16:0 - ETA: 16:0 - ETA: 16:0 - ETA: 16:0 - ETA: 16:0 - ETA: 16:0 - ETA: 16:0 - ETA: 16:0 - ETA: 16:0 - ETA: 16:0 - ETA: 16:0 - ETA: 16:0 - ETA: 16:0 - ETA: 16:0 - ETA: 16:0 - ETA: 16:0 - ETA: 16:0 - ETA: 16:0 - ETA: 16:0 - ETA: 16:0 - ETA: 16:0 - ETA: 15:5 - ETA: 15:5 - ETA: 15:5 - ETA: 15:5 - ETA: 15:5 - ETA: 15:5 - ETA: 15:5 - ETA: 15:5 - ETA: 15:5 - ETA: 15:5 - ETA: 15:5 - ETA: 15:5 - ETA: 15:5 - ETA: 15:5 - ETA: 15:5 - ETA: 15:5 - ETA: 15:5 - ETA: 15:5 - ETA: 15:5 - ETA: 15:5 - ETA: 15:5 - ETA: 15:5 - ETA: 15:5 - ETA: 15:5 - ETA: 15:5 - ETA: 15:5 - ETA: 15:5 - ETA: 15:5 - ETA: 15:5 - ETA: 15:5 - ETA: 15:5 - ETA: 15:5 - ETA: 15:5 - ETA: 15:5 - ETA: 15:5 - ETA: 15:5 - ETA: 15:5 - ETA: 15:5 - ETA: 15:5 - ETA: 15:5 - ETA: 15:5 - ETA: 15:5 - ETA: 15:5 - ETA: 15:5 - ETA: 15:5 - ETA: 15:5 - ETA: 15:5 - ETA: 15:5 - ETA: 15:5 - ETA: 15:5 - ETA: 15:5 - ETA: 15:5 - ETA: 15:5 - ETA: 15:5 - ETA: 15:5 - ETA: 15:5 - ETA: 15:5 - ETA: 15:5 - ETA: 15:5 - ETA: 15:5 - ETA: 15:5 - ETA: 15:5 - ETA: 15:5 - ETA: 15:5 - ETA: 15:5 - ETA: 15:5 - ETA: 15:5 - ETA: 15:5 - ETA: 15:5 - ETA: 15:5 - ETA: 15:5 - ETA: 15:5 - ETA: 15:5 - ETA: 15:5 - ETA: 15:5 - ETA: 15:4 - ETA: 15:4 - ETA: 15:4 - ETA: 15:4 - ETA: 15:4 - ETA: 15:4 - ETA: 15:4 - ETA: 15:4 - ETA: 15:4 - ETA: 15:4 - ETA: 15:4 - ETA: 15:4 - ETA: 15:4 - ETA: 15:4 - ETA: 15:4 - ETA: 15:4 - ETA: 15:4 - ETA: 15:4 - ETA: 15:4 - ETA: 15:4 - ETA: 15:4 - ETA: 15:4 - ETA: 15:4 - ETA: 15:4 - ETA: 15:4 - ETA: 15:4 - ETA: 15:4 - ETA: 15:4 - ETA: 15:4 - ETA: 15:4 - ETA: 15:4 - ETA: 15:4 - ETA: 15:4 - ETA: 15:4 - ETA: 15:4 - ETA: 15:4 - ETA: 15:4 - ETA: 15:4 - ETA: 15:4 - ETA: 15:4 - ETA: 15:4 - ETA: 15:4 - ETA: 15:4 - ETA: 15:4 - ETA: 15:4 - ETA: 15:4 - ETA: 15:4 - ETA: 15:4 - ETA: 15:4 - ETA: 15:4 - ETA: 15:4 - ETA: 15:4 - ETA: 15:4 - ETA: 15:4 - ETA: 15:4 - ETA: 15:4 - ETA: 15:4 - ETA: 15:4 - ETA: 15:4 - ETA: 15:4 - ETA: 15:4 - ETA: 15:4 - ETA: 15:4 - ETA: 15:4 - ETA: 15:4 - ETA: 15:4 - ETA: 15:4 - ETA: 15:4 - ETA: 15:4 - ETA: 15:4 - ETA: 15:4 - ETA: 15:3 - ETA: 15:3 - ETA: 15:3 - ETA: 15:3 - ETA: 15:3 - ETA: 15:3 - ETA: 15:3 - ETA: 15:3 - ETA: 15:3 - ETA: 15:3 - ETA: 15:3 - ETA: 15:3 - ETA: 15:3 - ETA: 15:3 - ETA: 15:3 - ETA: 15:3 - ETA: 15:3 - ETA: 15:3 - ETA: 15:3 - ETA: 15:3 - ETA: 15:3 - ETA: 15:3 - ETA: 15:3 - ETA: 15:3 - ETA: 15:3 - ETA: 15:3 - ETA: 15:3 - ETA: 15:3 - ETA: 15:3 - ETA: 15:3 - ETA: 15:3 - ETA: 15:3 - ETA: 15:3 - ETA: 15:3 - ETA: 15:3 - ETA: 15:3 - ETA: 15:3 - ETA: 15:3 - ETA: 15:3 - ETA: 15:3 - ETA: 15:3 - ETA: 15:3 - ETA: 15:3 - ETA: 15:3 - ETA: 15:3 - ETA: 15:3 - ETA: 15:3 - ETA: 15:3 - ETA: 15:3 - ETA: 15:3 - ETA: 15:3 - ETA: 15:3 - ETA: 15:3 - ETA: 15:3 - ETA: 15:3 - ETA: 15:3 - ETA: 15:3 - ETA: 15:3 - ETA: 15:3 - ETA: 15:3 - ETA: 15:3 - ETA: 15:3 - ETA: 15:3 - ETA: 15:3 - ETA: 15:3 - ETA: 15:3 - ETA: 15:3 - ETA: 15:3 - ETA: 15:3 - ETA: 15:3 - ETA: 15:3 - ETA: 15:3 - ETA: 15:3 - ETA: 15:3 - ETA: 15:32"
     ]
    },
    {
     "name": "stdout",
     "output_type": "stream",
     "text": [
      "404930560/580070376 [===================>..........] - ETA: 15:3 - ETA: 15:3 - ETA: 15:3 - ETA: 15:3 - ETA: 15:3 - ETA: 15:3 - ETA: 15:3 - ETA: 15:3 - ETA: 15:3 - ETA: 15:2 - ETA: 15:2 - ETA: 15:2 - ETA: 15:2 - ETA: 15:2 - ETA: 15:2 - ETA: 15:2 - ETA: 15:2 - ETA: 15:2 - ETA: 15:2 - ETA: 15:2 - ETA: 15:2 - ETA: 15:2 - ETA: 15:2 - ETA: 15:2 - ETA: 15:2 - ETA: 15:2 - ETA: 15:2 - ETA: 15:2 - ETA: 15:2 - ETA: 15:2 - ETA: 15:2 - ETA: 15:2 - ETA: 15:2 - ETA: 15:2 - ETA: 15:2 - ETA: 15:2 - ETA: 15:2 - ETA: 15:2 - ETA: 15:2 - ETA: 15:2 - ETA: 15:2 - ETA: 15:2 - ETA: 15:2 - ETA: 15:2 - ETA: 15:2 - ETA: 15:2 - ETA: 15:2 - ETA: 15:2 - ETA: 15:2 - ETA: 15:2 - ETA: 15:2 - ETA: 15:2 - ETA: 15:2 - ETA: 15:2 - ETA: 15:2 - ETA: 15:2 - ETA: 15:2 - ETA: 15:2 - ETA: 15:2 - ETA: 15:2 - ETA: 15:2 - ETA: 15:2 - ETA: 15:2 - ETA: 15:2 - ETA: 15:2 - ETA: 15:2 - ETA: 15:2 - ETA: 15:2 - ETA: 15:2 - ETA: 15:2 - ETA: 15:2 - ETA: 15:2 - ETA: 15:2 - ETA: 15:2 - ETA: 15:2 - ETA: 15:2 - ETA: 15:2 - ETA: 15:2 - ETA: 15:2 - ETA: 15:2 - ETA: 15:2 - ETA: 15:2 - ETA: 15:2 - ETA: 15:2 - ETA: 15:2 - ETA: 15:2 - ETA: 15:2 - ETA: 15:2 - ETA: 15:2 - ETA: 15:2 - ETA: 15:2 - ETA: 15:2 - ETA: 15:2 - ETA: 15:2 - ETA: 15:2 - ETA: 15:2 - ETA: 15:2 - ETA: 15:2 - ETA: 15:1 - ETA: 15:1 - ETA: 15:1 - ETA: 15:1 - ETA: 15:1 - ETA: 15:1 - ETA: 15:1 - ETA: 15:1 - ETA: 15:1 - ETA: 15:1 - ETA: 15:1 - ETA: 15:1 - ETA: 15:1 - ETA: 15:1 - ETA: 15:1 - ETA: 15:1 - ETA: 15:1 - ETA: 15:1 - ETA: 15:1 - ETA: 15:1 - ETA: 15:1 - ETA: 15:1 - ETA: 15:1 - ETA: 15:1 - ETA: 15:1 - ETA: 15:1 - ETA: 15:1 - ETA: 15:1 - ETA: 15:1 - ETA: 15:1 - ETA: 15:1 - ETA: 15:1 - ETA: 15:1 - ETA: 15:1 - ETA: 15:1 - ETA: 15:1 - ETA: 15:1 - ETA: 15:1 - ETA: 15:1 - ETA: 15:1 - ETA: 15:1 - ETA: 15:1 - ETA: 15:1 - ETA: 15:1 - ETA: 15:1 - ETA: 15:1 - ETA: 15:1 - ETA: 15:1 - ETA: 15:1 - ETA: 15:1 - ETA: 15:1 - ETA: 15:1 - ETA: 15:1 - ETA: 15:1 - ETA: 15:1 - ETA: 15:1 - ETA: 15:1 - ETA: 15:1 - ETA: 15:1 - ETA: 15:1 - ETA: 15:1 - ETA: 15:1 - ETA: 15:1 - ETA: 15:1 - ETA: 15:1 - ETA: 15:1 - ETA: 15:1 - ETA: 15:1 - ETA: 15:1 - ETA: 15:1 - ETA: 15:1 - ETA: 15:1 - ETA: 15:1 - ETA: 15:1 - ETA: 15:1 - ETA: 15:1 - ETA: 15:0 - ETA: 15:0 - ETA: 15:0 - ETA: 15:0 - ETA: 15:0 - ETA: 15:0 - ETA: 15:0 - ETA: 15:0 - ETA: 15:0 - ETA: 15:0 - ETA: 15:0 - ETA: 15:0 - ETA: 15:0 - ETA: 15:0 - ETA: 15:0 - ETA: 15:0 - ETA: 15:0 - ETA: 15:0 - ETA: 15:0 - ETA: 15:0 - ETA: 15:0 - ETA: 15:0 - ETA: 15:0 - ETA: 15:0 - ETA: 15:0 - ETA: 15:0 - ETA: 15:0 - ETA: 15:0 - ETA: 15:0 - ETA: 15:0 - ETA: 15:0 - ETA: 15:0 - ETA: 15:0 - ETA: 15:0 - ETA: 15:0 - ETA: 15:0 - ETA: 15:0 - ETA: 15:0 - ETA: 15:0 - ETA: 15:0 - ETA: 15:0 - ETA: 15:0 - ETA: 15:0 - ETA: 15:0 - ETA: 15:0 - ETA: 15:0 - ETA: 15:0 - ETA: 15:0 - ETA: 15:0 - ETA: 15:0 - ETA: 15:0 - ETA: 15:0 - ETA: 15:0 - ETA: 15:0 - ETA: 15:0 - ETA: 15:0 - ETA: 15:0 - ETA: 15:0 - ETA: 15:0 - ETA: 15:0 - ETA: 15:0 - ETA: 15:0 - ETA: 15:0 - ETA: 15:0 - ETA: 15:0 - ETA: 15:0 - ETA: 15:0 - ETA: 15:0 - ETA: 15:0 - ETA: 15:0 - ETA: 15:0 - ETA: 15:0 - ETA: 15:0 - ETA: 15:0 - ETA: 15:0 - ETA: 15:0 - ETA: 15:0 - ETA: 15:0 - ETA: 15:0 - ETA: 15:0 - ETA: 15:0 - ETA: 15:0 - ETA: 15:0 - ETA: 15:0 - ETA: 15:0 - ETA: 15:0 - ETA: 15:0 - ETA: 15:0 - ETA: 15:0 - ETA: 15:0 - ETA: 14:5 - ETA: 14:5 - ETA: 14:5 - ETA: 14:5 - ETA: 14:5 - ETA: 14:5 - ETA: 14:5 - ETA: 14:5 - ETA: 14:5 - ETA: 14:5 - ETA: 14:5 - ETA: 14:5 - ETA: 14:5 - ETA: 14:5 - ETA: 14:5 - ETA: 14:5 - ETA: 14:5 - ETA: 14:5 - ETA: 14:5 - ETA: 14:5 - ETA: 14:5 - ETA: 14:5 - ETA: 14:5 - ETA: 14:5 - ETA: 14:5 - ETA: 14:5 - ETA: 14:5 - ETA: 14:5 - ETA: 14:5 - ETA: 14:5 - ETA: 14:5 - ETA: 14:5 - ETA: 14:5 - ETA: 14:5 - ETA: 14:5 - ETA: 14:5 - ETA: 14:5 - ETA: 14:5 - ETA: 14:5 - ETA: 14:5 - ETA: 14:5 - ETA: 14:5 - ETA: 14:5 - ETA: 14:5 - ETA: 14:5 - ETA: 14:5 - ETA: 14:5 - ETA: 14:5 - ETA: 14:5 - ETA: 14:5 - ETA: 14:5 - ETA: 14:5 - ETA: 14:5 - ETA: 14:5 - ETA: 14:5 - ETA: 14:5 - ETA: 14:5 - ETA: 14:5 - ETA: 14:5 - ETA: 14:5 - ETA: 14:5 - ETA: 14:5 - ETA: 14:5 - ETA: 14:5 - ETA: 14:5 - ETA: 14:5 - ETA: 14:5 - ETA: 14:5 - ETA: 14:5 - ETA: 14:5 - ETA: 14:5 - ETA: 14:5 - ETA: 14:5 - ETA: 14:5 - ETA: 14:5 - ETA: 14:5 - ETA: 14:5 - ETA: 14:4 - ETA: 14:4 - ETA: 14:4 - ETA: 14:4 - ETA: 14:4 - ETA: 14:4 - ETA: 14:4 - ETA: 14:4 - ETA: 14:4 - ETA: 14:4 - ETA: 14:4 - ETA: 14:4 - ETA: 14:4 - ETA: 14:4 - ETA: 14:4 - ETA: 14:4 - ETA: 14:4 - ETA: 14:4 - ETA: 14:4 - ETA: 14:4 - ETA: 14:4 - ETA: 14:4 - ETA: 14:4 - ETA: 14:4 - ETA: 14:4 - ETA: 14:4 - ETA: 14:4 - ETA: 14:4 - ETA: 14:4 - ETA: 14:4 - ETA: 14:4 - ETA: 14:4 - ETA: 14:4 - ETA: 14:4 - ETA: 14:4 - ETA: 14:4 - ETA: 14:4 - ETA: 14:4 - ETA: 14:4 - ETA: 14:4 - ETA: 14:4 - ETA: 14:4 - ETA: 14:4 - ETA: 14:4 - ETA: 14:4 - ETA: 14:4 - ETA: 14:4 - ETA: 14:4 - ETA: 14:4 - ETA: 14:4 - ETA: 14:4 - ETA: 14:4 - ETA: 14:4 - ETA: 14:4 - ETA: 14:4 - ETA: 14:4 - ETA: 14:4 - ETA: 14:4 - ETA: 14:4 - ETA: 14:4 - ETA: 14:4 - ETA: 14:4 - ETA: 14:4 - ETA: 14:4 - ETA: 14:4 - ETA: 14:4 - ETA: 14:4 - ETA: 14:4 - ETA: 14:4 - ETA: 14:4 - ETA: 14:4 - ETA: 14:4 - ETA: 14:4 - ETA: 14:4 - ETA: 14:4 - ETA: 14:4 - ETA: 14:4 - ETA: 14:4 - ETA: 14:4 - ETA: 14:4 - ETA: 14:4 - ETA: 14:4 - ETA: 14:4 - ETA: 14:4 - ETA: 14:4 - ETA: 14:4 - ETA: 14:4 - ETA: 14:3 - ETA: 14:3 - ETA: 14:3 - ETA: 14:3 - ETA: 14:3 - ETA: 14:3 - ETA: 14:3 - ETA: 14:3 - ETA: 14:3 - ETA: 14:3 - ETA: 14:3 - ETA: 14:3 - ETA: 14:3 - ETA: 14:3 - ETA: 14:3 - ETA: 14:3 - ETA: 14:3 - ETA: 14:3 - ETA: 14:3 - ETA: 14:3 - ETA: 14:3 - ETA: 14:3 - ETA: 14:3 - ETA: 14:3 - ETA: 14:3 - ETA: 14:3 - ETA: 14:3 - ETA: 14:3 - ETA: 14:3 - ETA: 14:3 - ETA: 14:3 - ETA: 14:3 - ETA: 14:3 - ETA: 14:3 - ETA: 14:3 - ETA: 14:3 - ETA: 14:3 - ETA: 14:3 - ETA: 14:3 - ETA: 14:3 - ETA: 14:3 - ETA: 14:3 - ETA: 14:3 - ETA: 14:3 - ETA: 14:3 - ETA: 14:3 - ETA: 14:3 - ETA: 14:3 - ETA: 14:3 - ETA: 14:3 - ETA: 14:3 - ETA: 14:3 - ETA: 14:3 - ETA: 14:3 - ETA: 14:3 - ETA: 14:3 - ETA: 14:3 - ETA: 14:3 - ETA: 14:3 - ETA: 14:3 - ETA: 14:3 - ETA: 14:3 - ETA: 14:3 - ETA: 14:3 - ETA: 14:3 - ETA: 14:3 - ETA: 14:3 - ETA: 14:3 - ETA: 14:3 - ETA: 14:3 - ETA: 14:3 - ETA: 14:3 - ETA: 14:3 - ETA: 14:3 - ETA: 14:3 - ETA: 14:3 - ETA: 14:3 - ETA: 14:3 - ETA: 14:3 - ETA: 14:3 - ETA: 14:3 - ETA: 14:3 - ETA: 14:3 - ETA: 14:3 - ETA: 14:3 - ETA: 14:2 - ETA: 14:2 - ETA: 14:2 - ETA: 14:2 - ETA: 14:2 - ETA: 14:2 - ETA: 14:2 - ETA: 14:2 - ETA: 14:2 - ETA: 14:2 - ETA: 14:2 - ETA: 14:2 - ETA: 14:2 - ETA: 14:2 - ETA: 14:2 - ETA: 14:2 - ETA: 14:2 - ETA: 14:2 - ETA: 14:2 - ETA: 14:2 - ETA: 14:2 - ETA: 14:2 - ETA: 14:2 - ETA: 14:2 - ETA: 14:2 - ETA: 14:2 - ETA: 14:2 - ETA: 14:2 - ETA: 14:2 - ETA: 14:2 - ETA: 14:2 - ETA: 14:2 - ETA: 14:2 - ETA: 14:2 - ETA: 14:2 - ETA: 14:2 - ETA: 14:2 - ETA: 14:2 - ETA: 14:2 - ETA: 14:2 - ETA: 14:2 - ETA: 14:2 - ETA: 14:2 - ETA: 14:2 - ETA: 14:2 - ETA: 14:2 - ETA: 14:2 - ETA: 14:2 - ETA: 14:2 - ETA: 14:2 - ETA: 14:2 - ETA: 14:2 - ETA: 14:2 - ETA: 14:2 - ETA: 14:2 - ETA: 14:2 - ETA: 14:2 - ETA: 14:2 - ETA: 14:2 - ETA: 14:2 - ETA: 14:2 - ETA: 14:2 - ETA: 14:2 - ETA: 14:2 - ETA: 14:2 - ETA: 14:2 - ETA: 14:2 - ETA: 14:2 - ETA: 14:2 - ETA: 14:2 - ETA: 14:2 - ETA: 14:2 - ETA: 14:2 - ETA: 14:2 - ETA: 14:2 - ETA: 14:2 - ETA: 14:2 - ETA: 14:2 - ETA: 14:2 - ETA: 14:1 - ETA: 14:1 - ETA: 14:1 - ETA: 14:1 - ETA: 14:1 - ETA: 14:1 - ETA: 14:1 - ETA: 14:1 - ETA: 14:1 - ETA: 14:1 - ETA: 14:1 - ETA: 14:1 - ETA: 14:1 - ETA: 14:1 - ETA: 14:1 - ETA: 14:1 - ETA: 14:1 - ETA: 14:1 - ETA: 14:1 - ETA: 14:1 - ETA: 14:1 - ETA: 14:1 - ETA: 14:1 - ETA: 14:1 - ETA: 14:1 - ETA: 14:1 - ETA: 14:1 - ETA: 14:1 - ETA: 14:1 - ETA: 14:1 - ETA: 14:1 - ETA: 14:1 - ETA: 14:1 - ETA: 14:1 - ETA: 14:1 - ETA: 14:1 - ETA: 14:1 - ETA: 14:1 - ETA: 14:1 - ETA: 14:1 - ETA: 14:1 - ETA: 14:1 - ETA: 14:1 - ETA: 14:1 - ETA: 14:1 - ETA: 14:1 - ETA: 14:1 - ETA: 14:1 - ETA: 14:1 - ETA: 14:1 - ETA: 14:1 - ETA: 14:1 - ETA: 14:1 - ETA: 14:1 - ETA: 14:1 - ETA: 14:1 - ETA: 14:1 - ETA: 14:1 - ETA: 14:1 - ETA: 14:1 - ETA: 14:1 - ETA: 14:1 - ETA: 14:1 - ETA: 14:1 - ETA: 14:1 - ETA: 14:1 - ETA: 14:1 - ETA: 14:1 - ETA: 14:1 - ETA: 14:1 - ETA: 14:1 - ETA: 14:1 - ETA: 14:1 - ETA: 14:1 - ETA: 14:1 - ETA: 14:1 - ETA: 14:1 - ETA: 14:1 - ETA: 14:1 - ETA: 14:1 - ETA: 14:1 - ETA: 14:1 - ETA: 14:1 - ETA: 14:1 - ETA: 14:0 - ETA: 14:0 - ETA: 14:09"
     ]
    },
    {
     "name": "stdout",
     "output_type": "stream",
     "text": [
      "421240832/580070376 [====================>.........] - ETA: 14:0 - ETA: 14:0 - ETA: 14:0 - ETA: 14:0 - ETA: 14:0 - ETA: 14:0 - ETA: 14:0 - ETA: 14:0 - ETA: 14:0 - ETA: 14:0 - ETA: 14:0 - ETA: 14:0 - ETA: 14:0 - ETA: 14:0 - ETA: 14:0 - ETA: 14:0 - ETA: 14:0 - ETA: 14:0 - ETA: 14:0 - ETA: 14:0 - ETA: 14:0 - ETA: 14:0 - ETA: 14:0 - ETA: 14:0 - ETA: 14:0 - ETA: 14:0 - ETA: 14:0 - ETA: 14:0 - ETA: 14:0 - ETA: 14:0 - ETA: 14:0 - ETA: 14:0 - ETA: 14:0 - ETA: 14:0 - ETA: 14:0 - ETA: 14:0 - ETA: 14:0 - ETA: 14:0 - ETA: 14:0 - ETA: 14:0 - ETA: 14:0 - ETA: 14:0 - ETA: 14:0 - ETA: 14:0 - ETA: 14:0 - ETA: 14:0 - ETA: 14:0 - ETA: 14:0 - ETA: 14:0 - ETA: 14:0 - ETA: 14:0 - ETA: 14:0 - ETA: 14:0 - ETA: 14:0 - ETA: 14:0 - ETA: 14:0 - ETA: 14:0 - ETA: 14:0 - ETA: 14:0 - ETA: 14:0 - ETA: 14:0 - ETA: 14:0 - ETA: 14:0 - ETA: 14:0 - ETA: 14:0 - ETA: 14:0 - ETA: 14:0 - ETA: 14:0 - ETA: 14:0 - ETA: 14:0 - ETA: 13:5 - ETA: 13:5 - ETA: 13:5 - ETA: 13:5 - ETA: 13:5 - ETA: 13:5 - ETA: 13:5 - ETA: 13:5 - ETA: 13:5 - ETA: 13:5 - ETA: 13:5 - ETA: 13:5 - ETA: 13:5 - ETA: 13:5 - ETA: 13:5 - ETA: 13:5 - ETA: 13:5 - ETA: 13:5 - ETA: 13:5 - ETA: 13:5 - ETA: 13:5 - ETA: 13:5 - ETA: 13:5 - ETA: 13:5 - ETA: 13:5 - ETA: 13:5 - ETA: 13:5 - ETA: 13:5 - ETA: 13:5 - ETA: 13:5 - ETA: 13:5 - ETA: 13:5 - ETA: 13:5 - ETA: 13:5 - ETA: 13:5 - ETA: 13:5 - ETA: 13:5 - ETA: 13:5 - ETA: 13:5 - ETA: 13:5 - ETA: 13:5 - ETA: 13:5 - ETA: 13:5 - ETA: 13:5 - ETA: 13:5 - ETA: 13:5 - ETA: 13:5 - ETA: 13:5 - ETA: 13:5 - ETA: 13:5 - ETA: 13:5 - ETA: 13:5 - ETA: 13:5 - ETA: 13:5 - ETA: 13:5 - ETA: 13:5 - ETA: 13:5 - ETA: 13:5 - ETA: 13:5 - ETA: 13:5 - ETA: 13:5 - ETA: 13:5 - ETA: 13:5 - ETA: 13:5 - ETA: 13:5 - ETA: 13:5 - ETA: 13:5 - ETA: 13:5 - ETA: 13:5 - ETA: 13:5 - ETA: 13:5 - ETA: 13:5 - ETA: 13:5 - ETA: 13:5 - ETA: 13:5 - ETA: 13:5 - ETA: 13:5 - ETA: 13:5 - ETA: 13:5 - ETA: 13:5 - ETA: 13:5 - ETA: 13:5 - ETA: 13:5 - ETA: 13:5 - ETA: 13:5 - ETA: 13:5 - ETA: 13:5 - ETA: 13:5 - ETA: 13:5 - ETA: 13:5 - ETA: 13:5 - ETA: 13:4 - ETA: 13:4 - ETA: 13:4 - ETA: 13:4 - ETA: 13:4 - ETA: 13:4 - ETA: 13:4 - ETA: 13:4 - ETA: 13:4 - ETA: 13:4 - ETA: 13:4 - ETA: 13:4 - ETA: 13:4 - ETA: 13:4 - ETA: 13:4 - ETA: 13:4 - ETA: 13:4 - ETA: 13:4 - ETA: 13:4 - ETA: 13:4 - ETA: 13:4 - ETA: 13:4 - ETA: 13:4 - ETA: 13:4 - ETA: 13:4 - ETA: 13:4 - ETA: 13:4 - ETA: 13:4 - ETA: 13:4 - ETA: 13:4 - ETA: 13:4 - ETA: 13:4 - ETA: 13:4 - ETA: 13:4 - ETA: 13:4 - ETA: 13:4 - ETA: 13:4 - ETA: 13:4 - ETA: 13:4 - ETA: 13:4 - ETA: 13:4 - ETA: 13:4 - ETA: 13:4 - ETA: 13:4 - ETA: 13:4 - ETA: 13:4 - ETA: 13:4 - ETA: 13:4 - ETA: 13:4 - ETA: 13:4 - ETA: 13:4 - ETA: 13:4 - ETA: 13:4 - ETA: 13:4 - ETA: 13:4 - ETA: 13:4 - ETA: 13:4 - ETA: 13:4 - ETA: 13:4 - ETA: 13:4 - ETA: 13:4 - ETA: 13:4 - ETA: 13:4 - ETA: 13:4 - ETA: 13:4 - ETA: 13:4 - ETA: 13:4 - ETA: 13:4 - ETA: 13:4 - ETA: 13:4 - ETA: 13:4 - ETA: 13:4 - ETA: 13:4 - ETA: 13:4 - ETA: 13:4 - ETA: 13:4 - ETA: 13:4 - ETA: 13:4 - ETA: 13:4 - ETA: 13:4 - ETA: 13:4 - ETA: 13:4 - ETA: 13:4 - ETA: 13:4 - ETA: 13:4 - ETA: 13:4 - ETA: 13:4 - ETA: 13:4 - ETA: 13:3 - ETA: 13:3 - ETA: 13:3 - ETA: 13:3 - ETA: 13:3 - ETA: 13:3 - ETA: 13:3 - ETA: 13:3 - ETA: 13:3 - ETA: 13:3 - ETA: 13:3 - ETA: 13:3 - ETA: 13:3 - ETA: 13:3 - ETA: 13:3 - ETA: 13:3 - ETA: 13:3 - ETA: 13:3 - ETA: 13:3 - ETA: 13:3 - ETA: 13:3 - ETA: 13:3 - ETA: 13:3 - ETA: 13:3 - ETA: 13:3 - ETA: 13:3 - ETA: 13:3 - ETA: 13:3 - ETA: 13:3 - ETA: 13:3 - ETA: 13:3 - ETA: 13:3 - ETA: 13:3 - ETA: 13:3 - ETA: 13:3 - ETA: 13:3 - ETA: 13:3 - ETA: 13:3 - ETA: 13:3 - ETA: 13:3 - ETA: 13:3 - ETA: 13:3 - ETA: 13:3 - ETA: 13:3 - ETA: 13:3 - ETA: 13:3 - ETA: 13:3 - ETA: 13:3 - ETA: 13:3 - ETA: 13:3 - ETA: 13:3 - ETA: 13:3 - ETA: 13:3 - ETA: 13:3 - ETA: 13:3 - ETA: 13:3 - ETA: 13:3 - ETA: 13:3 - ETA: 13:3 - ETA: 13:3 - ETA: 13:3 - ETA: 13:3 - ETA: 13:3 - ETA: 13:3 - ETA: 13:3 - ETA: 13:3 - ETA: 13:3 - ETA: 13:3 - ETA: 13:3 - ETA: 13:3 - ETA: 13:3 - ETA: 13:3 - ETA: 13:2 - ETA: 13:2 - ETA: 13:2 - ETA: 13:2 - ETA: 13:2 - ETA: 13:2 - ETA: 13:2 - ETA: 13:2 - ETA: 13:2 - ETA: 13:2 - ETA: 13:2 - ETA: 13:2 - ETA: 13:2 - ETA: 13:2 - ETA: 13:2 - ETA: 13:2 - ETA: 13:2 - ETA: 13:2 - ETA: 13:2 - ETA: 13:2 - ETA: 13:2 - ETA: 13:2 - ETA: 13:2 - ETA: 13:2 - ETA: 13:2 - ETA: 13:2 - ETA: 13:2 - ETA: 13:2 - ETA: 13:2 - ETA: 13:2 - ETA: 13:2 - ETA: 13:2 - ETA: 13:2 - ETA: 13:2 - ETA: 13:2 - ETA: 13:2 - ETA: 13:2 - ETA: 13:2 - ETA: 13:2 - ETA: 13:2 - ETA: 13:2 - ETA: 13:2 - ETA: 13:2 - ETA: 13:2 - ETA: 13:2 - ETA: 13:2 - ETA: 13:2 - ETA: 13:2 - ETA: 13:2 - ETA: 13:2 - ETA: 13:2 - ETA: 13:2 - ETA: 13:2 - ETA: 13:2 - ETA: 13:2 - ETA: 13:2 - ETA: 13:2 - ETA: 13:2 - ETA: 13:2 - ETA: 13:2 - ETA: 13:2 - ETA: 13:2 - ETA: 13:2 - ETA: 13:2 - ETA: 13:2 - ETA: 13:2 - ETA: 13:2 - ETA: 13:2 - ETA: 13:2 - ETA: 13:2 - ETA: 13:2 - ETA: 13:2 - ETA: 13:2 - ETA: 13:2 - ETA: 13:2 - ETA: 13:2 - ETA: 13:2 - ETA: 13:2 - ETA: 13:2 - ETA: 13:2 - ETA: 13:2 - ETA: 13:2 - ETA: 13:2 - ETA: 13:2 - ETA: 13:2 - ETA: 13:2 - ETA: 13:1 - ETA: 13:1 - ETA: 13:1 - ETA: 13:1 - ETA: 13:1 - ETA: 13:1 - ETA: 13:1 - ETA: 13:1 - ETA: 13:1 - ETA: 13:1 - ETA: 13:1 - ETA: 13:1 - ETA: 13:1 - ETA: 13:1 - ETA: 13:1 - ETA: 13:1 - ETA: 13:1 - ETA: 13:1 - ETA: 13:1 - ETA: 13:1 - ETA: 13:1 - ETA: 13:1 - ETA: 13:1 - ETA: 13:1 - ETA: 13:1 - ETA: 13:1 - ETA: 13:1 - ETA: 13:1 - ETA: 13:1 - ETA: 13:1 - ETA: 13:1 - ETA: 13:1 - ETA: 13:1 - ETA: 13:1 - ETA: 13:1 - ETA: 13:1 - ETA: 13:1 - ETA: 13:1 - ETA: 13:1 - ETA: 13:1 - ETA: 13:1 - ETA: 13:1 - ETA: 13:1 - ETA: 13:1 - ETA: 13:1 - ETA: 13:1 - ETA: 13:1 - ETA: 13:1 - ETA: 13:1 - ETA: 13:1 - ETA: 13:1 - ETA: 13:1 - ETA: 13:1 - ETA: 13:1 - ETA: 13:1 - ETA: 13:1 - ETA: 13:1 - ETA: 13:1 - ETA: 13:1 - ETA: 13:1 - ETA: 13:1 - ETA: 13:1 - ETA: 13:1 - ETA: 13:1 - ETA: 13:1 - ETA: 13:1 - ETA: 13:1 - ETA: 13:1 - ETA: 13:1 - ETA: 13:1 - ETA: 13:1 - ETA: 13:0 - ETA: 13:0 - ETA: 13:0 - ETA: 13:0 - ETA: 13:0 - ETA: 13:0 - ETA: 13:0 - ETA: 13:0 - ETA: 13:0 - ETA: 13:0 - ETA: 13:0 - ETA: 13:0 - ETA: 13:0 - ETA: 13:0 - ETA: 13:0 - ETA: 13:0 - ETA: 13:0 - ETA: 13:0 - ETA: 13:0 - ETA: 13:0 - ETA: 13:0 - ETA: 13:0 - ETA: 13:0 - ETA: 13:0 - ETA: 13:0 - ETA: 13:0 - ETA: 13:0 - ETA: 13:0 - ETA: 13:0 - ETA: 13:0 - ETA: 13:0 - ETA: 13:0 - ETA: 13:0 - ETA: 13:0 - ETA: 13:0 - ETA: 13:0 - ETA: 13:0 - ETA: 13:0 - ETA: 13:0 - ETA: 13:0 - ETA: 13:0 - ETA: 13:0 - ETA: 13:0 - ETA: 13:0 - ETA: 13:0 - ETA: 13:0 - ETA: 13:0 - ETA: 13:0 - ETA: 13:0 - ETA: 13:0 - ETA: 13:0 - ETA: 13:0 - ETA: 13:0 - ETA: 13:0 - ETA: 13:0 - ETA: 13:0 - ETA: 13:0 - ETA: 13:0 - ETA: 13:0 - ETA: 13:0 - ETA: 13:0 - ETA: 13:0 - ETA: 13:0 - ETA: 13:0 - ETA: 13:0 - ETA: 13:0 - ETA: 13:0 - ETA: 13:0 - ETA: 13:0 - ETA: 13:0 - ETA: 13:0 - ETA: 13:0 - ETA: 13:0 - ETA: 13:0 - ETA: 13:0 - ETA: 13:0 - ETA: 13:0 - ETA: 13:0 - ETA: 13:0 - ETA: 13:0 - ETA: 13:0 - ETA: 13:0 - ETA: 12:5 - ETA: 12:5 - ETA: 12:5 - ETA: 12:5 - ETA: 12:5 - ETA: 12:5 - ETA: 12:5 - ETA: 12:5 - ETA: 12:5 - ETA: 12:5 - ETA: 12:5 - ETA: 12:5 - ETA: 12:5 - ETA: 12:5 - ETA: 12:5 - ETA: 12:5 - ETA: 12:5 - ETA: 12:5 - ETA: 12:5 - ETA: 12:5 - ETA: 12:5 - ETA: 12:5 - ETA: 12:5 - ETA: 12:5 - ETA: 12:5 - ETA: 12:5 - ETA: 12:5 - ETA: 12:5 - ETA: 12:5 - ETA: 12:5 - ETA: 12:5 - ETA: 12:5 - ETA: 12:5 - ETA: 12:5 - ETA: 12:5 - ETA: 12:5 - ETA: 12:5 - ETA: 12:5 - ETA: 12:5 - ETA: 12:5 - ETA: 12:5 - ETA: 12:5 - ETA: 12:5 - ETA: 12:5 - ETA: 12:5 - ETA: 12:5 - ETA: 12:5 - ETA: 12:5 - ETA: 12:5 - ETA: 12:5 - ETA: 12:5 - ETA: 12:5 - ETA: 12:5 - ETA: 12:5 - ETA: 12:5 - ETA: 12:5 - ETA: 12:5 - ETA: 12:5 - ETA: 12:5 - ETA: 12:5 - ETA: 12:5 - ETA: 12:5 - ETA: 12:5 - ETA: 12:5 - ETA: 12:5 - ETA: 12:5 - ETA: 12:5 - ETA: 12:5 - ETA: 12:5 - ETA: 12:5 - ETA: 12:5 - ETA: 12:5 - ETA: 12:5 - ETA: 12:5 - ETA: 12:5 - ETA: 12:5 - ETA: 12:5 - ETA: 12:5 - ETA: 12:5 - ETA: 12:5 - ETA: 12:5 - ETA: 12:5 - ETA: 12:5 - ETA: 12:5 - ETA: 12:5 - ETA: 12:5 - ETA: 12:4 - ETA: 12:4 - ETA: 12:4 - ETA: 12:4 - ETA: 12:4 - ETA: 12:4 - ETA: 12:4 - ETA: 12:4 - ETA: 12:4 - ETA: 12:4 - ETA: 12:4 - ETA: 12:4 - ETA: 12:4 - ETA: 12:4 - ETA: 12:4 - ETA: 12:4 - ETA: 12:4 - ETA: 12:4 - ETA: 12:4 - ETA: 12:4 - ETA: 12:4 - ETA: 12:4 - ETA: 12:4 - ETA: 12:4 - ETA: 12:4 - ETA: 12:4 - ETA: 12:4 - ETA: 12:4 - ETA: 12:4 - ETA: 12:4 - ETA: 12:4 - ETA: 12:4 - ETA: 12:46"
     ]
    },
    {
     "name": "stdout",
     "output_type": "stream",
     "text": [
      "437190656/580070376 [=====================>........] - ETA: 12:4 - ETA: 12:4 - ETA: 12:4 - ETA: 12:4 - ETA: 12:4 - ETA: 12:4 - ETA: 12:4 - ETA: 12:4 - ETA: 12:4 - ETA: 12:4 - ETA: 12:4 - ETA: 12:4 - ETA: 12:4 - ETA: 12:4 - ETA: 12:4 - ETA: 12:4 - ETA: 12:4 - ETA: 12:4 - ETA: 12:4 - ETA: 12:4 - ETA: 12:4 - ETA: 12:4 - ETA: 12:4 - ETA: 12:4 - ETA: 12:4 - ETA: 12:4 - ETA: 12:4 - ETA: 12:4 - ETA: 12:4 - ETA: 12:4 - ETA: 12:4 - ETA: 12:4 - ETA: 12:4 - ETA: 12:4 - ETA: 12:4 - ETA: 12:4 - ETA: 12:4 - ETA: 12:4 - ETA: 12:4 - ETA: 12:4 - ETA: 12:4 - ETA: 12:4 - ETA: 12:4 - ETA: 12:4 - ETA: 12:4 - ETA: 12:4 - ETA: 12:4 - ETA: 12:4 - ETA: 12:4 - ETA: 12:4 - ETA: 12:4 - ETA: 12:3 - ETA: 12:3 - ETA: 12:3 - ETA: 12:3 - ETA: 12:3 - ETA: 12:3 - ETA: 12:3 - ETA: 12:3 - ETA: 12:3 - ETA: 12:3 - ETA: 12:3 - ETA: 12:3 - ETA: 12:3 - ETA: 12:3 - ETA: 12:3 - ETA: 12:3 - ETA: 12:3 - ETA: 12:3 - ETA: 12:3 - ETA: 12:3 - ETA: 12:3 - ETA: 12:3 - ETA: 12:3 - ETA: 12:3 - ETA: 12:3 - ETA: 12:3 - ETA: 12:3 - ETA: 12:3 - ETA: 12:3 - ETA: 12:3 - ETA: 12:3 - ETA: 12:3 - ETA: 12:3 - ETA: 12:3 - ETA: 12:3 - ETA: 12:3 - ETA: 12:3 - ETA: 12:3 - ETA: 12:3 - ETA: 12:3 - ETA: 12:3 - ETA: 12:3 - ETA: 12:3 - ETA: 12:3 - ETA: 12:3 - ETA: 12:3 - ETA: 12:3 - ETA: 12:3 - ETA: 12:3 - ETA: 12:3 - ETA: 12:3 - ETA: 12:3 - ETA: 12:3 - ETA: 12:3 - ETA: 12:3 - ETA: 12:3 - ETA: 12:3 - ETA: 12:3 - ETA: 12:3 - ETA: 12:3 - ETA: 12:3 - ETA: 12:3 - ETA: 12:3 - ETA: 12:3 - ETA: 12:3 - ETA: 12:3 - ETA: 12:3 - ETA: 12:3 - ETA: 12:3 - ETA: 12:3 - ETA: 12:3 - ETA: 12:3 - ETA: 12:3 - ETA: 12:3 - ETA: 12:3 - ETA: 12:3 - ETA: 12:3 - ETA: 12:3 - ETA: 12:2 - ETA: 12:2 - ETA: 12:2 - ETA: 12:2 - ETA: 12:2 - ETA: 12:2 - ETA: 12:2 - ETA: 12:2 - ETA: 12:2 - ETA: 12:2 - ETA: 12:2 - ETA: 12:2 - ETA: 12:2 - ETA: 12:2 - ETA: 12:2 - ETA: 12:2 - ETA: 12:2 - ETA: 12:2 - ETA: 12:2 - ETA: 12:2 - ETA: 12:2 - ETA: 12:2 - ETA: 12:2 - ETA: 12:2 - ETA: 12:2 - ETA: 12:2 - ETA: 12:2 - ETA: 12:2 - ETA: 12:2 - ETA: 12:2 - ETA: 12:2 - ETA: 12:2 - ETA: 12:2 - ETA: 12:2 - ETA: 12:2 - ETA: 12:2 - ETA: 12:2 - ETA: 12:2 - ETA: 12:2 - ETA: 12:2 - ETA: 12:2 - ETA: 12:2 - ETA: 12:2 - ETA: 12:2 - ETA: 12:2 - ETA: 12:2 - ETA: 12:2 - ETA: 12:2 - ETA: 12:2 - ETA: 12:2 - ETA: 12:2 - ETA: 12:2 - ETA: 12:2 - ETA: 12:2 - ETA: 12:2 - ETA: 12:2 - ETA: 12:2 - ETA: 12:2 - ETA: 12:2 - ETA: 12:2 - ETA: 12:2 - ETA: 12:2 - ETA: 12:2 - ETA: 12:2 - ETA: 12:2 - ETA: 12:2 - ETA: 12:2 - ETA: 12:2 - ETA: 12:2 - ETA: 12:2 - ETA: 12:2 - ETA: 12:2 - ETA: 12:2 - ETA: 12:2 - ETA: 12:2 - ETA: 12:2 - ETA: 12:1 - ETA: 12:1 - ETA: 12:1 - ETA: 12:1 - ETA: 12:1 - ETA: 12:1 - ETA: 12:1 - ETA: 12:1 - ETA: 12:1 - ETA: 12:1 - ETA: 12:1 - ETA: 12:1 - ETA: 12:1 - ETA: 12:1 - ETA: 12:1 - ETA: 12:1 - ETA: 12:1 - ETA: 12:1 - ETA: 12:1 - ETA: 12:1 - ETA: 12:1 - ETA: 12:1 - ETA: 12:1 - ETA: 12:1 - ETA: 12:1 - ETA: 12:1 - ETA: 12:1 - ETA: 12:1 - ETA: 12:1 - ETA: 12:1 - ETA: 12:1 - ETA: 12:1 - ETA: 12:1 - ETA: 12:1 - ETA: 12:1 - ETA: 12:1 - ETA: 12:1 - ETA: 12:1 - ETA: 12:1 - ETA: 12:1 - ETA: 12:1 - ETA: 12:1 - ETA: 12:1 - ETA: 12:1 - ETA: 12:1 - ETA: 12:1 - ETA: 12:1 - ETA: 12:1 - ETA: 12:1 - ETA: 12:1 - ETA: 12:1 - ETA: 12:1 - ETA: 12:1 - ETA: 12:1 - ETA: 12:1 - ETA: 12:1 - ETA: 12:1 - ETA: 12:1 - ETA: 12:1 - ETA: 12:1 - ETA: 12:1 - ETA: 12:1 - ETA: 12:1 - ETA: 12:1 - ETA: 12:1 - ETA: 12:1 - ETA: 12:1 - ETA: 12:1 - ETA: 12:1 - ETA: 12:1 - ETA: 12:1 - ETA: 12:1 - ETA: 12:1 - ETA: 12:1 - ETA: 12:1 - ETA: 12:1 - ETA: 12:1 - ETA: 12:1 - ETA: 12:1 - ETA: 12:1 - ETA: 12:1 - ETA: 12:1 - ETA: 12:1 - ETA: 12:1 - ETA: 12:1 - ETA: 12:1 - ETA: 12:1 - ETA: 12:1 - ETA: 12:1 - ETA: 12:1 - ETA: 12:1 - ETA: 12:1 - ETA: 12:1 - ETA: 12:1 - ETA: 12:1 - ETA: 12:1 - ETA: 12:1 - ETA: 12:0 - ETA: 12:1 - ETA: 12:0 - ETA: 12:0 - ETA: 12:0 - ETA: 12:0 - ETA: 12:0 - ETA: 12:0 - ETA: 12:0 - ETA: 12:0 - ETA: 12:0 - ETA: 12:0 - ETA: 12:0 - ETA: 12:0 - ETA: 12:0 - ETA: 12:0 - ETA: 12:0 - ETA: 12:0 - ETA: 12:0 - ETA: 12:0 - ETA: 12:0 - ETA: 12:0 - ETA: 12:0 - ETA: 12:0 - ETA: 12:0 - ETA: 12:0 - ETA: 12:0 - ETA: 12:0 - ETA: 12:0 - ETA: 12:0 - ETA: 12:0 - ETA: 12:0 - ETA: 12:0 - ETA: 12:0 - ETA: 12:0 - ETA: 12:0 - ETA: 12:0 - ETA: 12:0 - ETA: 12:0 - ETA: 12:0 - ETA: 12:0 - ETA: 12:0 - ETA: 12:0 - ETA: 12:0 - ETA: 12:0 - ETA: 12:0 - ETA: 12:0 - ETA: 12:0 - ETA: 12:0 - ETA: 12:0 - ETA: 12:0 - ETA: 12:0 - ETA: 12:0 - ETA: 12:0 - ETA: 12:0 - ETA: 12:0 - ETA: 12:0 - ETA: 12:0 - ETA: 12:0 - ETA: 12:0 - ETA: 12:0 - ETA: 12:0 - ETA: 12:0 - ETA: 12:0 - ETA: 12:0 - ETA: 12:0 - ETA: 12:0 - ETA: 12:0 - ETA: 12:0 - ETA: 12:0 - ETA: 12:0 - ETA: 12:0 - ETA: 12:0 - ETA: 12:0 - ETA: 12:0 - ETA: 12:0 - ETA: 12:0 - ETA: 12:0 - ETA: 12:0 - ETA: 12:0 - ETA: 12:0 - ETA: 12:0 - ETA: 12:0 - ETA: 12:0 - ETA: 12:0 - ETA: 11:5 - ETA: 11:5 - ETA: 11:5 - ETA: 11:5 - ETA: 11:5 - ETA: 11:5 - ETA: 11:5 - ETA: 11:5 - ETA: 11:5 - ETA: 11:5 - ETA: 11:5 - ETA: 11:5 - ETA: 11:5 - ETA: 11:5 - ETA: 11:5 - ETA: 11:5 - ETA: 11:5 - ETA: 11:5 - ETA: 11:5 - ETA: 11:5 - ETA: 11:5 - ETA: 11:5 - ETA: 11:5 - ETA: 11:5 - ETA: 11:5 - ETA: 11:5 - ETA: 11:5 - ETA: 11:5 - ETA: 11:5 - ETA: 11:5 - ETA: 11:5 - ETA: 11:5 - ETA: 11:5 - ETA: 11:5 - ETA: 11:5 - ETA: 11:5 - ETA: 11:5 - ETA: 11:5 - ETA: 11:5 - ETA: 11:5 - ETA: 11:5 - ETA: 11:5 - ETA: 11:5 - ETA: 11:5 - ETA: 11:5 - ETA: 11:5 - ETA: 11:5 - ETA: 11:5 - ETA: 11:5 - ETA: 11:5 - ETA: 11:5 - ETA: 11:5 - ETA: 11:5 - ETA: 11:5 - ETA: 11:5 - ETA: 11:5 - ETA: 11:5 - ETA: 11:5 - ETA: 11:5 - ETA: 11:5 - ETA: 11:5 - ETA: 11:5 - ETA: 11:5 - ETA: 11:5 - ETA: 11:5 - ETA: 11:5 - ETA: 11:5 - ETA: 11:5 - ETA: 11:5 - ETA: 11:5 - ETA: 11:5 - ETA: 11:5 - ETA: 11:5 - ETA: 11:5 - ETA: 11:5 - ETA: 11:5 - ETA: 11:5 - ETA: 11:5 - ETA: 11:5 - ETA: 11:5 - ETA: 11:5 - ETA: 11:5 - ETA: 11:5 - ETA: 11:5 - ETA: 11:5 - ETA: 11:5 - ETA: 11:5 - ETA: 11:5 - ETA: 11:5 - ETA: 11:5 - ETA: 11:5 - ETA: 11:5 - ETA: 11:5 - ETA: 11:4 - ETA: 11:4 - ETA: 11:4 - ETA: 11:4 - ETA: 11:4 - ETA: 11:4 - ETA: 11:4 - ETA: 11:4 - ETA: 11:4 - ETA: 11:4 - ETA: 11:4 - ETA: 11:4 - ETA: 11:4 - ETA: 11:4 - ETA: 11:4 - ETA: 11:4 - ETA: 11:4 - ETA: 11:4 - ETA: 11:4 - ETA: 11:4 - ETA: 11:4 - ETA: 11:4 - ETA: 11:4 - ETA: 11:4 - ETA: 11:4 - ETA: 11:4 - ETA: 11:4 - ETA: 11:4 - ETA: 11:4 - ETA: 11:4 - ETA: 11:4 - ETA: 11:4 - ETA: 11:4 - ETA: 11:4 - ETA: 11:4 - ETA: 11:4 - ETA: 11:4 - ETA: 11:4 - ETA: 11:4 - ETA: 11:4 - ETA: 11:4 - ETA: 11:4 - ETA: 11:4 - ETA: 11:4 - ETA: 11:4 - ETA: 11:4 - ETA: 11:4 - ETA: 11:4 - ETA: 11:4 - ETA: 11:4 - ETA: 11:4 - ETA: 11:4 - ETA: 11:4 - ETA: 11:4 - ETA: 11:4 - ETA: 11:4 - ETA: 11:4 - ETA: 11:4 - ETA: 11:4 - ETA: 11:4 - ETA: 11:4 - ETA: 11:4 - ETA: 11:4 - ETA: 11:4 - ETA: 11:4 - ETA: 11:4 - ETA: 11:4 - ETA: 11:4 - ETA: 11:4 - ETA: 11:4 - ETA: 11:4 - ETA: 11:4 - ETA: 11:4 - ETA: 11:4 - ETA: 11:4 - ETA: 11:4 - ETA: 11:4 - ETA: 11:4 - ETA: 11:4 - ETA: 11:4 - ETA: 11:3 - ETA: 11:3 - ETA: 11:3 - ETA: 11:3 - ETA: 11:3 - ETA: 11:3 - ETA: 11:3 - ETA: 11:3 - ETA: 11:3 - ETA: 11:3 - ETA: 11:3 - ETA: 11:3 - ETA: 11:3 - ETA: 11:3 - ETA: 11:3 - ETA: 11:3 - ETA: 11:3 - ETA: 11:3 - ETA: 11:3 - ETA: 11:3 - ETA: 11:3 - ETA: 11:3 - ETA: 11:3 - ETA: 11:3 - ETA: 11:3 - ETA: 11:3 - ETA: 11:3 - ETA: 11:3 - ETA: 11:3 - ETA: 11:3 - ETA: 11:3 - ETA: 11:3 - ETA: 11:3 - ETA: 11:3 - ETA: 11:3 - ETA: 11:3 - ETA: 11:3 - ETA: 11:3 - ETA: 11:3 - ETA: 11:3 - ETA: 11:3 - ETA: 11:3 - ETA: 11:3 - ETA: 11:3 - ETA: 11:3 - ETA: 11:3 - ETA: 11:3 - ETA: 11:3 - ETA: 11:3 - ETA: 11:3 - ETA: 11:3 - ETA: 11:3 - ETA: 11:3 - ETA: 11:3 - ETA: 11:3 - ETA: 11:3 - ETA: 11:3 - ETA: 11:3 - ETA: 11:3 - ETA: 11:3 - ETA: 11:3 - ETA: 11:3 - ETA: 11:3 - ETA: 11:3 - ETA: 11:3 - ETA: 11:3 - ETA: 11:3 - ETA: 11:3 - ETA: 11:3 - ETA: 11:3 - ETA: 11:3 - ETA: 11:3 - ETA: 11:3 - ETA: 11:3 - ETA: 11:3 - ETA: 11:3 - ETA: 11:3 - ETA: 11:3 - ETA: 11:3 - ETA: 11:2 - ETA: 11:2 - ETA: 11:2 - ETA: 11:2 - ETA: 11:2 - ETA: 11:2 - ETA: 11:2 - ETA: 11:2 - ETA: 11:2 - ETA: 11:2 - ETA: 11:2 - ETA: 11:2 - ETA: 11:2 - ETA: 11:2 - ETA: 11:2 - ETA: 11:2 - ETA: 11:2 - ETA: 11:2 - ETA: 11:2 - ETA: 11:2 - ETA: 11:2 - ETA: 11:2 - ETA: 11:2 - ETA: 11:2 - ETA: 11:2 - ETA: 11:2 - ETA: 11:2 - ETA: 11:2 - ETA: 11:2 - ETA: 11:2 - ETA: 11:2 - ETA: 11:2 - ETA: 11:2 - ETA: 11:2 - ETA: 11:2 - ETA: 11:2 - ETA: 11:2 - ETA: 11:2 - ETA: 11:2 - ETA: 11:25"
     ]
    },
    {
     "name": "stdout",
     "output_type": "stream",
     "text": [
      "446922752/580070376 [======================>.......] - ETA: 11:2 - ETA: 11:2 - ETA: 11:2 - ETA: 11:2 - ETA: 11:2 - ETA: 11:2 - ETA: 11:2 - ETA: 11:2 - ETA: 11:2 - ETA: 11:2 - ETA: 11:2 - ETA: 11:2 - ETA: 11:2 - ETA: 11:2 - ETA: 11:2 - ETA: 11:2 - ETA: 11:2 - ETA: 11:2 - ETA: 11:2 - ETA: 11:2 - ETA: 11:2 - ETA: 11:2 - ETA: 11:2 - ETA: 11:2 - ETA: 11:2 - ETA: 11:2 - ETA: 11:2 - ETA: 11:2 - ETA: 11:2 - ETA: 11:2 - ETA: 11:2 - ETA: 11:2 - ETA: 11:2 - ETA: 11:2 - ETA: 11:2 - ETA: 11:2 - ETA: 11:2 - ETA: 11:2 - ETA: 11:2 - ETA: 11:2 - ETA: 11:2 - ETA: 11:2 - ETA: 11:2 - ETA: 11:2 - ETA: 11:2 - ETA: 11:2 - ETA: 11:2 - ETA: 11:2 - ETA: 11:2 - ETA: 11:2 - ETA: 11:2 - ETA: 11:2 - ETA: 11:2 - ETA: 11:2 - ETA: 11:2 - ETA: 11:2 - ETA: 11:2 - ETA: 11:1 - ETA: 11:1 - ETA: 11:1 - ETA: 11:1 - ETA: 11:1 - ETA: 11:1 - ETA: 11:1 - ETA: 11:1 - ETA: 11:1 - ETA: 11:1 - ETA: 11:1 - ETA: 11:1 - ETA: 11:1 - ETA: 11:1 - ETA: 11:1 - ETA: 11:1 - ETA: 11:1 - ETA: 11:1 - ETA: 11:1 - ETA: 11:1 - ETA: 11:1 - ETA: 11:1 - ETA: 11:1 - ETA: 11:1 - ETA: 11:1 - ETA: 11:1 - ETA: 11:1 - ETA: 11:1 - ETA: 11:1 - ETA: 11:1 - ETA: 11:1 - ETA: 11:1 - ETA: 11:1 - ETA: 11:1 - ETA: 11:1 - ETA: 11:1 - ETA: 11:1 - ETA: 11:1 - ETA: 11:1 - ETA: 11:1 - ETA: 11:1 - ETA: 11:1 - ETA: 11:1 - ETA: 11:1 - ETA: 11:1 - ETA: 11:1 - ETA: 11:1 - ETA: 11:1 - ETA: 11:1 - ETA: 11:1 - ETA: 11:1 - ETA: 11:1 - ETA: 11:1 - ETA: 11:1 - ETA: 11:1 - ETA: 11:1 - ETA: 11:1 - ETA: 11:1 - ETA: 11:1 - ETA: 11:1 - ETA: 11:1 - ETA: 11:1 - ETA: 11:1 - ETA: 11:1 - ETA: 11:1 - ETA: 11:1 - ETA: 11:1 - ETA: 11:1 - ETA: 11:1 - ETA: 11:1 - ETA: 11:1 - ETA: 11:1 - ETA: 11:1 - ETA: 11:1 - ETA: 11:0 - ETA: 11:0 - ETA: 11:0 - ETA: 11:0 - ETA: 11:0 - ETA: 11:0 - ETA: 11:0 - ETA: 11:0 - ETA: 11:0 - ETA: 11:0 - ETA: 11:0 - ETA: 11:0 - ETA: 11:0 - ETA: 11:0 - ETA: 11:0 - ETA: 11:0 - ETA: 11:0 - ETA: 11:0 - ETA: 11:0 - ETA: 11:0 - ETA: 11:0 - ETA: 11:0 - ETA: 11:0 - ETA: 11:0 - ETA: 11:0 - ETA: 11:0 - ETA: 11:0 - ETA: 11:0 - ETA: 11:0 - ETA: 11:0 - ETA: 11:0 - ETA: 11:0 - ETA: 11:0 - ETA: 11:0 - ETA: 11:0 - ETA: 11:0 - ETA: 11:0 - ETA: 11:0 - ETA: 11:0 - ETA: 11:0 - ETA: 11:0 - ETA: 11:0 - ETA: 11:0 - ETA: 11:0 - ETA: 11:0 - ETA: 11:0 - ETA: 11:0 - ETA: 11:0 - ETA: 11:0 - ETA: 11:0 - ETA: 11:0 - ETA: 11:0 - ETA: 11:0 - ETA: 11:0 - ETA: 11:0 - ETA: 11:0 - ETA: 11:0 - ETA: 11:0 - ETA: 11:0 - ETA: 11:0 - ETA: 11:0 - ETA: 11:0 - ETA: 11:0 - ETA: 11:0 - ETA: 11:0 - ETA: 11:0 - ETA: 11:0 - ETA: 11:0 - ETA: 11:0 - ETA: 11:0 - ETA: 11:0 - ETA: 11:0 - ETA: 11:0 - ETA: 11:0 - ETA: 11:0 - ETA: 11:0 - ETA: 11:0 - ETA: 11:0 - ETA: 11:0 - ETA: 11:0 - ETA: 11:0 - ETA: 11:0 - ETA: 11:0 - ETA: 10:5 - ETA: 10:5 - ETA: 10:5 - ETA: 10:5 - ETA: 10:5 - ETA: 10:5 - ETA: 10:5 - ETA: 10:5 - ETA: 10:5 - ETA: 10:5 - ETA: 10:5 - ETA: 10:5 - ETA: 10:5 - ETA: 10:5 - ETA: 10:5 - ETA: 10:5 - ETA: 10:5 - ETA: 10:5 - ETA: 10:5 - ETA: 10:5 - ETA: 10:5 - ETA: 10:5 - ETA: 10:5 - ETA: 10:5 - ETA: 10:5 - ETA: 10:5 - ETA: 10:5 - ETA: 10:5 - ETA: 10:5 - ETA: 10:5 - ETA: 10:5 - ETA: 10:5 - ETA: 10:5 - ETA: 10:5 - ETA: 10:5 - ETA: 10:5 - ETA: 10:5 - ETA: 10:5 - ETA: 10:5 - ETA: 10:5 - ETA: 10:5 - ETA: 10:5 - ETA: 10:5 - ETA: 10:5 - ETA: 10:5 - ETA: 10:5 - ETA: 10:5 - ETA: 10:5 - ETA: 10:5 - ETA: 10:5 - ETA: 10:5 - ETA: 10:5 - ETA: 10:5 - ETA: 10:5 - ETA: 10:5 - ETA: 10:5 - ETA: 10:5 - ETA: 10:5 - ETA: 10:5 - ETA: 10:5 - ETA: 10:5 - ETA: 10:5 - ETA: 10:5 - ETA: 10:5 - ETA: 10:5 - ETA: 10:5 - ETA: 10:5 - ETA: 10:5 - ETA: 10:5 - ETA: 10:5 - ETA: 10:5 - ETA: 10:5 - ETA: 10:5 - ETA: 10:5 - ETA: 10:5 - ETA: 10:5 - ETA: 10:5 - ETA: 10:5 - ETA: 10:5 - ETA: 10:5 - ETA: 10:5 - ETA: 10:5 - ETA: 10:5 - ETA: 10:5 - ETA: 10:5 - ETA: 10:5 - ETA: 10:5 - ETA: 10:5 - ETA: 10:5 - ETA: 10:4 - ETA: 10:4 - ETA: 10:4 - ETA: 10:4 - ETA: 10:4 - ETA: 10:4 - ETA: 10:4 - ETA: 10:4 - ETA: 10:4 - ETA: 10:4 - ETA: 10:4 - ETA: 10:4 - ETA: 10:4 - ETA: 10:4 - ETA: 10:4 - ETA: 10:4 - ETA: 10:4 - ETA: 10:4 - ETA: 10:4 - ETA: 10:4 - ETA: 10:4 - ETA: 10:4 - ETA: 10:4 - ETA: 10:4 - ETA: 10:4 - ETA: 10:4 - ETA: 10:4 - ETA: 10:4 - ETA: 10:4 - ETA: 10:4 - ETA: 10:4 - ETA: 10:4 - ETA: 10:4 - ETA: 10:4 - ETA: 10:4 - ETA: 10:4 - ETA: 10:4 - ETA: 10:4 - ETA: 10:4 - ETA: 10:4 - ETA: 10:4 - ETA: 10:4 - ETA: 10:4 - ETA: 10:4 - ETA: 10:4 - ETA: 10:4 - ETA: 10:4 - ETA: 10:4 - ETA: 10:4 - ETA: 10:4 - ETA: 10:4 - ETA: 10:4 - ETA: 10:4 - ETA: 10:4 - ETA: 10:4 - ETA: 10:4 - ETA: 10:4 - ETA: 10:4 - ETA: 10:4 - ETA: 10:4 - ETA: 10:4 - ETA: 10:4 - ETA: 10:4 - ETA: 10:4 - ETA: 10:4 - ETA: 10:4 - ETA: 10:4 - ETA: 10:4 - ETA: 10:4 - ETA: 10:4 - ETA: 10:4 - ETA: 10:4 - ETA: 10:4 - ETA: 10:4 - ETA: 10:4 - ETA: 10:4 - ETA: 10:4 - ETA: 10:4 - ETA: 10:4 - ETA: 10:4 - ETA: 10:4 - ETA: 10:4 - ETA: 10:4 - ETA: 10:4 - ETA: 10:4 - ETA: 10:4 - ETA: 10:4 - ETA: 10:4 - ETA: 10:4 - ETA: 10:4 - ETA: 10:4 - ETA: 10:4 - ETA: 10:4 - ETA: 10:3 - ETA: 10:3 - ETA: 10:3 - ETA: 10:3 - ETA: 10:3 - ETA: 10:3 - ETA: 10:3 - ETA: 10:3 - ETA: 10:3 - ETA: 10:3 - ETA: 10:3 - ETA: 10:3 - ETA: 10:3 - ETA: 10:3 - ETA: 10:3 - ETA: 10:3 - ETA: 10:3 - ETA: 10:3 - ETA: 10:3 - ETA: 10:3 - ETA: 10:3 - ETA: 10:36"
     ]
    },
    {
     "ename": "KeyboardInterrupt",
     "evalue": "",
     "output_type": "error",
     "traceback": [
      "\u001b[1;31m---------------------------------------------------------------------------\u001b[0m",
      "\u001b[1;31mKeyboardInterrupt\u001b[0m                         Traceback (most recent call last)",
      "\u001b[1;32m<ipython-input-72-8b33ea63e6fe>\u001b[0m in \u001b[0;36m<module>\u001b[1;34m()\u001b[0m\n\u001b[1;32m----> 1\u001b[1;33m \u001b[0mvggface\u001b[0m \u001b[1;33m=\u001b[0m \u001b[0mVGGFace\u001b[0m\u001b[1;33m(\u001b[0m\u001b[0mmodel\u001b[0m\u001b[1;33m=\u001b[0m\u001b[1;34m'vgg16'\u001b[0m\u001b[1;33m)\u001b[0m\u001b[1;33m\u001b[0m\u001b[0m\n\u001b[0m",
      "\u001b[1;32m~\\Anaconda3\\lib\\site-packages\\keras_vggface\\vggface.py\u001b[0m in \u001b[0;36mVGGFace\u001b[1;34m(include_top, model, weights, input_tensor, input_shape, pooling, classes)\u001b[0m\n\u001b[0;32m     79\u001b[0m                      \u001b[0minput_shape\u001b[0m\u001b[1;33m=\u001b[0m\u001b[0minput_shape\u001b[0m\u001b[1;33m,\u001b[0m \u001b[0mpooling\u001b[0m\u001b[1;33m=\u001b[0m\u001b[0mpooling\u001b[0m\u001b[1;33m,\u001b[0m\u001b[1;33m\u001b[0m\u001b[0m\n\u001b[0;32m     80\u001b[0m                      \u001b[0mweights\u001b[0m\u001b[1;33m=\u001b[0m\u001b[0mweights\u001b[0m\u001b[1;33m,\u001b[0m\u001b[1;33m\u001b[0m\u001b[0m\n\u001b[1;32m---> 81\u001b[1;33m                      classes=classes)\n\u001b[0m\u001b[0;32m     82\u001b[0m \u001b[1;33m\u001b[0m\u001b[0m\n\u001b[0;32m     83\u001b[0m \u001b[1;33m\u001b[0m\u001b[0m\n",
      "\u001b[1;32m~\\Anaconda3\\lib\\site-packages\\keras_vggface\\models.py\u001b[0m in \u001b[0;36mVGG16\u001b[1;34m(include_top, weights, input_tensor, input_shape, pooling, classes)\u001b[0m\n\u001b[0;32m    110\u001b[0m                                     \u001b[0mutils\u001b[0m\u001b[1;33m.\u001b[0m\u001b[1;33m\u001b[0m\u001b[0m\n\u001b[0;32m    111\u001b[0m                                     \u001b[0mVGG16_WEIGHTS_PATH\u001b[0m\u001b[1;33m,\u001b[0m\u001b[1;33m\u001b[0m\u001b[0m\n\u001b[1;32m--> 112\u001b[1;33m                                     cache_subdir=utils.VGGFACE_DIR)\n\u001b[0m\u001b[0;32m    113\u001b[0m         \u001b[1;32melse\u001b[0m\u001b[1;33m:\u001b[0m\u001b[1;33m\u001b[0m\u001b[0m\n\u001b[0;32m    114\u001b[0m             weights_path = get_file('rcmalli_vggface_tf_notop_vgg16.h5',\n",
      "\u001b[1;32m~\\Anaconda3\\lib\\site-packages\\keras\\utils\\data_utils.py\u001b[0m in \u001b[0;36mget_file\u001b[1;34m(fname, origin, untar, md5_hash, file_hash, cache_subdir, hash_algorithm, extract, archive_format, cache_dir)\u001b[0m\n\u001b[0;32m    220\u001b[0m         \u001b[1;32mtry\u001b[0m\u001b[1;33m:\u001b[0m\u001b[1;33m\u001b[0m\u001b[0m\n\u001b[0;32m    221\u001b[0m             \u001b[1;32mtry\u001b[0m\u001b[1;33m:\u001b[0m\u001b[1;33m\u001b[0m\u001b[0m\n\u001b[1;32m--> 222\u001b[1;33m                 \u001b[0murlretrieve\u001b[0m\u001b[1;33m(\u001b[0m\u001b[0morigin\u001b[0m\u001b[1;33m,\u001b[0m \u001b[0mfpath\u001b[0m\u001b[1;33m,\u001b[0m \u001b[0mdl_progress\u001b[0m\u001b[1;33m)\u001b[0m\u001b[1;33m\u001b[0m\u001b[0m\n\u001b[0m\u001b[0;32m    223\u001b[0m             \u001b[1;32mexcept\u001b[0m \u001b[0mURLError\u001b[0m \u001b[1;32mas\u001b[0m \u001b[0me\u001b[0m\u001b[1;33m:\u001b[0m\u001b[1;33m\u001b[0m\u001b[0m\n\u001b[0;32m    224\u001b[0m                 \u001b[1;32mraise\u001b[0m \u001b[0mException\u001b[0m\u001b[1;33m(\u001b[0m\u001b[0merror_msg\u001b[0m\u001b[1;33m.\u001b[0m\u001b[0mformat\u001b[0m\u001b[1;33m(\u001b[0m\u001b[0morigin\u001b[0m\u001b[1;33m,\u001b[0m \u001b[0me\u001b[0m\u001b[1;33m.\u001b[0m\u001b[0merrno\u001b[0m\u001b[1;33m,\u001b[0m \u001b[0me\u001b[0m\u001b[1;33m.\u001b[0m\u001b[0mreason\u001b[0m\u001b[1;33m)\u001b[0m\u001b[1;33m)\u001b[0m\u001b[1;33m\u001b[0m\u001b[0m\n",
      "\u001b[1;32m~\\Anaconda3\\lib\\urllib\\request.py\u001b[0m in \u001b[0;36murlretrieve\u001b[1;34m(url, filename, reporthook, data)\u001b[0m\n\u001b[0;32m    275\u001b[0m \u001b[1;33m\u001b[0m\u001b[0m\n\u001b[0;32m    276\u001b[0m             \u001b[1;32mwhile\u001b[0m \u001b[1;32mTrue\u001b[0m\u001b[1;33m:\u001b[0m\u001b[1;33m\u001b[0m\u001b[0m\n\u001b[1;32m--> 277\u001b[1;33m                 \u001b[0mblock\u001b[0m \u001b[1;33m=\u001b[0m \u001b[0mfp\u001b[0m\u001b[1;33m.\u001b[0m\u001b[0mread\u001b[0m\u001b[1;33m(\u001b[0m\u001b[0mbs\u001b[0m\u001b[1;33m)\u001b[0m\u001b[1;33m\u001b[0m\u001b[0m\n\u001b[0m\u001b[0;32m    278\u001b[0m                 \u001b[1;32mif\u001b[0m \u001b[1;32mnot\u001b[0m \u001b[0mblock\u001b[0m\u001b[1;33m:\u001b[0m\u001b[1;33m\u001b[0m\u001b[0m\n\u001b[0;32m    279\u001b[0m                     \u001b[1;32mbreak\u001b[0m\u001b[1;33m\u001b[0m\u001b[0m\n",
      "\u001b[1;32m~\\Anaconda3\\lib\\http\\client.py\u001b[0m in \u001b[0;36mread\u001b[1;34m(self, amt)\u001b[0m\n\u001b[0;32m    447\u001b[0m             \u001b[1;31m# Amount is given, implement using readinto\u001b[0m\u001b[1;33m\u001b[0m\u001b[1;33m\u001b[0m\u001b[0m\n\u001b[0;32m    448\u001b[0m             \u001b[0mb\u001b[0m \u001b[1;33m=\u001b[0m \u001b[0mbytearray\u001b[0m\u001b[1;33m(\u001b[0m\u001b[0mamt\u001b[0m\u001b[1;33m)\u001b[0m\u001b[1;33m\u001b[0m\u001b[0m\n\u001b[1;32m--> 449\u001b[1;33m             \u001b[0mn\u001b[0m \u001b[1;33m=\u001b[0m \u001b[0mself\u001b[0m\u001b[1;33m.\u001b[0m\u001b[0mreadinto\u001b[0m\u001b[1;33m(\u001b[0m\u001b[0mb\u001b[0m\u001b[1;33m)\u001b[0m\u001b[1;33m\u001b[0m\u001b[0m\n\u001b[0m\u001b[0;32m    450\u001b[0m             \u001b[1;32mreturn\u001b[0m \u001b[0mmemoryview\u001b[0m\u001b[1;33m(\u001b[0m\u001b[0mb\u001b[0m\u001b[1;33m)\u001b[0m\u001b[1;33m[\u001b[0m\u001b[1;33m:\u001b[0m\u001b[0mn\u001b[0m\u001b[1;33m]\u001b[0m\u001b[1;33m.\u001b[0m\u001b[0mtobytes\u001b[0m\u001b[1;33m(\u001b[0m\u001b[1;33m)\u001b[0m\u001b[1;33m\u001b[0m\u001b[0m\n\u001b[0;32m    451\u001b[0m         \u001b[1;32melse\u001b[0m\u001b[1;33m:\u001b[0m\u001b[1;33m\u001b[0m\u001b[0m\n",
      "\u001b[1;32m~\\Anaconda3\\lib\\http\\client.py\u001b[0m in \u001b[0;36mreadinto\u001b[1;34m(self, b)\u001b[0m\n\u001b[0;32m    491\u001b[0m         \u001b[1;31m# connection, and the user is reading more bytes than will be provided\u001b[0m\u001b[1;33m\u001b[0m\u001b[1;33m\u001b[0m\u001b[0m\n\u001b[0;32m    492\u001b[0m         \u001b[1;31m# (for example, reading in 1k chunks)\u001b[0m\u001b[1;33m\u001b[0m\u001b[1;33m\u001b[0m\u001b[0m\n\u001b[1;32m--> 493\u001b[1;33m         \u001b[0mn\u001b[0m \u001b[1;33m=\u001b[0m \u001b[0mself\u001b[0m\u001b[1;33m.\u001b[0m\u001b[0mfp\u001b[0m\u001b[1;33m.\u001b[0m\u001b[0mreadinto\u001b[0m\u001b[1;33m(\u001b[0m\u001b[0mb\u001b[0m\u001b[1;33m)\u001b[0m\u001b[1;33m\u001b[0m\u001b[0m\n\u001b[0m\u001b[0;32m    494\u001b[0m         \u001b[1;32mif\u001b[0m \u001b[1;32mnot\u001b[0m \u001b[0mn\u001b[0m \u001b[1;32mand\u001b[0m \u001b[0mb\u001b[0m\u001b[1;33m:\u001b[0m\u001b[1;33m\u001b[0m\u001b[0m\n\u001b[0;32m    495\u001b[0m             \u001b[1;31m# Ideally, we would raise IncompleteRead if the content-length\u001b[0m\u001b[1;33m\u001b[0m\u001b[1;33m\u001b[0m\u001b[0m\n",
      "\u001b[1;32m~\\Anaconda3\\lib\\socket.py\u001b[0m in \u001b[0;36mreadinto\u001b[1;34m(self, b)\u001b[0m\n\u001b[0;32m    584\u001b[0m         \u001b[1;32mwhile\u001b[0m \u001b[1;32mTrue\u001b[0m\u001b[1;33m:\u001b[0m\u001b[1;33m\u001b[0m\u001b[0m\n\u001b[0;32m    585\u001b[0m             \u001b[1;32mtry\u001b[0m\u001b[1;33m:\u001b[0m\u001b[1;33m\u001b[0m\u001b[0m\n\u001b[1;32m--> 586\u001b[1;33m                 \u001b[1;32mreturn\u001b[0m \u001b[0mself\u001b[0m\u001b[1;33m.\u001b[0m\u001b[0m_sock\u001b[0m\u001b[1;33m.\u001b[0m\u001b[0mrecv_into\u001b[0m\u001b[1;33m(\u001b[0m\u001b[0mb\u001b[0m\u001b[1;33m)\u001b[0m\u001b[1;33m\u001b[0m\u001b[0m\n\u001b[0m\u001b[0;32m    587\u001b[0m             \u001b[1;32mexcept\u001b[0m \u001b[0mtimeout\u001b[0m\u001b[1;33m:\u001b[0m\u001b[1;33m\u001b[0m\u001b[0m\n\u001b[0;32m    588\u001b[0m                 \u001b[0mself\u001b[0m\u001b[1;33m.\u001b[0m\u001b[0m_timeout_occurred\u001b[0m \u001b[1;33m=\u001b[0m \u001b[1;32mTrue\u001b[0m\u001b[1;33m\u001b[0m\u001b[0m\n",
      "\u001b[1;32m~\\Anaconda3\\lib\\ssl.py\u001b[0m in \u001b[0;36mrecv_into\u001b[1;34m(self, buffer, nbytes, flags)\u001b[0m\n\u001b[0;32m   1007\u001b[0m                   \u001b[1;34m\"non-zero flags not allowed in calls to recv_into() on %s\"\u001b[0m \u001b[1;33m%\u001b[0m\u001b[1;33m\u001b[0m\u001b[0m\n\u001b[0;32m   1008\u001b[0m                   self.__class__)\n\u001b[1;32m-> 1009\u001b[1;33m             \u001b[1;32mreturn\u001b[0m \u001b[0mself\u001b[0m\u001b[1;33m.\u001b[0m\u001b[0mread\u001b[0m\u001b[1;33m(\u001b[0m\u001b[0mnbytes\u001b[0m\u001b[1;33m,\u001b[0m \u001b[0mbuffer\u001b[0m\u001b[1;33m)\u001b[0m\u001b[1;33m\u001b[0m\u001b[0m\n\u001b[0m\u001b[0;32m   1010\u001b[0m         \u001b[1;32melse\u001b[0m\u001b[1;33m:\u001b[0m\u001b[1;33m\u001b[0m\u001b[0m\n\u001b[0;32m   1011\u001b[0m             \u001b[1;32mreturn\u001b[0m \u001b[0msocket\u001b[0m\u001b[1;33m.\u001b[0m\u001b[0mrecv_into\u001b[0m\u001b[1;33m(\u001b[0m\u001b[0mself\u001b[0m\u001b[1;33m,\u001b[0m \u001b[0mbuffer\u001b[0m\u001b[1;33m,\u001b[0m \u001b[0mnbytes\u001b[0m\u001b[1;33m,\u001b[0m \u001b[0mflags\u001b[0m\u001b[1;33m)\u001b[0m\u001b[1;33m\u001b[0m\u001b[0m\n",
      "\u001b[1;32m~\\Anaconda3\\lib\\ssl.py\u001b[0m in \u001b[0;36mread\u001b[1;34m(self, len, buffer)\u001b[0m\n\u001b[0;32m    869\u001b[0m             \u001b[1;32mraise\u001b[0m \u001b[0mValueError\u001b[0m\u001b[1;33m(\u001b[0m\u001b[1;34m\"Read on closed or unwrapped SSL socket.\"\u001b[0m\u001b[1;33m)\u001b[0m\u001b[1;33m\u001b[0m\u001b[0m\n\u001b[0;32m    870\u001b[0m         \u001b[1;32mtry\u001b[0m\u001b[1;33m:\u001b[0m\u001b[1;33m\u001b[0m\u001b[0m\n\u001b[1;32m--> 871\u001b[1;33m             \u001b[1;32mreturn\u001b[0m \u001b[0mself\u001b[0m\u001b[1;33m.\u001b[0m\u001b[0m_sslobj\u001b[0m\u001b[1;33m.\u001b[0m\u001b[0mread\u001b[0m\u001b[1;33m(\u001b[0m\u001b[0mlen\u001b[0m\u001b[1;33m,\u001b[0m \u001b[0mbuffer\u001b[0m\u001b[1;33m)\u001b[0m\u001b[1;33m\u001b[0m\u001b[0m\n\u001b[0m\u001b[0;32m    872\u001b[0m         \u001b[1;32mexcept\u001b[0m \u001b[0mSSLError\u001b[0m \u001b[1;32mas\u001b[0m \u001b[0mx\u001b[0m\u001b[1;33m:\u001b[0m\u001b[1;33m\u001b[0m\u001b[0m\n\u001b[0;32m    873\u001b[0m             \u001b[1;32mif\u001b[0m \u001b[0mx\u001b[0m\u001b[1;33m.\u001b[0m\u001b[0margs\u001b[0m\u001b[1;33m[\u001b[0m\u001b[1;36m0\u001b[0m\u001b[1;33m]\u001b[0m \u001b[1;33m==\u001b[0m \u001b[0mSSL_ERROR_EOF\u001b[0m \u001b[1;32mand\u001b[0m \u001b[0mself\u001b[0m\u001b[1;33m.\u001b[0m\u001b[0msuppress_ragged_eofs\u001b[0m\u001b[1;33m:\u001b[0m\u001b[1;33m\u001b[0m\u001b[0m\n",
      "\u001b[1;32m~\\Anaconda3\\lib\\ssl.py\u001b[0m in \u001b[0;36mread\u001b[1;34m(self, len, buffer)\u001b[0m\n\u001b[0;32m    629\u001b[0m         \"\"\"\n\u001b[0;32m    630\u001b[0m         \u001b[1;32mif\u001b[0m \u001b[0mbuffer\u001b[0m \u001b[1;32mis\u001b[0m \u001b[1;32mnot\u001b[0m \u001b[1;32mNone\u001b[0m\u001b[1;33m:\u001b[0m\u001b[1;33m\u001b[0m\u001b[0m\n\u001b[1;32m--> 631\u001b[1;33m             \u001b[0mv\u001b[0m \u001b[1;33m=\u001b[0m \u001b[0mself\u001b[0m\u001b[1;33m.\u001b[0m\u001b[0m_sslobj\u001b[0m\u001b[1;33m.\u001b[0m\u001b[0mread\u001b[0m\u001b[1;33m(\u001b[0m\u001b[0mlen\u001b[0m\u001b[1;33m,\u001b[0m \u001b[0mbuffer\u001b[0m\u001b[1;33m)\u001b[0m\u001b[1;33m\u001b[0m\u001b[0m\n\u001b[0m\u001b[0;32m    632\u001b[0m         \u001b[1;32melse\u001b[0m\u001b[1;33m:\u001b[0m\u001b[1;33m\u001b[0m\u001b[0m\n\u001b[0;32m    633\u001b[0m             \u001b[0mv\u001b[0m \u001b[1;33m=\u001b[0m \u001b[0mself\u001b[0m\u001b[1;33m.\u001b[0m\u001b[0m_sslobj\u001b[0m\u001b[1;33m.\u001b[0m\u001b[0mread\u001b[0m\u001b[1;33m(\u001b[0m\u001b[0mlen\u001b[0m\u001b[1;33m)\u001b[0m\u001b[1;33m\u001b[0m\u001b[0m\n",
      "\u001b[1;31mKeyboardInterrupt\u001b[0m: "
     ]
    }
   ],
   "source": [
    "vggface = VGGFace(model='vgg16')"
   ]
  },
  {
   "cell_type": "code",
   "execution_count": null,
   "metadata": {},
   "outputs": [],
   "source": [
    "train_tensors.shape"
   ]
  },
  {
   "cell_type": "code",
   "execution_count": 12,
   "metadata": {},
   "outputs": [
    {
     "ename": "ValueError",
     "evalue": "The `weights` argument should be either `None` (random initialization), `imagenet` (pre-training on ImageNet), or the path to the weights file to be loaded.",
     "output_type": "error",
     "traceback": [
      "\u001b[1;31m---------------------------------------------------------------------------\u001b[0m",
      "\u001b[1;31mValueError\u001b[0m                                Traceback (most recent call last)",
      "\u001b[1;32m<ipython-input-12-1a351ffc8393>\u001b[0m in \u001b[0;36m<module>\u001b[1;34m()\u001b[0m\n\u001b[1;32m----> 1\u001b[1;33m \u001b[0mtraining\u001b[0m \u001b[1;33m=\u001b[0m \u001b[0mextract_InceptionV3\u001b[0m\u001b[1;33m(\u001b[0m\u001b[0mtrain_tensors\u001b[0m\u001b[1;33m)\u001b[0m\u001b[1;33m\u001b[0m\u001b[0m\n\u001b[0m",
      "\u001b[1;32m<ipython-input-11-11f63fd66da9>\u001b[0m in \u001b[0;36mextract_InceptionV3\u001b[1;34m(tensor)\u001b[0m\n\u001b[0;32m      1\u001b[0m \u001b[1;32mdef\u001b[0m \u001b[0mextract_InceptionV3\u001b[0m\u001b[1;33m(\u001b[0m\u001b[0mtensor\u001b[0m\u001b[1;33m)\u001b[0m\u001b[1;33m:\u001b[0m\u001b[1;33m\u001b[0m\u001b[0m\n\u001b[0;32m      2\u001b[0m     \u001b[1;32mfrom\u001b[0m \u001b[0mkeras\u001b[0m\u001b[1;33m.\u001b[0m\u001b[0mapplications\u001b[0m\u001b[1;33m.\u001b[0m\u001b[0minception_v3\u001b[0m \u001b[1;32mimport\u001b[0m \u001b[0mInceptionV3\u001b[0m\u001b[1;33m,\u001b[0m \u001b[0mpreprocess_input\u001b[0m\u001b[1;33m\u001b[0m\u001b[0m\n\u001b[1;32m----> 3\u001b[1;33m     \u001b[1;32mreturn\u001b[0m \u001b[0mInceptionV3\u001b[0m\u001b[1;33m(\u001b[0m\u001b[0mweights\u001b[0m\u001b[1;33m=\u001b[0m\u001b[1;34m'lfw'\u001b[0m\u001b[1;33m,\u001b[0m \u001b[0minclude_top\u001b[0m\u001b[1;33m=\u001b[0m\u001b[1;32mFalse\u001b[0m\u001b[1;33m)\u001b[0m\u001b[1;33m.\u001b[0m\u001b[0mpredict\u001b[0m\u001b[1;33m(\u001b[0m\u001b[0mpreprocess_input\u001b[0m\u001b[1;33m(\u001b[0m\u001b[0mtensor\u001b[0m\u001b[1;33m)\u001b[0m\u001b[1;33m)\u001b[0m\u001b[1;33m\u001b[0m\u001b[0m\n\u001b[0m",
      "\u001b[1;32m~\\Anaconda3\\lib\\site-packages\\keras_applications\\inception_v3.py\u001b[0m in \u001b[0;36mInceptionV3\u001b[1;34m(include_top, weights, input_tensor, input_shape, pooling, classes)\u001b[0m\n\u001b[0;32m    134\u001b[0m     \"\"\"\n\u001b[0;32m    135\u001b[0m     \u001b[1;32mif\u001b[0m \u001b[1;32mnot\u001b[0m \u001b[1;33m(\u001b[0m\u001b[0mweights\u001b[0m \u001b[1;32min\u001b[0m \u001b[1;33m{\u001b[0m\u001b[1;34m'imagenet'\u001b[0m\u001b[1;33m,\u001b[0m \u001b[1;32mNone\u001b[0m\u001b[1;33m}\u001b[0m \u001b[1;32mor\u001b[0m \u001b[0mos\u001b[0m\u001b[1;33m.\u001b[0m\u001b[0mpath\u001b[0m\u001b[1;33m.\u001b[0m\u001b[0mexists\u001b[0m\u001b[1;33m(\u001b[0m\u001b[0mweights\u001b[0m\u001b[1;33m)\u001b[0m\u001b[1;33m)\u001b[0m\u001b[1;33m:\u001b[0m\u001b[1;33m\u001b[0m\u001b[0m\n\u001b[1;32m--> 136\u001b[1;33m         raise ValueError('The `weights` argument should be either '\n\u001b[0m\u001b[0;32m    137\u001b[0m                          \u001b[1;34m'`None` (random initialization), `imagenet` '\u001b[0m\u001b[1;33m\u001b[0m\u001b[0m\n\u001b[0;32m    138\u001b[0m                          \u001b[1;34m'(pre-training on ImageNet), '\u001b[0m\u001b[1;33m\u001b[0m\u001b[0m\n",
      "\u001b[1;31mValueError\u001b[0m: The `weights` argument should be either `None` (random initialization), `imagenet` (pre-training on ImageNet), or the path to the weights file to be loaded."
     ]
    }
   ],
   "source": [
    "training = extract_InceptionV3(train_tensors)"
   ]
  },
  {
   "cell_type": "code",
   "execution_count": 47,
   "metadata": {},
   "outputs": [
    {
     "data": {
      "text/plain": [
       "(72, 5, 5, 2048)"
      ]
     },
     "execution_count": 47,
     "metadata": {},
     "output_type": "execute_result"
    }
   ],
   "source": [
    "training.shape"
   ]
  },
  {
   "cell_type": "code",
   "execution_count": 48,
   "metadata": {},
   "outputs": [
    {
     "data": {
      "text/plain": [
       "165302"
      ]
     },
     "execution_count": 48,
     "metadata": {},
     "output_type": "execute_result"
    }
   ],
   "source": [
    "import gc\n",
    "gc.collect()"
   ]
  },
  {
   "cell_type": "code",
   "execution_count": 49,
   "metadata": {},
   "outputs": [],
   "source": [
    "from keras.layers import Conv2D, MaxPooling2D, GlobalAveragePooling2D\n",
    "from keras.layers import Dropout, Flatten, Dense\n",
    "from keras.models import Sequential\n",
    "Inception_model = Sequential()"
   ]
  },
  {
   "cell_type": "code",
   "execution_count": 50,
   "metadata": {},
   "outputs": [],
   "source": [
    "Inception_model = Sequential()\n",
    "Inception_model.add(GlobalAveragePooling2D(input_shape=training.shape[1:]))\n",
    "#Inception_model.add(Dense(5,activation='relu'))\n",
    "#Inception_model.add(Dropout(0.3))\n",
    "Inception_model.add(Dense(5, activation='softmax'))\n"
   ]
  },
  {
   "cell_type": "code",
   "execution_count": 51,
   "metadata": {},
   "outputs": [
    {
     "name": "stdout",
     "output_type": "stream",
     "text": [
      "_________________________________________________________________\n",
      "Layer (type)                 Output Shape              Param #   \n",
      "=================================================================\n",
      "global_average_pooling2d_3 ( (None, 2048)              0         \n",
      "_________________________________________________________________\n",
      "dense_4 (Dense)              (None, 5)                 10245     \n",
      "=================================================================\n",
      "Total params: 10,245\n",
      "Trainable params: 10,245\n",
      "Non-trainable params: 0\n",
      "_________________________________________________________________\n"
     ]
    }
   ],
   "source": [
    "Inception_model.summary()"
   ]
  },
  {
   "cell_type": "code",
   "execution_count": 52,
   "metadata": {},
   "outputs": [],
   "source": [
    "Inception_model.compile(loss = 'categorical_crossentropy',optimizer = 'sgd', metrics = ['accuracy'])"
   ]
  },
  {
   "cell_type": "code",
   "execution_count": 53,
   "metadata": {},
   "outputs": [
    {
     "name": "stdout",
     "output_type": "stream",
     "text": [
      "Epoch 1/500\n",
      "72/72 [==============================] - ETA: 0s - loss: 1.6011 - acc: 0.265 - 2s 29ms/step - loss: 1.6037 - acc: 0.2500\n",
      "Epoch 2/500\n",
      "72/72 [==============================] - ETA: 0s - loss: 1.5858 - acc: 0.281 - 0s 569us/step - loss: 1.5975 - acc: 0.2639\n",
      "Epoch 3/500\n",
      "72/72 [==============================] - ETA: 0s - loss: 1.5885 - acc: 0.234 - 0s 625us/step - loss: 1.5939 - acc: 0.2083\n",
      "Epoch 4/500\n",
      "72/72 [==============================] - ETA: 0s - loss: 1.6071 - acc: 0.156 - 0s 486us/step - loss: 1.6009 - acc: 0.1806\n",
      "Epoch 5/500\n",
      "72/72 [==============================] - ETA: 0s - loss: 1.6016 - acc: 0.296 - 0s 569us/step - loss: 1.6011 - acc: 0.2778\n",
      "Epoch 6/500\n",
      "72/72 [==============================] - ETA: 0s - loss: 1.6051 - acc: 0.265 - 0s 527us/step - loss: 1.5985 - acc: 0.2778\n",
      "Epoch 7/500\n",
      "72/72 [==============================] - ETA: 0s - loss: 1.5762 - acc: 0.296 - 0s 486us/step - loss: 1.5908 - acc: 0.2917\n",
      "Epoch 8/500\n",
      "72/72 [==============================] - ETA: 0s - loss: 1.5717 - acc: 0.281 - 0s 555us/step - loss: 1.5718 - acc: 0.2778\n",
      "Epoch 9/500\n",
      "72/72 [==============================] - ETA: 0s - loss: 1.5666 - acc: 0.343 - 0s 472us/step - loss: 1.5718 - acc: 0.3194\n",
      "Epoch 10/500\n",
      "72/72 [==============================] - ETA: 0s - loss: 1.5704 - acc: 0.281 - 0s 583us/step - loss: 1.5705 - acc: 0.2639\n",
      "Epoch 11/500\n",
      "72/72 [==============================] - ETA: 0s - loss: 1.5728 - acc: 0.187 - 0s 555us/step - loss: 1.5733 - acc: 0.1944\n",
      "Epoch 12/500\n",
      "72/72 [==============================] - ETA: 0s - loss: 1.5632 - acc: 0.281 - 0s 541us/step - loss: 1.5644 - acc: 0.2778\n",
      "Epoch 13/500\n",
      "72/72 [==============================] - ETA: 0s - loss: 1.5550 - acc: 0.343 - 0s 527us/step - loss: 1.5554 - acc: 0.3472\n",
      "Epoch 14/500\n",
      "72/72 [==============================] - ETA: 0s - loss: 1.5498 - acc: 0.343 - 0s 527us/step - loss: 1.5540 - acc: 0.3472\n",
      "Epoch 15/500\n",
      "72/72 [==============================] - ETA: 0s - loss: 1.5519 - acc: 0.296 - 0s 541us/step - loss: 1.5564 - acc: 0.2917\n",
      "Epoch 16/500\n",
      "72/72 [==============================] - ETA: 0s - loss: 1.5526 - acc: 0.312 - 0s 583us/step - loss: 1.5514 - acc: 0.3056\n",
      "Epoch 17/500\n",
      "72/72 [==============================] - ETA: 0s - loss: 1.5484 - acc: 0.359 - 0s 500us/step - loss: 1.5491 - acc: 0.3472\n",
      "Epoch 18/500\n",
      "72/72 [==============================] - ETA: 0s - loss: 1.5467 - acc: 0.343 - 0s 583us/step - loss: 1.5429 - acc: 0.3472\n",
      "Epoch 19/500\n",
      "72/72 [==============================] - ETA: 0s - loss: 1.5452 - acc: 0.328 - 0s 541us/step - loss: 1.5435 - acc: 0.3194\n",
      "Epoch 20/500\n",
      "72/72 [==============================] - ETA: 0s - loss: 1.5653 - acc: 0.343 - 0s 583us/step - loss: 1.5493 - acc: 0.3611\n",
      "Epoch 21/500\n",
      "72/72 [==============================] - ETA: 0s - loss: 1.5478 - acc: 0.343 - 0s 541us/step - loss: 1.5532 - acc: 0.3611\n",
      "Epoch 22/500\n",
      "72/72 [==============================] - ETA: 0s - loss: 1.5406 - acc: 0.312 - 0s 597us/step - loss: 1.5432 - acc: 0.3056\n",
      "Epoch 23/500\n",
      "72/72 [==============================] - ETA: 0s - loss: 1.5144 - acc: 0.359 - 0s 555us/step - loss: 1.5364 - acc: 0.3333\n",
      "Epoch 24/500\n",
      "72/72 [==============================] - ETA: 0s - loss: 1.5464 - acc: 0.312 - 0s 527us/step - loss: 1.5339 - acc: 0.3472\n",
      "Epoch 25/500\n",
      "72/72 [==============================] - ETA: 0s - loss: 1.5365 - acc: 0.312 - 0s 527us/step - loss: 1.5305 - acc: 0.3194\n",
      "Epoch 26/500\n",
      "72/72 [==============================] - ETA: 0s - loss: 1.5395 - acc: 0.328 - 0s 555us/step - loss: 1.5292 - acc: 0.3333\n",
      "Epoch 27/500\n",
      "72/72 [==============================] - ETA: 0s - loss: 1.5142 - acc: 0.328 - 0s 542us/step - loss: 1.5282 - acc: 0.3194\n",
      "Epoch 28/500\n",
      "72/72 [==============================] - ETA: 0s - loss: 1.5151 - acc: 0.359 - 0s 583us/step - loss: 1.5176 - acc: 0.3611\n",
      "Epoch 29/500\n",
      "72/72 [==============================] - ETA: 0s - loss: 1.5276 - acc: 0.312 - 0s 472us/step - loss: 1.5183 - acc: 0.3333\n",
      "Epoch 30/500\n",
      "72/72 [==============================] - ETA: 0s - loss: 1.5260 - acc: 0.328 - 0s 458us/step - loss: 1.5159 - acc: 0.3472\n",
      "Epoch 31/500\n",
      "72/72 [==============================] - ETA: 0s - loss: 1.5051 - acc: 0.421 - 0s 514us/step - loss: 1.5179 - acc: 0.3889\n",
      "Epoch 32/500\n",
      "72/72 [==============================] - ETA: 0s - loss: 1.5087 - acc: 0.390 - 0s 430us/step - loss: 1.5161 - acc: 0.3889\n",
      "Epoch 33/500\n",
      "72/72 [==============================] - ETA: 0s - loss: 1.5076 - acc: 0.500 - 0s 611us/step - loss: 1.5082 - acc: 0.4583\n",
      "Epoch 34/500\n",
      "72/72 [==============================] - ETA: 0s - loss: 1.5067 - acc: 0.515 - 0s 569us/step - loss: 1.5109 - acc: 0.5000\n",
      "Epoch 35/500\n",
      "72/72 [==============================] - ETA: 0s - loss: 1.4870 - acc: 0.406 - 0s 541us/step - loss: 1.5033 - acc: 0.3889\n",
      "Epoch 36/500\n",
      "72/72 [==============================] - ETA: 0s - loss: 1.5006 - acc: 0.375 - 0s 514us/step - loss: 1.4962 - acc: 0.3889\n",
      "Epoch 37/500\n",
      "72/72 [==============================] - ETA: 0s - loss: 1.4890 - acc: 0.375 - 0s 472us/step - loss: 1.4948 - acc: 0.3611\n",
      "Epoch 38/500\n",
      "72/72 [==============================] - ETA: 0s - loss: 1.4838 - acc: 0.390 - 0s 541us/step - loss: 1.4937 - acc: 0.3750\n",
      "Epoch 39/500\n",
      "72/72 [==============================] - ETA: 0s - loss: 1.4979 - acc: 0.390 - 0s 472us/step - loss: 1.4910 - acc: 0.3889\n",
      "Epoch 40/500\n",
      "72/72 [==============================] - ETA: 0s - loss: 1.5070 - acc: 0.296 - 0s 500us/step - loss: 1.4893 - acc: 0.3472\n",
      "Epoch 41/500\n",
      "72/72 [==============================] - ETA: 0s - loss: 1.4656 - acc: 0.421 - 0s 527us/step - loss: 1.4853 - acc: 0.3889\n",
      "Epoch 42/500\n",
      "72/72 [==============================] - ETA: 0s - loss: 1.4792 - acc: 0.406 - 0s 472us/step - loss: 1.4862 - acc: 0.3750\n",
      "Epoch 43/500\n",
      "72/72 [==============================] - ETA: 0s - loss: 1.5006 - acc: 0.281 - 0s 514us/step - loss: 1.4917 - acc: 0.3056\n",
      "Epoch 44/500\n",
      "72/72 [==============================] - ETA: 0s - loss: 1.4776 - acc: 0.390 - 0s 472us/step - loss: 1.4834 - acc: 0.3889\n",
      "Epoch 45/500\n",
      "72/72 [==============================] - ETA: 0s - loss: 1.4712 - acc: 0.406 - 0s 514us/step - loss: 1.4793 - acc: 0.3889\n",
      "Epoch 46/500\n",
      "72/72 [==============================] - ETA: 0s - loss: 1.4822 - acc: 0.359 - 0s 458us/step - loss: 1.4739 - acc: 0.3750\n",
      "Epoch 47/500\n",
      "72/72 [==============================] - ETA: 0s - loss: 1.4766 - acc: 0.406 - 0s 500us/step - loss: 1.4691 - acc: 0.4167\n",
      "Epoch 48/500\n",
      "72/72 [==============================] - ETA: 0s - loss: 1.4695 - acc: 0.375 - 0s 528us/step - loss: 1.4702 - acc: 0.3750\n",
      "Epoch 49/500\n",
      "72/72 [==============================] - ETA: 0s - loss: 1.4652 - acc: 0.437 - 0s 458us/step - loss: 1.4683 - acc: 0.4028\n",
      "Epoch 50/500\n",
      "72/72 [==============================] - ETA: 0s - loss: 1.4718 - acc: 0.437 - 0s 583us/step - loss: 1.4748 - acc: 0.4167\n",
      "Epoch 51/500\n",
      "72/72 [==============================] - ETA: 0s - loss: 1.4635 - acc: 0.359 - 0s 555us/step - loss: 1.4715 - acc: 0.3472\n",
      "Epoch 52/500\n",
      "72/72 [==============================] - ETA: 0s - loss: 1.4923 - acc: 0.328 - 0s 500us/step - loss: 1.4801 - acc: 0.3472\n",
      "Epoch 53/500\n",
      "72/72 [==============================] - ETA: 0s - loss: 1.5115 - acc: 0.296 - 0s 500us/step - loss: 1.4856 - acc: 0.3472\n",
      "Epoch 54/500\n",
      "72/72 [==============================] - ETA: 0s - loss: 1.4853 - acc: 0.343 - 0s 458us/step - loss: 1.4762 - acc: 0.3472\n",
      "Epoch 55/500\n",
      "72/72 [==============================] - ETA: 0s - loss: 1.4664 - acc: 0.390 - 0s 458us/step - loss: 1.4610 - acc: 0.3889\n",
      "Epoch 56/500\n",
      "72/72 [==============================] - ETA: 0s - loss: 1.4587 - acc: 0.453 - 0s 542us/step - loss: 1.4581 - acc: 0.4722\n",
      "Epoch 57/500\n",
      "72/72 [==============================] - ETA: 0s - loss: 1.4497 - acc: 0.437 - 0s 611us/step - loss: 1.4543 - acc: 0.4444\n",
      "Epoch 58/500\n",
      "72/72 [==============================] - ETA: 0s - loss: 1.4497 - acc: 0.468 - 0s 583us/step - loss: 1.4541 - acc: 0.4722\n",
      "Epoch 59/500\n",
      "72/72 [==============================] - ETA: 0s - loss: 1.4332 - acc: 0.546 - 0s 472us/step - loss: 1.4487 - acc: 0.5000\n",
      "Epoch 60/500\n",
      "72/72 [==============================] - ETA: 0s - loss: 1.4483 - acc: 0.437 - 0s 652us/step - loss: 1.4561 - acc: 0.4306\n",
      "Epoch 61/500\n",
      "72/72 [==============================] - ETA: 0s - loss: 1.4488 - acc: 0.484 - 0s 541us/step - loss: 1.4468 - acc: 0.4861\n"
     ]
    },
    {
     "name": "stdout",
     "output_type": "stream",
     "text": [
      "Epoch 62/500\n",
      "72/72 [==============================] - ETA: 0s - loss: 1.4418 - acc: 0.531 - 0s 514us/step - loss: 1.4431 - acc: 0.5417\n",
      "Epoch 63/500\n",
      "72/72 [==============================] - ETA: 0s - loss: 1.4444 - acc: 0.421 - 0s 472us/step - loss: 1.4402 - acc: 0.4306\n",
      "Epoch 64/500\n",
      "72/72 [==============================] - ETA: 0s - loss: 1.4274 - acc: 0.562 - 0s 541us/step - loss: 1.4317 - acc: 0.5278\n",
      "Epoch 65/500\n",
      "72/72 [==============================] - ETA: 0s - loss: 1.4269 - acc: 0.500 - 0s 583us/step - loss: 1.4311 - acc: 0.5000\n",
      "Epoch 66/500\n",
      "72/72 [==============================] - ETA: 0s - loss: 1.4087 - acc: 0.453 - 0s 597us/step - loss: 1.4273 - acc: 0.4167\n",
      "Epoch 67/500\n",
      "72/72 [==============================] - ETA: 0s - loss: 1.4211 - acc: 0.453 - 0s 583us/step - loss: 1.4261 - acc: 0.4306\n",
      "Epoch 68/500\n",
      "72/72 [==============================] - ETA: 0s - loss: 1.4290 - acc: 0.500 - 0s 583us/step - loss: 1.4225 - acc: 0.5139\n",
      "Epoch 69/500\n",
      "72/72 [==============================] - ETA: 0s - loss: 1.4155 - acc: 0.453 - 0s 555us/step - loss: 1.4179 - acc: 0.4444\n",
      "Epoch 70/500\n",
      "72/72 [==============================] - ETA: 0s - loss: 1.4246 - acc: 0.437 - 0s 569us/step - loss: 1.4156 - acc: 0.4583\n",
      "Epoch 71/500\n",
      "72/72 [==============================] - ETA: 0s - loss: 1.4123 - acc: 0.437 - 0s 597us/step - loss: 1.4148 - acc: 0.4167\n",
      "Epoch 72/500\n",
      "72/72 [==============================] - ETA: 0s - loss: 1.4068 - acc: 0.484 - 0s 528us/step - loss: 1.4140 - acc: 0.4861\n",
      "Epoch 73/500\n",
      "72/72 [==============================] - ETA: 0s - loss: 1.4193 - acc: 0.531 - 0s 527us/step - loss: 1.4129 - acc: 0.5278\n",
      "Epoch 74/500\n",
      "72/72 [==============================] - ETA: 0s - loss: 1.4188 - acc: 0.531 - 0s 541us/step - loss: 1.4114 - acc: 0.5417\n",
      "Epoch 75/500\n",
      "72/72 [==============================] - ETA: 0s - loss: 1.4279 - acc: 0.421 - 0s 555us/step - loss: 1.4115 - acc: 0.4444\n",
      "Epoch 76/500\n",
      "72/72 [==============================] - ETA: 0s - loss: 1.3964 - acc: 0.437 - 0s 486us/step - loss: 1.4063 - acc: 0.4167\n",
      "Epoch 77/500\n",
      "72/72 [==============================] - ETA: 0s - loss: 1.4125 - acc: 0.468 - 0s 611us/step - loss: 1.4055 - acc: 0.4861\n",
      "Epoch 78/500\n",
      "72/72 [==============================] - ETA: 0s - loss: 1.3860 - acc: 0.468 - 0s 569us/step - loss: 1.4095 - acc: 0.4306\n",
      "Epoch 79/500\n",
      "72/72 [==============================] - ETA: 0s - loss: 1.3969 - acc: 0.500 - 0s 541us/step - loss: 1.4115 - acc: 0.4583\n",
      "Epoch 80/500\n",
      "72/72 [==============================] - ETA: 0s - loss: 1.4083 - acc: 0.468 - 0s 583us/step - loss: 1.4085 - acc: 0.4861\n",
      "Epoch 81/500\n",
      "72/72 [==============================] - ETA: 0s - loss: 1.4179 - acc: 0.500 - 0s 527us/step - loss: 1.4002 - acc: 0.5139\n",
      "Epoch 82/500\n",
      "72/72 [==============================] - ETA: 0s - loss: 1.3744 - acc: 0.562 - 0s 541us/step - loss: 1.4024 - acc: 0.5139\n",
      "Epoch 83/500\n",
      "72/72 [==============================] - ETA: 0s - loss: 1.4051 - acc: 0.500 - 0s 583us/step - loss: 1.4115 - acc: 0.4861\n",
      "Epoch 84/500\n",
      "72/72 [==============================] - ETA: 0s - loss: 1.4149 - acc: 0.359 - 0s 527us/step - loss: 1.4178 - acc: 0.3472\n",
      "Epoch 85/500\n",
      "72/72 [==============================] - ETA: 0s - loss: 1.4279 - acc: 0.359 - 0s 514us/step - loss: 1.4119 - acc: 0.4028\n",
      "Epoch 86/500\n",
      "72/72 [==============================] - ETA: 0s - loss: 1.3998 - acc: 0.437 - 0s 583us/step - loss: 1.4035 - acc: 0.4583\n",
      "Epoch 87/500\n",
      "72/72 [==============================] - ETA: 0s - loss: 1.3862 - acc: 0.484 - 0s 611us/step - loss: 1.3856 - acc: 0.5000\n",
      "Epoch 88/500\n",
      "72/72 [==============================] - ETA: 0s - loss: 1.3892 - acc: 0.578 - 0s 527us/step - loss: 1.3889 - acc: 0.5417\n",
      "Epoch 89/500\n",
      "72/72 [==============================] - ETA: 0s - loss: 1.4007 - acc: 0.500 - 0s 527us/step - loss: 1.3938 - acc: 0.5139\n",
      "Epoch 90/500\n",
      "72/72 [==============================] - ETA: 0s - loss: 1.3889 - acc: 0.500 - 0s 472us/step - loss: 1.3921 - acc: 0.5000\n",
      "Epoch 91/500\n",
      "72/72 [==============================] - ETA: 0s - loss: 1.3874 - acc: 0.578 - 0s 486us/step - loss: 1.3868 - acc: 0.5556\n",
      "Epoch 92/500\n",
      "72/72 [==============================] - ETA: 0s - loss: 1.3764 - acc: 0.468 - 0s 472us/step - loss: 1.3826 - acc: 0.4722\n",
      "Epoch 93/500\n",
      "72/72 [==============================] - ETA: 0s - loss: 1.3592 - acc: 0.468 - 0s 500us/step - loss: 1.3817 - acc: 0.4444\n",
      "Epoch 94/500\n",
      "72/72 [==============================] - ETA: 0s - loss: 1.3731 - acc: 0.562 - 0s 541us/step - loss: 1.3776 - acc: 0.5556\n",
      "Epoch 95/500\n",
      "72/72 [==============================] - ETA: 0s - loss: 1.3773 - acc: 0.515 - 0s 541us/step - loss: 1.3749 - acc: 0.5278\n",
      "Epoch 96/500\n",
      "72/72 [==============================] - ETA: 0s - loss: 1.3803 - acc: 0.468 - 0s 514us/step - loss: 1.3718 - acc: 0.4722\n",
      "Epoch 97/500\n",
      "72/72 [==============================] - ETA: 0s - loss: 1.3503 - acc: 0.531 - 0s 541us/step - loss: 1.3668 - acc: 0.5278\n",
      "Epoch 98/500\n",
      "72/72 [==============================] - ETA: 0s - loss: 1.3750 - acc: 0.578 - 0s 569us/step - loss: 1.3708 - acc: 0.5833\n",
      "Epoch 99/500\n",
      "72/72 [==============================] - ETA: 0s - loss: 1.3759 - acc: 0.546 - 0s 500us/step - loss: 1.3679 - acc: 0.5556\n",
      "Epoch 100/500\n",
      "72/72 [==============================] - ETA: 0s - loss: 1.3665 - acc: 0.546 - 0s 541us/step - loss: 1.3633 - acc: 0.5417\n",
      "Epoch 101/500\n",
      "72/72 [==============================] - ETA: 0s - loss: 1.3690 - acc: 0.500 - 0s 527us/step - loss: 1.3618 - acc: 0.5000\n",
      "Epoch 102/500\n",
      "72/72 [==============================] - ETA: 0s - loss: 1.3351 - acc: 0.515 - 0s 541us/step - loss: 1.3576 - acc: 0.5000\n",
      "Epoch 103/500\n",
      "72/72 [==============================] - ETA: 0s - loss: 1.3627 - acc: 0.500 - 0s 527us/step - loss: 1.3581 - acc: 0.5139\n",
      "Epoch 104/500\n",
      "72/72 [==============================] - ETA: 0s - loss: 1.3661 - acc: 0.500 - 0s 527us/step - loss: 1.3627 - acc: 0.5278\n",
      "Epoch 105/500\n",
      "72/72 [==============================] - ETA: 0s - loss: 1.3576 - acc: 0.531 - 0s 486us/step - loss: 1.3675 - acc: 0.5000\n",
      "Epoch 106/500\n",
      "72/72 [==============================] - ETA: 0s - loss: 1.3650 - acc: 0.546 - 0s 486us/step - loss: 1.3560 - acc: 0.5556\n",
      "Epoch 107/500\n",
      "72/72 [==============================] - ETA: 0s - loss: 1.3508 - acc: 0.515 - 0s 555us/step - loss: 1.3535 - acc: 0.5417\n",
      "Epoch 108/500\n",
      "72/72 [==============================] - ETA: 0s - loss: 1.3333 - acc: 0.453 - 0s 527us/step - loss: 1.3559 - acc: 0.4306\n",
      "Epoch 109/500\n",
      "72/72 [==============================] - ETA: 0s - loss: 1.3400 - acc: 0.468 - 0s 458us/step - loss: 1.3525 - acc: 0.4583\n",
      "Epoch 110/500\n",
      "72/72 [==============================] - ETA: 0s - loss: 1.3562 - acc: 0.468 - 0s 500us/step - loss: 1.3487 - acc: 0.4861\n",
      "Epoch 111/500\n",
      "72/72 [==============================] - ETA: 0s - loss: 1.3688 - acc: 0.421 - 0s 458us/step - loss: 1.3511 - acc: 0.4444\n",
      "Epoch 112/500\n",
      "72/72 [==============================] - ETA: 0s - loss: 1.3420 - acc: 0.421 - 0s 527us/step - loss: 1.3511 - acc: 0.4167\n",
      "Epoch 113/500\n",
      "72/72 [==============================] - ETA: 0s - loss: 1.3591 - acc: 0.421 - 0s 472us/step - loss: 1.3454 - acc: 0.4444\n",
      "Epoch 114/500\n",
      "72/72 [==============================] - ETA: 0s - loss: 1.3629 - acc: 0.421 - 0s 527us/step - loss: 1.3503 - acc: 0.4444\n",
      "Epoch 115/500\n",
      "72/72 [==============================] - ETA: 0s - loss: 1.3562 - acc: 0.406 - 0s 750us/step - loss: 1.3506 - acc: 0.4167\n",
      "Epoch 116/500\n",
      "72/72 [==============================] - ETA: 0s - loss: 1.3127 - acc: 0.453 - 0s 514us/step - loss: 1.3405 - acc: 0.4306\n",
      "Epoch 117/500\n",
      "72/72 [==============================] - ETA: 0s - loss: 1.3448 - acc: 0.500 - 0s 555us/step - loss: 1.3407 - acc: 0.5000\n",
      "Epoch 118/500\n",
      "72/72 [==============================] - ETA: 0s - loss: 1.3262 - acc: 0.484 - 0s 486us/step - loss: 1.3366 - acc: 0.4861\n",
      "Epoch 119/500\n",
      "72/72 [==============================] - ETA: 0s - loss: 1.3459 - acc: 0.406 - 0s 569us/step - loss: 1.3389 - acc: 0.4167\n",
      "Epoch 120/500\n",
      "72/72 [==============================] - ETA: 0s - loss: 1.3487 - acc: 0.421 - 0s 541us/step - loss: 1.3395 - acc: 0.4444\n",
      "Epoch 121/500\n",
      "72/72 [==============================] - ETA: 0s - loss: 1.3038 - acc: 0.484 - 0s 527us/step - loss: 1.3346 - acc: 0.4306\n",
      "Epoch 122/500\n",
      "72/72 [==============================] - ETA: 0s - loss: 1.3442 - acc: 0.625 - 0s 500us/step - loss: 1.3324 - acc: 0.6389\n",
      "Epoch 123/500\n",
      "72/72 [==============================] - ETA: 0s - loss: 1.3291 - acc: 0.562 - 0s 541us/step - loss: 1.3255 - acc: 0.5556\n",
      "Epoch 124/500\n",
      "72/72 [==============================] - ETA: 0s - loss: 1.3397 - acc: 0.593 - 0s 514us/step - loss: 1.3249 - acc: 0.6111\n",
      "Epoch 125/500\n",
      "72/72 [==============================] - ETA: 0s - loss: 1.3073 - acc: 0.609 - 0s 527us/step - loss: 1.3228 - acc: 0.5972\n",
      "Epoch 126/500\n",
      "72/72 [==============================] - ETA: 0s - loss: 1.3025 - acc: 0.593 - 0s 555us/step - loss: 1.3255 - acc: 0.5556\n",
      "Epoch 127/500\n",
      "72/72 [==============================] - ETA: 0s - loss: 1.3102 - acc: 0.640 - 0s 541us/step - loss: 1.3229 - acc: 0.6250\n",
      "Epoch 128/500\n",
      "72/72 [==============================] - ETA: 0s - loss: 1.3146 - acc: 0.625 - 0s 541us/step - loss: 1.3197 - acc: 0.6111\n",
      "Epoch 129/500\n",
      "72/72 [==============================] - ETA: 0s - loss: 1.3211 - acc: 0.578 - 0s 583us/step - loss: 1.3187 - acc: 0.5833\n",
      "Epoch 130/500\n",
      "72/72 [==============================] - ETA: 0s - loss: 1.3282 - acc: 0.609 - 0s 555us/step - loss: 1.3216 - acc: 0.5972\n",
      "Epoch 131/500\n",
      "72/72 [==============================] - ETA: 0s - loss: 1.2986 - acc: 0.625 - 0s 583us/step - loss: 1.3155 - acc: 0.6250\n",
      "Epoch 132/500\n",
      "72/72 [==============================] - ETA: 0s - loss: 1.3046 - acc: 0.656 - 0s 722us/step - loss: 1.3129 - acc: 0.6528\n",
      "Epoch 133/500\n",
      "72/72 [==============================] - ETA: 0s - loss: 1.3140 - acc: 0.578 - 0s 583us/step - loss: 1.3105 - acc: 0.5972\n",
      "Epoch 134/500\n",
      "72/72 [==============================] - ETA: 0s - loss: 1.2956 - acc: 0.609 - 0s 528us/step - loss: 1.3081 - acc: 0.5833\n",
      "Epoch 135/500\n",
      "72/72 [==============================] - ETA: 0s - loss: 1.2904 - acc: 0.671 - 0s 638us/step - loss: 1.3095 - acc: 0.6250\n",
      "Epoch 136/500\n",
      "72/72 [==============================] - ETA: 0s - loss: 1.3226 - acc: 0.562 - 0s 639us/step - loss: 1.3132 - acc: 0.5833\n",
      "Epoch 137/500\n",
      "72/72 [==============================] - ETA: 0s - loss: 1.3120 - acc: 0.546 - 0s 541us/step - loss: 1.3095 - acc: 0.5694\n",
      "Epoch 138/500\n",
      "72/72 [==============================] - ETA: 0s - loss: 1.3091 - acc: 0.531 - 0s 569us/step - loss: 1.3123 - acc: 0.5139\n",
      "Epoch 139/500\n",
      "72/72 [==============================] - ETA: 0s - loss: 1.2829 - acc: 0.593 - 0s 736us/step - loss: 1.3069 - acc: 0.5417\n",
      "Epoch 140/500\n",
      "72/72 [==============================] - ETA: 0s - loss: 1.2905 - acc: 0.625 - 0s 569us/step - loss: 1.3028 - acc: 0.6111\n",
      "Epoch 141/500\n",
      "72/72 [==============================] - ETA: 0s - loss: 1.3325 - acc: 0.625 - 0s 527us/step - loss: 1.3018 - acc: 0.6111\n",
      "Epoch 142/500\n",
      "72/72 [==============================] - ETA: 0s - loss: 1.3164 - acc: 0.609 - 0s 541us/step - loss: 1.3038 - acc: 0.6111\n",
      "Epoch 143/500\n",
      "72/72 [==============================] - ETA: 0s - loss: 1.2823 - acc: 0.625 - 0s 541us/step - loss: 1.3048 - acc: 0.6111\n",
      "Epoch 144/500\n",
      "72/72 [==============================] - ETA: 0s - loss: 1.2841 - acc: 0.656 - 0s 569us/step - loss: 1.2989 - acc: 0.6389\n",
      "Epoch 145/500\n",
      "72/72 [==============================] - ETA: 0s - loss: 1.3203 - acc: 0.640 - 0s 555us/step - loss: 1.2982 - acc: 0.6528\n",
      "Epoch 146/500\n",
      "72/72 [==============================] - ETA: 0s - loss: 1.2829 - acc: 0.593 - 0s 527us/step - loss: 1.2971 - acc: 0.5694\n",
      "Epoch 147/500\n",
      "72/72 [==============================] - ETA: 0s - loss: 1.3063 - acc: 0.562 - 0s 611us/step - loss: 1.3002 - acc: 0.5833\n",
      "Epoch 148/500\n",
      "72/72 [==============================] - ETA: 0s - loss: 1.3110 - acc: 0.546 - 0s 527us/step - loss: 1.3008 - acc: 0.5556\n",
      "Epoch 149/500\n",
      "72/72 [==============================] - ETA: 0s - loss: 1.2892 - acc: 0.546 - 0s 514us/step - loss: 1.2963 - acc: 0.5278\n",
      "Epoch 150/500\n",
      "72/72 [==============================] - ETA: 0s - loss: 1.2855 - acc: 0.593 - 0s 652us/step - loss: 1.2894 - acc: 0.5694\n",
      "Epoch 151/500\n",
      "72/72 [==============================] - ETA: 0s - loss: 1.2683 - acc: 0.609 - 0s 569us/step - loss: 1.2887 - acc: 0.6111\n",
      "Epoch 152/500\n",
      "72/72 [==============================] - ETA: 0s - loss: 1.2798 - acc: 0.640 - 0s 569us/step - loss: 1.2909 - acc: 0.5972\n",
      "Epoch 153/500\n",
      "72/72 [==============================] - ETA: 0s - loss: 1.2793 - acc: 0.578 - 0s 541us/step - loss: 1.2904 - acc: 0.5833\n",
      "Epoch 154/500\n",
      "72/72 [==============================] - ETA: 0s - loss: 1.3172 - acc: 0.515 - 0s 583us/step - loss: 1.2893 - acc: 0.5556\n",
      "Epoch 155/500\n",
      "72/72 [==============================] - ETA: 0s - loss: 1.3004 - acc: 0.500 - 0s 583us/step - loss: 1.2896 - acc: 0.5417\n",
      "Epoch 156/500\n",
      "72/72 [==============================] - ETA: 0s - loss: 1.3113 - acc: 0.421 - 0s 611us/step - loss: 1.3047 - acc: 0.4444\n",
      "Epoch 157/500\n",
      "72/72 [==============================] - ETA: 0s - loss: 1.3338 - acc: 0.390 - 0s 611us/step - loss: 1.3059 - acc: 0.4306\n",
      "Epoch 158/500\n",
      "72/72 [==============================] - ETA: 0s - loss: 1.2665 - acc: 0.453 - 0s 625us/step - loss: 1.3101 - acc: 0.4167\n",
      "Epoch 159/500\n",
      "72/72 [==============================] - ETA: 0s - loss: 1.2603 - acc: 0.531 - 0s 541us/step - loss: 1.2839 - acc: 0.5278\n",
      "Epoch 160/500\n",
      "72/72 [==============================] - ETA: 0s - loss: 1.2628 - acc: 0.562 - 0s 625us/step - loss: 1.2824 - acc: 0.5417\n",
      "Epoch 161/500\n",
      "72/72 [==============================] - ETA: 0s - loss: 1.2817 - acc: 0.546 - 0s 583us/step - loss: 1.2753 - acc: 0.5556\n",
      "Epoch 162/500\n",
      "72/72 [==============================] - ETA: 0s - loss: 1.2709 - acc: 0.609 - 0s 583us/step - loss: 1.2737 - acc: 0.5833\n",
      "Epoch 163/500\n",
      "72/72 [==============================] - ETA: 0s - loss: 1.2788 - acc: 0.625 - 0s 541us/step - loss: 1.2750 - acc: 0.6389\n",
      "Epoch 164/500\n",
      "72/72 [==============================] - ETA: 0s - loss: 1.3002 - acc: 0.562 - 0s 569us/step - loss: 1.2736 - acc: 0.5972\n",
      "Epoch 165/500\n",
      "72/72 [==============================] - ETA: 0s - loss: 1.2647 - acc: 0.625 - 0s 569us/step - loss: 1.2761 - acc: 0.6111\n",
      "Epoch 166/500\n",
      "72/72 [==============================] - ETA: 0s - loss: 1.2706 - acc: 0.593 - 0s 541us/step - loss: 1.2726 - acc: 0.5972\n",
      "Epoch 167/500\n",
      "72/72 [==============================] - ETA: 0s - loss: 1.2418 - acc: 0.625 - 0s 527us/step - loss: 1.2718 - acc: 0.5833\n",
      "Epoch 168/500\n",
      "72/72 [==============================] - ETA: 0s - loss: 1.2607 - acc: 0.640 - 0s 541us/step - loss: 1.2703 - acc: 0.6111\n",
      "Epoch 169/500\n",
      "72/72 [==============================] - ETA: 0s - loss: 1.2912 - acc: 0.578 - 0s 597us/step - loss: 1.2689 - acc: 0.6111\n",
      "Epoch 170/500\n",
      "72/72 [==============================] - ETA: 0s - loss: 1.2696 - acc: 0.609 - 0s 528us/step - loss: 1.2647 - acc: 0.6111\n",
      "Epoch 171/500\n",
      "72/72 [==============================] - ETA: 0s - loss: 1.2389 - acc: 0.609 - 0s 500us/step - loss: 1.2676 - acc: 0.5833\n",
      "Epoch 172/500\n",
      "72/72 [==============================] - ETA: 0s - loss: 1.2650 - acc: 0.578 - 0s 527us/step - loss: 1.2644 - acc: 0.5556\n",
      "Epoch 173/500\n",
      "72/72 [==============================] - ETA: 0s - loss: 1.2687 - acc: 0.609 - 0s 625us/step - loss: 1.2632 - acc: 0.5972\n",
      "Epoch 174/500\n",
      "72/72 [==============================] - ETA: 0s - loss: 1.2466 - acc: 0.640 - 0s 555us/step - loss: 1.2674 - acc: 0.5972\n",
      "Epoch 175/500\n",
      "72/72 [==============================] - ETA: 0s - loss: 1.2697 - acc: 0.625 - 0s 541us/step - loss: 1.2607 - acc: 0.6389\n",
      "Epoch 176/500\n",
      "72/72 [==============================] - ETA: 0s - loss: 1.2355 - acc: 0.625 - 0s 527us/step - loss: 1.2565 - acc: 0.6389\n",
      "Epoch 177/500\n",
      "72/72 [==============================] - ETA: 0s - loss: 1.2831 - acc: 0.578 - 0s 569us/step - loss: 1.2554 - acc: 0.6250\n",
      "Epoch 178/500\n",
      "72/72 [==============================] - ETA: 0s - loss: 1.2454 - acc: 0.578 - 0s 541us/step - loss: 1.2586 - acc: 0.5556\n",
      "Epoch 179/500\n",
      "72/72 [==============================] - ETA: 0s - loss: 1.2406 - acc: 0.671 - 0s 569us/step - loss: 1.2549 - acc: 0.6389\n",
      "Epoch 180/500\n",
      "72/72 [==============================] - ETA: 0s - loss: 1.2585 - acc: 0.625 - 0s 583us/step - loss: 1.2521 - acc: 0.6528\n",
      "Epoch 181/500\n",
      "72/72 [==============================] - ETA: 0s - loss: 1.2433 - acc: 0.578 - 0s 500us/step - loss: 1.2493 - acc: 0.5972\n",
      "Epoch 182/500\n"
     ]
    },
    {
     "name": "stdout",
     "output_type": "stream",
     "text": [
      "72/72 [==============================] - ETA: 0s - loss: 1.2603 - acc: 0.640 - 0s 569us/step - loss: 1.2509 - acc: 0.6389\n",
      "Epoch 183/500\n",
      "72/72 [==============================] - ETA: 0s - loss: 1.2648 - acc: 0.578 - 0s 569us/step - loss: 1.2540 - acc: 0.6111\n",
      "Epoch 184/500\n",
      "72/72 [==============================] - ETA: 0s - loss: 1.2621 - acc: 0.578 - 0s 541us/step - loss: 1.2548 - acc: 0.5833\n",
      "Epoch 185/500\n",
      "72/72 [==============================] - ETA: 0s - loss: 1.2351 - acc: 0.609 - 0s 541us/step - loss: 1.2567 - acc: 0.5694\n",
      "Epoch 186/500\n",
      "72/72 [==============================] - ETA: 0s - loss: 1.2419 - acc: 0.609 - 0s 569us/step - loss: 1.2461 - acc: 0.5972\n",
      "Epoch 187/500\n",
      "72/72 [==============================] - ETA: 0s - loss: 1.2320 - acc: 0.578 - 0s 541us/step - loss: 1.2464 - acc: 0.5833\n",
      "Epoch 188/500\n",
      "72/72 [==============================] - ETA: 0s - loss: 1.2440 - acc: 0.578 - 0s 555us/step - loss: 1.2474 - acc: 0.5972\n",
      "Epoch 189/500\n",
      "72/72 [==============================] - ETA: 0s - loss: 1.2619 - acc: 0.531 - 0s 541us/step - loss: 1.2469 - acc: 0.5556\n",
      "Epoch 190/500\n",
      "72/72 [==============================] - ETA: 0s - loss: 1.2254 - acc: 0.546 - 0s 514us/step - loss: 1.2499 - acc: 0.5417\n",
      "Epoch 191/500\n",
      "72/72 [==============================] - ETA: 0s - loss: 1.2381 - acc: 0.546 - 0s 541us/step - loss: 1.2443 - acc: 0.5556\n",
      "Epoch 192/500\n",
      "72/72 [==============================] - ETA: 0s - loss: 1.2472 - acc: 0.609 - 0s 652us/step - loss: 1.2409 - acc: 0.6111\n",
      "Epoch 193/500\n",
      "72/72 [==============================] - ETA: 0s - loss: 1.2440 - acc: 0.640 - 0s 514us/step - loss: 1.2418 - acc: 0.6250\n",
      "Epoch 194/500\n",
      "72/72 [==============================] - ETA: 0s - loss: 1.2291 - acc: 0.671 - 0s 611us/step - loss: 1.2398 - acc: 0.6528\n",
      "Epoch 195/500\n",
      "72/72 [==============================] - ETA: 0s - loss: 1.2498 - acc: 0.578 - 0s 569us/step - loss: 1.2431 - acc: 0.5833\n",
      "Epoch 196/500\n",
      "72/72 [==============================] - ETA: 0s - loss: 1.2501 - acc: 0.609 - 0s 583us/step - loss: 1.2391 - acc: 0.6250\n",
      "Epoch 197/500\n",
      "72/72 [==============================] - ETA: 0s - loss: 1.2464 - acc: 0.531 - 0s 569us/step - loss: 1.2417 - acc: 0.5417\n",
      "Epoch 198/500\n",
      "72/72 [==============================] - ETA: 0s - loss: 1.2106 - acc: 0.562 - 0s 583us/step - loss: 1.2395 - acc: 0.5694\n",
      "Epoch 199/500\n",
      "72/72 [==============================] - ETA: 0s - loss: 1.2494 - acc: 0.578 - 0s 583us/step - loss: 1.2394 - acc: 0.5833\n",
      "Epoch 200/500\n",
      "72/72 [==============================] - ETA: 0s - loss: 1.2484 - acc: 0.531 - 0s 569us/step - loss: 1.2403 - acc: 0.5417\n",
      "Epoch 201/500\n",
      "72/72 [==============================] - ETA: 0s - loss: 1.2513 - acc: 0.562 - 0s 514us/step - loss: 1.2389 - acc: 0.5833\n",
      "Epoch 202/500\n",
      "72/72 [==============================] - ETA: 0s - loss: 1.2179 - acc: 0.625 - 0s 541us/step - loss: 1.2434 - acc: 0.6111\n",
      "Epoch 203/500\n",
      "72/72 [==============================] - ETA: 0s - loss: 1.2156 - acc: 0.593 - 0s 514us/step - loss: 1.2282 - acc: 0.5972\n",
      "Epoch 204/500\n",
      "72/72 [==============================] - ETA: 0s - loss: 1.2127 - acc: 0.656 - 0s 583us/step - loss: 1.2276 - acc: 0.6389\n",
      "Epoch 205/500\n",
      "72/72 [==============================] - ETA: 0s - loss: 1.2250 - acc: 0.640 - 0s 555us/step - loss: 1.2275 - acc: 0.6667\n",
      "Epoch 206/500\n",
      "72/72 [==============================] - ETA: 0s - loss: 1.2309 - acc: 0.609 - 0s 514us/step - loss: 1.2229 - acc: 0.6389\n",
      "Epoch 207/500\n",
      "72/72 [==============================] - ETA: 0s - loss: 1.2049 - acc: 0.625 - 0s 527us/step - loss: 1.2216 - acc: 0.6111\n",
      "Epoch 208/500\n",
      "72/72 [==============================] - ETA: 0s - loss: 1.2167 - acc: 0.625 - 0s 527us/step - loss: 1.2186 - acc: 0.6250\n",
      "Epoch 209/500\n",
      "72/72 [==============================] - ETA: 0s - loss: 1.2160 - acc: 0.625 - 0s 555us/step - loss: 1.2185 - acc: 0.6111\n",
      "Epoch 210/500\n",
      "72/72 [==============================] - ETA: 0s - loss: 1.2215 - acc: 0.656 - 0s 569us/step - loss: 1.2196 - acc: 0.6528\n",
      "Epoch 211/500\n",
      "72/72 [==============================] - ETA: 0s - loss: 1.2178 - acc: 0.656 - 0s 555us/step - loss: 1.2169 - acc: 0.6389\n",
      "Epoch 212/500\n",
      "72/72 [==============================] - ETA: 0s - loss: 1.2166 - acc: 0.671 - 0s 527us/step - loss: 1.2190 - acc: 0.6667\n",
      "Epoch 213/500\n",
      "72/72 [==============================] - ETA: 0s - loss: 1.2192 - acc: 0.656 - 0s 527us/step - loss: 1.2156 - acc: 0.6528\n",
      "Epoch 214/500\n",
      "72/72 [==============================] - ETA: 0s - loss: 1.2380 - acc: 0.625 - 0s 666us/step - loss: 1.2151 - acc: 0.6528\n",
      "Epoch 215/500\n",
      "72/72 [==============================] - ETA: 0s - loss: 1.2074 - acc: 0.656 - 0s 555us/step - loss: 1.2206 - acc: 0.6389\n",
      "Epoch 216/500\n",
      "72/72 [==============================] - ETA: 0s - loss: 1.2261 - acc: 0.609 - 0s 569us/step - loss: 1.2216 - acc: 0.6250\n",
      "Epoch 217/500\n",
      "72/72 [==============================] - ETA: 0s - loss: 1.2161 - acc: 0.640 - 0s 527us/step - loss: 1.2175 - acc: 0.6389\n",
      "Epoch 218/500\n",
      "72/72 [==============================] - ETA: 0s - loss: 1.2037 - acc: 0.656 - 0s 541us/step - loss: 1.2120 - acc: 0.6528\n",
      "Epoch 219/500\n",
      "72/72 [==============================] - ETA: 0s - loss: 1.1958 - acc: 0.640 - 0s 541us/step - loss: 1.2069 - acc: 0.6111\n",
      "Epoch 220/500\n",
      "72/72 [==============================] - ETA: 0s - loss: 1.2062 - acc: 0.625 - 0s 555us/step - loss: 1.2085 - acc: 0.6389\n",
      "Epoch 221/500\n",
      "72/72 [==============================] - ETA: 0s - loss: 1.2372 - acc: 0.609 - 0s 597us/step - loss: 1.2074 - acc: 0.6389\n",
      "Epoch 222/500\n",
      "72/72 [==============================] - ETA: 0s - loss: 1.2100 - acc: 0.593 - 0s 500us/step - loss: 1.2096 - acc: 0.5972\n",
      "Epoch 223/500\n",
      "72/72 [==============================] - ETA: 0s - loss: 1.1689 - acc: 0.625 - 0s 486us/step - loss: 1.2078 - acc: 0.5833\n",
      "Epoch 224/500\n",
      "72/72 [==============================] - ETA: 0s - loss: 1.1921 - acc: 0.687 - 0s 555us/step - loss: 1.2062 - acc: 0.6528\n",
      "Epoch 225/500\n",
      "72/72 [==============================] - ETA: 0s - loss: 1.2151 - acc: 0.609 - 0s 500us/step - loss: 1.2065 - acc: 0.6250\n",
      "Epoch 226/500\n",
      "72/72 [==============================] - ETA: 0s - loss: 1.2191 - acc: 0.656 - 0s 514us/step - loss: 1.2074 - acc: 0.6528\n",
      "Epoch 227/500\n",
      "72/72 [==============================] - ETA: 0s - loss: 1.2057 - acc: 0.687 - 0s 514us/step - loss: 1.2016 - acc: 0.6806\n",
      "Epoch 228/500\n",
      "72/72 [==============================] - ETA: 0s - loss: 1.1977 - acc: 0.718 - 0s 514us/step - loss: 1.2009 - acc: 0.6806\n",
      "Epoch 229/500\n",
      "72/72 [==============================] - ETA: 0s - loss: 1.2143 - acc: 0.671 - 0s 569us/step - loss: 1.2075 - acc: 0.6667\n",
      "Epoch 230/500\n",
      "72/72 [==============================] - ETA: 0s - loss: 1.2109 - acc: 0.703 - 0s 583us/step - loss: 1.2051 - acc: 0.6806\n",
      "Epoch 231/500\n",
      "72/72 [==============================] - ETA: 0s - loss: 1.2013 - acc: 0.656 - 0s 555us/step - loss: 1.2068 - acc: 0.6806\n",
      "Epoch 232/500\n",
      "72/72 [==============================] - ETA: 0s - loss: 1.1928 - acc: 0.703 - 0s 500us/step - loss: 1.2060 - acc: 0.6806\n",
      "Epoch 233/500\n",
      "72/72 [==============================] - ETA: 0s - loss: 1.1901 - acc: 0.625 - 0s 514us/step - loss: 1.1998 - acc: 0.6389\n",
      "Epoch 234/500\n",
      "72/72 [==============================] - ETA: 0s - loss: 1.1884 - acc: 0.671 - 0s 555us/step - loss: 1.1938 - acc: 0.6528\n",
      "Epoch 235/500\n",
      "72/72 [==============================] - ETA: 0s - loss: 1.1736 - acc: 0.671 - 0s 555us/step - loss: 1.1975 - acc: 0.6389\n",
      "Epoch 236/500\n",
      "72/72 [==============================] - ETA: 0s - loss: 1.1882 - acc: 0.640 - 0s 555us/step - loss: 1.1954 - acc: 0.6389\n",
      "Epoch 237/500\n",
      "72/72 [==============================] - ETA: 0s - loss: 1.2029 - acc: 0.687 - 0s 527us/step - loss: 1.1953 - acc: 0.6806\n",
      "Epoch 238/500\n",
      "72/72 [==============================] - ETA: 0s - loss: 1.1868 - acc: 0.656 - 0s 583us/step - loss: 1.1904 - acc: 0.6389\n",
      "Epoch 239/500\n",
      "72/72 [==============================] - ETA: 0s - loss: 1.2272 - acc: 0.593 - 0s 569us/step - loss: 1.1869 - acc: 0.6389\n",
      "Epoch 240/500\n",
      "72/72 [==============================] - ETA: 0s - loss: 1.1875 - acc: 0.593 - 0s 569us/step - loss: 1.1870 - acc: 0.6111\n",
      "Epoch 241/500\n",
      "72/72 [==============================] - ETA: 0s - loss: 1.1930 - acc: 0.625 - 0s 569us/step - loss: 1.1910 - acc: 0.6389\n",
      "Epoch 242/500\n",
      "72/72 [==============================] - ETA: 0s - loss: 1.2019 - acc: 0.593 - 0s 458us/step - loss: 1.1969 - acc: 0.5972\n",
      "Epoch 243/500\n",
      "72/72 [==============================] - ETA: 0s - loss: 1.1897 - acc: 0.625 - 0s 514us/step - loss: 1.1899 - acc: 0.6250\n",
      "Epoch 244/500\n",
      "72/72 [==============================] - ETA: 0s - loss: 1.1881 - acc: 0.640 - 0s 639us/step - loss: 1.1909 - acc: 0.6389\n",
      "Epoch 245/500\n",
      "72/72 [==============================] - ETA: 0s - loss: 1.1746 - acc: 0.640 - 0s 597us/step - loss: 1.1893 - acc: 0.6250\n",
      "Epoch 246/500\n",
      "72/72 [==============================] - ETA: 0s - loss: 1.1920 - acc: 0.625 - 0s 708us/step - loss: 1.1905 - acc: 0.6250\n",
      "Epoch 247/500\n",
      "72/72 [==============================] - ETA: 0s - loss: 1.1981 - acc: 0.609 - 0s 625us/step - loss: 1.1941 - acc: 0.6250\n",
      "Epoch 248/500\n",
      "72/72 [==============================] - ETA: 0s - loss: 1.1772 - acc: 0.609 - 0s 597us/step - loss: 1.1934 - acc: 0.5972\n",
      "Epoch 249/500\n",
      "72/72 [==============================] - ETA: 0s - loss: 1.1814 - acc: 0.625 - 0s 611us/step - loss: 1.1855 - acc: 0.6111\n",
      "Epoch 250/500\n",
      "72/72 [==============================] - ETA: 0s - loss: 1.2253 - acc: 0.593 - 0s 680us/step - loss: 1.1839 - acc: 0.6250\n",
      "Epoch 251/500\n",
      "72/72 [==============================] - ETA: 0s - loss: 1.2068 - acc: 0.609 - 0s 638us/step - loss: 1.1810 - acc: 0.6389\n",
      "Epoch 252/500\n",
      "72/72 [==============================] - ETA: 0s - loss: 1.1483 - acc: 0.609 - 0s 611us/step - loss: 1.1774 - acc: 0.6111\n",
      "Epoch 253/500\n",
      "72/72 [==============================] - ETA: 0s - loss: 1.2046 - acc: 0.609 - 0s 666us/step - loss: 1.1777 - acc: 0.6528\n",
      "Epoch 254/500\n",
      "72/72 [==============================] - ETA: 0s - loss: 1.2052 - acc: 0.562 - 0s 597us/step - loss: 1.1808 - acc: 0.5694\n",
      "Epoch 255/500\n",
      "72/72 [==============================] - ETA: 0s - loss: 1.1431 - acc: 0.625 - 0s 666us/step - loss: 1.1769 - acc: 0.5972\n",
      "Epoch 256/500\n",
      "72/72 [==============================] - ETA: 0s - loss: 1.1662 - acc: 0.656 - 0s 555us/step - loss: 1.1734 - acc: 0.6389\n",
      "Epoch 257/500\n",
      "72/72 [==============================] - ETA: 0s - loss: 1.2013 - acc: 0.609 - 0s 625us/step - loss: 1.1739 - acc: 0.6389\n",
      "Epoch 258/500\n",
      "72/72 [==============================] - ETA: 0s - loss: 1.1715 - acc: 0.640 - 0s 597us/step - loss: 1.1725 - acc: 0.6250\n",
      "Epoch 259/500\n",
      "72/72 [==============================] - ETA: 0s - loss: 1.1615 - acc: 0.671 - 0s 652us/step - loss: 1.1712 - acc: 0.6528\n",
      "Epoch 260/500\n",
      "72/72 [==============================] - ETA: 0s - loss: 1.1440 - acc: 0.687 - 0s 639us/step - loss: 1.1737 - acc: 0.6528\n",
      "Epoch 261/500\n",
      "72/72 [==============================] - ETA: 0s - loss: 1.1999 - acc: 0.609 - 0s 652us/step - loss: 1.1741 - acc: 0.6389\n",
      "Epoch 262/500\n",
      "72/72 [==============================] - ETA: 0s - loss: 1.1892 - acc: 0.640 - 0s 569us/step - loss: 1.1674 - acc: 0.6667\n",
      "Epoch 263/500\n",
      "72/72 [==============================] - ETA: 0s - loss: 1.1540 - acc: 0.640 - 0s 611us/step - loss: 1.1644 - acc: 0.6389\n",
      "Epoch 264/500\n",
      "72/72 [==============================] - ETA: 0s - loss: 1.1856 - acc: 0.640 - 0s 527us/step - loss: 1.1691 - acc: 0.6389\n",
      "Epoch 265/500\n",
      "72/72 [==============================] - ETA: 0s - loss: 1.1764 - acc: 0.609 - 0s 625us/step - loss: 1.1801 - acc: 0.6250\n",
      "Epoch 266/500\n",
      "72/72 [==============================] - ETA: 0s - loss: 1.1468 - acc: 0.640 - 0s 597us/step - loss: 1.1745 - acc: 0.6250\n",
      "Epoch 267/500\n",
      "72/72 [==============================] - ETA: 0s - loss: 1.1737 - acc: 0.609 - 0s 583us/step - loss: 1.1677 - acc: 0.6389\n",
      "Epoch 268/500\n",
      "72/72 [==============================] - ETA: 0s - loss: 1.1588 - acc: 0.625 - 0s 541us/step - loss: 1.1629 - acc: 0.6250\n",
      "Epoch 269/500\n",
      "72/72 [==============================] - ETA: 0s - loss: 1.1732 - acc: 0.609 - 0s 597us/step - loss: 1.1623 - acc: 0.6389\n",
      "Epoch 270/500\n",
      "72/72 [==============================] - ETA: 0s - loss: 1.1563 - acc: 0.593 - 0s 625us/step - loss: 1.1658 - acc: 0.5833\n",
      "Epoch 271/500\n",
      "72/72 [==============================] - ETA: 0s - loss: 1.1540 - acc: 0.656 - 0s 611us/step - loss: 1.1583 - acc: 0.6528\n",
      "Epoch 272/500\n",
      "72/72 [==============================] - ETA: 0s - loss: 1.1613 - acc: 0.671 - 0s 597us/step - loss: 1.1566 - acc: 0.6667\n",
      "Epoch 273/500\n",
      "72/72 [==============================] - ETA: 0s - loss: 1.1338 - acc: 0.687 - 0s 527us/step - loss: 1.1571 - acc: 0.6667\n",
      "Epoch 274/500\n",
      "72/72 [==============================] - ETA: 0s - loss: 1.1609 - acc: 0.671 - 0s 555us/step - loss: 1.1589 - acc: 0.6806\n",
      "Epoch 275/500\n",
      "72/72 [==============================] - ETA: 0s - loss: 1.1515 - acc: 0.656 - 0s 486us/step - loss: 1.1550 - acc: 0.6667\n",
      "Epoch 276/500\n",
      "72/72 [==============================] - ETA: 0s - loss: 1.1635 - acc: 0.640 - 0s 541us/step - loss: 1.1528 - acc: 0.6528\n",
      "Epoch 277/500\n",
      "72/72 [==============================] - ETA: 0s - loss: 1.1537 - acc: 0.671 - 0s 541us/step - loss: 1.1513 - acc: 0.6806\n",
      "Epoch 278/500\n",
      "72/72 [==============================] - ETA: 0s - loss: 1.1454 - acc: 0.656 - 0s 555us/step - loss: 1.1511 - acc: 0.6389\n",
      "Epoch 279/500\n",
      "72/72 [==============================] - ETA: 0s - loss: 1.1472 - acc: 0.656 - 0s 583us/step - loss: 1.1507 - acc: 0.6528\n",
      "Epoch 280/500\n",
      "72/72 [==============================] - ETA: 0s - loss: 1.1700 - acc: 0.687 - 0s 514us/step - loss: 1.1520 - acc: 0.6806\n",
      "Epoch 281/500\n",
      "72/72 [==============================] - ETA: 0s - loss: 1.1570 - acc: 0.656 - 0s 527us/step - loss: 1.1560 - acc: 0.6528\n",
      "Epoch 282/500\n",
      "72/72 [==============================] - ETA: 0s - loss: 1.1306 - acc: 0.703 - 0s 541us/step - loss: 1.1569 - acc: 0.6667\n",
      "Epoch 283/500\n",
      "72/72 [==============================] - ETA: 0s - loss: 1.1747 - acc: 0.656 - 0s 500us/step - loss: 1.1534 - acc: 0.6944\n",
      "Epoch 284/500\n",
      "72/72 [==============================] - ETA: 0s - loss: 1.1371 - acc: 0.656 - 0s 555us/step - loss: 1.1495 - acc: 0.6528\n",
      "Epoch 285/500\n",
      "72/72 [==============================] - ETA: 0s - loss: 1.1405 - acc: 0.609 - 0s 472us/step - loss: 1.1500 - acc: 0.6111\n",
      "Epoch 286/500\n",
      "72/72 [==============================] - ETA: 0s - loss: 1.1236 - acc: 0.703 - 0s 541us/step - loss: 1.1489 - acc: 0.6667\n",
      "Epoch 287/500\n",
      "72/72 [==============================] - ETA: 0s - loss: 1.1332 - acc: 0.703 - 0s 514us/step - loss: 1.1508 - acc: 0.6806\n",
      "Epoch 288/500\n",
      "72/72 [==============================] - ETA: 0s - loss: 1.1284 - acc: 0.734 - 0s 527us/step - loss: 1.1452 - acc: 0.6944\n",
      "Epoch 289/500\n",
      "72/72 [==============================] - ETA: 0s - loss: 1.1582 - acc: 0.718 - 0s 541us/step - loss: 1.1454 - acc: 0.7222\n",
      "Epoch 290/500\n",
      "72/72 [==============================] - ETA: 0s - loss: 1.1706 - acc: 0.687 - 0s 514us/step - loss: 1.1458 - acc: 0.6944\n",
      "Epoch 291/500\n",
      "72/72 [==============================] - ETA: 0s - loss: 1.1337 - acc: 0.671 - 0s 528us/step - loss: 1.1471 - acc: 0.6806\n",
      "Epoch 292/500\n",
      "72/72 [==============================] - ETA: 0s - loss: 1.1245 - acc: 0.687 - 0s 611us/step - loss: 1.1424 - acc: 0.6806\n",
      "Epoch 293/500\n",
      "72/72 [==============================] - ETA: 0s - loss: 1.1604 - acc: 0.640 - 0s 541us/step - loss: 1.1403 - acc: 0.6389\n",
      "Epoch 294/500\n",
      "72/72 [==============================] - ETA: 0s - loss: 1.1400 - acc: 0.625 - 0s 611us/step - loss: 1.1459 - acc: 0.6389\n",
      "Epoch 295/500\n",
      "72/72 [==============================] - ETA: 0s - loss: 1.1466 - acc: 0.625 - 0s 527us/step - loss: 1.1425 - acc: 0.6250\n",
      "Epoch 296/500\n",
      "72/72 [==============================] - ETA: 0s - loss: 1.1670 - acc: 0.562 - 0s 500us/step - loss: 1.1465 - acc: 0.5833\n",
      "Epoch 297/500\n",
      "72/72 [==============================] - ETA: 0s - loss: 1.1363 - acc: 0.625 - 0s 486us/step - loss: 1.1392 - acc: 0.6250\n",
      "Epoch 298/500\n",
      "72/72 [==============================] - ETA: 0s - loss: 1.1502 - acc: 0.562 - 0s 514us/step - loss: 1.1443 - acc: 0.5972\n",
      "Epoch 299/500\n",
      "72/72 [==============================] - ETA: 0s - loss: 1.1401 - acc: 0.609 - 0s 597us/step - loss: 1.1411 - acc: 0.6111\n",
      "Epoch 300/500\n",
      "72/72 [==============================] - ETA: 0s - loss: 1.1496 - acc: 0.593 - 0s 528us/step - loss: 1.1349 - acc: 0.6250\n",
      "Epoch 301/500\n",
      "72/72 [==============================] - ETA: 0s - loss: 1.1438 - acc: 0.609 - 0s 486us/step - loss: 1.1369 - acc: 0.6111\n",
      "Epoch 302/500\n"
     ]
    },
    {
     "name": "stdout",
     "output_type": "stream",
     "text": [
      "72/72 [==============================] - ETA: 0s - loss: 1.0984 - acc: 0.625 - 0s 541us/step - loss: 1.1392 - acc: 0.6111\n",
      "Epoch 303/500\n",
      "72/72 [==============================] - ETA: 0s - loss: 1.1096 - acc: 0.656 - 0s 583us/step - loss: 1.1303 - acc: 0.6667\n",
      "Epoch 304/500\n",
      "72/72 [==============================] - ETA: 0s - loss: 1.1184 - acc: 0.703 - 0s 514us/step - loss: 1.1339 - acc: 0.6667\n",
      "Epoch 305/500\n",
      "72/72 [==============================] - ETA: 0s - loss: 1.1104 - acc: 0.718 - 0s 625us/step - loss: 1.1342 - acc: 0.7083\n",
      "Epoch 306/500\n",
      "72/72 [==============================] - ETA: 0s - loss: 1.1230 - acc: 0.703 - 0s 569us/step - loss: 1.1332 - acc: 0.7222\n",
      "Epoch 307/500\n",
      "72/72 [==============================] - ETA: 0s - loss: 1.1599 - acc: 0.625 - 0s 625us/step - loss: 1.1342 - acc: 0.6528\n",
      "Epoch 308/500\n",
      "72/72 [==============================] - ETA: 0s - loss: 1.1085 - acc: 0.656 - 0s 597us/step - loss: 1.1346 - acc: 0.6528\n",
      "Epoch 309/500\n",
      "72/72 [==============================] - ETA: 0s - loss: 1.1327 - acc: 0.593 - 0s 666us/step - loss: 1.1346 - acc: 0.5833\n",
      "Epoch 310/500\n",
      "72/72 [==============================] - ETA: 0s - loss: 1.1478 - acc: 0.593 - 0s 514us/step - loss: 1.1325 - acc: 0.6111\n",
      "Epoch 311/500\n",
      "72/72 [==============================] - ETA: 0s - loss: 1.1660 - acc: 0.593 - 0s 694us/step - loss: 1.1304 - acc: 0.6250\n",
      "Epoch 312/500\n",
      "72/72 [==============================] - ETA: 0s - loss: 1.1670 - acc: 0.640 - 0s 555us/step - loss: 1.1269 - acc: 0.6389\n",
      "Epoch 313/500\n",
      "72/72 [==============================] - ETA: 0s - loss: 1.1697 - acc: 0.625 - 0s 666us/step - loss: 1.1245 - acc: 0.6389\n",
      "Epoch 314/500\n",
      "72/72 [==============================] - ETA: 0s - loss: 1.1238 - acc: 0.656 - 0s 666us/step - loss: 1.1203 - acc: 0.6528\n",
      "Epoch 315/500\n",
      "72/72 [==============================] - ETA: 0s - loss: 1.1088 - acc: 0.656 - 0s 639us/step - loss: 1.1207 - acc: 0.6528\n",
      "Epoch 316/500\n",
      "72/72 [==============================] - ETA: 0s - loss: 1.1164 - acc: 0.656 - 0s 569us/step - loss: 1.1185 - acc: 0.6528\n",
      "Epoch 317/500\n",
      "72/72 [==============================] - ETA: 0s - loss: 1.1327 - acc: 0.625 - 0s 708us/step - loss: 1.1205 - acc: 0.6528\n",
      "Epoch 318/500\n",
      "72/72 [==============================] - ETA: 0s - loss: 1.1273 - acc: 0.625 - 0s 569us/step - loss: 1.1219 - acc: 0.6250\n",
      "Epoch 319/500\n",
      "72/72 [==============================] - ETA: 0s - loss: 1.1279 - acc: 0.640 - 0s 583us/step - loss: 1.1199 - acc: 0.6389\n",
      "Epoch 320/500\n",
      "72/72 [==============================] - ETA: 0s - loss: 1.1485 - acc: 0.656 - 0s 583us/step - loss: 1.1172 - acc: 0.6806\n",
      "Epoch 321/500\n",
      "72/72 [==============================] - ETA: 0s - loss: 1.1086 - acc: 0.687 - 0s 611us/step - loss: 1.1162 - acc: 0.6667\n",
      "Epoch 322/500\n",
      "72/72 [==============================] - ETA: 0s - loss: 1.1174 - acc: 0.671 - 0s 680us/step - loss: 1.1166 - acc: 0.6528\n",
      "Epoch 323/500\n",
      "72/72 [==============================] - ETA: 0s - loss: 1.1147 - acc: 0.687 - 0s 583us/step - loss: 1.1152 - acc: 0.6806\n",
      "Epoch 324/500\n",
      "72/72 [==============================] - ETA: 0s - loss: 1.0931 - acc: 0.750 - 0s 583us/step - loss: 1.1164 - acc: 0.7361\n",
      "Epoch 325/500\n",
      "72/72 [==============================] - ETA: 0s - loss: 1.1032 - acc: 0.671 - 0s 555us/step - loss: 1.1139 - acc: 0.6528\n",
      "Epoch 326/500\n",
      "72/72 [==============================] - ETA: 0s - loss: 1.1337 - acc: 0.656 - 0s 625us/step - loss: 1.1152 - acc: 0.6806\n",
      "Epoch 327/500\n",
      "72/72 [==============================] - ETA: 0s - loss: 1.1161 - acc: 0.656 - 0s 652us/step - loss: 1.1129 - acc: 0.6389\n",
      "Epoch 328/500\n",
      "72/72 [==============================] - ETA: 0s - loss: 1.1126 - acc: 0.671 - 0s 569us/step - loss: 1.1099 - acc: 0.6667\n",
      "Epoch 329/500\n",
      "72/72 [==============================] - ETA: 0s - loss: 1.1105 - acc: 0.640 - 0s 597us/step - loss: 1.1094 - acc: 0.6667\n",
      "Epoch 330/500\n",
      "72/72 [==============================] - ETA: 0s - loss: 1.1055 - acc: 0.656 - 0s 556us/step - loss: 1.1093 - acc: 0.6528\n",
      "Epoch 331/500\n",
      "72/72 [==============================] - ETA: 0s - loss: 1.1387 - acc: 0.625 - 0s 583us/step - loss: 1.1072 - acc: 0.6667\n",
      "Epoch 332/500\n",
      "72/72 [==============================] - ETA: 0s - loss: 1.1119 - acc: 0.609 - 0s 680us/step - loss: 1.1112 - acc: 0.6250\n",
      "Epoch 333/500\n",
      "72/72 [==============================] - ETA: 0s - loss: 1.1055 - acc: 0.640 - 0s 694us/step - loss: 1.1105 - acc: 0.6389\n",
      "Epoch 334/500\n",
      "72/72 [==============================] - ETA: 0s - loss: 1.1166 - acc: 0.625 - 0s 708us/step - loss: 1.1105 - acc: 0.6389\n",
      "Epoch 335/500\n",
      "72/72 [==============================] - ETA: 0s - loss: 1.1027 - acc: 0.625 - 0s 597us/step - loss: 1.1143 - acc: 0.6111\n",
      "Epoch 336/500\n",
      "72/72 [==============================] - ETA: 0s - loss: 1.1266 - acc: 0.562 - 0s 500us/step - loss: 1.1107 - acc: 0.5972\n",
      "Epoch 337/500\n",
      "72/72 [==============================] - ETA: 0s - loss: 1.1410 - acc: 0.625 - 0s 569us/step - loss: 1.1108 - acc: 0.6389\n",
      "Epoch 338/500\n",
      "72/72 [==============================] - ETA: 0s - loss: 1.1055 - acc: 0.656 - 0s 597us/step - loss: 1.1091 - acc: 0.6389\n",
      "Epoch 339/500\n",
      "72/72 [==============================] - ETA: 0s - loss: 1.0878 - acc: 0.671 - 0s 555us/step - loss: 1.1109 - acc: 0.6528\n",
      "Epoch 340/500\n",
      "72/72 [==============================] - ETA: 0s - loss: 1.1042 - acc: 0.640 - 0s 541us/step - loss: 1.1095 - acc: 0.6389\n",
      "Epoch 341/500\n",
      "72/72 [==============================] - ETA: 0s - loss: 1.1339 - acc: 0.671 - 0s 569us/step - loss: 1.1017 - acc: 0.7083\n",
      "Epoch 342/500\n",
      "72/72 [==============================] - ETA: 0s - loss: 1.0895 - acc: 0.687 - 0s 611us/step - loss: 1.0988 - acc: 0.6806\n",
      "Epoch 343/500\n",
      "72/72 [==============================] - ETA: 0s - loss: 1.1259 - acc: 0.656 - 0s 611us/step - loss: 1.0985 - acc: 0.6806\n",
      "Epoch 344/500\n",
      "72/72 [==============================] - ETA: 0s - loss: 1.0886 - acc: 0.656 - 0s 666us/step - loss: 1.1009 - acc: 0.6389\n",
      "Epoch 345/500\n",
      "72/72 [==============================] - ETA: 0s - loss: 1.0644 - acc: 0.734 - 0s 569us/step - loss: 1.0991 - acc: 0.7083\n",
      "Epoch 346/500\n",
      "72/72 [==============================] - ETA: 0s - loss: 1.1209 - acc: 0.703 - 0s 541us/step - loss: 1.0968 - acc: 0.7361\n",
      "Epoch 347/500\n",
      "72/72 [==============================] - ETA: 0s - loss: 1.1151 - acc: 0.640 - 0s 639us/step - loss: 1.0967 - acc: 0.6528\n",
      "Epoch 348/500\n",
      "72/72 [==============================] - ETA: 0s - loss: 1.1178 - acc: 0.593 - 0s 569us/step - loss: 1.1025 - acc: 0.6250\n",
      "Epoch 349/500\n",
      "72/72 [==============================] - ETA: 0s - loss: 1.1122 - acc: 0.578 - 0s 694us/step - loss: 1.1134 - acc: 0.5833\n",
      "Epoch 350/500\n",
      "72/72 [==============================] - ETA: 0s - loss: 1.1116 - acc: 0.609 - 0s 652us/step - loss: 1.1012 - acc: 0.6111\n",
      "Epoch 351/500\n",
      "72/72 [==============================] - ETA: 0s - loss: 1.1221 - acc: 0.625 - 0s 583us/step - loss: 1.0978 - acc: 0.6389\n",
      "Epoch 352/500\n",
      "72/72 [==============================] - ETA: 0s - loss: 1.0968 - acc: 0.640 - 0s 528us/step - loss: 1.0950 - acc: 0.6389\n",
      "Epoch 353/500\n",
      "72/72 [==============================] - ETA: 0s - loss: 1.0895 - acc: 0.640 - 0s 527us/step - loss: 1.0925 - acc: 0.6250\n",
      "Epoch 354/500\n",
      "72/72 [==============================] - ETA: 0s - loss: 1.0874 - acc: 0.734 - 0s 555us/step - loss: 1.0918 - acc: 0.6944\n",
      "Epoch 355/500\n",
      "72/72 [==============================] - ETA: 0s - loss: 1.0820 - acc: 0.734 - 0s 639us/step - loss: 1.0963 - acc: 0.6944\n",
      "Epoch 356/500\n",
      "72/72 [==============================] - ETA: 0s - loss: 1.0861 - acc: 0.687 - 0s 541us/step - loss: 1.0958 - acc: 0.6806\n",
      "Epoch 357/500\n",
      "72/72 [==============================] - ETA: 0s - loss: 1.0912 - acc: 0.656 - 0s 472us/step - loss: 1.0918 - acc: 0.6667\n",
      "Epoch 358/500\n",
      "72/72 [==============================] - ETA: 0s - loss: 1.1035 - acc: 0.671 - 0s 569us/step - loss: 1.0909 - acc: 0.6806\n",
      "Epoch 359/500\n",
      "72/72 [==============================] - ETA: 0s - loss: 1.0996 - acc: 0.687 - 0s 569us/step - loss: 1.0900 - acc: 0.6944\n",
      "Epoch 360/500\n",
      "72/72 [==============================] - ETA: 0s - loss: 1.0902 - acc: 0.687 - 0s 597us/step - loss: 1.0938 - acc: 0.6667\n",
      "Epoch 361/500\n",
      "72/72 [==============================] - ETA: 0s - loss: 1.1241 - acc: 0.625 - 0s 541us/step - loss: 1.1001 - acc: 0.6667\n",
      "Epoch 362/500\n",
      "72/72 [==============================] - ETA: 0s - loss: 1.1089 - acc: 0.625 - 0s 514us/step - loss: 1.0983 - acc: 0.6111\n",
      "Epoch 363/500\n",
      "72/72 [==============================] - ETA: 0s - loss: 1.0889 - acc: 0.671 - 0s 583us/step - loss: 1.0892 - acc: 0.6944\n",
      "Epoch 364/500\n",
      "72/72 [==============================] - ETA: 0s - loss: 1.0646 - acc: 0.671 - 0s 639us/step - loss: 1.0882 - acc: 0.6528\n",
      "Epoch 365/500\n",
      "72/72 [==============================] - ETA: 0s - loss: 1.0729 - acc: 0.671 - 0s 597us/step - loss: 1.0876 - acc: 0.6528\n",
      "Epoch 366/500\n",
      "72/72 [==============================] - ETA: 0s - loss: 1.0678 - acc: 0.687 - 0s 666us/step - loss: 1.0851 - acc: 0.6667\n",
      "Epoch 367/500\n",
      "72/72 [==============================] - ETA: 0s - loss: 1.0462 - acc: 0.703 - 0s 680us/step - loss: 1.0830 - acc: 0.6667\n",
      "Epoch 368/500\n",
      "72/72 [==============================] - ETA: 0s - loss: 1.1020 - acc: 0.656 - 0s 708us/step - loss: 1.0843 - acc: 0.6944\n",
      "Epoch 369/500\n",
      "72/72 [==============================] - ETA: 0s - loss: 1.0664 - acc: 0.671 - 0s 611us/step - loss: 1.0790 - acc: 0.6806\n",
      "Epoch 370/500\n",
      "72/72 [==============================] - ETA: 0s - loss: 1.0654 - acc: 0.671 - 0s 625us/step - loss: 1.0786 - acc: 0.6806\n",
      "Epoch 371/500\n",
      "72/72 [==============================] - ETA: 0s - loss: 1.0645 - acc: 0.687 - 0s 736us/step - loss: 1.0792 - acc: 0.7083\n",
      "Epoch 372/500\n",
      "72/72 [==============================] - ETA: 0s - loss: 1.0634 - acc: 0.687 - 0s 639us/step - loss: 1.0791 - acc: 0.6667\n",
      "Epoch 373/500\n",
      "72/72 [==============================] - ETA: 0s - loss: 1.0800 - acc: 0.687 - 0s 625us/step - loss: 1.0843 - acc: 0.6806\n",
      "Epoch 374/500\n",
      "72/72 [==============================] - ETA: 0s - loss: 1.0763 - acc: 0.671 - 0s 624us/step - loss: 1.0844 - acc: 0.6667\n",
      "Epoch 375/500\n",
      "72/72 [==============================] - ETA: 0s - loss: 1.0192 - acc: 0.734 - 0s 583us/step - loss: 1.0793 - acc: 0.6667\n",
      "Epoch 376/500\n",
      "72/72 [==============================] - ETA: 0s - loss: 1.0671 - acc: 0.734 - 0s 639us/step - loss: 1.0836 - acc: 0.7361\n",
      "Epoch 377/500\n",
      "72/72 [==============================] - ETA: 0s - loss: 1.0861 - acc: 0.687 - 0s 611us/step - loss: 1.0800 - acc: 0.7083\n",
      "Epoch 378/500\n",
      "72/72 [==============================] - ETA: 0s - loss: 1.0459 - acc: 0.796 - 0s 639us/step - loss: 1.0792 - acc: 0.7500\n",
      "Epoch 379/500\n",
      "72/72 [==============================] - ETA: 0s - loss: 1.0947 - acc: 0.687 - 0s 583us/step - loss: 1.0828 - acc: 0.7083\n",
      "Epoch 380/500\n",
      "72/72 [==============================] - ETA: 0s - loss: 1.0741 - acc: 0.703 - 0s 597us/step - loss: 1.0789 - acc: 0.7083\n",
      "Epoch 381/500\n",
      "72/72 [==============================] - ETA: 0s - loss: 1.0610 - acc: 0.765 - 0s 569us/step - loss: 1.0782 - acc: 0.7361\n",
      "Epoch 382/500\n",
      "72/72 [==============================] - ETA: 0s - loss: 1.0803 - acc: 0.718 - 0s 666us/step - loss: 1.0740 - acc: 0.7222\n",
      "Epoch 383/500\n",
      "72/72 [==============================] - ETA: 0s - loss: 1.0733 - acc: 0.671 - 0s 527us/step - loss: 1.0715 - acc: 0.6667\n",
      "Epoch 384/500\n",
      "72/72 [==============================] - ETA: 0s - loss: 1.0843 - acc: 0.656 - 0s 611us/step - loss: 1.0701 - acc: 0.6528\n",
      "Epoch 385/500\n",
      "72/72 [==============================] - ETA: 0s - loss: 1.0942 - acc: 0.703 - 0s 597us/step - loss: 1.0722 - acc: 0.7222\n",
      "Epoch 386/500\n",
      "72/72 [==============================] - ETA: 0s - loss: 1.0812 - acc: 0.703 - 0s 597us/step - loss: 1.0775 - acc: 0.7083\n",
      "Epoch 387/500\n",
      "72/72 [==============================] - ETA: 0s - loss: 1.0581 - acc: 0.718 - 0s 569us/step - loss: 1.0756 - acc: 0.6944\n",
      "Epoch 388/500\n",
      "72/72 [==============================] - ETA: 0s - loss: 1.1004 - acc: 0.687 - 0s 569us/step - loss: 1.0767 - acc: 0.6944\n",
      "Epoch 389/500\n",
      "72/72 [==============================] - ETA: 0s - loss: 1.0605 - acc: 0.703 - 0s 555us/step - loss: 1.0763 - acc: 0.6944\n",
      "Epoch 390/500\n",
      "72/72 [==============================] - ETA: 0s - loss: 1.0821 - acc: 0.734 - 0s 583us/step - loss: 1.0769 - acc: 0.7361\n",
      "Epoch 391/500\n",
      "72/72 [==============================] - ETA: 0s - loss: 1.0537 - acc: 0.750 - 0s 569us/step - loss: 1.0728 - acc: 0.7500\n",
      "Epoch 392/500\n",
      "72/72 [==============================] - ETA: 0s - loss: 1.0714 - acc: 0.656 - 0s 514us/step - loss: 1.0687 - acc: 0.6667\n",
      "Epoch 393/500\n",
      "72/72 [==============================] - ETA: 0s - loss: 1.0618 - acc: 0.718 - 0s 527us/step - loss: 1.0714 - acc: 0.7083\n",
      "Epoch 394/500\n",
      "72/72 [==============================] - ETA: 0s - loss: 1.0358 - acc: 0.750 - 0s 541us/step - loss: 1.0618 - acc: 0.7222\n",
      "Epoch 395/500\n",
      "72/72 [==============================] - ETA: 0s - loss: 1.0589 - acc: 0.734 - 0s 514us/step - loss: 1.0606 - acc: 0.7222\n",
      "Epoch 396/500\n",
      "72/72 [==============================] - ETA: 0s - loss: 1.0703 - acc: 0.750 - 0s 541us/step - loss: 1.0628 - acc: 0.7639\n",
      "Epoch 397/500\n",
      "72/72 [==============================] - ETA: 0s - loss: 1.0676 - acc: 0.734 - 0s 541us/step - loss: 1.0607 - acc: 0.7361\n",
      "Epoch 398/500\n",
      "72/72 [==============================] - ETA: 0s - loss: 1.0845 - acc: 0.703 - 0s 555us/step - loss: 1.0659 - acc: 0.7361\n",
      "Epoch 399/500\n",
      "72/72 [==============================] - ETA: 0s - loss: 1.0697 - acc: 0.734 - 0s 541us/step - loss: 1.0629 - acc: 0.7500\n",
      "Epoch 400/500\n",
      "72/72 [==============================] - ETA: 0s - loss: 1.0824 - acc: 0.734 - 0s 514us/step - loss: 1.0610 - acc: 0.7500\n",
      "Epoch 401/500\n",
      "72/72 [==============================] - ETA: 0s - loss: 1.0494 - acc: 0.734 - 0s 527us/step - loss: 1.0568 - acc: 0.7361\n",
      "Epoch 402/500\n",
      "72/72 [==============================] - ETA: 0s - loss: 1.0453 - acc: 0.781 - 0s 639us/step - loss: 1.0568 - acc: 0.7500\n",
      "Epoch 403/500\n",
      "72/72 [==============================] - ETA: 0s - loss: 1.0779 - acc: 0.703 - 0s 555us/step - loss: 1.0586 - acc: 0.6944\n",
      "Epoch 404/500\n",
      "72/72 [==============================] - ETA: 0s - loss: 1.0677 - acc: 0.687 - 0s 500us/step - loss: 1.0553 - acc: 0.7083\n",
      "Epoch 405/500\n",
      "72/72 [==============================] - ETA: 0s - loss: 1.0790 - acc: 0.687 - 0s 583us/step - loss: 1.0583 - acc: 0.6944\n",
      "Epoch 406/500\n",
      "72/72 [==============================] - ETA: 0s - loss: 1.0542 - acc: 0.718 - 0s 555us/step - loss: 1.0651 - acc: 0.7222\n",
      "Epoch 407/500\n",
      "72/72 [==============================] - ETA: 0s - loss: 1.0783 - acc: 0.718 - 0s 694us/step - loss: 1.0593 - acc: 0.7222\n",
      "Epoch 408/500\n",
      "72/72 [==============================] - ETA: 0s - loss: 1.0752 - acc: 0.640 - 0s 805us/step - loss: 1.0576 - acc: 0.6389\n",
      "Epoch 409/500\n",
      "72/72 [==============================] - ETA: 0s - loss: 1.0375 - acc: 0.671 - 0s 625us/step - loss: 1.0556 - acc: 0.6667\n",
      "Epoch 410/500\n",
      "72/72 [==============================] - ETA: 0s - loss: 1.0828 - acc: 0.703 - 0s 763us/step - loss: 1.0551 - acc: 0.7083\n",
      "Epoch 411/500\n",
      "72/72 [==============================] - ETA: 0s - loss: 1.0701 - acc: 0.671 - 0s 611us/step - loss: 1.0556 - acc: 0.6944\n",
      "Epoch 412/500\n",
      "72/72 [==============================] - ETA: 0s - loss: 1.0449 - acc: 0.687 - 0s 555us/step - loss: 1.0577 - acc: 0.6806\n",
      "Epoch 413/500\n",
      "72/72 [==============================] - ETA: 0s - loss: 1.0293 - acc: 0.718 - 0s 763us/step - loss: 1.0527 - acc: 0.6944\n",
      "Epoch 414/500\n",
      "72/72 [==============================] - ETA: 0s - loss: 1.0708 - acc: 0.703 - 0s 541us/step - loss: 1.0550 - acc: 0.7083\n",
      "Epoch 415/500\n",
      "72/72 [==============================] - ETA: 0s - loss: 1.0516 - acc: 0.687 - 0s 555us/step - loss: 1.0561 - acc: 0.6806\n",
      "Epoch 416/500\n",
      "72/72 [==============================] - ETA: 0s - loss: 1.0672 - acc: 0.703 - 0s 625us/step - loss: 1.0480 - acc: 0.7222\n",
      "Epoch 417/500\n",
      "72/72 [==============================] - ETA: 0s - loss: 1.0314 - acc: 0.656 - 0s 625us/step - loss: 1.0501 - acc: 0.6389\n",
      "Epoch 418/500\n",
      "72/72 [==============================] - ETA: 0s - loss: 1.0503 - acc: 0.703 - 0s 527us/step - loss: 1.0468 - acc: 0.7083\n",
      "Epoch 419/500\n",
      "72/72 [==============================] - ETA: 0s - loss: 1.0575 - acc: 0.734 - 0s 569us/step - loss: 1.0462 - acc: 0.7222\n",
      "Epoch 420/500\n",
      "72/72 [==============================] - ETA: 0s - loss: 1.0508 - acc: 0.765 - 0s 527us/step - loss: 1.0431 - acc: 0.7639\n",
      "Epoch 421/500\n",
      "72/72 [==============================] - ETA: 0s - loss: 1.0492 - acc: 0.734 - 0s 500us/step - loss: 1.0427 - acc: 0.7361\n",
      "Epoch 422/500\n"
     ]
    },
    {
     "name": "stdout",
     "output_type": "stream",
     "text": [
      "72/72 [==============================] - ETA: 0s - loss: 1.0437 - acc: 0.703 - 0s 555us/step - loss: 1.0422 - acc: 0.7361\n",
      "Epoch 423/500\n",
      "72/72 [==============================] - ETA: 0s - loss: 1.0115 - acc: 0.687 - 0s 666us/step - loss: 1.0461 - acc: 0.6667\n",
      "Epoch 424/500\n",
      "72/72 [==============================] - ETA: 0s - loss: 1.0157 - acc: 0.718 - 0s 583us/step - loss: 1.0409 - acc: 0.7083\n",
      "Epoch 425/500\n",
      "72/72 [==============================] - ETA: 0s - loss: 1.0333 - acc: 0.750 - 0s 652us/step - loss: 1.0403 - acc: 0.7361\n",
      "Epoch 426/500\n",
      "72/72 [==============================] - ETA: 0s - loss: 1.0714 - acc: 0.718 - 0s 750us/step - loss: 1.0411 - acc: 0.7361\n",
      "Epoch 427/500\n",
      "72/72 [==============================] - ETA: 0s - loss: 1.0383 - acc: 0.718 - 0s 597us/step - loss: 1.0387 - acc: 0.7361\n",
      "Epoch 428/500\n",
      "72/72 [==============================] - ETA: 0s - loss: 1.0455 - acc: 0.718 - 0s 652us/step - loss: 1.0379 - acc: 0.7361\n",
      "Epoch 429/500\n",
      "72/72 [==============================] - ETA: 0s - loss: 1.0130 - acc: 0.703 - 0s 722us/step - loss: 1.0383 - acc: 0.6944\n",
      "Epoch 430/500\n",
      "72/72 [==============================] - ETA: 0s - loss: 1.0130 - acc: 0.765 - 0s 555us/step - loss: 1.0429 - acc: 0.7361\n",
      "Epoch 431/500\n",
      "72/72 [==============================] - ETA: 0s - loss: 1.0327 - acc: 0.765 - 0s 930us/step - loss: 1.0470 - acc: 0.7500\n",
      "Epoch 432/500\n",
      "72/72 [==============================] - ETA: 0s - loss: 1.0367 - acc: 0.703 - 0s 694us/step - loss: 1.0474 - acc: 0.7083\n",
      "Epoch 433/500\n",
      "72/72 [==============================] - ETA: 0s - loss: 1.0437 - acc: 0.718 - 0s 625us/step - loss: 1.0470 - acc: 0.7083\n",
      "Epoch 434/500\n",
      "72/72 [==============================] - ETA: 0s - loss: 1.0421 - acc: 0.750 - 0s 763us/step - loss: 1.0379 - acc: 0.7639\n",
      "Epoch 435/500\n",
      "72/72 [==============================] - ETA: 0s - loss: 1.0324 - acc: 0.718 - 0s 819us/step - loss: 1.0349 - acc: 0.6944\n",
      "Epoch 436/500\n",
      "72/72 [==============================] - ETA: 0s - loss: 0.9873 - acc: 0.750 - 0s 680us/step - loss: 1.0352 - acc: 0.7083\n",
      "Epoch 437/500\n",
      "72/72 [==============================] - ETA: 0s - loss: 1.0409 - acc: 0.734 - 0s 583us/step - loss: 1.0371 - acc: 0.7500\n",
      "Epoch 438/500\n",
      "72/72 [==============================] - ETA: 0s - loss: 1.0807 - acc: 0.734 - 0s 583us/step - loss: 1.0332 - acc: 0.7639\n",
      "Epoch 439/500\n",
      "72/72 [==============================] - ETA: 0s - loss: 1.0225 - acc: 0.718 - 0s 569us/step - loss: 1.0325 - acc: 0.7083\n",
      "Epoch 440/500\n",
      "72/72 [==============================] - ETA: 0s - loss: 1.0315 - acc: 0.750 - 0s 847us/step - loss: 1.0327 - acc: 0.7500\n",
      "Epoch 441/500\n",
      "72/72 [==============================] - ETA: 0s - loss: 1.0037 - acc: 0.750 - 0s 625us/step - loss: 1.0314 - acc: 0.7361\n",
      "Epoch 442/500\n",
      "72/72 [==============================] - ETA: 0s - loss: 1.0468 - acc: 0.734 - 0s 694us/step - loss: 1.0314 - acc: 0.7500\n",
      "Epoch 443/500\n",
      "72/72 [==============================] - ETA: 0s - loss: 1.0230 - acc: 0.796 - 0s 625us/step - loss: 1.0310 - acc: 0.7778\n",
      "Epoch 444/500\n",
      "72/72 [==============================] - ETA: 0s - loss: 1.0386 - acc: 0.734 - 0s 541us/step - loss: 1.0278 - acc: 0.7361\n",
      "Epoch 445/500\n",
      "72/72 [==============================] - ETA: 0s - loss: 1.0323 - acc: 0.718 - 0s 625us/step - loss: 1.0295 - acc: 0.7083\n",
      "Epoch 446/500\n",
      "72/72 [==============================] - ETA: 0s - loss: 1.0245 - acc: 0.718 - 0s 625us/step - loss: 1.0284 - acc: 0.7083\n",
      "Epoch 447/500\n",
      "72/72 [==============================] - ETA: 0s - loss: 1.0348 - acc: 0.656 - 0s 541us/step - loss: 1.0265 - acc: 0.6944\n",
      "Epoch 448/500\n",
      "72/72 [==============================] - ETA: 0s - loss: 1.0092 - acc: 0.703 - 0s 902us/step - loss: 1.0257 - acc: 0.6944\n",
      "Epoch 449/500\n",
      "72/72 [==============================] - ETA: 0s - loss: 1.0555 - acc: 0.687 - 0s 666us/step - loss: 1.0252 - acc: 0.7222\n",
      "Epoch 450/500\n",
      "72/72 [==============================] - ETA: 0s - loss: 1.0134 - acc: 0.703 - 0s 639us/step - loss: 1.0248 - acc: 0.6944\n",
      "Epoch 451/500\n",
      "72/72 [==============================] - ETA: 0s - loss: 1.0252 - acc: 0.687 - 0s 569us/step - loss: 1.0240 - acc: 0.7083\n",
      "Epoch 452/500\n",
      "72/72 [==============================] - ETA: 0s - loss: 1.0047 - acc: 0.812 - 0s 694us/step - loss: 1.0232 - acc: 0.7917\n",
      "Epoch 453/500\n",
      "72/72 [==============================] - ETA: 0s - loss: 0.9829 - acc: 0.750 - 0s 639us/step - loss: 1.0217 - acc: 0.7361\n",
      "Epoch 454/500\n",
      "72/72 [==============================] - ETA: 0s - loss: 1.0145 - acc: 0.734 - 0s 639us/step - loss: 1.0214 - acc: 0.7361\n",
      "Epoch 455/500\n",
      "72/72 [==============================] - ETA: 0s - loss: 0.9993 - acc: 0.765 - 0s 611us/step - loss: 1.0207 - acc: 0.7361\n",
      "Epoch 456/500\n",
      "72/72 [==============================] - ETA: 0s - loss: 1.0294 - acc: 0.765 - 0s 708us/step - loss: 1.0210 - acc: 0.7778\n",
      "Epoch 457/500\n",
      "72/72 [==============================] - ETA: 0s - loss: 1.0254 - acc: 0.703 - 0s 736us/step - loss: 1.0219 - acc: 0.6806\n",
      "Epoch 458/500\n",
      "72/72 [==============================] - ETA: 0s - loss: 1.0301 - acc: 0.703 - 0s 597us/step - loss: 1.0260 - acc: 0.7222\n",
      "Epoch 459/500\n",
      "72/72 [==============================] - ETA: 0s - loss: 1.0171 - acc: 0.718 - 0s 625us/step - loss: 1.0292 - acc: 0.7222\n",
      "Epoch 460/500\n",
      "72/72 [==============================] - ETA: 0s - loss: 1.0149 - acc: 0.734 - 0s 694us/step - loss: 1.0324 - acc: 0.7222\n",
      "Epoch 461/500\n",
      "72/72 [==============================] - ETA: 0s - loss: 1.0551 - acc: 0.687 - 0s 569us/step - loss: 1.0282 - acc: 0.7083\n",
      "Epoch 462/500\n",
      "72/72 [==============================] - ETA: 0s - loss: 1.0045 - acc: 0.750 - 0s 597us/step - loss: 1.0181 - acc: 0.7500\n",
      "Epoch 463/500\n",
      "72/72 [==============================] - ETA: 0s - loss: 1.0053 - acc: 0.750 - 0s 555us/step - loss: 1.0187 - acc: 0.7500\n",
      "Epoch 464/500\n",
      "72/72 [==============================] - ETA: 0s - loss: 1.0188 - acc: 0.718 - 0s 555us/step - loss: 1.0164 - acc: 0.7083\n",
      "Epoch 465/500\n",
      "72/72 [==============================] - ETA: 0s - loss: 1.0393 - acc: 0.718 - 0s 527us/step - loss: 1.0231 - acc: 0.6944\n",
      "Epoch 466/500\n",
      "72/72 [==============================] - ETA: 0s - loss: 1.0365 - acc: 0.718 - 0s 583us/step - loss: 1.0219 - acc: 0.7500\n",
      "Epoch 467/500\n",
      "72/72 [==============================] - ETA: 0s - loss: 1.0416 - acc: 0.734 - 0s 541us/step - loss: 1.0184 - acc: 0.7639\n",
      "Epoch 468/500\n",
      "72/72 [==============================] - ETA: 0s - loss: 0.9892 - acc: 0.765 - 0s 555us/step - loss: 1.0166 - acc: 0.7500\n",
      "Epoch 469/500\n",
      "72/72 [==============================] - ETA: 0s - loss: 1.0016 - acc: 0.734 - 0s 555us/step - loss: 1.0175 - acc: 0.7361\n",
      "Epoch 470/500\n",
      "72/72 [==============================] - ETA: 0s - loss: 1.0039 - acc: 0.765 - 0s 555us/step - loss: 1.0171 - acc: 0.7361\n",
      "Epoch 471/500\n",
      "72/72 [==============================] - ETA: 0s - loss: 1.0173 - acc: 0.734 - 0s 541us/step - loss: 1.0151 - acc: 0.7500\n",
      "Epoch 472/500\n",
      "72/72 [==============================] - ETA: 0s - loss: 1.0185 - acc: 0.734 - 0s 527us/step - loss: 1.0113 - acc: 0.7222\n",
      "Epoch 473/500\n",
      "72/72 [==============================] - ETA: 0s - loss: 1.0359 - acc: 0.750 - 0s 625us/step - loss: 1.0125 - acc: 0.7500\n",
      "Epoch 474/500\n",
      "72/72 [==============================] - ETA: 0s - loss: 1.0093 - acc: 0.765 - 0s 569us/step - loss: 1.0094 - acc: 0.7500\n",
      "Epoch 475/500\n",
      "72/72 [==============================] - ETA: 0s - loss: 0.9884 - acc: 0.796 - 0s 514us/step - loss: 1.0101 - acc: 0.7639\n",
      "Epoch 476/500\n",
      "72/72 [==============================] - ETA: 0s - loss: 0.9791 - acc: 0.796 - 0s 611us/step - loss: 1.0112 - acc: 0.7778\n",
      "Epoch 477/500\n",
      "72/72 [==============================] - ETA: 0s - loss: 1.0033 - acc: 0.734 - 0s 652us/step - loss: 1.0146 - acc: 0.7361\n",
      "Epoch 478/500\n",
      "72/72 [==============================] - ETA: 0s - loss: 1.0052 - acc: 0.703 - 0s 652us/step - loss: 1.0097 - acc: 0.6944\n",
      "Epoch 479/500\n",
      "72/72 [==============================] - ETA: 0s - loss: 1.0088 - acc: 0.687 - 0s 500us/step - loss: 1.0073 - acc: 0.6806\n",
      "Epoch 480/500\n",
      "72/72 [==============================] - ETA: 0s - loss: 1.0018 - acc: 0.765 - 0s 527us/step - loss: 1.0058 - acc: 0.7500\n",
      "Epoch 481/500\n",
      "72/72 [==============================] - ETA: 0s - loss: 1.0189 - acc: 0.703 - 0s 597us/step - loss: 1.0054 - acc: 0.7083\n",
      "Epoch 482/500\n",
      "72/72 [==============================] - ETA: 0s - loss: 1.0128 - acc: 0.750 - 0s 500us/step - loss: 1.0050 - acc: 0.7500\n",
      "Epoch 483/500\n",
      "72/72 [==============================] - ETA: 0s - loss: 0.9936 - acc: 0.750 - 0s 736us/step - loss: 1.0031 - acc: 0.7500\n",
      "Epoch 484/500\n",
      "72/72 [==============================] - ETA: 0s - loss: 1.0352 - acc: 0.750 - 0s 680us/step - loss: 1.0052 - acc: 0.7500\n",
      "Epoch 485/500\n",
      "72/72 [==============================] - ETA: 0s - loss: 1.0326 - acc: 0.687 - 0s 680us/step - loss: 1.0113 - acc: 0.7222\n",
      "Epoch 486/500\n",
      "72/72 [==============================] - ETA: 0s - loss: 1.0235 - acc: 0.718 - 0s 708us/step - loss: 1.0143 - acc: 0.7222\n",
      "Epoch 487/500\n",
      "72/72 [==============================] - ETA: 0s - loss: 1.0306 - acc: 0.718 - 0s 638us/step - loss: 1.0074 - acc: 0.7361\n",
      "Epoch 488/500\n",
      "72/72 [==============================] - ETA: 0s - loss: 1.0389 - acc: 0.734 - 0s 777us/step - loss: 1.0079 - acc: 0.7500\n",
      "Epoch 489/500\n",
      "72/72 [==============================] - ETA: 0s - loss: 0.9719 - acc: 0.765 - 0s 611us/step - loss: 1.0022 - acc: 0.7500\n",
      "Epoch 490/500\n",
      "72/72 [==============================] - ETA: 0s - loss: 0.9794 - acc: 0.765 - 0s 652us/step - loss: 1.0009 - acc: 0.7361\n",
      "Epoch 491/500\n",
      "72/72 [==============================] - ETA: 0s - loss: 0.9928 - acc: 0.781 - 0s 611us/step - loss: 1.0022 - acc: 0.7917\n",
      "Epoch 492/500\n",
      "72/72 [==============================] - ETA: 0s - loss: 1.0024 - acc: 0.734 - 0s 569us/step - loss: 0.9988 - acc: 0.7500\n",
      "Epoch 493/500\n",
      "72/72 [==============================] - ETA: 0s - loss: 0.9905 - acc: 0.734 - 0s 611us/step - loss: 0.9989 - acc: 0.7222\n",
      "Epoch 494/500\n",
      "72/72 [==============================] - ETA: 0s - loss: 1.0085 - acc: 0.671 - 0s 569us/step - loss: 0.9991 - acc: 0.6944\n",
      "Epoch 495/500\n",
      "72/72 [==============================] - ETA: 0s - loss: 0.9767 - acc: 0.687 - 0s 625us/step - loss: 1.0023 - acc: 0.6667\n",
      "Epoch 496/500\n",
      "72/72 [==============================] - ETA: 0s - loss: 0.9886 - acc: 0.734 - 0s 708us/step - loss: 0.9967 - acc: 0.7361\n",
      "Epoch 497/500\n",
      "72/72 [==============================] - ETA: 0s - loss: 1.0223 - acc: 0.734 - 0s 569us/step - loss: 0.9978 - acc: 0.7500\n",
      "Epoch 498/500\n",
      "72/72 [==============================] - ETA: 0s - loss: 1.0202 - acc: 0.718 - 0s 639us/step - loss: 0.9982 - acc: 0.7361\n",
      "Epoch 499/500\n",
      "72/72 [==============================] - ETA: 0s - loss: 0.9724 - acc: 0.750 - 0s 611us/step - loss: 0.9973 - acc: 0.7361\n",
      "Epoch 500/500\n",
      "72/72 [==============================] - ETA: 0s - loss: 0.9658 - acc: 0.781 - 0s 569us/step - loss: 0.9991 - acc: 0.7639\n"
     ]
    },
    {
     "data": {
      "text/plain": [
       "<keras.callbacks.History at 0x18f07bc42b0>"
      ]
     },
     "execution_count": 53,
     "metadata": {},
     "output_type": "execute_result"
    }
   ],
   "source": [
    "Inception_model.fit(training, train_targets,epochs=500, batch_size=64, verbose=1)"
   ]
  },
  {
   "cell_type": "code",
   "execution_count": 54,
   "metadata": {},
   "outputs": [],
   "source": [
    "def test_my_algo(img):\n",
    "    \n",
    "    image = path_to_tensor(img)\n",
    "    bottleneck = extract_InceptionV3(image)\n",
    "    predictions = Inception_model.predict(bottleneck)\n",
    "    return human_names[np.argmax(predictions)]"
   ]
  },
  {
   "cell_type": "code",
   "execution_count": 55,
   "metadata": {},
   "outputs": [],
   "source": [
    "import matplotlib.image as mpimg\n",
    "def algo_for_det(img_file):\n",
    "    human = test_my_algo(img_file)\n",
    "    img = cv2.imread(img_file)\n",
    "    newx,newy = 224,224 \n",
    "    img_path = cv2.resize(img,(newx,newy))\n",
    "    cv2.imwrite('im_ver.jpg',img_path)\n",
    "    #plt.show()\n",
    "    if(face_detector('im_ver.jpg')==True):\n",
    "        \n",
    "        print(\"Hi convergys employee your name is\")\n",
    "        print(human)\n",
    "        print (\"  \")\n",
    "    if(face_detector('im_ver.jpg')==False):\n",
    "        \n",
    "        print(\"who are you definitely not an employee here\")"
   ]
  },
  {
   "cell_type": "code",
   "execution_count": 56,
   "metadata": {},
   "outputs": [
    {
     "name": "stdout",
     "output_type": "stream",
     "text": [
      "Hi convergys employee your name is\n",
      "Rohan\n",
      "  \n"
     ]
    }
   ],
   "source": [
    "algo_for_det(r'C:\\Users\\dell15\\face_recognition\\tt9.jpeg')"
   ]
  },
  {
   "cell_type": "code",
   "execution_count": null,
   "metadata": {},
   "outputs": [],
   "source": []
  },
  {
   "cell_type": "code",
   "execution_count": 57,
   "metadata": {},
   "outputs": [
    {
     "name": "stdout",
     "output_type": "stream",
     "text": [
      "Hi convergys employee your name is\n",
      "Rohan\n",
      "  \n"
     ]
    }
   ],
   "source": [
    "algo_for_det(r'C:\\Users\\dell15\\face_recognition\\test7.jpeg')"
   ]
  },
  {
   "cell_type": "code",
   "execution_count": 59,
   "metadata": {
    "scrolled": true
   },
   "outputs": [
    {
     "name": "stdout",
     "output_type": "stream",
     "text": [
      "Hi convergys employee your name is\n",
      "Rohan\n",
      "  \n"
     ]
    }
   ],
   "source": [
    "algo_for_det(r'C:\\Users\\dell15\\face_recognition\\testface2.jpeg')"
   ]
  },
  {
   "cell_type": "code",
   "execution_count": 61,
   "metadata": {},
   "outputs": [
    {
     "name": "stdout",
     "output_type": "stream",
     "text": [
      "Hi convergys employee your name is\n",
      "Rohan\n",
      "  \n"
     ]
    }
   ],
   "source": [
    "algo_for_det(r'C:\\Users\\dell15\\face_recognition\\bonu.jpeg')"
   ]
  },
  {
   "cell_type": "code",
   "execution_count": 16,
   "metadata": {},
   "outputs": [],
   "source": [
    "import pandas as pd"
   ]
  },
  {
   "cell_type": "code",
   "execution_count": 44,
   "metadata": {},
   "outputs": [],
   "source": [
    "ref = pd.read_csv(r'C:\\Users\\dell15\\Documents\\MATLAB\\Data\\training\\training-c\\REFERENCE.CSV')"
   ]
  },
  {
   "cell_type": "code",
   "execution_count": 45,
   "metadata": {},
   "outputs": [
    {
     "data": {
      "text/html": [
       "<div>\n",
       "<style scoped>\n",
       "    .dataframe tbody tr th:only-of-type {\n",
       "        vertical-align: middle;\n",
       "    }\n",
       "\n",
       "    .dataframe tbody tr th {\n",
       "        vertical-align: top;\n",
       "    }\n",
       "\n",
       "    .dataframe thead th {\n",
       "        text-align: right;\n",
       "    }\n",
       "</style>\n",
       "<table border=\"1\" class=\"dataframe\">\n",
       "  <thead>\n",
       "    <tr style=\"text-align: right;\">\n",
       "      <th></th>\n",
       "      <th>name</th>\n",
       "      <th>class</th>\n",
       "    </tr>\n",
       "  </thead>\n",
       "  <tbody>\n",
       "    <tr>\n",
       "      <th>0</th>\n",
       "      <td>c0002</td>\n",
       "      <td>1</td>\n",
       "    </tr>\n",
       "    <tr>\n",
       "      <th>1</th>\n",
       "      <td>c0003</td>\n",
       "      <td>-1</td>\n",
       "    </tr>\n",
       "    <tr>\n",
       "      <th>2</th>\n",
       "      <td>c0004</td>\n",
       "      <td>1</td>\n",
       "    </tr>\n",
       "    <tr>\n",
       "      <th>3</th>\n",
       "      <td>c0005</td>\n",
       "      <td>1</td>\n",
       "    </tr>\n",
       "    <tr>\n",
       "      <th>4</th>\n",
       "      <td>c0006</td>\n",
       "      <td>-1</td>\n",
       "    </tr>\n",
       "  </tbody>\n",
       "</table>\n",
       "</div>"
      ],
      "text/plain": [
       "    name  class\n",
       "0  c0002      1\n",
       "1  c0003     -1\n",
       "2  c0004      1\n",
       "3  c0005      1\n",
       "4  c0006     -1"
      ]
     },
     "execution_count": 45,
     "metadata": {},
     "output_type": "execute_result"
    }
   ],
   "source": [
    "ref.head()"
   ]
  },
  {
   "cell_type": "code",
   "execution_count": 46,
   "metadata": {},
   "outputs": [
    {
     "data": {
      "text/plain": [
       " 1    23\n",
       "-1     7\n",
       "Name: class, dtype: int64"
      ]
     },
     "execution_count": 46,
     "metadata": {},
     "output_type": "execute_result"
    }
   ],
   "source": [
    "ref['class'].value_counts()"
   ]
  },
  {
   "cell_type": "code",
   "execution_count": null,
   "metadata": {},
   "outputs": [],
   "source": []
  }
 ],
 "metadata": {
  "kernelspec": {
   "display_name": "Python 3",
   "language": "python",
   "name": "python3"
  },
  "language_info": {
   "codemirror_mode": {
    "name": "ipython",
    "version": 3
   },
   "file_extension": ".py",
   "mimetype": "text/x-python",
   "name": "python",
   "nbconvert_exporter": "python",
   "pygments_lexer": "ipython3",
   "version": "3.6.5"
  }
 },
 "nbformat": 4,
 "nbformat_minor": 2
}
